{
 "cells": [
  {
   "cell_type": "code",
   "execution_count": 1,
   "metadata": {},
   "outputs": [],
   "source": [
    "import numpy as np\n",
    "import cv2\n",
    "from matplotlib import pyplot as plt\n",
    "from sklearn.cluster import DBSCAN\n",
    "from sklearn.cluster import KMeans"
   ]
  },
  {
   "cell_type": "code",
   "execution_count": null,
   "metadata": {},
   "outputs": [],
   "source": [
    "cap = cv2.VideoCapture(0)\n",
    "kernel = cv2.getStructuringElement(cv2.MORPH_ELLIPSE,(3,3))\n",
    "fgbg = cv2.createBackgroundSubtractorKNN()\n",
    "#createBackgroundSubtractorGMG()\n",
    "step = 0\n",
    "ret1, frame1 = cap.read()\n",
    "while(1):\n",
    "    step += 1   \n",
    "    ret, frame = cap.read()\n",
    "    if not ret:\n",
    "        print(\"problem\")\n",
    "        continue\n",
    "    gray = cv2.cvtColor(frame, cv2.COLOR_BGR2GRAY)\n",
    "    grayx = cv2.cvtColor(frame1, cv2.COLOR_BGR2GRAY)\n",
    "    fgmask = fgbg.apply(frame)\n",
    "    fgmask = cv2.morphologyEx(fgmask, cv2.MORPH_OPEN, kernel)\n",
    "    # Вместо маски будем показывать исходное видео в оттенках серого.\n",
    "    gray2 = np.where(fgmask>135, grayx, np.zeros(grayx.shape, np.uint8))\n",
    "    gray2 = gray2\n",
    "    grayn=gray-255\n",
    "    gray3 = np.where(fgmask<=135, gray, np.zeros(gray.shape, np.uint8))   \n",
    "    \n",
    "    gray4 = (gray2+gray3)\n",
    "    if step > 10 and step%10 == 1:\n",
    "        ret1, frame1 = ret, frame\n",
    "   \n",
    "    \n",
    "    cv2.imshow('frame', gray4)\n",
    "    cv2.imshow('original', gray)\n",
    "   \n",
    "    if cv2.waitKey(1) & 0xff == 27:\n",
    "        break\n",
    "cap.release()\n",
    "cv2.destroyAllWindows()"
   ]
  }
 ],
 "metadata": {
  "kernelspec": {
   "display_name": "Python 3",
   "language": "python",
   "name": "python3"
  },
  "language_info": {
   "codemirror_mode": {
    "name": "ipython",
    "version": 3
   },
   "file_extension": ".py",
   "mimetype": "text/x-python",
   "name": "python",
   "nbconvert_exporter": "python",
   "pygments_lexer": "ipython3",
   "version": "3.8.2"
  }
 },
 "nbformat": 4,
 "nbformat_minor": 4
}
