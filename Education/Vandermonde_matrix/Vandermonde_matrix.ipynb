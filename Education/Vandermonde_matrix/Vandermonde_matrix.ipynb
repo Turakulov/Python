{
 "cells": [
  {
   "cell_type": "markdown",
   "metadata": {},
   "source": [
    "## Vandermonde matrix realization "
   ]
  },
  {
   "cell_type": "markdown",
   "metadata": {},
   "source": [
    "Напишите функцию, генерирующую матрицу [Вандермонда](https://ru.wikipedia.org/wiki/Определитель_Вандермонда), принимающую на вход вектор $(𝑥_1,...,𝑥_𝑛)$ .\n",
    "В этом задании запрещается пользоваться готовыми реализациями (например, numpy.vander), а также np.repeat и np.transpose.\n",
    "При решение задействуйте np.reshape и/или np.newaxis."
   ]
  },
  {
   "cell_type": "code",
   "execution_count": 2,
   "metadata": {},
   "outputs": [],
   "source": [
    "import numpy as np"
   ]
  },
  {
   "cell_type": "code",
   "execution_count": 44,
   "metadata": {},
   "outputs": [
    {
     "name": "stdout",
     "output_type": "stream",
     "text": [
      "[[  1.   1.   1.   1.]\n",
      " [  1.   2.   4.   8.]\n",
      " [  1.   3.   9.  27.]\n",
      " [  1.   5.  25. 125.]]\n"
     ]
    }
   ],
   "source": [
    "matr = [1 , 2 , 3 , 5 ]\n",
    "def generateVandermonde(x):\n",
    "    ones = np.ones(len(x))\n",
    "    out = np.append(ones, x)\n",
    "    for i in range(len(x)-2):\n",
    "        for n in range(len(x)):\n",
    "            out = np.append(out, x[n]**(2+i))\n",
    "    out = np.reshape(out, (len(x), len(x)), order = 'F')\n",
    "    return out\n",
    "\n",
    "out = generateVandermonde(matr)\n",
    "print(out)"
   ]
  },
  {
   "cell_type": "code",
   "execution_count": 45,
   "metadata": {},
   "outputs": [
    {
     "data": {
      "text/plain": [
       "array([[  1,   1,   1,   1],\n",
       "       [  1,   2,   4,   8],\n",
       "       [  1,   3,   9,  27],\n",
       "       [  1,   5,  25, 125]])"
      ]
     },
     "execution_count": 45,
     "metadata": {},
     "output_type": "execute_result"
    }
   ],
   "source": [
    "np.vander(matr, increasing=True)"
   ]
  },
  {
   "cell_type": "markdown",
   "metadata": {},
   "source": [
    "### Results are equal"
   ]
  },
  {
   "cell_type": "code",
   "execution_count": null,
   "metadata": {},
   "outputs": [],
   "source": []
  }
 ],
 "metadata": {
  "kernelspec": {
   "display_name": "Python 3",
   "language": "python",
   "name": "python3"
  },
  "language_info": {
   "codemirror_mode": {
    "name": "ipython",
    "version": 3
   },
   "file_extension": ".py",
   "mimetype": "text/x-python",
   "name": "python",
   "nbconvert_exporter": "python",
   "pygments_lexer": "ipython3",
   "version": "3.8.2"
  }
 },
 "nbformat": 4,
 "nbformat_minor": 2
}
