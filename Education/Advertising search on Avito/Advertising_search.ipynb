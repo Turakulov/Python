{
 "cells": [
  {
   "cell_type": "markdown",
   "metadata": {},
   "source": [
    "## Advertising search on Avito website"
   ]
  },
  {
   "cell_type": "markdown",
   "metadata": {},
   "source": [
    "В этом задании вам нужно будет написать функцию, которая парсит [Авито](https://www.avito.ru) (будем рассматривать только Москву). Эта функция принимает два параметра:\n",
    "* search - то, что мы ищем на avito\n",
    "* page - номер страницы, с которой парсим информацию\n",
    "\n",
    "```python\n",
    "def parse_page(search, page):\n",
    "    # тут ваш код\n",
    "df = parse_page('гречка', 4)\n",
    "```\n",
    "Нужно скачать следующую информацию:\n",
    "* название объявления\n",
    "* ссылка на объявление\n",
    "* цена\n",
    "* метро (если есть), вам нужно аккуратно обрабатывать None или использовать конструкцию try-except\n",
    "* сколько метров от метро (если есть)\n",
    "\n",
    "Эту информацию лучше сохранить в виде pandas df.\n",
    "\n",
    "В данном задании **не нужно** парсить все страницы (вас могут забанить). Нужно лишь сделать функцию, которая парсит одну страницу. Чтобы вас не забанили сделаейте request один раз и работайте с вашей страничкой без функции. После того как все будет готово, оберните весь ваш код в функцию."
   ]
  },
  {
   "cell_type": "code",
   "execution_count": 120,
   "metadata": {},
   "outputs": [],
   "source": [
    "import requests # Загрузка новостей с сайта.\n",
    "from bs4 import BeautifulSoup # Превращалка html в текст.\n",
    "import re # регулярные выражения\n",
    "import pandas as pd \n",
    "import numpy as np"
   ]
  },
  {
   "cell_type": "code",
   "execution_count": 142,
   "metadata": {},
   "outputs": [],
   "source": [
    "def parsing(search, page):\n",
    "    h3s = BeautifulSoup(requests.get(f\"https://www.avito.ru/moskva_i_mo?q={search}\").text, \"html5lib\").find_all(\"h3\", limit=page)\n",
    "    h3new = []\n",
    "    h3new.append(h3s[page-1])\n",
    "    title = re.findall('title=\"(.*)\"', str(h3new))\n",
    "    links=[\"https://www.avito.ru/\" + l.find_all(\"a\")[0][\"href\"] for l in h3new]\n",
    "    txt = BeautifulSoup(requests.get(links[0]).text, \"html.parser\").find_all(\"div\")\n",
    "    price = re.findall('<span class=\"js-item-price\" content=\"(\\d*)\"',str(txt))\n",
    "    price = price[0]\n",
    "    try:\n",
    "        for i in range(len(txt)):\n",
    "            subway = txt[i].find(\"span\", {\"class\": \"item-address-georeferences-item__content\"})\n",
    "            meters = txt[i].find(\"span\", {\"class\": \"item-address-georeferences-item__after\"})\n",
    "            if subway != None and meters != None:\n",
    "                break\n",
    "    except:\n",
    "        subway = np.nan\n",
    "        meters = np.nan\n",
    "    if subway is not np.nan:\n",
    "        subway = re.findall('>(.*)</span>', str(subway))  \n",
    "        subway = subway[0]\n",
    "    if meters is not np.nan:\n",
    "        meters = re.findall('>(.*)</span>', str(meters))\n",
    "        meters = meters[0].replace(\"\\xa0\", \" \")\n",
    "    \n",
    "    data = {'title': title, 'url': links, 'price': price, 'subway': subway , 'meters': meters}\n",
    "    df = pd.DataFrame(data = data)\n",
    "    return df\n"
   ]
  },
  {
   "cell_type": "code",
   "execution_count": 347,
   "metadata": {},
   "outputs": [],
   "source": [
    "df = parsing('жесткий диск', 2)"
   ]
  },
  {
   "cell_type": "code",
   "execution_count": 348,
   "metadata": {},
   "outputs": [
    {
     "data": {
      "text/html": [
       "<div>\n",
       "<style scoped>\n",
       "    .dataframe tbody tr th:only-of-type {\n",
       "        vertical-align: middle;\n",
       "    }\n",
       "\n",
       "    .dataframe tbody tr th {\n",
       "        vertical-align: top;\n",
       "    }\n",
       "\n",
       "    .dataframe thead th {\n",
       "        text-align: right;\n",
       "    }\n",
       "</style>\n",
       "<table border=\"1\" class=\"dataframe\">\n",
       "  <thead>\n",
       "    <tr style=\"text-align: right;\">\n",
       "      <th></th>\n",
       "      <th>title</th>\n",
       "      <th>url</th>\n",
       "      <th>price</th>\n",
       "      <th>subway</th>\n",
       "      <th>meters</th>\n",
       "    </tr>\n",
       "  </thead>\n",
       "  <tbody>\n",
       "    <tr>\n",
       "      <th>0</th>\n",
       "      <td>Жесткий диск 1 TB WD1003fbyx в Москве</td>\n",
       "      <td>https://www.avito.ru//moskva/tovary_dlya_kompy...</td>\n",
       "      <td>1500</td>\n",
       "      <td>Комсомольская</td>\n",
       "      <td>100 м</td>\n",
       "    </tr>\n",
       "  </tbody>\n",
       "</table>\n",
       "</div>"
      ],
      "text/plain": [
       "                                   title  \\\n",
       "0  Жесткий диск 1 TB WD1003fbyx в Москве   \n",
       "\n",
       "                                                 url price         subway  \\\n",
       "0  https://www.avito.ru//moskva/tovary_dlya_kompy...  1500  Комсомольская   \n",
       "\n",
       "   meters  \n",
       "0   100 м  "
      ]
     },
     "execution_count": 348,
     "metadata": {},
     "output_type": "execute_result"
    }
   ],
   "source": [
    "df"
   ]
  },
  {
   "cell_type": "code",
   "execution_count": null,
   "metadata": {},
   "outputs": [],
   "source": [
    "df = parsing('гречка', 2)"
   ]
  },
  {
   "cell_type": "code",
   "execution_count": 150,
   "metadata": {},
   "outputs": [
    {
     "data": {
      "text/html": [
       "<div>\n",
       "<style scoped>\n",
       "    .dataframe tbody tr th:only-of-type {\n",
       "        vertical-align: middle;\n",
       "    }\n",
       "\n",
       "    .dataframe tbody tr th {\n",
       "        vertical-align: top;\n",
       "    }\n",
       "\n",
       "    .dataframe thead th {\n",
       "        text-align: right;\n",
       "    }\n",
       "</style>\n",
       "<table border=\"1\" class=\"dataframe\">\n",
       "  <thead>\n",
       "    <tr style=\"text-align: right;\">\n",
       "      <th></th>\n",
       "      <th>title</th>\n",
       "      <th>url</th>\n",
       "      <th>price</th>\n",
       "      <th>subway</th>\n",
       "      <th>meters</th>\n",
       "    </tr>\n",
       "  </thead>\n",
       "  <tbody>\n",
       "    <tr>\n",
       "      <th>0</th>\n",
       "      <td>Гречка оптом в Красногорске</td>\n",
       "      <td>https://www.avito.ru//moskovskaya_oblast_krasn...</td>\n",
       "      <td>49</td>\n",
       "      <td>Мякинино</td>\n",
       "      <td>1 км</td>\n",
       "    </tr>\n",
       "  </tbody>\n",
       "</table>\n",
       "</div>"
      ],
      "text/plain": [
       "                         title  \\\n",
       "0  Гречка оптом в Красногорске   \n",
       "\n",
       "                                                 url price    subway meters  \n",
       "0  https://www.avito.ru//moskovskaya_oblast_krasn...    49  Мякинино   1 км  "
      ]
     },
     "execution_count": 150,
     "metadata": {},
     "output_type": "execute_result"
    }
   ],
   "source": [
    "df"
   ]
  },
  {
   "cell_type": "code",
   "execution_count": 151,
   "metadata": {},
   "outputs": [
    {
     "data": {
      "text/html": [
       "<div>\n",
       "<style scoped>\n",
       "    .dataframe tbody tr th:only-of-type {\n",
       "        vertical-align: middle;\n",
       "    }\n",
       "\n",
       "    .dataframe tbody tr th {\n",
       "        vertical-align: top;\n",
       "    }\n",
       "\n",
       "    .dataframe thead th {\n",
       "        text-align: right;\n",
       "    }\n",
       "</style>\n",
       "<table border=\"1\" class=\"dataframe\">\n",
       "  <thead>\n",
       "    <tr style=\"text-align: right;\">\n",
       "      <th></th>\n",
       "      <th>title</th>\n",
       "      <th>url</th>\n",
       "      <th>price</th>\n",
       "      <th>subway</th>\n",
       "      <th>meters</th>\n",
       "    </tr>\n",
       "  </thead>\n",
       "  <tbody>\n",
       "    <tr>\n",
       "      <th>0</th>\n",
       "      <td>Кровать с матрасом Аскона.Новое в упаковке в М...</td>\n",
       "      <td>https://www.avito.ru//moskva/mebel_i_interer/k...</td>\n",
       "      <td>9500</td>\n",
       "      <td>Щелковская</td>\n",
       "      <td>1,9 км</td>\n",
       "    </tr>\n",
       "  </tbody>\n",
       "</table>\n",
       "</div>"
      ],
      "text/plain": [
       "                                               title  \\\n",
       "0  Кровать с матрасом Аскона.Новое в упаковке в М...   \n",
       "\n",
       "                                                 url price      subway  \\\n",
       "0  https://www.avito.ru//moskva/mebel_i_interer/k...  9500  Щелковская   \n",
       "\n",
       "    meters  \n",
       "0   1,9 км  "
      ]
     },
     "execution_count": 151,
     "metadata": {},
     "output_type": "execute_result"
    }
   ],
   "source": [
    "df = parsing('кровать', 3)\n",
    "df"
   ]
  },
  {
   "cell_type": "markdown",
   "metadata": {},
   "source": [
    "### Если есть станция метро, то показывается ближайшая.Если станции нет, то `NaN` "
   ]
  },
  {
   "cell_type": "code",
   "execution_count": null,
   "metadata": {},
   "outputs": [],
   "source": []
  }
 ],
 "metadata": {
  "kernelspec": {
   "display_name": "Python 3",
   "language": "python",
   "name": "python3"
  },
  "language_info": {
   "codemirror_mode": {
    "name": "ipython",
    "version": 3
   },
   "file_extension": ".py",
   "mimetype": "text/x-python",
   "name": "python",
   "nbconvert_exporter": "python",
   "pygments_lexer": "ipython3",
   "version": "3.8.2"
  }
 },
 "nbformat": 4,
 "nbformat_minor": 2
}
