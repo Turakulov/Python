{
  "nbformat": 4,
  "nbformat_minor": 0,
  "metadata": {
    "colab": {
      "name": "clustering.ipynb",
      "provenance": [],
      "collapsed_sections": []
    },
    "kernelspec": {
      "name": "python3",
      "display_name": "Python 3"
    },
    "accelerator": "GPU"
  },
  "cells": [
    {
      "cell_type": "code",
      "metadata": {
        "id": "oDg-p-VG0yUA",
        "colab_type": "code",
        "colab": {}
      },
      "source": [
        "import numpy as np\n",
        "import matplotlib.pyplot as plt\n",
        "from skimage import io as skio\n",
        "from scipy import ndimage, misc\n",
        "from sklearn.cluster import KMeans\n",
        "from PIL import Image, ImageDraw\n"
      ],
      "execution_count": 0,
      "outputs": []
    },
    {
      "cell_type": "code",
      "metadata": {
        "id": "rZA4Q0h53x0u",
        "colab_type": "code",
        "outputId": "55ee3ac9-2f54-4403-8628-f0b68333b9ee",
        "colab": {
          "base_uri": "https://localhost:8080/",
          "height": 286
        }
      },
      "source": [
        "image = skio.imread('test2.png')\n",
        "axis = plt.subplot()\n",
        "axis.imshow(image)"
      ],
      "execution_count": 79,
      "outputs": [
        {
          "output_type": "execute_result",
          "data": {
            "text/plain": [
              "<matplotlib.image.AxesImage at 0x7f77fd8b89b0>"
            ]
          },
          "metadata": {
            "tags": []
          },
          "execution_count": 79
        },
        {
          "output_type": "display_data",
          "data": {
            "image/png": "[encoded data removed]",
            "text/plain": [
              "<Figure size 432x288 with 1 Axes>"
            ]
          },
          "metadata": {
            "tags": []
          }
        }
      ]
    },
    {
      "cell_type": "code",
      "metadata": {
        "id": "HONg18lQ34Ca",
        "colab_type": "code",
        "outputId": "d856e920-5d81-4f92-b5eb-dba6539251df",
        "colab": {
          "base_uri": "https://localhost:8080/",
          "height": 357
        }
      },
      "source": [
        "%%time\n",
        "img_shape = tuple(image.shape)\n",
        "x, y, z = img_shape\n",
        "image = np.reshape(image, (x*y, z))\n",
        "kmeans = KMeans(n_clusters=10).fit(image)\n",
        "out = kmeans.predict(image).reshape((x, y))\n",
        "plt.imshow(out)"
      ],
      "execution_count": 80,
      "outputs": [
        {
          "output_type": "stream",
          "text": [
            "CPU times: user 643 ms, sys: 412 ms, total: 1.05 s\n",
            "Wall time: 559 ms\n"
          ],
          "name": "stdout"
        },
        {
          "output_type": "stream",
          "text": [
            "/usr/local/lib/python3.6/dist-packages/ipykernel_launcher.py:4: ConvergenceWarning: Number of distinct clusters (6) found smaller than n_clusters (10). Possibly due to duplicate points in X.\n",
            "  after removing the cwd from sys.path.\n"
          ],
          "name": "stderr"
        },
        {
          "output_type": "display_data",
          "data": {
            "image/png": "[encoded data removed]",
            "text/plain": [
              "<Figure size 432x288 with 1 Axes>"
            ]
          },
          "metadata": {
            "tags": []
          }
        }
      ]
    },
    {
      "cell_type": "code",
      "metadata": {
        "id": "JgX31V3v4Lwb",
        "colab_type": "code",
        "outputId": "1df16e5f-e6a6-4bb8-b83e-fe095b5108d5",
        "colab": {
          "base_uri": "https://localhost:8080/",
          "height": 286
        }
      },
      "source": [
        "kmeans = KMeans(n_clusters=2).fit(image)\n",
        "out = kmeans.predict(image).reshape((x, y))\n",
        "plt.imshow(out)"
      ],
      "execution_count": 81,
      "outputs": [
        {
          "output_type": "execute_result",
          "data": {
            "text/plain": [
              "<matplotlib.image.AxesImage at 0x7f77fded1c18>"
            ]
          },
          "metadata": {
            "tags": []
          },
          "execution_count": 81
        },
        {
          "output_type": "display_data",
          "data": {
            "image/png": "[encoded data removed]",
            "text/plain": [
              "<Figure size 432x288 with 1 Axes>"
            ]
          },
          "metadata": {
            "tags": []
          }
        }
      ]
    },
    {
      "cell_type": "code",
      "metadata": {
        "id": "OaZ1bpe6_Gql",
        "colab_type": "code",
        "outputId": "a63db703-5cf7-46f2-c0a3-d3cbdb94a867",
        "colab": {
          "base_uri": "https://localhost:8080/",
          "height": 269
        }
      },
      "source": [
        "image = Image.open('test2.png')\n",
        "pix = image.load()    \n",
        "axis = plt.subplot()\n",
        "axis.imshow(image);"
      ],
      "execution_count": 82,
      "outputs": [
        {
          "output_type": "display_data",
          "data": {
            "image/png": "[encoded data removed]",
            "text/plain": [
              "<Figure size 432x288 with 1 Axes>"
            ]
          },
          "metadata": {
            "tags": []
          }
        }
      ]
    },
    {
      "cell_type": "code",
      "metadata": {
        "id": "S5Q4vXWKARQB",
        "colab_type": "code",
        "outputId": "008b4a57-fef1-4dc0-f6a0-29928585570c",
        "colab": {
          "base_uri": "https://localhost:8080/",
          "height": 303
        }
      },
      "source": [
        "%%time\n",
        "db = KMeans(n_clusters=20)\n",
        "data = [(x, y, pix[x, y][0], pix[x, y][1], pix[x, y][2]) for x in range(image.size[0]) for y in range(image.size[1])]\n",
        "db_clusters = db.fit_predict(data)\n",
        "\n",
        "for p, c in zip(data, db_clusters):\n",
        "    pix[p[0], p[1]] = (int(db.cluster_centers_[c, 2]), \n",
        "                        int(db.cluster_centers_[c, 3]), \n",
        "                        int(db.cluster_centers_[c, 4]))\n",
        "      \n",
        "axis = plt.subplot()\n",
        "axis.imshow(image);"
      ],
      "execution_count": 83,
      "outputs": [
        {
          "output_type": "stream",
          "text": [
            "CPU times: user 4.06 s, sys: 1.46 s, total: 5.51 s\n",
            "Wall time: 3.79 s\n"
          ],
          "name": "stdout"
        },
        {
          "output_type": "display_data",
          "data": {
            "image/png": "[encoded data removed]",
            "text/plain": [
              "<Figure size 432x288 with 1 Axes>"
            ]
          },
          "metadata": {
            "tags": []
          }
        }
      ]
    },
    {
      "cell_type": "code",
      "metadata": {
        "id": "pj_OPsIwAt8d",
        "colab_type": "code",
        "outputId": "0f19a14d-bc6b-47d7-8e96-81850b0fc81b",
        "colab": {
          "base_uri": "https://localhost:8080/",
          "height": 34
        }
      },
      "source": [
        "object_color = pix[180, 150]\n",
        "object_color\n"
      ],
      "execution_count": 84,
      "outputs": [
        {
          "output_type": "execute_result",
          "data": {
            "text/plain": [
              "(254, 127, 39)"
            ]
          },
          "metadata": {
            "tags": []
          },
          "execution_count": 84
        }
      ]
    },
    {
      "cell_type": "code",
      "metadata": {
        "id": "ox_oqgp5CCy6",
        "colab_type": "code",
        "outputId": "7fd18d37-597e-41c6-99be-dc22e81c2d67",
        "colab": {
          "base_uri": "https://localhost:8080/",
          "height": 269
        }
      },
      "source": [
        "for x in range(image.size[0]):\n",
        "  for y in range(image.size[1]):\n",
        "    if pix[x,y] == object_color:\n",
        "      pass\n",
        "    else:\n",
        "      avg = int((pix[x,y][0] + pix[x,y][1] + pix[x,y][2]) / 3)\n",
        "      image.putpixel((x, y), (avg, avg, avg, 255))\n",
        "axis = plt.subplot()\n",
        "axis.imshow(image);"
      ],
      "execution_count": 85,
      "outputs": [
        {
          "output_type": "display_data",
          "data": {
            "image/png": "[encoded data removed]",
            "text/plain": [
              "<Figure size 432x288 with 1 Axes>"
            ]
          },
          "metadata": {
            "tags": []
          }
        }
      ]
    },
    {
      "cell_type": "code",
      "metadata": {
        "id": "oU63DvMRCYWs",
        "colab_type": "code",
        "outputId": "907c49e5-e41b-4fd5-fb3c-3442f699f7c1",
        "colab": {
          "base_uri": "https://localhost:8080/",
          "height": 51
        }
      },
      "source": [
        "%%time\n",
        "pix2 = np.array(image)\n",
        "data2 = [(x, y, pix2[x, y][0], pix2[x, y][1], pix2[x, y][2]) for x in range(pix2.shape[0]) for y in range(pix2.shape[1])]\n",
        "\n",
        "db_clusters = db.fit_predict(data2)"
      ],
      "execution_count": 86,
      "outputs": [
        {
          "output_type": "stream",
          "text": [
            "CPU times: user 3.75 s, sys: 1.49 s, total: 5.24 s\n",
            "Wall time: 3.49 s\n"
          ],
          "name": "stdout"
        }
      ]
    },
    {
      "cell_type": "code",
      "metadata": {
        "id": "cdYhtuXHC6i2",
        "colab_type": "code",
        "outputId": "fe6d6b63-d92b-42ae-cf3a-803622f7257b",
        "colab": {
          "base_uri": "https://localhost:8080/",
          "height": 68
        }
      },
      "source": [
        "%%time\n",
        "near = []\n",
        "for i, c in enumerate(db.cluster_centers_):\n",
        "    col1 = abs(c[2]-object_color[0])\n",
        "    col2 = abs(c[3]-object_color[1])\n",
        "    col3 = abs(c[4]-object_color[2])\n",
        "    if col1 + col2 + col3 < 30:\n",
        "        print(i, c)\n",
        "        near.append(i)"
      ],
      "execution_count": 87,
      "outputs": [
        {
          "output_type": "stream",
          "text": [
            "3 [150.53501946 184.54241245 254.         127.          39.        ]\n",
            "CPU times: user 1.15 ms, sys: 80 µs, total: 1.23 ms\n",
            "Wall time: 1.67 ms\n"
          ],
          "name": "stdout"
        }
      ]
    },
    {
      "cell_type": "code",
      "metadata": {
        "id": "daiyzlANDI2l",
        "colab_type": "code",
        "outputId": "bec489a0-8c6d-40e2-ba26-3b7f1926a856",
        "colab": {
          "base_uri": "https://localhost:8080/",
          "height": 269
        }
      },
      "source": [
        "pix2 = np.zeros(pix2.shape, np.uint8)\n",
        "\n",
        "for p, c in zip(data2, db_clusters):\n",
        "    if c in near:\n",
        "        pix2[p[0], p[1]] = (int(db.cluster_centers_[c, 2]), \n",
        "                              int(db.cluster_centers_[c, 3]), \n",
        "                              int(db.cluster_centers_[c, 4]))\n",
        "    else:\n",
        "        pix2[p[0], p[1]] = (255, 255, 255)\n",
        "\n",
        "axis = plt.subplot()\n",
        "axis.imshow(pix2);"
      ],
      "execution_count": 88,
      "outputs": [
        {
          "output_type": "display_data",
          "data": {
            "image/png": "[encoded data removed]",
            "text/plain": [
              "<Figure size 432x288 with 1 Axes>"
            ]
          },
          "metadata": {
            "tags": []
          }
        }
      ]
    },
    {
      "cell_type": "code",
      "metadata": {
        "id": "aRBOE6pkDScu",
        "colab_type": "code",
        "colab": {}
      },
      "source": [
        ""
      ],
      "execution_count": 0,
      "outputs": []
    }
  ]
}