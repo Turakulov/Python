{
 "cells": [
  {
   "cell_type": "code",
   "execution_count": 117,
   "metadata": {},
   "outputs": [],
   "source": [
    "from PIL import Image, ImageDraw\n",
    "from matplotlib import pyplot as plt\n",
    "from scipy import ndimage, misc\n",
    "import numpy as np\n",
    "from math import sqrt"
   ]
  },
  {
   "cell_type": "code",
   "execution_count": 118,
   "metadata": {},
   "outputs": [
    {
     "data": {
      "text/plain": [
       "array([[-1., -1., -1., -1., -1.,  7., -1., -1., -1., -1.],\n",
       "       [-1., -1., -1., -1., -1.,  7.,  7., -1., -1., -1.],\n",
       "       [-1., -1., -1., -1., -1.,  7.,  7.,  7., -1., -1.],\n",
       "       [-1., -1., -1., -1., -1.,  7.,  7.,  7.,  7., -1.],\n",
       "       [-1., -1., -1., -1., -1.,  7.,  7.,  7.,  7.,  7.],\n",
       "       [-1., -1., -1., -1., -1.,  7.,  7.,  7.,  7.,  7.],\n",
       "       [-1., -1., -1., -1., -1.,  7.,  7.,  7.,  7., -1.],\n",
       "       [-1., -1., -1., -1., -1.,  7.,  7.,  7., -1., -1.],\n",
       "       [-1., -1., -1., -1., -1.,  7.,  7., -1., -1., -1.],\n",
       "       [-1., -1., -1., -1., -1.,  7., -1., -1., -1., -1.]])"
      ]
     },
     "execution_count": 118,
     "metadata": {},
     "output_type": "execute_result"
    }
   ],
   "source": [
    "matrix = np.ones((10, 10))\n",
    "matrix *= -1\n",
    "matrix[0][5:6] = 7\n",
    "matrix[1][5:7] = 7\n",
    "matrix[2][5:8] = 7\n",
    "matrix[3][5:9] = 7\n",
    "matrix[4][5:10] = 7\n",
    "matrix[5][5:10] = 7\n",
    "matrix[6][5:9] = 7\n",
    "matrix[7][5:8] = 7\n",
    "matrix[8][5:7] = 7\n",
    "matrix[9][5:6] = 7\n",
    "matrix"
   ]
  },
  {
   "cell_type": "code",
   "execution_count": 119,
   "metadata": {},
   "outputs": [],
   "source": [
    "def trans_paste(backgound,foreground,box=(0,0)):\n",
    "    foreground_trans = Image.new(\"RGBA\",backgound.size)\n",
    "    foreground_trans.paste(foreground,box,mask=foreground)\n",
    "    new_img = Image.alpha_composite(backgound,foreground_trans)\n",
    "    return new_img"
   ]
  },
  {
   "cell_type": "code",
   "execution_count": 120,
   "metadata": {},
   "outputs": [],
   "source": [
    "# Load image:\n",
    "input_image = Image.open(\"test2.png\").convert(\"RGBA\")\n",
    "input_pixels = input_image.load()\n",
    "width, height = input_image.width, input_image.height\n"
   ]
  },
  {
   "cell_type": "code",
   "execution_count": 121,
   "metadata": {},
   "outputs": [],
   "source": [
    "# Make grayscaled\n",
    "gray = input_image.copy()\n",
    "gray_drawer = ImageDraw.Draw(gray)\n",
    "for x in range(width):\n",
    "    for y in range(height):\n",
    "        av = int((input_pixels[x, y][0] + input_pixels[x, y][1] + input_pixels[x, y][2]) / 3)\n",
    "        gray_drawer.point((x, y), (av, av, av))\n",
    "gray_pixels = gray.load()\n",
    "gray_arr = np.array([[gray_pixels[x, y][0] for x in range(width)] for y in range(height)])\n",
    "\n",
    "# Convolution\n",
    "result = ndimage.convolve(gray_arr, matrix, mode='constant', cval=0)\n",
    "result = result.transpose()"
   ]
  },
  {
   "cell_type": "code",
   "execution_count": 122,
   "metadata": {},
   "outputs": [],
   "source": [
    "# Create output image\n",
    "result2 = np.zeros(result.shape)\n",
    "for x in range(width):\n",
    "    for y in range(height):\n",
    "        if result[x,y] > 0:\n",
    "            result2[x,y] = 1\n",
    "            \n",
    "output_image = Image.new(\"RGBA\", input_image.size)\n",
    "output_image.paste( (60,200,30), (0,0,output_image.size[0],output_image.size[1]))\n",
    "romb = Image.open(\"mask.png\").convert(\"RGBA\")\n",
    "for x in range(width):\n",
    "    for y in range(height):\n",
    "        if result2[x,y] == 0:\n",
    "            output_image = trans_paste(output_image,romb,box=(x,y))"
   ]
  },
  {
   "cell_type": "code",
   "execution_count": 123,
   "metadata": {},
   "outputs": [
    {
     "data": {
      "image/png": "[encoded data removed]",
      "text/plain": [
       "<Figure size 1440x432 with 2 Axes>"
      ]
     },
     "metadata": {
      "needs_background": "light"
     },
     "output_type": "display_data"
    },
    {
     "data": {
      "image/png": "[encoded data removed]",
      "text/plain": [
       "<Figure size 1440x432 with 2 Axes>"
      ]
     },
     "metadata": {
      "needs_background": "light"
     },
     "output_type": "display_data"
    }
   ],
   "source": [
    "# Plotting output images\n",
    "fig, (ax1, ax2) = plt.subplots(1, 2, figsize=(20,6))\n",
    "fig, (ax3, ax4) = plt.subplots(1, 2, figsize=(20,6))\n",
    "ax1.set_title('Before enhancing')\n",
    "ax1.axis('off')\n",
    "ax2.set_title('Graysclaled')\n",
    "ax2.axis('off')\n",
    "ax3.set_title('After convolution')\n",
    "ax3.axis('off')\n",
    "ax4.set_title('Output image')\n",
    "ax4.axis('off')\n",
    "\n",
    "ax1.imshow(input_image)\n",
    "ax2.imshow(gray)\n",
    "ax3.imshow(result2.T , cmap=\"gray\")\n",
    "ax4.imshow(output_image)\n",
    "    \n",
    "output_image.save(\"edges.png\")"
   ]
  },
  {
   "cell_type": "code",
   "execution_count": null,
   "metadata": {},
   "outputs": [],
   "source": []
  },
  {
   "cell_type": "code",
   "execution_count": null,
   "metadata": {},
   "outputs": [],
   "source": []
  }
 ],
 "metadata": {
  "kernelspec": {
   "display_name": "Python 3",
   "language": "python",
   "name": "python3"
  },
  "language_info": {
   "codemirror_mode": {
    "name": "ipython",
    "version": 3
   },
   "file_extension": ".py",
   "mimetype": "text/x-python",
   "name": "python",
   "nbconvert_exporter": "python",
   "pygments_lexer": "ipython3",
   "version": "3.7.4"
  }
 },
 "nbformat": 4,
 "nbformat_minor": 2
}
