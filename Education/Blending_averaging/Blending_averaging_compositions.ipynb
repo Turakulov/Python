{
 "cells": [
  {
   "cell_type": "markdown",
   "metadata": {
    "colab_type": "text",
    "id": "wsXIOXibaoRT"
   },
   "source": [
    "# Домашнее задание 9. Настройка композиций алгоритмов\n",
    "\n",
    "В этом задании вы настроите случайный лес, градиентный бустинг, а также их композицию на данных\n",
    "соревнования [Mercedes-Benz Greener Manufacturing](https://www.kaggle.com/c/mercedes-benz-greener-manufacturing).\n",
    "\n",
    "Данные загружаются сразу из гитхаба ниже.\n",
    "\n",
    "Кратко о задаче: объекты - автомобили, целевая переменная - время, за которое автомобиль проходит тест, задача регрессии, качество измеряется с помощью $R^2$-метрики.\n",
    "\n",
    "Скрипт загрузки и базовой предобработки данных взят с [Kaggle Kernels](https://www.kaggle.com/anokas/mercedes-eda-xgboost-starter-0-55/notebook). В этом же ядре приводится базовый exploration данных."
   ]
  },
  {
   "cell_type": "markdown",
   "metadata": {
    "colab_type": "text",
    "id": "GSAz8GkOaoRW"
   },
   "source": [
    "## Загрузка данных"
   ]
  },
  {
   "cell_type": "code",
   "execution_count": 1,
   "metadata": {
    "_cell_guid": "45578147-cb22-cd2a-ccc7-1b81c82e137b",
    "colab": {},
    "colab_type": "code",
    "id": "5jt87uuLaoRY"
   },
   "outputs": [],
   "source": [
    "import numpy as np\n",
    "import pandas as pd\n",
    "import os\n",
    "import gc\n",
    "%matplotlib inline\n",
    "import matplotlib.pyplot as plt"
   ]
  },
  {
   "cell_type": "code",
   "execution_count": 2,
   "metadata": {
    "_cell_guid": "ba151bcc-e94e-3ff4-d213-4e80e7b4d956",
    "colab": {
     "base_uri": "https://localhost:8080/",
     "height": 270
    },
    "colab_type": "code",
    "id": "MvRsbTbAaoRf",
    "outputId": "d17980a7-c934-4f39-bd81-c6fde8ad4528"
   },
   "outputs": [
    {
     "name": "stdout",
     "output_type": "stream",
     "text": [
      "Size of training set: 4209 rows and 378 columns\n"
     ]
    },
    {
     "data": {
      "text/html": [
       "<div>\n",
       "<style scoped>\n",
       "    .dataframe tbody tr th:only-of-type {\n",
       "        vertical-align: middle;\n",
       "    }\n",
       "\n",
       "    .dataframe tbody tr th {\n",
       "        vertical-align: top;\n",
       "    }\n",
       "\n",
       "    .dataframe thead th {\n",
       "        text-align: right;\n",
       "    }\n",
       "</style>\n",
       "<table border=\"1\" class=\"dataframe\">\n",
       "  <thead>\n",
       "    <tr style=\"text-align: right;\">\n",
       "      <th></th>\n",
       "      <th>ID</th>\n",
       "      <th>y</th>\n",
       "      <th>X0</th>\n",
       "      <th>X1</th>\n",
       "      <th>X2</th>\n",
       "      <th>X3</th>\n",
       "      <th>X4</th>\n",
       "      <th>X5</th>\n",
       "      <th>X6</th>\n",
       "      <th>X8</th>\n",
       "      <th>...</th>\n",
       "      <th>X375</th>\n",
       "      <th>X376</th>\n",
       "      <th>X377</th>\n",
       "      <th>X378</th>\n",
       "      <th>X379</th>\n",
       "      <th>X380</th>\n",
       "      <th>X382</th>\n",
       "      <th>X383</th>\n",
       "      <th>X384</th>\n",
       "      <th>X385</th>\n",
       "    </tr>\n",
       "  </thead>\n",
       "  <tbody>\n",
       "    <tr>\n",
       "      <th>0</th>\n",
       "      <td>0</td>\n",
       "      <td>130.81</td>\n",
       "      <td>k</td>\n",
       "      <td>v</td>\n",
       "      <td>at</td>\n",
       "      <td>a</td>\n",
       "      <td>d</td>\n",
       "      <td>u</td>\n",
       "      <td>j</td>\n",
       "      <td>o</td>\n",
       "      <td>...</td>\n",
       "      <td>0</td>\n",
       "      <td>0</td>\n",
       "      <td>1</td>\n",
       "      <td>0</td>\n",
       "      <td>0</td>\n",
       "      <td>0</td>\n",
       "      <td>0</td>\n",
       "      <td>0</td>\n",
       "      <td>0</td>\n",
       "      <td>0</td>\n",
       "    </tr>\n",
       "    <tr>\n",
       "      <th>1</th>\n",
       "      <td>6</td>\n",
       "      <td>88.53</td>\n",
       "      <td>k</td>\n",
       "      <td>t</td>\n",
       "      <td>av</td>\n",
       "      <td>e</td>\n",
       "      <td>d</td>\n",
       "      <td>y</td>\n",
       "      <td>l</td>\n",
       "      <td>o</td>\n",
       "      <td>...</td>\n",
       "      <td>1</td>\n",
       "      <td>0</td>\n",
       "      <td>0</td>\n",
       "      <td>0</td>\n",
       "      <td>0</td>\n",
       "      <td>0</td>\n",
       "      <td>0</td>\n",
       "      <td>0</td>\n",
       "      <td>0</td>\n",
       "      <td>0</td>\n",
       "    </tr>\n",
       "    <tr>\n",
       "      <th>2</th>\n",
       "      <td>7</td>\n",
       "      <td>76.26</td>\n",
       "      <td>az</td>\n",
       "      <td>w</td>\n",
       "      <td>n</td>\n",
       "      <td>c</td>\n",
       "      <td>d</td>\n",
       "      <td>x</td>\n",
       "      <td>j</td>\n",
       "      <td>x</td>\n",
       "      <td>...</td>\n",
       "      <td>0</td>\n",
       "      <td>0</td>\n",
       "      <td>0</td>\n",
       "      <td>0</td>\n",
       "      <td>0</td>\n",
       "      <td>0</td>\n",
       "      <td>1</td>\n",
       "      <td>0</td>\n",
       "      <td>0</td>\n",
       "      <td>0</td>\n",
       "    </tr>\n",
       "    <tr>\n",
       "      <th>3</th>\n",
       "      <td>9</td>\n",
       "      <td>80.62</td>\n",
       "      <td>az</td>\n",
       "      <td>t</td>\n",
       "      <td>n</td>\n",
       "      <td>f</td>\n",
       "      <td>d</td>\n",
       "      <td>x</td>\n",
       "      <td>l</td>\n",
       "      <td>e</td>\n",
       "      <td>...</td>\n",
       "      <td>0</td>\n",
       "      <td>0</td>\n",
       "      <td>0</td>\n",
       "      <td>0</td>\n",
       "      <td>0</td>\n",
       "      <td>0</td>\n",
       "      <td>0</td>\n",
       "      <td>0</td>\n",
       "      <td>0</td>\n",
       "      <td>0</td>\n",
       "    </tr>\n",
       "    <tr>\n",
       "      <th>4</th>\n",
       "      <td>13</td>\n",
       "      <td>78.02</td>\n",
       "      <td>az</td>\n",
       "      <td>v</td>\n",
       "      <td>n</td>\n",
       "      <td>f</td>\n",
       "      <td>d</td>\n",
       "      <td>h</td>\n",
       "      <td>d</td>\n",
       "      <td>n</td>\n",
       "      <td>...</td>\n",
       "      <td>0</td>\n",
       "      <td>0</td>\n",
       "      <td>0</td>\n",
       "      <td>0</td>\n",
       "      <td>0</td>\n",
       "      <td>0</td>\n",
       "      <td>0</td>\n",
       "      <td>0</td>\n",
       "      <td>0</td>\n",
       "      <td>0</td>\n",
       "    </tr>\n",
       "  </tbody>\n",
       "</table>\n",
       "<p>5 rows × 378 columns</p>\n",
       "</div>"
      ],
      "text/plain": [
       "   ID       y  X0 X1  X2 X3 X4 X5 X6 X8  ...  X375  X376  X377  X378  X379  \\\n",
       "0   0  130.81   k  v  at  a  d  u  j  o  ...     0     0     1     0     0   \n",
       "1   6   88.53   k  t  av  e  d  y  l  o  ...     1     0     0     0     0   \n",
       "2   7   76.26  az  w   n  c  d  x  j  x  ...     0     0     0     0     0   \n",
       "3   9   80.62  az  t   n  f  d  x  l  e  ...     0     0     0     0     0   \n",
       "4  13   78.02  az  v   n  f  d  h  d  n  ...     0     0     0     0     0   \n",
       "\n",
       "   X380  X382  X383  X384  X385  \n",
       "0     0     0     0     0     0  \n",
       "1     0     0     0     0     0  \n",
       "2     0     1     0     0     0  \n",
       "3     0     0     0     0     0  \n",
       "4     0     0     0     0     0  \n",
       "\n",
       "[5 rows x 378 columns]"
      ]
     },
     "execution_count": 2,
     "metadata": {},
     "output_type": "execute_result"
    }
   ],
   "source": [
    "df_train = pd.read_csv('https://raw.githubusercontent.com/nadiinchi/hse_cs_ml_course_2017_FTAD/master/materials/train.csv')\n",
    "print('Size of training set: {} rows and {} columns'.format(*df_train.shape))\n",
    "df_train.head()"
   ]
  },
  {
   "cell_type": "markdown",
   "metadata": {
    "colab_type": "text",
    "id": "v_HfMHSIaoRn"
   },
   "source": [
    "Распределение целевого признака:"
   ]
  },
  {
   "cell_type": "code",
   "execution_count": 3,
   "metadata": {
    "_cell_guid": "8aa66a00-591c-7cff-cc88-051bfcaa40c5",
    "colab": {
     "base_uri": "https://localhost:8080/",
     "height": 384
    },
    "colab_type": "code",
    "id": "Aa3WnA7naoRo",
    "outputId": "48124a09-85e9-4b7c-a5b8-ebc014810749"
   },
   "outputs": [
    {
     "name": "stdout",
     "output_type": "stream",
     "text": [
      "min: 72.11 max: 265.32 mean: 100.66931812782134 std: 12.6778749695168\n",
      "Count of values above 180: 1\n"
     ]
    },
    {
     "data": {
      "image/png": "[encoded data removed]",
      "text/plain": [
       "<Figure size 1080x360 with 1 Axes>"
      ]
     },
     "metadata": {
      "needs_background": "light"
     },
     "output_type": "display_data"
    }
   ],
   "source": [
    "y_train = df_train['y'].values\n",
    "plt.figure(figsize=(15, 5))\n",
    "plt.hist(y_train, bins=20)\n",
    "plt.xlabel('Target value in seconds')\n",
    "plt.ylabel('Occurences')\n",
    "plt.title('Distribution of the target value')\n",
    "\n",
    "print('min: {} max: {} mean: {} std: {}'.format(min(y_train), max(y_train), y_train.mean(), y_train.std()))\n",
    "print('Count of values above 180: {}'.format(np.sum(y_train > 200)))"
   ]
  },
  {
   "cell_type": "markdown",
   "metadata": {
    "colab_type": "text",
    "id": "0WNt8pwMaoRt"
   },
   "source": [
    "Число признаков и объектов:"
   ]
  },
  {
   "cell_type": "code",
   "execution_count": 4,
   "metadata": {
    "_cell_guid": "85c914e4-162a-e3be-ec91-1e687b8222e2",
    "colab": {
     "base_uri": "https://localhost:8080/",
     "height": 102
    },
    "colab_type": "code",
    "id": "gg6cwGuDaoRu",
    "outputId": "d323b173-88ac-46e6-8c1a-013f4b199cb6"
   },
   "outputs": [
    {
     "name": "stdout",
     "output_type": "stream",
     "text": [
      "Number of features: 376\n",
      "Feature types:\n"
     ]
    },
    {
     "data": {
      "text/plain": [
       "int64     368\n",
       "object      8\n",
       "dtype: int64"
      ]
     },
     "execution_count": 4,
     "metadata": {},
     "output_type": "execute_result"
    }
   ],
   "source": [
    "cols = [c for c in df_train.columns if 'X' in c]\n",
    "print('Number of features: {}'.format(len(cols)))\n",
    "\n",
    "print('Feature types:')\n",
    "df_train[cols].dtypes.value_counts()"
   ]
  },
  {
   "cell_type": "markdown",
   "metadata": {
    "colab_type": "text",
    "id": "Yk7dq9YCaoR2"
   },
   "source": [
    "Приведение данных к вещественному виду:"
   ]
  },
  {
   "cell_type": "code",
   "execution_count": 5,
   "metadata": {
    "colab": {
     "base_uri": "https://localhost:8080/",
     "height": 355
    },
    "colab_type": "code",
    "id": "wMD86hcIaoR3",
    "outputId": "225e2717-3f10-4e34-9379-e6e89cc377ec"
   },
   "outputs": [
    {
     "name": "stderr",
     "output_type": "stream",
     "text": [
      "<ipython-input-5-86fbcd4c84a1>:10: SettingWithCopyWarning: \n",
      "A value is trying to be set on a copy of a slice from a DataFrame.\n",
      "Try using .loc[row_indexer,col_indexer] = value instead\n",
      "\n",
      "See the caveats in the documentation: https://pandas.pydata.org/pandas-docs/stable/user_guide/indexing.html#returning-a-view-versus-a-copy\n",
      "  x_train[column] = x_train[column].apply(mapper)\n"
     ]
    },
    {
     "data": {
      "text/html": [
       "<div>\n",
       "<style scoped>\n",
       "    .dataframe tbody tr th:only-of-type {\n",
       "        vertical-align: middle;\n",
       "    }\n",
       "\n",
       "    .dataframe tbody tr th {\n",
       "        vertical-align: top;\n",
       "    }\n",
       "\n",
       "    .dataframe thead th {\n",
       "        text-align: right;\n",
       "    }\n",
       "</style>\n",
       "<table border=\"1\" class=\"dataframe\">\n",
       "  <thead>\n",
       "    <tr style=\"text-align: right;\">\n",
       "      <th></th>\n",
       "      <th>X307</th>\n",
       "      <th>X187</th>\n",
       "      <th>X282</th>\n",
       "      <th>X228</th>\n",
       "      <th>X87</th>\n",
       "      <th>X12</th>\n",
       "      <th>X91</th>\n",
       "      <th>X296</th>\n",
       "      <th>X82</th>\n",
       "      <th>X233</th>\n",
       "      <th>...</th>\n",
       "      <th>X96</th>\n",
       "      <th>X179</th>\n",
       "      <th>X152</th>\n",
       "      <th>X251</th>\n",
       "      <th>X124</th>\n",
       "      <th>X292</th>\n",
       "      <th>X361</th>\n",
       "      <th>X57</th>\n",
       "      <th>X219</th>\n",
       "      <th>X151</th>\n",
       "    </tr>\n",
       "  </thead>\n",
       "  <tbody>\n",
       "    <tr>\n",
       "      <th>0</th>\n",
       "      <td>0</td>\n",
       "      <td>1</td>\n",
       "      <td>0</td>\n",
       "      <td>0</td>\n",
       "      <td>0</td>\n",
       "      <td>0</td>\n",
       "      <td>0</td>\n",
       "      <td>0</td>\n",
       "      <td>0</td>\n",
       "      <td>0</td>\n",
       "      <td>...</td>\n",
       "      <td>0</td>\n",
       "      <td>1</td>\n",
       "      <td>0</td>\n",
       "      <td>0</td>\n",
       "      <td>0</td>\n",
       "      <td>0</td>\n",
       "      <td>1</td>\n",
       "      <td>0</td>\n",
       "      <td>0</td>\n",
       "      <td>0</td>\n",
       "    </tr>\n",
       "    <tr>\n",
       "      <th>1</th>\n",
       "      <td>0</td>\n",
       "      <td>1</td>\n",
       "      <td>0</td>\n",
       "      <td>0</td>\n",
       "      <td>0</td>\n",
       "      <td>0</td>\n",
       "      <td>0</td>\n",
       "      <td>0</td>\n",
       "      <td>0</td>\n",
       "      <td>0</td>\n",
       "      <td>...</td>\n",
       "      <td>1</td>\n",
       "      <td>0</td>\n",
       "      <td>0</td>\n",
       "      <td>0</td>\n",
       "      <td>0</td>\n",
       "      <td>0</td>\n",
       "      <td>1</td>\n",
       "      <td>0</td>\n",
       "      <td>0</td>\n",
       "      <td>0</td>\n",
       "    </tr>\n",
       "    <tr>\n",
       "      <th>2</th>\n",
       "      <td>0</td>\n",
       "      <td>0</td>\n",
       "      <td>0</td>\n",
       "      <td>1</td>\n",
       "      <td>0</td>\n",
       "      <td>0</td>\n",
       "      <td>0</td>\n",
       "      <td>0</td>\n",
       "      <td>0</td>\n",
       "      <td>0</td>\n",
       "      <td>...</td>\n",
       "      <td>1</td>\n",
       "      <td>1</td>\n",
       "      <td>0</td>\n",
       "      <td>0</td>\n",
       "      <td>0</td>\n",
       "      <td>0</td>\n",
       "      <td>1</td>\n",
       "      <td>0</td>\n",
       "      <td>1</td>\n",
       "      <td>0</td>\n",
       "    </tr>\n",
       "    <tr>\n",
       "      <th>3</th>\n",
       "      <td>0</td>\n",
       "      <td>0</td>\n",
       "      <td>0</td>\n",
       "      <td>0</td>\n",
       "      <td>0</td>\n",
       "      <td>0</td>\n",
       "      <td>0</td>\n",
       "      <td>0</td>\n",
       "      <td>0</td>\n",
       "      <td>0</td>\n",
       "      <td>...</td>\n",
       "      <td>1</td>\n",
       "      <td>1</td>\n",
       "      <td>0</td>\n",
       "      <td>0</td>\n",
       "      <td>0</td>\n",
       "      <td>0</td>\n",
       "      <td>1</td>\n",
       "      <td>0</td>\n",
       "      <td>0</td>\n",
       "      <td>0</td>\n",
       "    </tr>\n",
       "    <tr>\n",
       "      <th>4</th>\n",
       "      <td>0</td>\n",
       "      <td>0</td>\n",
       "      <td>0</td>\n",
       "      <td>0</td>\n",
       "      <td>0</td>\n",
       "      <td>0</td>\n",
       "      <td>0</td>\n",
       "      <td>0</td>\n",
       "      <td>0</td>\n",
       "      <td>0</td>\n",
       "      <td>...</td>\n",
       "      <td>1</td>\n",
       "      <td>1</td>\n",
       "      <td>0</td>\n",
       "      <td>0</td>\n",
       "      <td>0</td>\n",
       "      <td>0</td>\n",
       "      <td>1</td>\n",
       "      <td>0</td>\n",
       "      <td>0</td>\n",
       "      <td>0</td>\n",
       "    </tr>\n",
       "  </tbody>\n",
       "</table>\n",
       "<p>5 rows × 376 columns</p>\n",
       "</div>"
      ],
      "text/plain": [
       "   X307  X187  X282  X228  X87  X12  X91  X296  X82  X233  ...  X96  X179  \\\n",
       "0     0     1     0     0    0    0    0     0    0     0  ...    0     1   \n",
       "1     0     1     0     0    0    0    0     0    0     0  ...    1     0   \n",
       "2     0     0     0     1    0    0    0     0    0     0  ...    1     1   \n",
       "3     0     0     0     0    0    0    0     0    0     0  ...    1     1   \n",
       "4     0     0     0     0    0    0    0     0    0     0  ...    1     1   \n",
       "\n",
       "   X152  X251  X124  X292  X361  X57  X219  X151  \n",
       "0     0     0     0     0     1    0     0     0  \n",
       "1     0     0     0     0     1    0     0     0  \n",
       "2     0     0     0     0     1    0     1     0  \n",
       "3     0     0     0     0     1    0     0     0  \n",
       "4     0     0     0     0     1    0     0     0  \n",
       "\n",
       "[5 rows x 376 columns]"
      ]
     },
     "execution_count": 5,
     "metadata": {},
     "output_type": "execute_result"
    }
   ],
   "source": [
    "usable_columns = list(set(df_train.columns) - set(['ID', 'y']))\n",
    "y_train = df_train['y'].values\n",
    "x_train = df_train[usable_columns]\n",
    "for column in usable_columns:\n",
    "    cardinality = len(np.unique(x_train[column]))\n",
    "    if cardinality == 1:\n",
    "        x_train.drop(column, axis=1) # Column with only one value is useless so we drop it\n",
    "    if cardinality > 2: # Column is categorical\n",
    "        mapper = lambda x: sum([ord(digit) for digit in x])\n",
    "        x_train[column] = x_train[column].apply(mapper)\n",
    "        \n",
    "x_train.head()"
   ]
  },
  {
   "cell_type": "markdown",
   "metadata": {
    "colab_type": "text",
    "id": "EIifoVGQaoSB"
   },
   "source": [
    "## Разделение данных\n",
    "Разделим данные на три части. Первую будем использовать для настройки случайного леса и градиентного бустинга, вторую - для настройки композиции, третью - для итогового контроля."
   ]
  },
  {
   "cell_type": "code",
   "execution_count": 6,
   "metadata": {
    "colab": {
     "base_uri": "https://localhost:8080/",
     "height": 34
    },
    "colab_type": "code",
    "id": "5fUDN4xmaoSC",
    "outputId": "51988b2e-32c1-4ecc-b810-694d03f4a603"
   },
   "outputs": [
    {
     "data": {
      "text/plain": [
       "((4209, 376), (4209,))"
      ]
     },
     "execution_count": 6,
     "metadata": {},
     "output_type": "execute_result"
    }
   ],
   "source": [
    "x_train.shape, y_train.shape"
   ]
  },
  {
   "cell_type": "code",
   "execution_count": 7,
   "metadata": {
    "colab": {},
    "colab_type": "code",
    "id": "OVk5eLnJaoSN"
   },
   "outputs": [],
   "source": [
    "from sklearn.utils import shuffle"
   ]
  },
  {
   "cell_type": "code",
   "execution_count": 8,
   "metadata": {
    "colab": {},
    "colab_type": "code",
    "id": "5EDjTC_jaoST"
   },
   "outputs": [],
   "source": [
    "x_train, y_train = shuffle(x_train, y_train, random_state=1)"
   ]
  },
  {
   "cell_type": "code",
   "execution_count": 9,
   "metadata": {
    "colab": {
     "base_uri": "https://localhost:8080/",
     "height": 34
    },
    "colab_type": "code",
    "id": "_YIlRsq8aoSZ",
    "outputId": "2f6508d8-e736-4556-ad22-3bf22a9921d3"
   },
   "outputs": [
    {
     "data": {
      "text/plain": [
       "((2000, 376), (2000,))"
      ]
     },
     "execution_count": 9,
     "metadata": {},
     "output_type": "execute_result"
    }
   ],
   "source": [
    "x1, y1 = x_train[:2000], y_train[:2000]\n",
    "x1.shape, y1.shape"
   ]
  },
  {
   "cell_type": "code",
   "execution_count": 10,
   "metadata": {
    "colab": {
     "base_uri": "https://localhost:8080/",
     "height": 34
    },
    "colab_type": "code",
    "id": "mlQV6vv2aoSd",
    "outputId": "eb3ab558-862b-4e20-a42a-8aee37a5373d"
   },
   "outputs": [
    {
     "data": {
      "text/plain": [
       "((1000, 376), (1000,))"
      ]
     },
     "execution_count": 10,
     "metadata": {},
     "output_type": "execute_result"
    }
   ],
   "source": [
    "x2, y2 = x_train[2000:3000], y_train[2000:3000]\n",
    "x2.shape, y2.shape"
   ]
  },
  {
   "cell_type": "code",
   "execution_count": 11,
   "metadata": {
    "colab": {
     "base_uri": "https://localhost:8080/",
     "height": 34
    },
    "colab_type": "code",
    "id": "Ew36xB5yaoSm",
    "outputId": "5e767d5b-dca1-450c-96ec-04b5aa87952d"
   },
   "outputs": [
    {
     "data": {
      "text/plain": [
       "((1209, 376), (1209,))"
      ]
     },
     "execution_count": 11,
     "metadata": {},
     "output_type": "execute_result"
    }
   ],
   "source": [
    "x3, y3 = x_train[3000:], y_train[3000:]\n",
    "x3.shape, y3.shape"
   ]
  },
  {
   "cell_type": "markdown",
   "metadata": {
    "colab_type": "text",
    "id": "O3eT_CEMaoSs"
   },
   "source": [
    "## Настройка моделей\n",
    "\n",
    "На занятиях мы обсуждали, что поскольку случайный лес и градиентный бустинг разрабатывались исходя из разных принципов, то и базовые алгоритмы - решающие деревья - им нужны разные. Отсюда вытекает, что какие-то гиперапараметры более важны, а какие-то - менее важны для каждого из этих алгоритмов. Для каждого из алгоритмов мы будем сначала подбирать наиболее важные для него гиперапраметры, а затем - втоостепенные.\n",
    "\n",
    "Для случайного леса самый важный гиперпараметр - max_features (сколько случайно выбранных признаков перебирать при построении вершины), потому что он влияет на то, насколько различными будут деревья (а это основная идея случайного леса). В частности, если вы меняете признаковое пространство (а значит, и число признаков), то этот гиперпараметр надо подбирать заново. После настройки max_features подбираются остальные гиперпараметры.\n",
    "\n",
    "Для градиентного бустинга самые важные гиперпараметры - число деревьев и глубина дерева. Глубина дерева задает, насколько слабыми или сильными будут отдельные деревья, а значит и то, насколько мы будем двигаться в сторону градиента. После этих гиперпараметров подбирают другие гиперпараметры. "
   ]
  },
  {
   "cell_type": "code",
   "execution_count": 12,
   "metadata": {
    "colab": {},
    "colab_type": "code",
    "id": "v7BEufYTaoSu"
   },
   "outputs": [],
   "source": [
    "from sklearn.ensemble import RandomForestRegressor, GradientBoostingRegressor\n",
    "from sklearn.metrics import r2_score, make_scorer\n",
    "from sklearn.model_selection import GridSearchCV"
   ]
  },
  {
   "cell_type": "markdown",
   "metadata": {
    "colab_type": "text",
    "id": "-4N3fsyeaoS1"
   },
   "source": [
    "В этой части вам надо найти оптимальные гиперпараметры для случайного леса и градиентного бустинга, используя первую часть выборки (x1, y1).\n",
    "\n",
    "__Задание 1.__\n",
    "Начнем со случайного леса. \n",
    "1. (уже сделано ниже) Постройте график зависимости качества от числа деревьев в случайном лесе на кросс-валидации с 3 блоками. Выберите число деревьев для использования в дальнейшей настройке и при итоговом обучении модели.\n",
    "1. __(1.25 балла)__ Постройте график зависимости качества от max_features на кросс-валидации. Прокомментируйте график: ожидаете ли вы такое поведение, или результат нестандартный? Выберите оптимальное значение гиперпараметра.\n",
    "1. __(1.25 балла)__ С помощью кросс-валидации выберите оптимальные значения для max_depth, min_samples_leaf, min_samples_split. В этом пункте не нужно строить график, только выбрать лучшее значение. Обратите внимание, что в этом пункте нужно использовать max_features, выбранное на предыдущем шаге.\n",
    "1. __(0.5 балла)__ Обучите случайный лес с выбранными гиперпараметрами на всей выборке x1, y1.\n",
    "\n",
    "Указания: verbose=3 в GridSearchCV будет выводить значения качества на каждой обучаемой модели. Рекомендуется в экспериментах зафиксировать random_state у модели. Если вы перезапускаете ядро, старайтесь не перезапускать все ячейки перебора гиперпараметров (они могут долго считаться, кроме того, могут измениться оптимальные гиперпараметры, если вы не везде зафиксировали random state), перезапускайте только те ячейки, результаты которых используются дальше. В данном блоке это только ячейка, отвечающая за последний пункт (итоговое обучение случайного леса).\n",
    "\n",
    "Если вдруг получилось, что вы перезапустили ячейки с grid search, и у вас изменились оптимальные гиперпараметры, при этом ранее полученные гиперпараметры уже использованы ниже в ноутбуке, напишите об этом пояснение и не переделывайте другие задания."
   ]
  },
  {
   "cell_type": "code",
   "execution_count": 13,
   "metadata": {
    "colab": {},
    "colab_type": "code",
    "id": "taY4Ea2naoS2"
   },
   "outputs": [],
   "source": [
    "param_grid = {\"n_estimators\":2**np.arange(10)} #  логарифмическая шкала\n",
    "gs = GridSearchCV(RandomForestRegressor(random_state=1, warm_start=True), param_grid, make_scorer(r2_score), verbose=3)"
   ]
  },
  {
   "cell_type": "code",
   "execution_count": 14,
   "metadata": {
    "colab": {
     "base_uri": "https://localhost:8080/",
     "height": 1000
    },
    "colab_type": "code",
    "id": "7N-1suAGaoS7",
    "outputId": "1cf78654-d01e-4357-85dc-7852943f6cf6"
   },
   "outputs": [
    {
     "name": "stdout",
     "output_type": "stream",
     "text": [
      "Fitting 5 folds for each of 10 candidates, totalling 50 fits\n",
      "[CV] n_estimators=1 ..................................................\n",
      "[CV] ...................... n_estimators=1, score=0.153, total=   0.1s\n",
      "[CV] n_estimators=1 ..................................................\n"
     ]
    },
    {
     "name": "stderr",
     "output_type": "stream",
     "text": [
      "[Parallel(n_jobs=1)]: Using backend SequentialBackend with 1 concurrent workers.\n",
      "[Parallel(n_jobs=1)]: Done   1 out of   1 | elapsed:    0.0s remaining:    0.0s\n"
     ]
    },
    {
     "name": "stdout",
     "output_type": "stream",
     "text": [
      "[CV] ..................... n_estimators=1, score=-0.664, total=   0.1s\n",
      "[CV] n_estimators=1 ..................................................\n",
      "[CV] ...................... n_estimators=1, score=0.100, total=   0.1s\n",
      "[CV] n_estimators=1 ..................................................\n",
      "[CV] ..................... n_estimators=1, score=-0.018, total=   0.1s\n",
      "[CV] n_estimators=1 ..................................................\n"
     ]
    },
    {
     "name": "stderr",
     "output_type": "stream",
     "text": [
      "[Parallel(n_jobs=1)]: Done   2 out of   2 | elapsed:    0.1s remaining:    0.0s\n"
     ]
    },
    {
     "name": "stdout",
     "output_type": "stream",
     "text": [
      "[CV] ..................... n_estimators=1, score=-0.014, total=   0.1s\n",
      "[CV] n_estimators=2 ..................................................\n",
      "[CV] ...................... n_estimators=2, score=0.316, total=   0.1s\n",
      "[CV] n_estimators=2 ..................................................\n",
      "[CV] ...................... n_estimators=2, score=0.162, total=   0.1s\n",
      "[CV] n_estimators=2 ..................................................\n",
      "[CV] ...................... n_estimators=2, score=0.390, total=   0.1s\n",
      "[CV] n_estimators=2 ..................................................\n",
      "[CV] ...................... n_estimators=2, score=0.088, total=   0.1s\n",
      "[CV] n_estimators=2 ..................................................\n",
      "[CV] ...................... n_estimators=2, score=0.007, total=   0.1s\n",
      "[CV] n_estimators=4 ..................................................\n",
      "[CV] ...................... n_estimators=4, score=0.367, total=   0.3s\n",
      "[CV] n_estimators=4 ..................................................\n",
      "[CV] ...................... n_estimators=4, score=0.417, total=   0.3s\n",
      "[CV] n_estimators=4 ..................................................\n",
      "[CV] ...................... n_estimators=4, score=0.391, total=   0.2s\n",
      "[CV] n_estimators=4 ..................................................\n",
      "[CV] ...................... n_estimators=4, score=0.223, total=   0.3s\n",
      "[CV] n_estimators=4 ..................................................\n",
      "[CV] ...................... n_estimators=4, score=0.293, total=   0.2s\n",
      "[CV] n_estimators=8 ..................................................\n",
      "[CV] ...................... n_estimators=8, score=0.414, total=   0.5s\n",
      "[CV] n_estimators=8 ..................................................\n",
      "[CV] ...................... n_estimators=8, score=0.447, total=   0.5s\n",
      "[CV] n_estimators=8 ..................................................\n",
      "[CV] ...................... n_estimators=8, score=0.491, total=   0.4s\n",
      "[CV] n_estimators=8 ..................................................\n",
      "[CV] ...................... n_estimators=8, score=0.279, total=   0.4s\n",
      "[CV] n_estimators=8 ..................................................\n",
      "[CV] ...................... n_estimators=8, score=0.371, total=   0.5s\n",
      "[CV] n_estimators=16 .................................................\n",
      "[CV] ..................... n_estimators=16, score=0.459, total=   0.8s\n",
      "[CV] n_estimators=16 .................................................\n",
      "[CV] ..................... n_estimators=16, score=0.492, total=   0.9s\n",
      "[CV] n_estimators=16 .................................................\n",
      "[CV] ..................... n_estimators=16, score=0.551, total=   0.9s\n",
      "[CV] n_estimators=16 .................................................\n",
      "[CV] ..................... n_estimators=16, score=0.314, total=   0.9s\n",
      "[CV] n_estimators=16 .................................................\n",
      "[CV] ..................... n_estimators=16, score=0.412, total=   0.9s\n",
      "[CV] n_estimators=32 .................................................\n",
      "[CV] ..................... n_estimators=32, score=0.473, total=   1.6s\n",
      "[CV] n_estimators=32 .................................................\n",
      "[CV] ..................... n_estimators=32, score=0.526, total=   1.8s\n",
      "[CV] n_estimators=32 .................................................\n",
      "[CV] ..................... n_estimators=32, score=0.571, total=   1.8s\n",
      "[CV] n_estimators=32 .................................................\n",
      "[CV] ..................... n_estimators=32, score=0.331, total=   1.8s\n",
      "[CV] n_estimators=32 .................................................\n",
      "[CV] ..................... n_estimators=32, score=0.438, total=   1.8s\n",
      "[CV] n_estimators=64 .................................................\n",
      "[CV] ..................... n_estimators=64, score=0.495, total=   3.2s\n",
      "[CV] n_estimators=64 .................................................\n",
      "[CV] ..................... n_estimators=64, score=0.524, total=   3.6s\n",
      "[CV] n_estimators=64 .................................................\n",
      "[CV] ..................... n_estimators=64, score=0.586, total=   3.6s\n",
      "[CV] n_estimators=64 .................................................\n",
      "[CV] ..................... n_estimators=64, score=0.338, total=   3.4s\n",
      "[CV] n_estimators=64 .................................................\n",
      "[CV] ..................... n_estimators=64, score=0.444, total=   3.7s\n",
      "[CV] n_estimators=128 ................................................\n",
      "[CV] .................... n_estimators=128, score=0.498, total=   6.8s\n",
      "[CV] n_estimators=128 ................................................\n",
      "[CV] .................... n_estimators=128, score=0.540, total=   7.6s\n",
      "[CV] n_estimators=128 ................................................\n",
      "[CV] .................... n_estimators=128, score=0.603, total=   6.9s\n",
      "[CV] n_estimators=128 ................................................\n",
      "[CV] .................... n_estimators=128, score=0.340, total=   6.4s\n",
      "[CV] n_estimators=128 ................................................\n",
      "[CV] .................... n_estimators=128, score=0.455, total=   6.4s\n",
      "[CV] n_estimators=256 ................................................\n",
      "[CV] .................... n_estimators=256, score=0.501, total=  12.7s\n",
      "[CV] n_estimators=256 ................................................\n",
      "[CV] .................... n_estimators=256, score=0.553, total=  12.8s\n",
      "[CV] n_estimators=256 ................................................\n",
      "[CV] .................... n_estimators=256, score=0.601, total=  12.9s\n",
      "[CV] n_estimators=256 ................................................\n",
      "[CV] .................... n_estimators=256, score=0.338, total=  12.5s\n",
      "[CV] n_estimators=256 ................................................\n",
      "[CV] .................... n_estimators=256, score=0.454, total=  12.7s\n",
      "[CV] n_estimators=512 ................................................\n",
      "[CV] .................... n_estimators=512, score=0.502, total=  25.5s\n",
      "[CV] n_estimators=512 ................................................\n",
      "[CV] .................... n_estimators=512, score=0.554, total=  25.5s\n",
      "[CV] n_estimators=512 ................................................\n",
      "[CV] .................... n_estimators=512, score=0.597, total=  25.8s\n",
      "[CV] n_estimators=512 ................................................\n",
      "[CV] .................... n_estimators=512, score=0.337, total=  25.0s\n",
      "[CV] n_estimators=512 ................................................\n",
      "[CV] .................... n_estimators=512, score=0.455, total=  25.4s\n"
     ]
    },
    {
     "name": "stderr",
     "output_type": "stream",
     "text": [
      "[Parallel(n_jobs=1)]: Done  50 out of  50 | elapsed:  4.3min finished\n"
     ]
    },
    {
     "data": {
      "text/plain": [
       "GridSearchCV(cv=None, error_score=nan,\n",
       "             estimator=RandomForestRegressor(bootstrap=True, ccp_alpha=0.0,\n",
       "                                             criterion='mse', max_depth=None,\n",
       "                                             max_features='auto',\n",
       "                                             max_leaf_nodes=None,\n",
       "                                             max_samples=None,\n",
       "                                             min_impurity_decrease=0.0,\n",
       "                                             min_impurity_split=None,\n",
       "                                             min_samples_leaf=1,\n",
       "                                             min_samples_split=2,\n",
       "                                             min_weight_fraction_leaf=0.0,\n",
       "                                             n_estimators=100, n_jobs=None,\n",
       "                                             oob_score=False, random_state=1,\n",
       "                                             verbose=0, warm_start=True),\n",
       "             iid='deprecated', n_jobs=None,\n",
       "             param_grid={'n_estimators': array([  1,   2,   4,   8,  16,  32,  64, 128, 256, 512], dtype=int32)},\n",
       "             pre_dispatch='2*n_jobs', refit=True, return_train_score=False,\n",
       "             scoring=make_scorer(r2_score), verbose=3)"
      ]
     },
     "execution_count": 14,
     "metadata": {},
     "output_type": "execute_result"
    }
   ],
   "source": [
    "gs.fit(x1, y1)"
   ]
  },
  {
   "cell_type": "code",
   "execution_count": 15,
   "metadata": {
    "colab": {
     "base_uri": "https://localhost:8080/",
     "height": 34
    },
    "colab_type": "code",
    "id": "P09S-U46iFlE",
    "outputId": "2fd579e8-1849-4ef6-955f-dfbc5be6c8f5"
   },
   "outputs": [
    {
     "data": {
      "text/plain": [
       "{'n_estimators': 256}"
      ]
     },
     "execution_count": 15,
     "metadata": {},
     "output_type": "execute_result"
    }
   ],
   "source": [
    "gs.best_params_"
   ]
  },
  {
   "cell_type": "code",
   "execution_count": 16,
   "metadata": {
    "colab": {
     "base_uri": "https://localhost:8080/",
     "height": 301
    },
    "colab_type": "code",
    "id": "Ex4dTsUhaoTA",
    "outputId": "8bc4905e-301e-41d3-8772-2819a902f9db"
   },
   "outputs": [
    {
     "data": {
      "text/plain": [
       "Text(0, 0.5, 'R2')"
      ]
     },
     "execution_count": 16,
     "metadata": {},
     "output_type": "execute_result"
    },
    {
     "data": {
      "image/png": "[encoded data removed]",
      "text/plain": [
       "<Figure size 432x288 with 1 Axes>"
      ]
     },
     "metadata": {
      "needs_background": "light"
     },
     "output_type": "display_data"
    }
   ],
   "source": [
    "plt.plot((param_grid[\"n_estimators\"]), gs.cv_results_['mean_test_score'])\n",
    "plt.xscale(\"log\")\n",
    "plt.xlabel(\"n_estimators\")\n",
    "plt.ylabel(\"R2\")"
   ]
  },
  {
   "cell_type": "markdown",
   "metadata": {
    "colab_type": "text",
    "id": "PPT3igtcaoTH"
   },
   "source": [
    "Качество, как и ожидается, растет с увеличением числа базовых алгоритмов. Для валидации выберем 100 деревьев (быстро обучается и уже более-менее принадлежит области стабильности качества), финальную модель будем обучать с 500 деревьями."
   ]
  },
  {
   "cell_type": "code",
   "execution_count": 17,
   "metadata": {
    "colab": {},
    "colab_type": "code",
    "id": "QzymKd-LaoTI"
   },
   "outputs": [],
   "source": [
    "# базовая логарифмическая шкала для max_features\n",
    "param_grid = {\"max_features\":2**np.arange(1, 9)}\n",
    "gs = GridSearchCV(RandomForestRegressor(random_state=1, warm_start=True), param_grid, make_scorer(r2_score), verbose=3)"
   ]
  },
  {
   "cell_type": "code",
   "execution_count": 18,
   "metadata": {
    "colab": {
     "base_uri": "https://localhost:8080/",
     "height": 1000
    },
    "colab_type": "code",
    "id": "idRrnNxwaoTO",
    "outputId": "53041f66-840b-441e-ec8a-70ea0a58071d"
   },
   "outputs": [
    {
     "name": "stdout",
     "output_type": "stream",
     "text": [
      "Fitting 5 folds for each of 8 candidates, totalling 40 fits\n",
      "[CV] max_features=2 ..................................................\n"
     ]
    },
    {
     "name": "stderr",
     "output_type": "stream",
     "text": [
      "[Parallel(n_jobs=1)]: Using backend SequentialBackend with 1 concurrent workers.\n"
     ]
    },
    {
     "name": "stdout",
     "output_type": "stream",
     "text": [
      "[CV] ...................... max_features=2, score=0.425, total=   1.0s\n",
      "[CV] max_features=2 ..................................................\n"
     ]
    },
    {
     "name": "stderr",
     "output_type": "stream",
     "text": [
      "[Parallel(n_jobs=1)]: Done   1 out of   1 | elapsed:    0.9s remaining:    0.0s\n"
     ]
    },
    {
     "name": "stdout",
     "output_type": "stream",
     "text": [
      "[CV] ...................... max_features=2, score=0.506, total=   0.9s\n",
      "[CV] max_features=2 ..................................................\n"
     ]
    },
    {
     "name": "stderr",
     "output_type": "stream",
     "text": [
      "[Parallel(n_jobs=1)]: Done   2 out of   2 | elapsed:    1.8s remaining:    0.0s\n"
     ]
    },
    {
     "name": "stdout",
     "output_type": "stream",
     "text": [
      "[CV] ...................... max_features=2, score=0.586, total=   0.9s\n",
      "[CV] max_features=2 ..................................................\n",
      "[CV] ...................... max_features=2, score=0.257, total=   0.8s\n",
      "[CV] max_features=2 ..................................................\n",
      "[CV] ...................... max_features=2, score=0.393, total=   0.8s\n",
      "[CV] max_features=4 ..................................................\n",
      "[CV] ...................... max_features=4, score=0.439, total=   0.8s\n",
      "[CV] max_features=4 ..................................................\n",
      "[CV] ...................... max_features=4, score=0.517, total=   0.9s\n",
      "[CV] max_features=4 ..................................................\n",
      "[CV] ...................... max_features=4, score=0.603, total=   0.9s\n",
      "[CV] max_features=4 ..................................................\n",
      "[CV] ...................... max_features=4, score=0.265, total=   0.9s\n",
      "[CV] max_features=4 ..................................................\n",
      "[CV] ...................... max_features=4, score=0.412, total=   0.9s\n",
      "[CV] max_features=8 ..................................................\n",
      "[CV] ...................... max_features=8, score=0.453, total=   1.0s\n",
      "[CV] max_features=8 ..................................................\n",
      "[CV] ...................... max_features=8, score=0.553, total=   1.0s\n",
      "[CV] max_features=8 ..................................................\n",
      "[CV] ...................... max_features=8, score=0.613, total=   0.9s\n",
      "[CV] max_features=8 ..................................................\n",
      "[CV] ...................... max_features=8, score=0.296, total=   1.0s\n",
      "[CV] max_features=8 ..................................................\n",
      "[CV] ...................... max_features=8, score=0.425, total=   0.9s\n",
      "[CV] max_features=16 .................................................\n",
      "[CV] ..................... max_features=16, score=0.464, total=   1.0s\n",
      "[CV] max_features=16 .................................................\n",
      "[CV] ..................... max_features=16, score=0.547, total=   1.0s\n",
      "[CV] max_features=16 .................................................\n",
      "[CV] ..................... max_features=16, score=0.623, total=   1.0s\n",
      "[CV] max_features=16 .................................................\n",
      "[CV] ..................... max_features=16, score=0.318, total=   1.0s\n",
      "[CV] max_features=16 .................................................\n",
      "[CV] ..................... max_features=16, score=0.451, total=   1.0s\n",
      "[CV] max_features=32 .................................................\n",
      "[CV] ..................... max_features=32, score=0.477, total=   1.2s\n",
      "[CV] max_features=32 .................................................\n",
      "[CV] ..................... max_features=32, score=0.560, total=   1.2s\n",
      "[CV] max_features=32 .................................................\n",
      "[CV] ..................... max_features=32, score=0.631, total=   1.3s\n",
      "[CV] max_features=32 .................................................\n",
      "[CV] ..................... max_features=32, score=0.326, total=   1.3s\n",
      "[CV] max_features=32 .................................................\n",
      "[CV] ..................... max_features=32, score=0.461, total=   1.7s\n",
      "[CV] max_features=64 .................................................\n",
      "[CV] ..................... max_features=64, score=0.494, total=   1.6s\n",
      "[CV] max_features=64 .................................................\n",
      "[CV] ..................... max_features=64, score=0.536, total=   1.5s\n",
      "[CV] max_features=64 .................................................\n",
      "[CV] ..................... max_features=64, score=0.617, total=   1.6s\n",
      "[CV] max_features=64 .................................................\n",
      "[CV] ..................... max_features=64, score=0.328, total=   1.6s\n",
      "[CV] max_features=64 .................................................\n",
      "[CV] ..................... max_features=64, score=0.468, total=   1.6s\n",
      "[CV] max_features=128 ................................................\n",
      "[CV] .................... max_features=128, score=0.495, total=   2.4s\n",
      "[CV] max_features=128 ................................................\n",
      "[CV] .................... max_features=128, score=0.545, total=   2.4s\n",
      "[CV] max_features=128 ................................................\n",
      "[CV] .................... max_features=128, score=0.613, total=   2.5s\n",
      "[CV] max_features=128 ................................................\n",
      "[CV] .................... max_features=128, score=0.326, total=   2.7s\n",
      "[CV] max_features=128 ................................................\n",
      "[CV] .................... max_features=128, score=0.467, total=   2.4s\n",
      "[CV] max_features=256 ................................................\n",
      "[CV] .................... max_features=256, score=0.498, total=   3.9s\n",
      "[CV] max_features=256 ................................................\n",
      "[CV] .................... max_features=256, score=0.543, total=   4.0s\n",
      "[CV] max_features=256 ................................................\n",
      "[CV] .................... max_features=256, score=0.604, total=   3.9s\n",
      "[CV] max_features=256 ................................................\n",
      "[CV] .................... max_features=256, score=0.333, total=   3.8s\n",
      "[CV] max_features=256 ................................................\n",
      "[CV] .................... max_features=256, score=0.451, total=   3.8s\n"
     ]
    },
    {
     "name": "stderr",
     "output_type": "stream",
     "text": [
      "[Parallel(n_jobs=1)]: Done  40 out of  40 | elapsed:  1.1min finished\n"
     ]
    },
    {
     "data": {
      "text/plain": [
       "GridSearchCV(cv=None, error_score=nan,\n",
       "             estimator=RandomForestRegressor(bootstrap=True, ccp_alpha=0.0,\n",
       "                                             criterion='mse', max_depth=None,\n",
       "                                             max_features='auto',\n",
       "                                             max_leaf_nodes=None,\n",
       "                                             max_samples=None,\n",
       "                                             min_impurity_decrease=0.0,\n",
       "                                             min_impurity_split=None,\n",
       "                                             min_samples_leaf=1,\n",
       "                                             min_samples_split=2,\n",
       "                                             min_weight_fraction_leaf=0.0,\n",
       "                                             n_estimators=100, n_jobs=None,\n",
       "                                             oob_score=False, random_state=1,\n",
       "                                             verbose=0, warm_start=True),\n",
       "             iid='deprecated', n_jobs=None,\n",
       "             param_grid={'max_features': array([  2,   4,   8,  16,  32,  64, 128, 256], dtype=int32)},\n",
       "             pre_dispatch='2*n_jobs', refit=True, return_train_score=False,\n",
       "             scoring=make_scorer(r2_score), verbose=3)"
      ]
     },
     "execution_count": 18,
     "metadata": {},
     "output_type": "execute_result"
    }
   ],
   "source": [
    "gs.fit(x1, y1)"
   ]
  },
  {
   "cell_type": "code",
   "execution_count": 20,
   "metadata": {
    "colab": {
     "base_uri": "https://localhost:8080/",
     "height": 34
    },
    "colab_type": "code",
    "id": "H0mVqi7gkMRQ",
    "outputId": "53e955b2-d985-4ad1-9502-9f65d8cf9ef2"
   },
   "outputs": [
    {
     "data": {
      "text/plain": [
       "{'max_features': 32}"
      ]
     },
     "execution_count": 20,
     "metadata": {},
     "output_type": "execute_result"
    }
   ],
   "source": [
    "gs.best_params_"
   ]
  },
  {
   "cell_type": "code",
   "execution_count": 19,
   "metadata": {
    "colab": {
     "base_uri": "https://localhost:8080/",
     "height": 300
    },
    "colab_type": "code",
    "id": "qj91zJZFkGBq",
    "outputId": "85fb2b84-b0ac-44ba-c363-504285edbdcd"
   },
   "outputs": [
    {
     "data": {
      "image/png": "[encoded data removed]",
      "text/plain": [
       "<Figure size 432x288 with 1 Axes>"
      ]
     },
     "metadata": {
      "needs_background": "light"
     },
     "output_type": "display_data"
    }
   ],
   "source": [
    "ax = plt.subplot()\n",
    "ax.plot((param_grid[\"max_features\"]), gs.cv_results_['mean_test_score'])\n",
    "ax.set_title('Parameters score')\n",
    "ax.set_xscale(\"log\")\n",
    "ax.set_xlabel(\"max_features\")\n",
    "ax.set_ylabel(\"R2\")\n",
    "plt.show()"
   ]
  },
  {
   "cell_type": "markdown",
   "metadata": {
    "colab_type": "text",
    "id": "beub7bxbFjeh"
   },
   "source": [
    "Параметр `max_features` отвечает за количество *фич*, которые следует учитывать при поиске лучшего разделения. Этот механизм используется для контроля переобучения. При больших значениях, в нашем случае, происходит недообучение. Практически невозможно вычислить без подбора какое количество `max_features` нам необходимо, но в данном случае когда мы берем 32 или 512 фич из 2000 соответственно мы получаем низкие результаты. Поэтому логично ожидать лучший результат когда мы берем не очень большое число `max_features`"
   ]
  },
  {
   "cell_type": "code",
   "execution_count": 21,
   "metadata": {
    "colab": {},
    "colab_type": "code",
    "id": "CjA8WvemaoTU"
   },
   "outputs": [],
   "source": [
    "# базовая шкала для остальных гиперпараметров\n",
    "param_grid = {\"max_depth\":np.arange(1, 9, 2), \"min_samples_leaf\":[1, 3, 9, 27], \"min_samples_split\":[3, 9, 27, 81]}\n",
    "gs = GridSearchCV(RandomForestRegressor(max_features=32, random_state=1, warm_start=True), param_grid, make_scorer(r2_score), verbose=3)"
   ]
  },
  {
   "cell_type": "code",
   "execution_count": 22,
   "metadata": {
    "colab": {
     "base_uri": "https://localhost:8080/",
     "height": 1000
    },
    "colab_type": "code",
    "id": "3_vcopxZaoTY",
    "outputId": "71cf3ffa-55b9-4c3f-8494-be20b44acf7f"
   },
   "outputs": [
    {
     "name": "stdout",
     "output_type": "stream",
     "text": [
      "Fitting 5 folds for each of 64 candidates, totalling 320 fits\n",
      "[CV] max_depth=1, min_samples_leaf=1, min_samples_split=3 ............\n"
     ]
    },
    {
     "name": "stderr",
     "output_type": "stream",
     "text": [
      "[Parallel(n_jobs=1)]: Using backend SequentialBackend with 1 concurrent workers.\n"
     ]
    },
    {
     "name": "stdout",
     "output_type": "stream",
     "text": [
      "[CV]  max_depth=1, min_samples_leaf=1, min_samples_split=3, score=0.248, total=   0.3s\n",
      "[CV] max_depth=1, min_samples_leaf=1, min_samples_split=3 ............\n"
     ]
    },
    {
     "name": "stderr",
     "output_type": "stream",
     "text": [
      "[Parallel(n_jobs=1)]: Done   1 out of   1 | elapsed:    0.2s remaining:    0.0s\n"
     ]
    },
    {
     "name": "stdout",
     "output_type": "stream",
     "text": [
      "[CV]  max_depth=1, min_samples_leaf=1, min_samples_split=3, score=0.306, total=   0.3s\n",
      "[CV] max_depth=1, min_samples_leaf=1, min_samples_split=3 ............\n"
     ]
    },
    {
     "name": "stderr",
     "output_type": "stream",
     "text": [
      "[Parallel(n_jobs=1)]: Done   2 out of   2 | elapsed:    0.5s remaining:    0.0s\n"
     ]
    },
    {
     "name": "stdout",
     "output_type": "stream",
     "text": [
      "[CV]  max_depth=1, min_samples_leaf=1, min_samples_split=3, score=0.293, total=   0.3s\n",
      "[CV] max_depth=1, min_samples_leaf=1, min_samples_split=3 ............\n",
      "[CV]  max_depth=1, min_samples_leaf=1, min_samples_split=3, score=0.158, total=   0.3s\n",
      "[CV] max_depth=1, min_samples_leaf=1, min_samples_split=3 ............\n",
      "[CV]  max_depth=1, min_samples_leaf=1, min_samples_split=3, score=0.251, total=   0.3s\n",
      "[CV] max_depth=1, min_samples_leaf=1, min_samples_split=9 ............\n",
      "[CV]  max_depth=1, min_samples_leaf=1, min_samples_split=9, score=0.248, total=   0.3s\n",
      "[CV] max_depth=1, min_samples_leaf=1, min_samples_split=9 ............\n",
      "[CV]  max_depth=1, min_samples_leaf=1, min_samples_split=9, score=0.306, total=   0.3s\n",
      "[CV] max_depth=1, min_samples_leaf=1, min_samples_split=9 ............\n",
      "[CV]  max_depth=1, min_samples_leaf=1, min_samples_split=9, score=0.293, total=   0.3s\n",
      "[CV] max_depth=1, min_samples_leaf=1, min_samples_split=9 ............\n",
      "[CV]  max_depth=1, min_samples_leaf=1, min_samples_split=9, score=0.158, total=   0.3s\n",
      "[CV] max_depth=1, min_samples_leaf=1, min_samples_split=9 ............\n",
      "[CV]  max_depth=1, min_samples_leaf=1, min_samples_split=9, score=0.251, total=   0.4s\n",
      "[CV] max_depth=1, min_samples_leaf=1, min_samples_split=27 ...........\n",
      "[CV]  max_depth=1, min_samples_leaf=1, min_samples_split=27, score=0.248, total=   0.3s\n",
      "[CV] max_depth=1, min_samples_leaf=1, min_samples_split=27 ...........\n",
      "[CV]  max_depth=1, min_samples_leaf=1, min_samples_split=27, score=0.306, total=   0.3s\n",
      "[CV] max_depth=1, min_samples_leaf=1, min_samples_split=27 ...........\n",
      "[CV]  max_depth=1, min_samples_leaf=1, min_samples_split=27, score=0.293, total=   0.3s\n",
      "[CV] max_depth=1, min_samples_leaf=1, min_samples_split=27 ...........\n",
      "[CV]  max_depth=1, min_samples_leaf=1, min_samples_split=27, score=0.158, total=   0.3s\n",
      "[CV] max_depth=1, min_samples_leaf=1, min_samples_split=27 ...........\n",
      "[CV]  max_depth=1, min_samples_leaf=1, min_samples_split=27, score=0.251, total=   0.3s\n",
      "[CV] max_depth=1, min_samples_leaf=1, min_samples_split=81 ...........\n",
      "[CV]  max_depth=1, min_samples_leaf=1, min_samples_split=81, score=0.248, total=   0.3s\n",
      "[CV] max_depth=1, min_samples_leaf=1, min_samples_split=81 ...........\n",
      "[CV]  max_depth=1, min_samples_leaf=1, min_samples_split=81, score=0.306, total=   0.3s\n",
      "[CV] max_depth=1, min_samples_leaf=1, min_samples_split=81 ...........\n",
      "[CV]  max_depth=1, min_samples_leaf=1, min_samples_split=81, score=0.293, total=   0.3s\n",
      "[CV] max_depth=1, min_samples_leaf=1, min_samples_split=81 ...........\n",
      "[CV]  max_depth=1, min_samples_leaf=1, min_samples_split=81, score=0.158, total=   0.3s\n",
      "[CV] max_depth=1, min_samples_leaf=1, min_samples_split=81 ...........\n",
      "[CV]  max_depth=1, min_samples_leaf=1, min_samples_split=81, score=0.251, total=   0.3s\n",
      "[CV] max_depth=1, min_samples_leaf=3, min_samples_split=3 ............\n",
      "[CV]  max_depth=1, min_samples_leaf=3, min_samples_split=3, score=0.248, total=   0.3s\n",
      "[CV] max_depth=1, min_samples_leaf=3, min_samples_split=3 ............\n",
      "[CV]  max_depth=1, min_samples_leaf=3, min_samples_split=3, score=0.306, total=   0.3s\n",
      "[CV] max_depth=1, min_samples_leaf=3, min_samples_split=3 ............\n",
      "[CV]  max_depth=1, min_samples_leaf=3, min_samples_split=3, score=0.293, total=   0.3s\n",
      "[CV] max_depth=1, min_samples_leaf=3, min_samples_split=3 ............\n",
      "[CV]  max_depth=1, min_samples_leaf=3, min_samples_split=3, score=0.158, total=   0.3s\n",
      "[CV] max_depth=1, min_samples_leaf=3, min_samples_split=3 ............\n",
      "[CV]  max_depth=1, min_samples_leaf=3, min_samples_split=3, score=0.251, total=   0.3s\n",
      "[CV] max_depth=1, min_samples_leaf=3, min_samples_split=9 ............\n",
      "[CV]  max_depth=1, min_samples_leaf=3, min_samples_split=9, score=0.248, total=   0.3s\n",
      "[CV] max_depth=1, min_samples_leaf=3, min_samples_split=9 ............\n",
      "[CV]  max_depth=1, min_samples_leaf=3, min_samples_split=9, score=0.306, total=   0.3s\n",
      "[CV] max_depth=1, min_samples_leaf=3, min_samples_split=9 ............\n",
      "[CV]  max_depth=1, min_samples_leaf=3, min_samples_split=9, score=0.293, total=   0.3s\n",
      "[CV] max_depth=1, min_samples_leaf=3, min_samples_split=9 ............\n",
      "[CV]  max_depth=1, min_samples_leaf=3, min_samples_split=9, score=0.158, total=   0.3s\n",
      "[CV] max_depth=1, min_samples_leaf=3, min_samples_split=9 ............\n",
      "[CV]  max_depth=1, min_samples_leaf=3, min_samples_split=9, score=0.251, total=   0.3s\n",
      "[CV] max_depth=1, min_samples_leaf=3, min_samples_split=27 ...........\n",
      "[CV]  max_depth=1, min_samples_leaf=3, min_samples_split=27, score=0.248, total=   0.3s\n",
      "[CV] max_depth=1, min_samples_leaf=3, min_samples_split=27 ...........\n",
      "[CV]  max_depth=1, min_samples_leaf=3, min_samples_split=27, score=0.306, total=   0.3s\n",
      "[CV] max_depth=1, min_samples_leaf=3, min_samples_split=27 ...........\n",
      "[CV]  max_depth=1, min_samples_leaf=3, min_samples_split=27, score=0.293, total=   0.3s\n",
      "[CV] max_depth=1, min_samples_leaf=3, min_samples_split=27 ...........\n",
      "[CV]  max_depth=1, min_samples_leaf=3, min_samples_split=27, score=0.158, total=   0.3s\n",
      "[CV] max_depth=1, min_samples_leaf=3, min_samples_split=27 ...........\n",
      "[CV]  max_depth=1, min_samples_leaf=3, min_samples_split=27, score=0.251, total=   0.3s\n",
      "[CV] max_depth=1, min_samples_leaf=3, min_samples_split=81 ...........\n",
      "[CV]  max_depth=1, min_samples_leaf=3, min_samples_split=81, score=0.248, total=   0.3s\n",
      "[CV] max_depth=1, min_samples_leaf=3, min_samples_split=81 ...........\n",
      "[CV]  max_depth=1, min_samples_leaf=3, min_samples_split=81, score=0.306, total=   0.3s\n",
      "[CV] max_depth=1, min_samples_leaf=3, min_samples_split=81 ...........\n",
      "[CV]  max_depth=1, min_samples_leaf=3, min_samples_split=81, score=0.293, total=   0.3s\n",
      "[CV] max_depth=1, min_samples_leaf=3, min_samples_split=81 ...........\n",
      "[CV]  max_depth=1, min_samples_leaf=3, min_samples_split=81, score=0.158, total=   0.3s\n",
      "[CV] max_depth=1, min_samples_leaf=3, min_samples_split=81 ...........\n",
      "[CV]  max_depth=1, min_samples_leaf=3, min_samples_split=81, score=0.251, total=   0.3s\n",
      "[CV] max_depth=1, min_samples_leaf=9, min_samples_split=3 ............\n",
      "[CV]  max_depth=1, min_samples_leaf=9, min_samples_split=3, score=0.248, total=   0.3s\n",
      "[CV] max_depth=1, min_samples_leaf=9, min_samples_split=3 ............\n",
      "[CV]  max_depth=1, min_samples_leaf=9, min_samples_split=3, score=0.306, total=   0.3s\n",
      "[CV] max_depth=1, min_samples_leaf=9, min_samples_split=3 ............\n",
      "[CV]  max_depth=1, min_samples_leaf=9, min_samples_split=3, score=0.293, total=   0.3s\n",
      "[CV] max_depth=1, min_samples_leaf=9, min_samples_split=3 ............\n",
      "[CV]  max_depth=1, min_samples_leaf=9, min_samples_split=3, score=0.158, total=   0.3s\n",
      "[CV] max_depth=1, min_samples_leaf=9, min_samples_split=3 ............\n",
      "[CV]  max_depth=1, min_samples_leaf=9, min_samples_split=3, score=0.251, total=   0.3s\n",
      "[CV] max_depth=1, min_samples_leaf=9, min_samples_split=9 ............\n",
      "[CV]  max_depth=1, min_samples_leaf=9, min_samples_split=9, score=0.248, total=   0.3s\n",
      "[CV] max_depth=1, min_samples_leaf=9, min_samples_split=9 ............\n",
      "[CV]  max_depth=1, min_samples_leaf=9, min_samples_split=9, score=0.306, total=   0.3s\n",
      "[CV] max_depth=1, min_samples_leaf=9, min_samples_split=9 ............\n",
      "[CV]  max_depth=1, min_samples_leaf=9, min_samples_split=9, score=0.293, total=   0.3s\n",
      "[CV] max_depth=1, min_samples_leaf=9, min_samples_split=9 ............\n",
      "[CV]  max_depth=1, min_samples_leaf=9, min_samples_split=9, score=0.158, total=   0.3s\n",
      "[CV] max_depth=1, min_samples_leaf=9, min_samples_split=9 ............\n",
      "[CV]  max_depth=1, min_samples_leaf=9, min_samples_split=9, score=0.251, total=   0.3s\n",
      "[CV] max_depth=1, min_samples_leaf=9, min_samples_split=27 ...........\n",
      "[CV]  max_depth=1, min_samples_leaf=9, min_samples_split=27, score=0.248, total=   0.3s\n",
      "[CV] max_depth=1, min_samples_leaf=9, min_samples_split=27 ...........\n",
      "[CV]  max_depth=1, min_samples_leaf=9, min_samples_split=27, score=0.306, total=   0.3s\n",
      "[CV] max_depth=1, min_samples_leaf=9, min_samples_split=27 ...........\n",
      "[CV]  max_depth=1, min_samples_leaf=9, min_samples_split=27, score=0.293, total=   0.3s\n",
      "[CV] max_depth=1, min_samples_leaf=9, min_samples_split=27 ...........\n",
      "[CV]  max_depth=1, min_samples_leaf=9, min_samples_split=27, score=0.158, total=   0.3s\n",
      "[CV] max_depth=1, min_samples_leaf=9, min_samples_split=27 ...........\n"
     ]
    },
    {
     "name": "stdout",
     "output_type": "stream",
     "text": [
      "[CV]  max_depth=1, min_samples_leaf=9, min_samples_split=27, score=0.251, total=   0.3s\n",
      "[CV] max_depth=1, min_samples_leaf=9, min_samples_split=81 ...........\n",
      "[CV]  max_depth=1, min_samples_leaf=9, min_samples_split=81, score=0.248, total=   0.3s\n",
      "[CV] max_depth=1, min_samples_leaf=9, min_samples_split=81 ...........\n",
      "[CV]  max_depth=1, min_samples_leaf=9, min_samples_split=81, score=0.306, total=   0.3s\n",
      "[CV] max_depth=1, min_samples_leaf=9, min_samples_split=81 ...........\n",
      "[CV]  max_depth=1, min_samples_leaf=9, min_samples_split=81, score=0.293, total=   0.3s\n",
      "[CV] max_depth=1, min_samples_leaf=9, min_samples_split=81 ...........\n",
      "[CV]  max_depth=1, min_samples_leaf=9, min_samples_split=81, score=0.158, total=   0.3s\n",
      "[CV] max_depth=1, min_samples_leaf=9, min_samples_split=81 ...........\n",
      "[CV]  max_depth=1, min_samples_leaf=9, min_samples_split=81, score=0.251, total=   0.3s\n",
      "[CV] max_depth=1, min_samples_leaf=27, min_samples_split=3 ...........\n",
      "[CV]  max_depth=1, min_samples_leaf=27, min_samples_split=3, score=0.247, total=   0.3s\n",
      "[CV] max_depth=1, min_samples_leaf=27, min_samples_split=3 ...........\n",
      "[CV]  max_depth=1, min_samples_leaf=27, min_samples_split=3, score=0.305, total=   0.3s\n",
      "[CV] max_depth=1, min_samples_leaf=27, min_samples_split=3 ...........\n",
      "[CV]  max_depth=1, min_samples_leaf=27, min_samples_split=3, score=0.292, total=   0.3s\n",
      "[CV] max_depth=1, min_samples_leaf=27, min_samples_split=3 ...........\n",
      "[CV]  max_depth=1, min_samples_leaf=27, min_samples_split=3, score=0.159, total=   0.3s\n",
      "[CV] max_depth=1, min_samples_leaf=27, min_samples_split=3 ...........\n",
      "[CV]  max_depth=1, min_samples_leaf=27, min_samples_split=3, score=0.252, total=   0.3s\n",
      "[CV] max_depth=1, min_samples_leaf=27, min_samples_split=9 ...........\n",
      "[CV]  max_depth=1, min_samples_leaf=27, min_samples_split=9, score=0.247, total=   0.3s\n",
      "[CV] max_depth=1, min_samples_leaf=27, min_samples_split=9 ...........\n",
      "[CV]  max_depth=1, min_samples_leaf=27, min_samples_split=9, score=0.305, total=   0.3s\n",
      "[CV] max_depth=1, min_samples_leaf=27, min_samples_split=9 ...........\n",
      "[CV]  max_depth=1, min_samples_leaf=27, min_samples_split=9, score=0.292, total=   0.3s\n",
      "[CV] max_depth=1, min_samples_leaf=27, min_samples_split=9 ...........\n",
      "[CV]  max_depth=1, min_samples_leaf=27, min_samples_split=9, score=0.159, total=   0.3s\n",
      "[CV] max_depth=1, min_samples_leaf=27, min_samples_split=9 ...........\n",
      "[CV]  max_depth=1, min_samples_leaf=27, min_samples_split=9, score=0.252, total=   0.3s\n",
      "[CV] max_depth=1, min_samples_leaf=27, min_samples_split=27 ..........\n",
      "[CV]  max_depth=1, min_samples_leaf=27, min_samples_split=27, score=0.247, total=   0.3s\n",
      "[CV] max_depth=1, min_samples_leaf=27, min_samples_split=27 ..........\n",
      "[CV]  max_depth=1, min_samples_leaf=27, min_samples_split=27, score=0.305, total=   0.3s\n",
      "[CV] max_depth=1, min_samples_leaf=27, min_samples_split=27 ..........\n",
      "[CV]  max_depth=1, min_samples_leaf=27, min_samples_split=27, score=0.292, total=   0.3s\n",
      "[CV] max_depth=1, min_samples_leaf=27, min_samples_split=27 ..........\n",
      "[CV]  max_depth=1, min_samples_leaf=27, min_samples_split=27, score=0.159, total=   0.3s\n",
      "[CV] max_depth=1, min_samples_leaf=27, min_samples_split=27 ..........\n",
      "[CV]  max_depth=1, min_samples_leaf=27, min_samples_split=27, score=0.252, total=   0.3s\n",
      "[CV] max_depth=1, min_samples_leaf=27, min_samples_split=81 ..........\n",
      "[CV]  max_depth=1, min_samples_leaf=27, min_samples_split=81, score=0.247, total=   0.3s\n",
      "[CV] max_depth=1, min_samples_leaf=27, min_samples_split=81 ..........\n",
      "[CV]  max_depth=1, min_samples_leaf=27, min_samples_split=81, score=0.305, total=   0.3s\n",
      "[CV] max_depth=1, min_samples_leaf=27, min_samples_split=81 ..........\n",
      "[CV]  max_depth=1, min_samples_leaf=27, min_samples_split=81, score=0.292, total=   0.3s\n",
      "[CV] max_depth=1, min_samples_leaf=27, min_samples_split=81 ..........\n",
      "[CV]  max_depth=1, min_samples_leaf=27, min_samples_split=81, score=0.159, total=   0.3s\n",
      "[CV] max_depth=1, min_samples_leaf=27, min_samples_split=81 ..........\n",
      "[CV]  max_depth=1, min_samples_leaf=27, min_samples_split=81, score=0.252, total=   0.3s\n",
      "[CV] max_depth=3, min_samples_leaf=1, min_samples_split=3 ............\n",
      "[CV]  max_depth=3, min_samples_leaf=1, min_samples_split=3, score=0.434, total=   0.3s\n",
      "[CV] max_depth=3, min_samples_leaf=1, min_samples_split=3 ............\n",
      "[CV]  max_depth=3, min_samples_leaf=1, min_samples_split=3, score=0.538, total=   0.4s\n",
      "[CV] max_depth=3, min_samples_leaf=1, min_samples_split=3 ............\n",
      "[CV]  max_depth=3, min_samples_leaf=1, min_samples_split=3, score=0.566, total=   0.3s\n",
      "[CV] max_depth=3, min_samples_leaf=1, min_samples_split=3 ............\n",
      "[CV]  max_depth=3, min_samples_leaf=1, min_samples_split=3, score=0.289, total=   0.3s\n",
      "[CV] max_depth=3, min_samples_leaf=1, min_samples_split=3 ............\n",
      "[CV]  max_depth=3, min_samples_leaf=1, min_samples_split=3, score=0.452, total=   0.4s\n",
      "[CV] max_depth=3, min_samples_leaf=1, min_samples_split=9 ............\n",
      "[CV]  max_depth=3, min_samples_leaf=1, min_samples_split=9, score=0.433, total=   0.3s\n",
      "[CV] max_depth=3, min_samples_leaf=1, min_samples_split=9 ............\n",
      "[CV]  max_depth=3, min_samples_leaf=1, min_samples_split=9, score=0.537, total=   0.3s\n",
      "[CV] max_depth=3, min_samples_leaf=1, min_samples_split=9 ............\n",
      "[CV]  max_depth=3, min_samples_leaf=1, min_samples_split=9, score=0.567, total=   0.3s\n",
      "[CV] max_depth=3, min_samples_leaf=1, min_samples_split=9 ............\n",
      "[CV]  max_depth=3, min_samples_leaf=1, min_samples_split=9, score=0.290, total=   0.3s\n",
      "[CV] max_depth=3, min_samples_leaf=1, min_samples_split=9 ............\n",
      "[CV]  max_depth=3, min_samples_leaf=1, min_samples_split=9, score=0.453, total=   0.4s\n",
      "[CV] max_depth=3, min_samples_leaf=1, min_samples_split=27 ...........\n",
      "[CV]  max_depth=3, min_samples_leaf=1, min_samples_split=27, score=0.433, total=   0.4s\n",
      "[CV] max_depth=3, min_samples_leaf=1, min_samples_split=27 ...........\n",
      "[CV]  max_depth=3, min_samples_leaf=1, min_samples_split=27, score=0.541, total=   0.3s\n",
      "[CV] max_depth=3, min_samples_leaf=1, min_samples_split=27 ...........\n",
      "[CV]  max_depth=3, min_samples_leaf=1, min_samples_split=27, score=0.573, total=   0.3s\n",
      "[CV] max_depth=3, min_samples_leaf=1, min_samples_split=27 ...........\n",
      "[CV]  max_depth=3, min_samples_leaf=1, min_samples_split=27, score=0.289, total=   0.3s\n",
      "[CV] max_depth=3, min_samples_leaf=1, min_samples_split=27 ...........\n",
      "[CV]  max_depth=3, min_samples_leaf=1, min_samples_split=27, score=0.450, total=   0.4s\n",
      "[CV] max_depth=3, min_samples_leaf=1, min_samples_split=81 ...........\n",
      "[CV]  max_depth=3, min_samples_leaf=1, min_samples_split=81, score=0.425, total=   0.3s\n",
      "[CV] max_depth=3, min_samples_leaf=1, min_samples_split=81 ...........\n",
      "[CV]  max_depth=3, min_samples_leaf=1, min_samples_split=81, score=0.538, total=   0.3s\n",
      "[CV] max_depth=3, min_samples_leaf=1, min_samples_split=81 ...........\n",
      "[CV]  max_depth=3, min_samples_leaf=1, min_samples_split=81, score=0.563, total=   0.3s\n",
      "[CV] max_depth=3, min_samples_leaf=1, min_samples_split=81 ...........\n",
      "[CV]  max_depth=3, min_samples_leaf=1, min_samples_split=81, score=0.287, total=   0.3s\n",
      "[CV] max_depth=3, min_samples_leaf=1, min_samples_split=81 ...........\n",
      "[CV]  max_depth=3, min_samples_leaf=1, min_samples_split=81, score=0.447, total=   0.3s\n",
      "[CV] max_depth=3, min_samples_leaf=3, min_samples_split=3 ............\n",
      "[CV]  max_depth=3, min_samples_leaf=3, min_samples_split=3, score=0.433, total=   0.4s\n",
      "[CV] max_depth=3, min_samples_leaf=3, min_samples_split=3 ............\n",
      "[CV]  max_depth=3, min_samples_leaf=3, min_samples_split=3, score=0.538, total=   0.4s\n",
      "[CV] max_depth=3, min_samples_leaf=3, min_samples_split=3 ............\n",
      "[CV]  max_depth=3, min_samples_leaf=3, min_samples_split=3, score=0.562, total=   0.3s\n",
      "[CV] max_depth=3, min_samples_leaf=3, min_samples_split=3 ............\n",
      "[CV]  max_depth=3, min_samples_leaf=3, min_samples_split=3, score=0.286, total=   0.3s\n",
      "[CV] max_depth=3, min_samples_leaf=3, min_samples_split=3 ............\n",
      "[CV]  max_depth=3, min_samples_leaf=3, min_samples_split=3, score=0.450, total=   0.3s\n",
      "[CV] max_depth=3, min_samples_leaf=3, min_samples_split=9 ............\n",
      "[CV]  max_depth=3, min_samples_leaf=3, min_samples_split=9, score=0.431, total=   0.3s\n",
      "[CV] max_depth=3, min_samples_leaf=3, min_samples_split=9 ............\n"
     ]
    },
    {
     "name": "stdout",
     "output_type": "stream",
     "text": [
      "[CV]  max_depth=3, min_samples_leaf=3, min_samples_split=9, score=0.538, total=   0.3s\n",
      "[CV] max_depth=3, min_samples_leaf=3, min_samples_split=9 ............\n",
      "[CV]  max_depth=3, min_samples_leaf=3, min_samples_split=9, score=0.567, total=   0.3s\n",
      "[CV] max_depth=3, min_samples_leaf=3, min_samples_split=9 ............\n",
      "[CV]  max_depth=3, min_samples_leaf=3, min_samples_split=9, score=0.287, total=   0.3s\n",
      "[CV] max_depth=3, min_samples_leaf=3, min_samples_split=9 ............\n",
      "[CV]  max_depth=3, min_samples_leaf=3, min_samples_split=9, score=0.453, total=   0.3s\n",
      "[CV] max_depth=3, min_samples_leaf=3, min_samples_split=27 ...........\n",
      "[CV]  max_depth=3, min_samples_leaf=3, min_samples_split=27, score=0.433, total=   0.3s\n",
      "[CV] max_depth=3, min_samples_leaf=3, min_samples_split=27 ...........\n",
      "[CV]  max_depth=3, min_samples_leaf=3, min_samples_split=27, score=0.545, total=   0.3s\n",
      "[CV] max_depth=3, min_samples_leaf=3, min_samples_split=27 ...........\n",
      "[CV]  max_depth=3, min_samples_leaf=3, min_samples_split=27, score=0.573, total=   0.3s\n",
      "[CV] max_depth=3, min_samples_leaf=3, min_samples_split=27 ...........\n",
      "[CV]  max_depth=3, min_samples_leaf=3, min_samples_split=27, score=0.287, total=   0.3s\n",
      "[CV] max_depth=3, min_samples_leaf=3, min_samples_split=27 ...........\n",
      "[CV]  max_depth=3, min_samples_leaf=3, min_samples_split=27, score=0.450, total=   0.3s\n",
      "[CV] max_depth=3, min_samples_leaf=3, min_samples_split=81 ...........\n",
      "[CV]  max_depth=3, min_samples_leaf=3, min_samples_split=81, score=0.425, total=   0.3s\n",
      "[CV] max_depth=3, min_samples_leaf=3, min_samples_split=81 ...........\n",
      "[CV]  max_depth=3, min_samples_leaf=3, min_samples_split=81, score=0.538, total=   0.3s\n",
      "[CV] max_depth=3, min_samples_leaf=3, min_samples_split=81 ...........\n",
      "[CV]  max_depth=3, min_samples_leaf=3, min_samples_split=81, score=0.563, total=   0.3s\n",
      "[CV] max_depth=3, min_samples_leaf=3, min_samples_split=81 ...........\n",
      "[CV]  max_depth=3, min_samples_leaf=3, min_samples_split=81, score=0.287, total=   0.3s\n",
      "[CV] max_depth=3, min_samples_leaf=3, min_samples_split=81 ...........\n",
      "[CV]  max_depth=3, min_samples_leaf=3, min_samples_split=81, score=0.447, total=   0.3s\n",
      "[CV] max_depth=3, min_samples_leaf=9, min_samples_split=3 ............\n",
      "[CV]  max_depth=3, min_samples_leaf=9, min_samples_split=3, score=0.429, total=   0.3s\n",
      "[CV] max_depth=3, min_samples_leaf=9, min_samples_split=3 ............\n",
      "[CV]  max_depth=3, min_samples_leaf=9, min_samples_split=3, score=0.538, total=   0.3s\n",
      "[CV] max_depth=3, min_samples_leaf=9, min_samples_split=3 ............\n",
      "[CV]  max_depth=3, min_samples_leaf=9, min_samples_split=3, score=0.567, total=   0.3s\n",
      "[CV] max_depth=3, min_samples_leaf=9, min_samples_split=3 ............\n",
      "[CV]  max_depth=3, min_samples_leaf=9, min_samples_split=3, score=0.286, total=   0.3s\n",
      "[CV] max_depth=3, min_samples_leaf=9, min_samples_split=3 ............\n",
      "[CV]  max_depth=3, min_samples_leaf=9, min_samples_split=3, score=0.450, total=   0.3s\n",
      "[CV] max_depth=3, min_samples_leaf=9, min_samples_split=9 ............\n",
      "[CV]  max_depth=3, min_samples_leaf=9, min_samples_split=9, score=0.429, total=   0.3s\n",
      "[CV] max_depth=3, min_samples_leaf=9, min_samples_split=9 ............\n",
      "[CV]  max_depth=3, min_samples_leaf=9, min_samples_split=9, score=0.538, total=   0.3s\n",
      "[CV] max_depth=3, min_samples_leaf=9, min_samples_split=9 ............\n",
      "[CV]  max_depth=3, min_samples_leaf=9, min_samples_split=9, score=0.567, total=   0.3s\n",
      "[CV] max_depth=3, min_samples_leaf=9, min_samples_split=9 ............\n",
      "[CV]  max_depth=3, min_samples_leaf=9, min_samples_split=9, score=0.286, total=   0.3s\n",
      "[CV] max_depth=3, min_samples_leaf=9, min_samples_split=9 ............\n",
      "[CV]  max_depth=3, min_samples_leaf=9, min_samples_split=9, score=0.450, total=   0.3s\n",
      "[CV] max_depth=3, min_samples_leaf=9, min_samples_split=27 ...........\n",
      "[CV]  max_depth=3, min_samples_leaf=9, min_samples_split=27, score=0.430, total=   0.3s\n",
      "[CV] max_depth=3, min_samples_leaf=9, min_samples_split=27 ...........\n",
      "[CV]  max_depth=3, min_samples_leaf=9, min_samples_split=27, score=0.549, total=   0.3s\n",
      "[CV] max_depth=3, min_samples_leaf=9, min_samples_split=27 ...........\n",
      "[CV]  max_depth=3, min_samples_leaf=9, min_samples_split=27, score=0.565, total=   0.3s\n",
      "[CV] max_depth=3, min_samples_leaf=9, min_samples_split=27 ...........\n",
      "[CV]  max_depth=3, min_samples_leaf=9, min_samples_split=27, score=0.283, total=   0.3s\n",
      "[CV] max_depth=3, min_samples_leaf=9, min_samples_split=27 ...........\n",
      "[CV]  max_depth=3, min_samples_leaf=9, min_samples_split=27, score=0.448, total=   0.3s\n",
      "[CV] max_depth=3, min_samples_leaf=9, min_samples_split=81 ...........\n",
      "[CV]  max_depth=3, min_samples_leaf=9, min_samples_split=81, score=0.425, total=   0.3s\n",
      "[CV] max_depth=3, min_samples_leaf=9, min_samples_split=81 ...........\n",
      "[CV]  max_depth=3, min_samples_leaf=9, min_samples_split=81, score=0.537, total=   0.3s\n",
      "[CV] max_depth=3, min_samples_leaf=9, min_samples_split=81 ...........\n",
      "[CV]  max_depth=3, min_samples_leaf=9, min_samples_split=81, score=0.564, total=   0.3s\n",
      "[CV] max_depth=3, min_samples_leaf=9, min_samples_split=81 ...........\n",
      "[CV]  max_depth=3, min_samples_leaf=9, min_samples_split=81, score=0.286, total=   0.3s\n",
      "[CV] max_depth=3, min_samples_leaf=9, min_samples_split=81 ...........\n",
      "[CV]  max_depth=3, min_samples_leaf=9, min_samples_split=81, score=0.446, total=   0.3s\n",
      "[CV] max_depth=3, min_samples_leaf=27, min_samples_split=3 ...........\n",
      "[CV]  max_depth=3, min_samples_leaf=27, min_samples_split=3, score=0.429, total=   0.3s\n",
      "[CV] max_depth=3, min_samples_leaf=27, min_samples_split=3 ...........\n",
      "[CV]  max_depth=3, min_samples_leaf=27, min_samples_split=3, score=0.530, total=   0.3s\n",
      "[CV] max_depth=3, min_samples_leaf=27, min_samples_split=3 ...........\n",
      "[CV]  max_depth=3, min_samples_leaf=27, min_samples_split=3, score=0.559, total=   0.3s\n",
      "[CV] max_depth=3, min_samples_leaf=27, min_samples_split=3 ...........\n",
      "[CV]  max_depth=3, min_samples_leaf=27, min_samples_split=3, score=0.286, total=   0.3s\n",
      "[CV] max_depth=3, min_samples_leaf=27, min_samples_split=3 ...........\n",
      "[CV]  max_depth=3, min_samples_leaf=27, min_samples_split=3, score=0.448, total=   0.3s\n",
      "[CV] max_depth=3, min_samples_leaf=27, min_samples_split=9 ...........\n",
      "[CV]  max_depth=3, min_samples_leaf=27, min_samples_split=9, score=0.429, total=   0.3s\n",
      "[CV] max_depth=3, min_samples_leaf=27, min_samples_split=9 ...........\n",
      "[CV]  max_depth=3, min_samples_leaf=27, min_samples_split=9, score=0.530, total=   0.3s\n",
      "[CV] max_depth=3, min_samples_leaf=27, min_samples_split=9 ...........\n",
      "[CV]  max_depth=3, min_samples_leaf=27, min_samples_split=9, score=0.559, total=   0.3s\n",
      "[CV] max_depth=3, min_samples_leaf=27, min_samples_split=9 ...........\n",
      "[CV]  max_depth=3, min_samples_leaf=27, min_samples_split=9, score=0.286, total=   0.3s\n",
      "[CV] max_depth=3, min_samples_leaf=27, min_samples_split=9 ...........\n",
      "[CV]  max_depth=3, min_samples_leaf=27, min_samples_split=9, score=0.448, total=   0.3s\n",
      "[CV] max_depth=3, min_samples_leaf=27, min_samples_split=27 ..........\n",
      "[CV]  max_depth=3, min_samples_leaf=27, min_samples_split=27, score=0.429, total=   0.3s\n",
      "[CV] max_depth=3, min_samples_leaf=27, min_samples_split=27 ..........\n",
      "[CV]  max_depth=3, min_samples_leaf=27, min_samples_split=27, score=0.530, total=   0.3s\n",
      "[CV] max_depth=3, min_samples_leaf=27, min_samples_split=27 ..........\n",
      "[CV]  max_depth=3, min_samples_leaf=27, min_samples_split=27, score=0.559, total=   0.3s\n",
      "[CV] max_depth=3, min_samples_leaf=27, min_samples_split=27 ..........\n",
      "[CV]  max_depth=3, min_samples_leaf=27, min_samples_split=27, score=0.286, total=   0.3s\n",
      "[CV] max_depth=3, min_samples_leaf=27, min_samples_split=27 ..........\n",
      "[CV]  max_depth=3, min_samples_leaf=27, min_samples_split=27, score=0.448, total=   0.3s\n",
      "[CV] max_depth=3, min_samples_leaf=27, min_samples_split=81 ..........\n",
      "[CV]  max_depth=3, min_samples_leaf=27, min_samples_split=81, score=0.427, total=   0.3s\n",
      "[CV] max_depth=3, min_samples_leaf=27, min_samples_split=81 ..........\n",
      "[CV]  max_depth=3, min_samples_leaf=27, min_samples_split=81, score=0.530, total=   0.3s\n",
      "[CV] max_depth=3, min_samples_leaf=27, min_samples_split=81 ..........\n",
      "[CV]  max_depth=3, min_samples_leaf=27, min_samples_split=81, score=0.558, total=   0.3s\n",
      "[CV] max_depth=3, min_samples_leaf=27, min_samples_split=81 ..........\n"
     ]
    },
    {
     "name": "stdout",
     "output_type": "stream",
     "text": [
      "[CV]  max_depth=3, min_samples_leaf=27, min_samples_split=81, score=0.282, total=   0.3s\n",
      "[CV] max_depth=3, min_samples_leaf=27, min_samples_split=81 ..........\n",
      "[CV]  max_depth=3, min_samples_leaf=27, min_samples_split=81, score=0.449, total=   0.3s\n",
      "[CV] max_depth=5, min_samples_leaf=1, min_samples_split=3 ............\n",
      "[CV]  max_depth=5, min_samples_leaf=1, min_samples_split=3, score=0.496, total=   0.4s\n",
      "[CV] max_depth=5, min_samples_leaf=1, min_samples_split=3 ............\n",
      "[CV]  max_depth=5, min_samples_leaf=1, min_samples_split=3, score=0.617, total=   0.4s\n",
      "[CV] max_depth=5, min_samples_leaf=1, min_samples_split=3 ............\n",
      "[CV]  max_depth=5, min_samples_leaf=1, min_samples_split=3, score=0.667, total=   0.5s\n",
      "[CV] max_depth=5, min_samples_leaf=1, min_samples_split=3 ............\n",
      "[CV]  max_depth=5, min_samples_leaf=1, min_samples_split=3, score=0.340, total=   0.4s\n",
      "[CV] max_depth=5, min_samples_leaf=1, min_samples_split=3 ............\n",
      "[CV]  max_depth=5, min_samples_leaf=1, min_samples_split=3, score=0.509, total=   0.4s\n",
      "[CV] max_depth=5, min_samples_leaf=1, min_samples_split=9 ............\n",
      "[CV]  max_depth=5, min_samples_leaf=1, min_samples_split=9, score=0.503, total=   0.4s\n",
      "[CV] max_depth=5, min_samples_leaf=1, min_samples_split=9 ............\n",
      "[CV]  max_depth=5, min_samples_leaf=1, min_samples_split=9, score=0.616, total=   0.4s\n",
      "[CV] max_depth=5, min_samples_leaf=1, min_samples_split=9 ............\n",
      "[CV]  max_depth=5, min_samples_leaf=1, min_samples_split=9, score=0.665, total=   0.4s\n",
      "[CV] max_depth=5, min_samples_leaf=1, min_samples_split=9 ............\n",
      "[CV]  max_depth=5, min_samples_leaf=1, min_samples_split=9, score=0.335, total=   0.4s\n",
      "[CV] max_depth=5, min_samples_leaf=1, min_samples_split=9 ............\n",
      "[CV]  max_depth=5, min_samples_leaf=1, min_samples_split=9, score=0.510, total=   0.4s\n",
      "[CV] max_depth=5, min_samples_leaf=1, min_samples_split=27 ...........\n",
      "[CV]  max_depth=5, min_samples_leaf=1, min_samples_split=27, score=0.501, total=   0.4s\n",
      "[CV] max_depth=5, min_samples_leaf=1, min_samples_split=27 ...........\n",
      "[CV]  max_depth=5, min_samples_leaf=1, min_samples_split=27, score=0.615, total=   0.4s\n",
      "[CV] max_depth=5, min_samples_leaf=1, min_samples_split=27 ...........\n",
      "[CV]  max_depth=5, min_samples_leaf=1, min_samples_split=27, score=0.667, total=   0.4s\n",
      "[CV] max_depth=5, min_samples_leaf=1, min_samples_split=27 ...........\n",
      "[CV]  max_depth=5, min_samples_leaf=1, min_samples_split=27, score=0.337, total=   0.4s\n",
      "[CV] max_depth=5, min_samples_leaf=1, min_samples_split=27 ...........\n",
      "[CV]  max_depth=5, min_samples_leaf=1, min_samples_split=27, score=0.510, total=   0.4s\n",
      "[CV] max_depth=5, min_samples_leaf=1, min_samples_split=81 ...........\n",
      "[CV]  max_depth=5, min_samples_leaf=1, min_samples_split=81, score=0.493, total=   0.4s\n",
      "[CV] max_depth=5, min_samples_leaf=1, min_samples_split=81 ...........\n",
      "[CV]  max_depth=5, min_samples_leaf=1, min_samples_split=81, score=0.609, total=   0.4s\n",
      "[CV] max_depth=5, min_samples_leaf=1, min_samples_split=81 ...........\n",
      "[CV]  max_depth=5, min_samples_leaf=1, min_samples_split=81, score=0.655, total=   0.4s\n",
      "[CV] max_depth=5, min_samples_leaf=1, min_samples_split=81 ...........\n",
      "[CV]  max_depth=5, min_samples_leaf=1, min_samples_split=81, score=0.331, total=   0.4s\n",
      "[CV] max_depth=5, min_samples_leaf=1, min_samples_split=81 ...........\n",
      "[CV]  max_depth=5, min_samples_leaf=1, min_samples_split=81, score=0.508, total=   0.4s\n",
      "[CV] max_depth=5, min_samples_leaf=3, min_samples_split=3 ............\n",
      "[CV]  max_depth=5, min_samples_leaf=3, min_samples_split=3, score=0.509, total=   0.4s\n",
      "[CV] max_depth=5, min_samples_leaf=3, min_samples_split=3 ............\n",
      "[CV]  max_depth=5, min_samples_leaf=3, min_samples_split=3, score=0.611, total=   0.4s\n",
      "[CV] max_depth=5, min_samples_leaf=3, min_samples_split=3 ............\n",
      "[CV]  max_depth=5, min_samples_leaf=3, min_samples_split=3, score=0.664, total=   0.4s\n",
      "[CV] max_depth=5, min_samples_leaf=3, min_samples_split=3 ............\n",
      "[CV]  max_depth=5, min_samples_leaf=3, min_samples_split=3, score=0.335, total=   0.4s\n",
      "[CV] max_depth=5, min_samples_leaf=3, min_samples_split=3 ............\n",
      "[CV]  max_depth=5, min_samples_leaf=3, min_samples_split=3, score=0.508, total=   0.4s\n",
      "[CV] max_depth=5, min_samples_leaf=3, min_samples_split=9 ............\n",
      "[CV]  max_depth=5, min_samples_leaf=3, min_samples_split=9, score=0.502, total=   0.4s\n",
      "[CV] max_depth=5, min_samples_leaf=3, min_samples_split=9 ............\n",
      "[CV]  max_depth=5, min_samples_leaf=3, min_samples_split=9, score=0.616, total=   0.4s\n",
      "[CV] max_depth=5, min_samples_leaf=3, min_samples_split=9 ............\n",
      "[CV]  max_depth=5, min_samples_leaf=3, min_samples_split=9, score=0.667, total=   0.4s\n",
      "[CV] max_depth=5, min_samples_leaf=3, min_samples_split=9 ............\n",
      "[CV]  max_depth=5, min_samples_leaf=3, min_samples_split=9, score=0.336, total=   0.4s\n",
      "[CV] max_depth=5, min_samples_leaf=3, min_samples_split=9 ............\n",
      "[CV]  max_depth=5, min_samples_leaf=3, min_samples_split=9, score=0.506, total=   0.4s\n",
      "[CV] max_depth=5, min_samples_leaf=3, min_samples_split=27 ...........\n",
      "[CV]  max_depth=5, min_samples_leaf=3, min_samples_split=27, score=0.500, total=   0.4s\n",
      "[CV] max_depth=5, min_samples_leaf=3, min_samples_split=27 ...........\n",
      "[CV]  max_depth=5, min_samples_leaf=3, min_samples_split=27, score=0.615, total=   0.4s\n",
      "[CV] max_depth=5, min_samples_leaf=3, min_samples_split=27 ...........\n",
      "[CV]  max_depth=5, min_samples_leaf=3, min_samples_split=27, score=0.667, total=   0.4s\n",
      "[CV] max_depth=5, min_samples_leaf=3, min_samples_split=27 ...........\n",
      "[CV]  max_depth=5, min_samples_leaf=3, min_samples_split=27, score=0.332, total=   0.4s\n",
      "[CV] max_depth=5, min_samples_leaf=3, min_samples_split=27 ...........\n",
      "[CV]  max_depth=5, min_samples_leaf=3, min_samples_split=27, score=0.512, total=   0.4s\n",
      "[CV] max_depth=5, min_samples_leaf=3, min_samples_split=81 ...........\n",
      "[CV]  max_depth=5, min_samples_leaf=3, min_samples_split=81, score=0.493, total=   0.4s\n",
      "[CV] max_depth=5, min_samples_leaf=3, min_samples_split=81 ...........\n",
      "[CV]  max_depth=5, min_samples_leaf=3, min_samples_split=81, score=0.608, total=   0.4s\n",
      "[CV] max_depth=5, min_samples_leaf=3, min_samples_split=81 ...........\n",
      "[CV]  max_depth=5, min_samples_leaf=3, min_samples_split=81, score=0.655, total=   0.4s\n",
      "[CV] max_depth=5, min_samples_leaf=3, min_samples_split=81 ...........\n",
      "[CV]  max_depth=5, min_samples_leaf=3, min_samples_split=81, score=0.330, total=   0.4s\n",
      "[CV] max_depth=5, min_samples_leaf=3, min_samples_split=81 ...........\n",
      "[CV]  max_depth=5, min_samples_leaf=3, min_samples_split=81, score=0.508, total=   0.4s\n",
      "[CV] max_depth=5, min_samples_leaf=9, min_samples_split=3 ............\n",
      "[CV]  max_depth=5, min_samples_leaf=9, min_samples_split=3, score=0.499, total=   0.4s\n",
      "[CV] max_depth=5, min_samples_leaf=9, min_samples_split=3 ............\n",
      "[CV]  max_depth=5, min_samples_leaf=9, min_samples_split=3, score=0.612, total=   0.4s\n",
      "[CV] max_depth=5, min_samples_leaf=9, min_samples_split=3 ............\n",
      "[CV]  max_depth=5, min_samples_leaf=9, min_samples_split=3, score=0.662, total=   0.4s\n",
      "[CV] max_depth=5, min_samples_leaf=9, min_samples_split=3 ............\n",
      "[CV]  max_depth=5, min_samples_leaf=9, min_samples_split=3, score=0.328, total=   0.4s\n",
      "[CV] max_depth=5, min_samples_leaf=9, min_samples_split=3 ............\n",
      "[CV]  max_depth=5, min_samples_leaf=9, min_samples_split=3, score=0.507, total=   0.4s\n",
      "[CV] max_depth=5, min_samples_leaf=9, min_samples_split=9 ............\n",
      "[CV]  max_depth=5, min_samples_leaf=9, min_samples_split=9, score=0.499, total=   0.4s\n",
      "[CV] max_depth=5, min_samples_leaf=9, min_samples_split=9 ............\n",
      "[CV]  max_depth=5, min_samples_leaf=9, min_samples_split=9, score=0.612, total=   0.4s\n",
      "[CV] max_depth=5, min_samples_leaf=9, min_samples_split=9 ............\n",
      "[CV]  max_depth=5, min_samples_leaf=9, min_samples_split=9, score=0.662, total=   0.4s\n",
      "[CV] max_depth=5, min_samples_leaf=9, min_samples_split=9 ............\n",
      "[CV]  max_depth=5, min_samples_leaf=9, min_samples_split=9, score=0.328, total=   0.4s\n",
      "[CV] max_depth=5, min_samples_leaf=9, min_samples_split=9 ............\n",
      "[CV]  max_depth=5, min_samples_leaf=9, min_samples_split=9, score=0.507, total=   0.4s\n",
      "[CV] max_depth=5, min_samples_leaf=9, min_samples_split=27 ...........\n"
     ]
    },
    {
     "name": "stdout",
     "output_type": "stream",
     "text": [
      "[CV]  max_depth=5, min_samples_leaf=9, min_samples_split=27, score=0.496, total=   0.4s\n",
      "[CV] max_depth=5, min_samples_leaf=9, min_samples_split=27 ...........\n",
      "[CV]  max_depth=5, min_samples_leaf=9, min_samples_split=27, score=0.612, total=   0.4s\n",
      "[CV] max_depth=5, min_samples_leaf=9, min_samples_split=27 ...........\n",
      "[CV]  max_depth=5, min_samples_leaf=9, min_samples_split=27, score=0.669, total=   0.4s\n",
      "[CV] max_depth=5, min_samples_leaf=9, min_samples_split=27 ...........\n",
      "[CV]  max_depth=5, min_samples_leaf=9, min_samples_split=27, score=0.327, total=   0.4s\n",
      "[CV] max_depth=5, min_samples_leaf=9, min_samples_split=27 ...........\n",
      "[CV]  max_depth=5, min_samples_leaf=9, min_samples_split=27, score=0.509, total=   0.4s\n",
      "[CV] max_depth=5, min_samples_leaf=9, min_samples_split=81 ...........\n",
      "[CV]  max_depth=5, min_samples_leaf=9, min_samples_split=81, score=0.492, total=   0.4s\n",
      "[CV] max_depth=5, min_samples_leaf=9, min_samples_split=81 ...........\n",
      "[CV]  max_depth=5, min_samples_leaf=9, min_samples_split=81, score=0.602, total=   0.4s\n",
      "[CV] max_depth=5, min_samples_leaf=9, min_samples_split=81 ...........\n",
      "[CV]  max_depth=5, min_samples_leaf=9, min_samples_split=81, score=0.651, total=   0.4s\n",
      "[CV] max_depth=5, min_samples_leaf=9, min_samples_split=81 ...........\n",
      "[CV]  max_depth=5, min_samples_leaf=9, min_samples_split=81, score=0.326, total=   0.4s\n",
      "[CV] max_depth=5, min_samples_leaf=9, min_samples_split=81 ...........\n",
      "[CV]  max_depth=5, min_samples_leaf=9, min_samples_split=81, score=0.506, total=   0.4s\n",
      "[CV] max_depth=5, min_samples_leaf=27, min_samples_split=3 ...........\n",
      "[CV]  max_depth=5, min_samples_leaf=27, min_samples_split=3, score=0.493, total=   0.4s\n",
      "[CV] max_depth=5, min_samples_leaf=27, min_samples_split=3 ...........\n",
      "[CV]  max_depth=5, min_samples_leaf=27, min_samples_split=3, score=0.591, total=   0.4s\n",
      "[CV] max_depth=5, min_samples_leaf=27, min_samples_split=3 ...........\n",
      "[CV]  max_depth=5, min_samples_leaf=27, min_samples_split=3, score=0.648, total=   0.4s\n",
      "[CV] max_depth=5, min_samples_leaf=27, min_samples_split=3 ...........\n",
      "[CV]  max_depth=5, min_samples_leaf=27, min_samples_split=3, score=0.325, total=   0.4s\n",
      "[CV] max_depth=5, min_samples_leaf=27, min_samples_split=3 ...........\n",
      "[CV]  max_depth=5, min_samples_leaf=27, min_samples_split=3, score=0.501, total=   0.4s\n",
      "[CV] max_depth=5, min_samples_leaf=27, min_samples_split=9 ...........\n",
      "[CV]  max_depth=5, min_samples_leaf=27, min_samples_split=9, score=0.493, total=   0.4s\n",
      "[CV] max_depth=5, min_samples_leaf=27, min_samples_split=9 ...........\n",
      "[CV]  max_depth=5, min_samples_leaf=27, min_samples_split=9, score=0.591, total=   0.4s\n",
      "[CV] max_depth=5, min_samples_leaf=27, min_samples_split=9 ...........\n",
      "[CV]  max_depth=5, min_samples_leaf=27, min_samples_split=9, score=0.648, total=   0.4s\n",
      "[CV] max_depth=5, min_samples_leaf=27, min_samples_split=9 ...........\n",
      "[CV]  max_depth=5, min_samples_leaf=27, min_samples_split=9, score=0.325, total=   0.4s\n",
      "[CV] max_depth=5, min_samples_leaf=27, min_samples_split=9 ...........\n",
      "[CV]  max_depth=5, min_samples_leaf=27, min_samples_split=9, score=0.501, total=   0.4s\n",
      "[CV] max_depth=5, min_samples_leaf=27, min_samples_split=27 ..........\n",
      "[CV]  max_depth=5, min_samples_leaf=27, min_samples_split=27, score=0.493, total=   0.4s\n",
      "[CV] max_depth=5, min_samples_leaf=27, min_samples_split=27 ..........\n",
      "[CV]  max_depth=5, min_samples_leaf=27, min_samples_split=27, score=0.591, total=   0.4s\n",
      "[CV] max_depth=5, min_samples_leaf=27, min_samples_split=27 ..........\n",
      "[CV]  max_depth=5, min_samples_leaf=27, min_samples_split=27, score=0.648, total=   0.4s\n",
      "[CV] max_depth=5, min_samples_leaf=27, min_samples_split=27 ..........\n",
      "[CV]  max_depth=5, min_samples_leaf=27, min_samples_split=27, score=0.325, total=   0.4s\n",
      "[CV] max_depth=5, min_samples_leaf=27, min_samples_split=27 ..........\n",
      "[CV]  max_depth=5, min_samples_leaf=27, min_samples_split=27, score=0.501, total=   0.4s\n",
      "[CV] max_depth=5, min_samples_leaf=27, min_samples_split=81 ..........\n",
      "[CV]  max_depth=5, min_samples_leaf=27, min_samples_split=81, score=0.489, total=   0.4s\n",
      "[CV] max_depth=5, min_samples_leaf=27, min_samples_split=81 ..........\n",
      "[CV]  max_depth=5, min_samples_leaf=27, min_samples_split=81, score=0.591, total=   0.4s\n",
      "[CV] max_depth=5, min_samples_leaf=27, min_samples_split=81 ..........\n",
      "[CV]  max_depth=5, min_samples_leaf=27, min_samples_split=81, score=0.643, total=   0.4s\n",
      "[CV] max_depth=5, min_samples_leaf=27, min_samples_split=81 ..........\n",
      "[CV]  max_depth=5, min_samples_leaf=27, min_samples_split=81, score=0.326, total=   0.4s\n",
      "[CV] max_depth=5, min_samples_leaf=27, min_samples_split=81 ..........\n",
      "[CV]  max_depth=5, min_samples_leaf=27, min_samples_split=81, score=0.504, total=   0.4s\n",
      "[CV] max_depth=7, min_samples_leaf=1, min_samples_split=3 ............\n",
      "[CV]  max_depth=7, min_samples_leaf=1, min_samples_split=3, score=0.523, total=   0.5s\n",
      "[CV] max_depth=7, min_samples_leaf=1, min_samples_split=3 ............\n",
      "[CV]  max_depth=7, min_samples_leaf=1, min_samples_split=3, score=0.633, total=   0.5s\n",
      "[CV] max_depth=7, min_samples_leaf=1, min_samples_split=3 ............\n",
      "[CV]  max_depth=7, min_samples_leaf=1, min_samples_split=3, score=0.686, total=   0.5s\n",
      "[CV] max_depth=7, min_samples_leaf=1, min_samples_split=3 ............\n",
      "[CV]  max_depth=7, min_samples_leaf=1, min_samples_split=3, score=0.351, total=   0.5s\n",
      "[CV] max_depth=7, min_samples_leaf=1, min_samples_split=3 ............\n",
      "[CV]  max_depth=7, min_samples_leaf=1, min_samples_split=3, score=0.518, total=   0.5s\n",
      "[CV] max_depth=7, min_samples_leaf=1, min_samples_split=9 ............\n",
      "[CV]  max_depth=7, min_samples_leaf=1, min_samples_split=9, score=0.520, total=   0.5s\n",
      "[CV] max_depth=7, min_samples_leaf=1, min_samples_split=9 ............\n",
      "[CV]  max_depth=7, min_samples_leaf=1, min_samples_split=9, score=0.629, total=   0.5s\n",
      "[CV] max_depth=7, min_samples_leaf=1, min_samples_split=9 ............\n",
      "[CV]  max_depth=7, min_samples_leaf=1, min_samples_split=9, score=0.682, total=   0.5s\n",
      "[CV] max_depth=7, min_samples_leaf=1, min_samples_split=9 ............\n",
      "[CV]  max_depth=7, min_samples_leaf=1, min_samples_split=9, score=0.355, total=   0.5s\n",
      "[CV] max_depth=7, min_samples_leaf=1, min_samples_split=9 ............\n",
      "[CV]  max_depth=7, min_samples_leaf=1, min_samples_split=9, score=0.520, total=   0.5s\n",
      "[CV] max_depth=7, min_samples_leaf=1, min_samples_split=27 ...........\n",
      "[CV]  max_depth=7, min_samples_leaf=1, min_samples_split=27, score=0.520, total=   0.4s\n",
      "[CV] max_depth=7, min_samples_leaf=1, min_samples_split=27 ...........\n",
      "[CV]  max_depth=7, min_samples_leaf=1, min_samples_split=27, score=0.629, total=   0.4s\n",
      "[CV] max_depth=7, min_samples_leaf=1, min_samples_split=27 ...........\n",
      "[CV]  max_depth=7, min_samples_leaf=1, min_samples_split=27, score=0.688, total=   0.4s\n",
      "[CV] max_depth=7, min_samples_leaf=1, min_samples_split=27 ...........\n",
      "[CV]  max_depth=7, min_samples_leaf=1, min_samples_split=27, score=0.355, total=   0.4s\n",
      "[CV] max_depth=7, min_samples_leaf=1, min_samples_split=27 ...........\n",
      "[CV]  max_depth=7, min_samples_leaf=1, min_samples_split=27, score=0.523, total=   0.4s\n",
      "[CV] max_depth=7, min_samples_leaf=1, min_samples_split=81 ...........\n",
      "[CV]  max_depth=7, min_samples_leaf=1, min_samples_split=81, score=0.512, total=   0.4s\n",
      "[CV] max_depth=7, min_samples_leaf=1, min_samples_split=81 ...........\n",
      "[CV]  max_depth=7, min_samples_leaf=1, min_samples_split=81, score=0.630, total=   0.4s\n",
      "[CV] max_depth=7, min_samples_leaf=1, min_samples_split=81 ...........\n",
      "[CV]  max_depth=7, min_samples_leaf=1, min_samples_split=81, score=0.684, total=   0.4s\n",
      "[CV] max_depth=7, min_samples_leaf=1, min_samples_split=81 ...........\n",
      "[CV]  max_depth=7, min_samples_leaf=1, min_samples_split=81, score=0.352, total=   0.4s\n",
      "[CV] max_depth=7, min_samples_leaf=1, min_samples_split=81 ...........\n",
      "[CV]  max_depth=7, min_samples_leaf=1, min_samples_split=81, score=0.522, total=   0.4s\n",
      "[CV] max_depth=7, min_samples_leaf=3, min_samples_split=3 ............\n",
      "[CV]  max_depth=7, min_samples_leaf=3, min_samples_split=3, score=0.519, total=   0.5s\n",
      "[CV] max_depth=7, min_samples_leaf=3, min_samples_split=3 ............\n",
      "[CV]  max_depth=7, min_samples_leaf=3, min_samples_split=3, score=0.628, total=   0.5s\n",
      "[CV] max_depth=7, min_samples_leaf=3, min_samples_split=3 ............\n"
     ]
    },
    {
     "name": "stdout",
     "output_type": "stream",
     "text": [
      "[CV]  max_depth=7, min_samples_leaf=3, min_samples_split=3, score=0.687, total=   0.5s\n",
      "[CV] max_depth=7, min_samples_leaf=3, min_samples_split=3 ............\n",
      "[CV]  max_depth=7, min_samples_leaf=3, min_samples_split=3, score=0.351, total=   0.5s\n",
      "[CV] max_depth=7, min_samples_leaf=3, min_samples_split=3 ............\n",
      "[CV]  max_depth=7, min_samples_leaf=3, min_samples_split=3, score=0.522, total=   0.4s\n",
      "[CV] max_depth=7, min_samples_leaf=3, min_samples_split=9 ............\n",
      "[CV]  max_depth=7, min_samples_leaf=3, min_samples_split=9, score=0.517, total=   0.5s\n",
      "[CV] max_depth=7, min_samples_leaf=3, min_samples_split=9 ............\n",
      "[CV]  max_depth=7, min_samples_leaf=3, min_samples_split=9, score=0.630, total=   0.4s\n",
      "[CV] max_depth=7, min_samples_leaf=3, min_samples_split=9 ............\n",
      "[CV]  max_depth=7, min_samples_leaf=3, min_samples_split=9, score=0.681, total=   0.4s\n",
      "[CV] max_depth=7, min_samples_leaf=3, min_samples_split=9 ............\n",
      "[CV]  max_depth=7, min_samples_leaf=3, min_samples_split=9, score=0.352, total=   0.5s\n",
      "[CV] max_depth=7, min_samples_leaf=3, min_samples_split=9 ............\n",
      "[CV]  max_depth=7, min_samples_leaf=3, min_samples_split=9, score=0.522, total=   0.5s\n",
      "[CV] max_depth=7, min_samples_leaf=3, min_samples_split=27 ...........\n",
      "[CV]  max_depth=7, min_samples_leaf=3, min_samples_split=27, score=0.519, total=   0.4s\n",
      "[CV] max_depth=7, min_samples_leaf=3, min_samples_split=27 ...........\n",
      "[CV]  max_depth=7, min_samples_leaf=3, min_samples_split=27, score=0.630, total=   0.4s\n",
      "[CV] max_depth=7, min_samples_leaf=3, min_samples_split=27 ...........\n",
      "[CV]  max_depth=7, min_samples_leaf=3, min_samples_split=27, score=0.687, total=   0.4s\n",
      "[CV] max_depth=7, min_samples_leaf=3, min_samples_split=27 ...........\n",
      "[CV]  max_depth=7, min_samples_leaf=3, min_samples_split=27, score=0.351, total=   0.4s\n",
      "[CV] max_depth=7, min_samples_leaf=3, min_samples_split=27 ...........\n",
      "[CV]  max_depth=7, min_samples_leaf=3, min_samples_split=27, score=0.523, total=   0.5s\n",
      "[CV] max_depth=7, min_samples_leaf=3, min_samples_split=81 ...........\n",
      "[CV]  max_depth=7, min_samples_leaf=3, min_samples_split=81, score=0.510, total=   0.4s\n",
      "[CV] max_depth=7, min_samples_leaf=3, min_samples_split=81 ...........\n",
      "[CV]  max_depth=7, min_samples_leaf=3, min_samples_split=81, score=0.629, total=   0.4s\n",
      "[CV] max_depth=7, min_samples_leaf=3, min_samples_split=81 ...........\n",
      "[CV]  max_depth=7, min_samples_leaf=3, min_samples_split=81, score=0.683, total=   0.4s\n",
      "[CV] max_depth=7, min_samples_leaf=3, min_samples_split=81 ...........\n",
      "[CV]  max_depth=7, min_samples_leaf=3, min_samples_split=81, score=0.350, total=   0.4s\n",
      "[CV] max_depth=7, min_samples_leaf=3, min_samples_split=81 ...........\n",
      "[CV]  max_depth=7, min_samples_leaf=3, min_samples_split=81, score=0.521, total=   0.4s\n",
      "[CV] max_depth=7, min_samples_leaf=9, min_samples_split=3 ............\n",
      "[CV]  max_depth=7, min_samples_leaf=9, min_samples_split=3, score=0.512, total=   0.5s\n",
      "[CV] max_depth=7, min_samples_leaf=9, min_samples_split=3 ............\n",
      "[CV]  max_depth=7, min_samples_leaf=9, min_samples_split=3, score=0.627, total=   0.5s\n",
      "[CV] max_depth=7, min_samples_leaf=9, min_samples_split=3 ............\n",
      "[CV]  max_depth=7, min_samples_leaf=9, min_samples_split=3, score=0.682, total=   0.4s\n",
      "[CV] max_depth=7, min_samples_leaf=9, min_samples_split=3 ............\n",
      "[CV]  max_depth=7, min_samples_leaf=9, min_samples_split=3, score=0.346, total=   0.4s\n",
      "[CV] max_depth=7, min_samples_leaf=9, min_samples_split=3 ............\n",
      "[CV]  max_depth=7, min_samples_leaf=9, min_samples_split=3, score=0.517, total=   0.4s\n",
      "[CV] max_depth=7, min_samples_leaf=9, min_samples_split=9 ............\n",
      "[CV]  max_depth=7, min_samples_leaf=9, min_samples_split=9, score=0.512, total=   0.4s\n",
      "[CV] max_depth=7, min_samples_leaf=9, min_samples_split=9 ............\n",
      "[CV]  max_depth=7, min_samples_leaf=9, min_samples_split=9, score=0.627, total=   0.4s\n",
      "[CV] max_depth=7, min_samples_leaf=9, min_samples_split=9 ............\n",
      "[CV]  max_depth=7, min_samples_leaf=9, min_samples_split=9, score=0.682, total=   0.4s\n",
      "[CV] max_depth=7, min_samples_leaf=9, min_samples_split=9 ............\n",
      "[CV]  max_depth=7, min_samples_leaf=9, min_samples_split=9, score=0.346, total=   0.4s\n",
      "[CV] max_depth=7, min_samples_leaf=9, min_samples_split=9 ............\n",
      "[CV]  max_depth=7, min_samples_leaf=9, min_samples_split=9, score=0.517, total=   0.5s\n",
      "[CV] max_depth=7, min_samples_leaf=9, min_samples_split=27 ...........\n",
      "[CV]  max_depth=7, min_samples_leaf=9, min_samples_split=27, score=0.511, total=   0.4s\n",
      "[CV] max_depth=7, min_samples_leaf=9, min_samples_split=27 ...........\n",
      "[CV]  max_depth=7, min_samples_leaf=9, min_samples_split=27, score=0.628, total=   0.4s\n",
      "[CV] max_depth=7, min_samples_leaf=9, min_samples_split=27 ...........\n",
      "[CV]  max_depth=7, min_samples_leaf=9, min_samples_split=27, score=0.684, total=   0.5s\n",
      "[CV] max_depth=7, min_samples_leaf=9, min_samples_split=27 ...........\n",
      "[CV]  max_depth=7, min_samples_leaf=9, min_samples_split=27, score=0.349, total=   0.4s\n",
      "[CV] max_depth=7, min_samples_leaf=9, min_samples_split=27 ...........\n",
      "[CV]  max_depth=7, min_samples_leaf=9, min_samples_split=27, score=0.520, total=   0.4s\n",
      "[CV] max_depth=7, min_samples_leaf=9, min_samples_split=81 ...........\n",
      "[CV]  max_depth=7, min_samples_leaf=9, min_samples_split=81, score=0.502, total=   0.4s\n",
      "[CV] max_depth=7, min_samples_leaf=9, min_samples_split=81 ...........\n",
      "[CV]  max_depth=7, min_samples_leaf=9, min_samples_split=81, score=0.625, total=   0.4s\n",
      "[CV] max_depth=7, min_samples_leaf=9, min_samples_split=81 ...........\n",
      "[CV]  max_depth=7, min_samples_leaf=9, min_samples_split=81, score=0.673, total=   0.4s\n",
      "[CV] max_depth=7, min_samples_leaf=9, min_samples_split=81 ...........\n",
      "[CV]  max_depth=7, min_samples_leaf=9, min_samples_split=81, score=0.344, total=   0.4s\n",
      "[CV] max_depth=7, min_samples_leaf=9, min_samples_split=81 ...........\n",
      "[CV]  max_depth=7, min_samples_leaf=9, min_samples_split=81, score=0.519, total=   0.4s\n",
      "[CV] max_depth=7, min_samples_leaf=27, min_samples_split=3 ...........\n",
      "[CV]  max_depth=7, min_samples_leaf=27, min_samples_split=3, score=0.499, total=   0.4s\n",
      "[CV] max_depth=7, min_samples_leaf=27, min_samples_split=3 ...........\n",
      "[CV]  max_depth=7, min_samples_leaf=27, min_samples_split=3, score=0.614, total=   0.4s\n",
      "[CV] max_depth=7, min_samples_leaf=27, min_samples_split=3 ...........\n",
      "[CV]  max_depth=7, min_samples_leaf=27, min_samples_split=3, score=0.668, total=   0.4s\n",
      "[CV] max_depth=7, min_samples_leaf=27, min_samples_split=3 ...........\n",
      "[CV]  max_depth=7, min_samples_leaf=27, min_samples_split=3, score=0.334, total=   0.4s\n",
      "[CV] max_depth=7, min_samples_leaf=27, min_samples_split=3 ...........\n",
      "[CV]  max_depth=7, min_samples_leaf=27, min_samples_split=3, score=0.512, total=   0.4s\n",
      "[CV] max_depth=7, min_samples_leaf=27, min_samples_split=9 ...........\n",
      "[CV]  max_depth=7, min_samples_leaf=27, min_samples_split=9, score=0.499, total=   0.4s\n",
      "[CV] max_depth=7, min_samples_leaf=27, min_samples_split=9 ...........\n",
      "[CV]  max_depth=7, min_samples_leaf=27, min_samples_split=9, score=0.614, total=   0.4s\n",
      "[CV] max_depth=7, min_samples_leaf=27, min_samples_split=9 ...........\n",
      "[CV]  max_depth=7, min_samples_leaf=27, min_samples_split=9, score=0.668, total=   0.4s\n",
      "[CV] max_depth=7, min_samples_leaf=27, min_samples_split=9 ...........\n",
      "[CV]  max_depth=7, min_samples_leaf=27, min_samples_split=9, score=0.334, total=   0.4s\n",
      "[CV] max_depth=7, min_samples_leaf=27, min_samples_split=9 ...........\n",
      "[CV]  max_depth=7, min_samples_leaf=27, min_samples_split=9, score=0.512, total=   0.4s\n",
      "[CV] max_depth=7, min_samples_leaf=27, min_samples_split=27 ..........\n",
      "[CV]  max_depth=7, min_samples_leaf=27, min_samples_split=27, score=0.499, total=   0.4s\n",
      "[CV] max_depth=7, min_samples_leaf=27, min_samples_split=27 ..........\n",
      "[CV]  max_depth=7, min_samples_leaf=27, min_samples_split=27, score=0.614, total=   0.4s\n",
      "[CV] max_depth=7, min_samples_leaf=27, min_samples_split=27 ..........\n",
      "[CV]  max_depth=7, min_samples_leaf=27, min_samples_split=27, score=0.668, total=   0.4s\n",
      "[CV] max_depth=7, min_samples_leaf=27, min_samples_split=27 ..........\n",
      "[CV]  max_depth=7, min_samples_leaf=27, min_samples_split=27, score=0.334, total=   0.4s\n",
      "[CV] max_depth=7, min_samples_leaf=27, min_samples_split=27 ..........\n"
     ]
    },
    {
     "name": "stdout",
     "output_type": "stream",
     "text": [
      "[CV]  max_depth=7, min_samples_leaf=27, min_samples_split=27, score=0.512, total=   0.4s\n",
      "[CV] max_depth=7, min_samples_leaf=27, min_samples_split=81 ..........\n",
      "[CV]  max_depth=7, min_samples_leaf=27, min_samples_split=81, score=0.492, total=   0.4s\n",
      "[CV] max_depth=7, min_samples_leaf=27, min_samples_split=81 ..........\n",
      "[CV]  max_depth=7, min_samples_leaf=27, min_samples_split=81, score=0.610, total=   0.4s\n",
      "[CV] max_depth=7, min_samples_leaf=27, min_samples_split=81 ..........\n",
      "[CV]  max_depth=7, min_samples_leaf=27, min_samples_split=81, score=0.657, total=   0.4s\n",
      "[CV] max_depth=7, min_samples_leaf=27, min_samples_split=81 ..........\n",
      "[CV]  max_depth=7, min_samples_leaf=27, min_samples_split=81, score=0.335, total=   0.4s\n",
      "[CV] max_depth=7, min_samples_leaf=27, min_samples_split=81 ..........\n",
      "[CV]  max_depth=7, min_samples_leaf=27, min_samples_split=81, score=0.512, total=   0.4s\n"
     ]
    },
    {
     "name": "stderr",
     "output_type": "stream",
     "text": [
      "[Parallel(n_jobs=1)]: Done 320 out of 320 | elapsed:  1.9min finished\n"
     ]
    },
    {
     "data": {
      "text/plain": [
       "GridSearchCV(cv=None, error_score=nan,\n",
       "             estimator=RandomForestRegressor(bootstrap=True, ccp_alpha=0.0,\n",
       "                                             criterion='mse', max_depth=None,\n",
       "                                             max_features=32,\n",
       "                                             max_leaf_nodes=None,\n",
       "                                             max_samples=None,\n",
       "                                             min_impurity_decrease=0.0,\n",
       "                                             min_impurity_split=None,\n",
       "                                             min_samples_leaf=1,\n",
       "                                             min_samples_split=2,\n",
       "                                             min_weight_fraction_leaf=0.0,\n",
       "                                             n_estimators=100, n_jobs=None,\n",
       "                                             oob_score=False, random_state=1,\n",
       "                                             verbose=0, warm_start=True),\n",
       "             iid='deprecated', n_jobs=None,\n",
       "             param_grid={'max_depth': array([1, 3, 5, 7]),\n",
       "                         'min_samples_leaf': [1, 3, 9, 27],\n",
       "                         'min_samples_split': [3, 9, 27, 81]},\n",
       "             pre_dispatch='2*n_jobs', refit=True, return_train_score=False,\n",
       "             scoring=make_scorer(r2_score), verbose=3)"
      ]
     },
     "execution_count": 22,
     "metadata": {},
     "output_type": "execute_result"
    }
   ],
   "source": [
    "gs.fit(x1,y1)"
   ]
  },
  {
   "cell_type": "code",
   "execution_count": 23,
   "metadata": {
    "colab": {
     "base_uri": "https://localhost:8080/",
     "height": 34
    },
    "colab_type": "code",
    "id": "dz4FZbLCrB2p",
    "outputId": "686e9a6f-f969-41eb-b891-464c44c6df47"
   },
   "outputs": [
    {
     "data": {
      "text/plain": [
       "{'max_depth': 7, 'min_samples_leaf': 1, 'min_samples_split': 27}"
      ]
     },
     "execution_count": 23,
     "metadata": {},
     "output_type": "execute_result"
    }
   ],
   "source": [
    "gs.best_params_"
   ]
  },
  {
   "cell_type": "code",
   "execution_count": 28,
   "metadata": {
    "colab": {
     "base_uri": "https://localhost:8080/",
     "height": 136
    },
    "colab_type": "code",
    "id": "4n6wPEQ3uN9q",
    "outputId": "9506fa48-556a-4bfb-a477-3396c1ae5ca9"
   },
   "outputs": [
    {
     "data": {
      "text/plain": [
       "RandomForestRegressor(bootstrap=True, ccp_alpha=0.0, criterion='mse',\n",
       "                      max_depth=7, max_features=32, max_leaf_nodes=None,\n",
       "                      max_samples=None, min_impurity_decrease=0.0,\n",
       "                      min_impurity_split=None, min_samples_leaf=1,\n",
       "                      min_samples_split=27, min_weight_fraction_leaf=0.0,\n",
       "                      n_estimators=500, n_jobs=None, oob_score=False,\n",
       "                      random_state=1, verbose=0, warm_start=True)"
      ]
     },
     "execution_count": 28,
     "metadata": {},
     "output_type": "execute_result"
    }
   ],
   "source": [
    "RF_hp = RandomForestRegressor(n_estimators = 500,\n",
    "                              max_features = 32,\n",
    "                              max_depth = 7,\n",
    "                              min_samples_leaf = 1,\n",
    "                              min_samples_split = 27,\n",
    "                              random_state = 1,\n",
    "                              warm_start = True\n",
    ")\n",
    "RF_hp.fit(x1, y1)"
   ]
  },
  {
   "cell_type": "code",
   "execution_count": 29,
   "metadata": {
    "colab": {
     "base_uri": "https://localhost:8080/",
     "height": 34
    },
    "colab_type": "code",
    "id": "j2ECLecyvkdG",
    "outputId": "75b6d4a2-1761-4fdf-8347-90ccfa9f6dcb"
   },
   "outputs": [
    {
     "data": {
      "text/plain": [
       "0.5709316091911154"
      ]
     },
     "execution_count": 29,
     "metadata": {},
     "output_type": "execute_result"
    }
   ],
   "source": [
    "RF_hp.score(x1, y1)"
   ]
  },
  {
   "cell_type": "markdown",
   "metadata": {
    "colab_type": "text",
    "id": "a9yW3IraaoTd"
   },
   "source": [
    "__Задание 2.__\n",
    "\n",
    "Теперь настроим градиентный бустинг, используя ту же выборку x1, y1.\n",
    "\n",
    "1.  __(1.5 балла)__ Запустите кросс-валидацию для GradientBoostingRegressor по n_estimators и learning_rate. Постройте двумерный график или несколько одномерных (например, график качество-число деревьев при разных значениях длины шага). При построении графиков используйте логарифмическую шкалу по оси абсцисс (вызовите np.log2 или используйте plt.xscale(\"log\")). Прокомментируйте график: ожидаете ли вы такое поведение, или результат нестандартный? Выберите значения для использования при дальнейшей настройке и для финального обучения модели.\n",
    "1.  __(1.25 балла)__ Постройте график зависимости качества от max_depth на кросс-валидации. Прокомментируйте график: ожидаете ли вы такое поведение, или результат нестандартный? Выберите оптимальное значение гиперпараметра.\n",
    "1.  __(1.25 балла)__ Выберите оптимальные значения для min_samples_split, min_samples_leaf, max_features с помощью кросс-валидации. В этом пункте не нужно строить график. Обратите внимание, что в этом пункте нужно исползьзовать ранее выбранные гиперпараметры.\n",
    "1.  __(0.5 балла)__ Обучите итоговую модель с выбранными значениями гиперпараметров на всей выборке x1, y1.\n",
    "\n",
    "Примеры построения трехмерных графиков [здесь](https://matplotlib.org/mpl_toolkits/mplot3d/tutorial.html)."
   ]
  },
  {
   "cell_type": "code",
   "execution_count": 24,
   "metadata": {
    "colab": {},
    "colab_type": "code",
    "id": "TBtrQ30saoTd"
   },
   "outputs": [],
   "source": [
    "# базовая шкала для числа деревьев и длины шага\n",
    "param_grid = {\"n_estimators\":2**np.arange(10), \"learning_rate\":0.1**np.arange(5)}\n",
    "gs = GridSearchCV(GradientBoostingRegressor(random_state=1, warm_start=True), param_grid, make_scorer(r2_score), verbose=3)"
   ]
  },
  {
   "cell_type": "code",
   "execution_count": 25,
   "metadata": {
    "colab": {
     "base_uri": "https://localhost:8080/",
     "height": 1000
    },
    "colab_type": "code",
    "id": "JMlmsx-66Izh",
    "outputId": "e4534f17-16b4-4cfc-8e38-565d6f1c8795"
   },
   "outputs": [
    {
     "name": "stdout",
     "output_type": "stream",
     "text": [
      "Fitting 5 folds for each of 50 candidates, totalling 250 fits\n",
      "[CV] learning_rate=1.0, n_estimators=1 ...............................\n",
      "[CV] ... learning_rate=1.0, n_estimators=1, score=0.524, total=   0.0s\n",
      "[CV] learning_rate=1.0, n_estimators=1 ...............................\n",
      "[CV] ... learning_rate=1.0, n_estimators=1, score=0.627, total=   0.0s\n",
      "[CV] learning_rate=1.0, n_estimators=1 ...............................\n",
      "[CV] ... learning_rate=1.0, n_estimators=1, score=0.702, total=   0.0s\n",
      "[CV] learning_rate=1.0, n_estimators=1 ...............................\n",
      "[CV] ... learning_rate=1.0, n_estimators=1, score=0.381, total=   0.0s\n",
      "[CV] learning_rate=1.0, n_estimators=1 ...............................\n",
      "[CV] ... learning_rate=1.0, n_estimators=1, score=0.488, total=   0.0s\n",
      "[CV] learning_rate=1.0, n_estimators=2 ...............................\n"
     ]
    },
    {
     "name": "stderr",
     "output_type": "stream",
     "text": [
      "[Parallel(n_jobs=1)]: Using backend SequentialBackend with 1 concurrent workers.\n",
      "[Parallel(n_jobs=1)]: Done   1 out of   1 | elapsed:    0.0s remaining:    0.0s\n",
      "[Parallel(n_jobs=1)]: Done   2 out of   2 | elapsed:    0.0s remaining:    0.0s\n"
     ]
    },
    {
     "name": "stdout",
     "output_type": "stream",
     "text": [
      "[CV] ... learning_rate=1.0, n_estimators=2, score=0.528, total=   0.1s\n",
      "[CV] learning_rate=1.0, n_estimators=2 ...............................\n",
      "[CV] ... learning_rate=1.0, n_estimators=2, score=0.627, total=   0.1s\n",
      "[CV] learning_rate=1.0, n_estimators=2 ...............................\n",
      "[CV] ... learning_rate=1.0, n_estimators=2, score=0.680, total=   0.0s\n",
      "[CV] learning_rate=1.0, n_estimators=2 ...............................\n",
      "[CV] ... learning_rate=1.0, n_estimators=2, score=0.368, total=   0.0s\n",
      "[CV] learning_rate=1.0, n_estimators=2 ...............................\n",
      "[CV] ... learning_rate=1.0, n_estimators=2, score=0.492, total=   0.0s\n",
      "[CV] learning_rate=1.0, n_estimators=4 ...............................\n",
      "[CV] ... learning_rate=1.0, n_estimators=4, score=0.527, total=   0.1s\n",
      "[CV] learning_rate=1.0, n_estimators=4 ...............................\n",
      "[CV] ... learning_rate=1.0, n_estimators=4, score=0.617, total=   0.1s\n",
      "[CV] learning_rate=1.0, n_estimators=4 ...............................\n",
      "[CV] ... learning_rate=1.0, n_estimators=4, score=0.670, total=   0.1s\n",
      "[CV] learning_rate=1.0, n_estimators=4 ...............................\n",
      "[CV] ... learning_rate=1.0, n_estimators=4, score=0.096, total=   0.1s\n",
      "[CV] learning_rate=1.0, n_estimators=4 ...............................\n",
      "[CV] ... learning_rate=1.0, n_estimators=4, score=0.490, total=   0.1s\n",
      "[CV] learning_rate=1.0, n_estimators=8 ...............................\n",
      "[CV] ... learning_rate=1.0, n_estimators=8, score=0.511, total=   0.1s\n",
      "[CV] learning_rate=1.0, n_estimators=8 ...............................\n",
      "[CV] ... learning_rate=1.0, n_estimators=8, score=0.581, total=   0.1s\n",
      "[CV] learning_rate=1.0, n_estimators=8 ...............................\n",
      "[CV] ... learning_rate=1.0, n_estimators=8, score=0.459, total=   0.2s\n",
      "[CV] learning_rate=1.0, n_estimators=8 ...............................\n",
      "[CV] ... learning_rate=1.0, n_estimators=8, score=0.074, total=   0.1s\n",
      "[CV] learning_rate=1.0, n_estimators=8 ...............................\n",
      "[CV] ... learning_rate=1.0, n_estimators=8, score=0.444, total=   0.1s\n",
      "[CV] learning_rate=1.0, n_estimators=16 ..............................\n",
      "[CV] .. learning_rate=1.0, n_estimators=16, score=0.416, total=   0.2s\n",
      "[CV] learning_rate=1.0, n_estimators=16 ..............................\n",
      "[CV] .. learning_rate=1.0, n_estimators=16, score=0.530, total=   0.2s\n",
      "[CV] learning_rate=1.0, n_estimators=16 ..............................\n",
      "[CV] .. learning_rate=1.0, n_estimators=16, score=0.426, total=   0.2s\n",
      "[CV] learning_rate=1.0, n_estimators=16 ..............................\n",
      "[CV] .. learning_rate=1.0, n_estimators=16, score=0.056, total=   0.2s\n",
      "[CV] learning_rate=1.0, n_estimators=16 ..............................\n",
      "[CV] .. learning_rate=1.0, n_estimators=16, score=0.353, total=   0.2s\n",
      "[CV] learning_rate=1.0, n_estimators=32 ..............................\n",
      "[CV] .. learning_rate=1.0, n_estimators=32, score=0.372, total=   0.5s\n",
      "[CV] learning_rate=1.0, n_estimators=32 ..............................\n",
      "[CV] .. learning_rate=1.0, n_estimators=32, score=0.504, total=   0.5s\n",
      "[CV] learning_rate=1.0, n_estimators=32 ..............................\n",
      "[CV] .. learning_rate=1.0, n_estimators=32, score=0.358, total=   0.5s\n",
      "[CV] learning_rate=1.0, n_estimators=32 ..............................\n",
      "[CV] .. learning_rate=1.0, n_estimators=32, score=0.014, total=   0.5s\n",
      "[CV] learning_rate=1.0, n_estimators=32 ..............................\n",
      "[CV] .. learning_rate=1.0, n_estimators=32, score=0.321, total=   0.5s\n",
      "[CV] learning_rate=1.0, n_estimators=64 ..............................\n",
      "[CV] .. learning_rate=1.0, n_estimators=64, score=0.306, total=   0.9s\n",
      "[CV] learning_rate=1.0, n_estimators=64 ..............................\n",
      "[CV] .. learning_rate=1.0, n_estimators=64, score=0.413, total=   0.9s\n",
      "[CV] learning_rate=1.0, n_estimators=64 ..............................\n",
      "[CV] .. learning_rate=1.0, n_estimators=64, score=0.228, total=   0.9s\n",
      "[CV] learning_rate=1.0, n_estimators=64 ..............................\n",
      "[CV] . learning_rate=1.0, n_estimators=64, score=-0.012, total=   0.9s\n",
      "[CV] learning_rate=1.0, n_estimators=64 ..............................\n",
      "[CV] .. learning_rate=1.0, n_estimators=64, score=0.084, total=   0.9s\n",
      "[CV] learning_rate=1.0, n_estimators=128 .............................\n",
      "[CV] . learning_rate=1.0, n_estimators=128, score=0.189, total=   1.8s\n",
      "[CV] learning_rate=1.0, n_estimators=128 .............................\n",
      "[CV] . learning_rate=1.0, n_estimators=128, score=0.303, total=   1.8s\n",
      "[CV] learning_rate=1.0, n_estimators=128 .............................\n",
      "[CV] . learning_rate=1.0, n_estimators=128, score=0.129, total=   1.8s\n",
      "[CV] learning_rate=1.0, n_estimators=128 .............................\n",
      "[CV]  learning_rate=1.0, n_estimators=128, score=-0.099, total=   1.8s\n",
      "[CV] learning_rate=1.0, n_estimators=128 .............................\n",
      "[CV]  learning_rate=1.0, n_estimators=128, score=-0.021, total=   1.8s\n",
      "[CV] learning_rate=1.0, n_estimators=256 .............................\n",
      "[CV] . learning_rate=1.0, n_estimators=256, score=0.156, total=   3.5s\n",
      "[CV] learning_rate=1.0, n_estimators=256 .............................\n",
      "[CV] . learning_rate=1.0, n_estimators=256, score=0.241, total=   3.5s\n",
      "[CV] learning_rate=1.0, n_estimators=256 .............................\n",
      "[CV] . learning_rate=1.0, n_estimators=256, score=0.048, total=   3.5s\n",
      "[CV] learning_rate=1.0, n_estimators=256 .............................\n",
      "[CV]  learning_rate=1.0, n_estimators=256, score=-0.150, total=   3.5s\n",
      "[CV] learning_rate=1.0, n_estimators=256 .............................\n",
      "[CV]  learning_rate=1.0, n_estimators=256, score=-0.055, total=   3.5s\n",
      "[CV] learning_rate=1.0, n_estimators=512 .............................\n",
      "[CV] . learning_rate=1.0, n_estimators=512, score=0.106, total=   7.0s\n",
      "[CV] learning_rate=1.0, n_estimators=512 .............................\n",
      "[CV] . learning_rate=1.0, n_estimators=512, score=0.211, total=   7.0s\n",
      "[CV] learning_rate=1.0, n_estimators=512 .............................\n",
      "[CV]  learning_rate=1.0, n_estimators=512, score=-0.018, total=   7.1s\n",
      "[CV] learning_rate=1.0, n_estimators=512 .............................\n",
      "[CV]  learning_rate=1.0, n_estimators=512, score=-0.199, total=   7.0s\n",
      "[CV] learning_rate=1.0, n_estimators=512 .............................\n",
      "[CV]  learning_rate=1.0, n_estimators=512, score=-0.079, total=   7.0s\n",
      "[CV] learning_rate=0.1, n_estimators=1 ...............................\n",
      "[CV] ... learning_rate=0.1, n_estimators=1, score=0.096, total=   0.0s\n",
      "[CV] learning_rate=0.1, n_estimators=1 ...............................\n",
      "[CV] ... learning_rate=0.1, n_estimators=1, score=0.118, total=   0.0s\n",
      "[CV] learning_rate=0.1, n_estimators=1 ...............................\n",
      "[CV] ... learning_rate=0.1, n_estimators=1, score=0.131, total=   0.0s\n",
      "[CV] learning_rate=0.1, n_estimators=1 ...............................\n",
      "[CV] ... learning_rate=0.1, n_estimators=1, score=0.072, total=   0.0s\n",
      "[CV] learning_rate=0.1, n_estimators=1 ...............................\n",
      "[CV] ... learning_rate=0.1, n_estimators=1, score=0.106, total=   0.0s\n",
      "[CV] learning_rate=0.1, n_estimators=2 ...............................\n",
      "[CV] ... learning_rate=0.1, n_estimators=2, score=0.174, total=   0.0s\n",
      "[CV] learning_rate=0.1, n_estimators=2 ...............................\n",
      "[CV] ... learning_rate=0.1, n_estimators=2, score=0.216, total=   0.1s\n",
      "[CV] learning_rate=0.1, n_estimators=2 ...............................\n",
      "[CV] ... learning_rate=0.1, n_estimators=2, score=0.239, total=   0.1s\n",
      "[CV] learning_rate=0.1, n_estimators=2 ...............................\n",
      "[CV] ... learning_rate=0.1, n_estimators=2, score=0.132, total=   0.0s\n",
      "[CV] learning_rate=0.1, n_estimators=2 ...............................\n",
      "[CV] ... learning_rate=0.1, n_estimators=2, score=0.192, total=   0.1s\n",
      "[CV] learning_rate=0.1, n_estimators=4 ...............................\n",
      "[CV] ... learning_rate=0.1, n_estimators=4, score=0.291, total=   0.1s\n",
      "[CV] learning_rate=0.1, n_estimators=4 ...............................\n",
      "[CV] ... learning_rate=0.1, n_estimators=4, score=0.358, total=   0.1s\n",
      "[CV] learning_rate=0.1, n_estimators=4 ...............................\n",
      "[CV] ... learning_rate=0.1, n_estimators=4, score=0.399, total=   0.1s\n",
      "[CV] learning_rate=0.1, n_estimators=4 ...............................\n"
     ]
    },
    {
     "name": "stdout",
     "output_type": "stream",
     "text": [
      "[CV] ... learning_rate=0.1, n_estimators=4, score=0.221, total=   0.1s\n",
      "[CV] learning_rate=0.1, n_estimators=4 ...............................\n",
      "[CV] ... learning_rate=0.1, n_estimators=4, score=0.314, total=   0.1s\n",
      "[CV] learning_rate=0.1, n_estimators=8 ...............................\n",
      "[CV] ... learning_rate=0.1, n_estimators=8, score=0.420, total=   0.1s\n",
      "[CV] learning_rate=0.1, n_estimators=8 ...............................\n",
      "[CV] ... learning_rate=0.1, n_estimators=8, score=0.515, total=   0.1s\n",
      "[CV] learning_rate=0.1, n_estimators=8 ...............................\n",
      "[CV] ... learning_rate=0.1, n_estimators=8, score=0.573, total=   0.1s\n",
      "[CV] learning_rate=0.1, n_estimators=8 ...............................\n",
      "[CV] ... learning_rate=0.1, n_estimators=8, score=0.316, total=   0.1s\n",
      "[CV] learning_rate=0.1, n_estimators=8 ...............................\n",
      "[CV] ... learning_rate=0.1, n_estimators=8, score=0.441, total=   0.1s\n",
      "[CV] learning_rate=0.1, n_estimators=16 ..............................\n",
      "[CV] .. learning_rate=0.1, n_estimators=16, score=0.503, total=   0.2s\n",
      "[CV] learning_rate=0.1, n_estimators=16 ..............................\n",
      "[CV] .. learning_rate=0.1, n_estimators=16, score=0.612, total=   0.2s\n",
      "[CV] learning_rate=0.1, n_estimators=16 ..............................\n",
      "[CV] .. learning_rate=0.1, n_estimators=16, score=0.675, total=   0.2s\n",
      "[CV] learning_rate=0.1, n_estimators=16 ..............................\n",
      "[CV] .. learning_rate=0.1, n_estimators=16, score=0.369, total=   0.2s\n",
      "[CV] learning_rate=0.1, n_estimators=16 ..............................\n",
      "[CV] .. learning_rate=0.1, n_estimators=16, score=0.508, total=   0.2s\n",
      "[CV] learning_rate=0.1, n_estimators=32 ..............................\n",
      "[CV] .. learning_rate=0.1, n_estimators=32, score=0.524, total=   0.4s\n",
      "[CV] learning_rate=0.1, n_estimators=32 ..............................\n",
      "[CV] .. learning_rate=0.1, n_estimators=32, score=0.633, total=   0.4s\n",
      "[CV] learning_rate=0.1, n_estimators=32 ..............................\n",
      "[CV] .. learning_rate=0.1, n_estimators=32, score=0.695, total=   0.5s\n",
      "[CV] learning_rate=0.1, n_estimators=32 ..............................\n",
      "[CV] .. learning_rate=0.1, n_estimators=32, score=0.375, total=   0.4s\n",
      "[CV] learning_rate=0.1, n_estimators=32 ..............................\n",
      "[CV] .. learning_rate=0.1, n_estimators=32, score=0.521, total=   0.5s\n",
      "[CV] learning_rate=0.1, n_estimators=64 ..............................\n",
      "[CV] .. learning_rate=0.1, n_estimators=64, score=0.526, total=   0.9s\n",
      "[CV] learning_rate=0.1, n_estimators=64 ..............................\n",
      "[CV] .. learning_rate=0.1, n_estimators=64, score=0.615, total=   0.9s\n",
      "[CV] learning_rate=0.1, n_estimators=64 ..............................\n",
      "[CV] .. learning_rate=0.1, n_estimators=64, score=0.688, total=   0.9s\n",
      "[CV] learning_rate=0.1, n_estimators=64 ..............................\n",
      "[CV] .. learning_rate=0.1, n_estimators=64, score=0.370, total=   0.9s\n",
      "[CV] learning_rate=0.1, n_estimators=64 ..............................\n",
      "[CV] .. learning_rate=0.1, n_estimators=64, score=0.524, total=   0.9s\n",
      "[CV] learning_rate=0.1, n_estimators=128 .............................\n",
      "[CV] . learning_rate=0.1, n_estimators=128, score=0.525, total=   1.7s\n",
      "[CV] learning_rate=0.1, n_estimators=128 .............................\n",
      "[CV] . learning_rate=0.1, n_estimators=128, score=0.597, total=   1.8s\n",
      "[CV] learning_rate=0.1, n_estimators=128 .............................\n",
      "[CV] . learning_rate=0.1, n_estimators=128, score=0.670, total=   1.8s\n",
      "[CV] learning_rate=0.1, n_estimators=128 .............................\n",
      "[CV] . learning_rate=0.1, n_estimators=128, score=0.348, total=   1.7s\n",
      "[CV] learning_rate=0.1, n_estimators=128 .............................\n",
      "[CV] . learning_rate=0.1, n_estimators=128, score=0.501, total=   1.8s\n",
      "[CV] learning_rate=0.1, n_estimators=256 .............................\n",
      "[CV] . learning_rate=0.1, n_estimators=256, score=0.491, total=   3.5s\n",
      "[CV] learning_rate=0.1, n_estimators=256 .............................\n",
      "[CV] . learning_rate=0.1, n_estimators=256, score=0.573, total=   3.5s\n",
      "[CV] learning_rate=0.1, n_estimators=256 .............................\n",
      "[CV] . learning_rate=0.1, n_estimators=256, score=0.651, total=   3.5s\n",
      "[CV] learning_rate=0.1, n_estimators=256 .............................\n",
      "[CV] . learning_rate=0.1, n_estimators=256, score=0.332, total=   3.5s\n",
      "[CV] learning_rate=0.1, n_estimators=256 .............................\n",
      "[CV] . learning_rate=0.1, n_estimators=256, score=0.464, total=   3.5s\n",
      "[CV] learning_rate=0.1, n_estimators=512 .............................\n",
      "[CV] . learning_rate=0.1, n_estimators=512, score=0.466, total=   7.0s\n",
      "[CV] learning_rate=0.1, n_estimators=512 .............................\n",
      "[CV] . learning_rate=0.1, n_estimators=512, score=0.532, total=   7.0s\n",
      "[CV] learning_rate=0.1, n_estimators=512 .............................\n",
      "[CV] . learning_rate=0.1, n_estimators=512, score=0.577, total=   7.1s\n",
      "[CV] learning_rate=0.1, n_estimators=512 .............................\n",
      "[CV] . learning_rate=0.1, n_estimators=512, score=0.316, total=   7.1s\n",
      "[CV] learning_rate=0.1, n_estimators=512 .............................\n",
      "[CV] . learning_rate=0.1, n_estimators=512, score=0.399, total=   7.0s\n",
      "[CV] learning_rate=0.010000000000000002, n_estimators=1 ..............\n",
      "[CV]  learning_rate=0.010000000000000002, n_estimators=1, score=0.010, total=   0.0s\n",
      "[CV] learning_rate=0.010000000000000002, n_estimators=1 ..............\n",
      "[CV]  learning_rate=0.010000000000000002, n_estimators=1, score=0.011, total=   0.0s\n",
      "[CV] learning_rate=0.010000000000000002, n_estimators=1 ..............\n",
      "[CV]  learning_rate=0.010000000000000002, n_estimators=1, score=0.010, total=   0.0s\n",
      "[CV] learning_rate=0.010000000000000002, n_estimators=1 ..............\n",
      "[CV]  learning_rate=0.010000000000000002, n_estimators=1, score=0.005, total=   0.0s\n",
      "[CV] learning_rate=0.010000000000000002, n_estimators=1 ..............\n",
      "[CV]  learning_rate=0.010000000000000002, n_estimators=1, score=0.010, total=   0.0s\n",
      "[CV] learning_rate=0.010000000000000002, n_estimators=2 ..............\n",
      "[CV]  learning_rate=0.010000000000000002, n_estimators=2, score=0.020, total=   0.0s\n",
      "[CV] learning_rate=0.010000000000000002, n_estimators=2 ..............\n",
      "[CV]  learning_rate=0.010000000000000002, n_estimators=2, score=0.024, total=   0.1s\n",
      "[CV] learning_rate=0.010000000000000002, n_estimators=2 ..............\n",
      "[CV]  learning_rate=0.010000000000000002, n_estimators=2, score=0.024, total=   0.1s\n",
      "[CV] learning_rate=0.010000000000000002, n_estimators=2 ..............\n",
      "[CV]  learning_rate=0.010000000000000002, n_estimators=2, score=0.013, total=   0.0s\n",
      "[CV] learning_rate=0.010000000000000002, n_estimators=2 ..............\n",
      "[CV]  learning_rate=0.010000000000000002, n_estimators=2, score=0.022, total=   0.0s\n",
      "[CV] learning_rate=0.010000000000000002, n_estimators=4 ..............\n",
      "[CV]  learning_rate=0.010000000000000002, n_estimators=4, score=0.039, total=   0.1s\n",
      "[CV] learning_rate=0.010000000000000002, n_estimators=4 ..............\n",
      "[CV]  learning_rate=0.010000000000000002, n_estimators=4, score=0.047, total=   0.1s\n",
      "[CV] learning_rate=0.010000000000000002, n_estimators=4 ..............\n",
      "[CV]  learning_rate=0.010000000000000002, n_estimators=4, score=0.051, total=   0.1s\n",
      "[CV] learning_rate=0.010000000000000002, n_estimators=4 ..............\n",
      "[CV]  learning_rate=0.010000000000000002, n_estimators=4, score=0.028, total=   0.1s\n",
      "[CV] learning_rate=0.010000000000000002, n_estimators=4 ..............\n",
      "[CV]  learning_rate=0.010000000000000002, n_estimators=4, score=0.043, total=   0.1s\n",
      "[CV] learning_rate=0.010000000000000002, n_estimators=8 ..............\n",
      "[CV]  learning_rate=0.010000000000000002, n_estimators=8, score=0.075, total=   0.1s\n",
      "[CV] learning_rate=0.010000000000000002, n_estimators=8 ..............\n",
      "[CV]  learning_rate=0.010000000000000002, n_estimators=8, score=0.092, total=   0.1s\n",
      "[CV] learning_rate=0.010000000000000002, n_estimators=8 ..............\n",
      "[CV]  learning_rate=0.010000000000000002, n_estimators=8, score=0.101, total=   0.1s\n",
      "[CV] learning_rate=0.010000000000000002, n_estimators=8 ..............\n",
      "[CV]  learning_rate=0.010000000000000002, n_estimators=8, score=0.056, total=   0.1s\n",
      "[CV] learning_rate=0.010000000000000002, n_estimators=8 ..............\n"
     ]
    },
    {
     "name": "stdout",
     "output_type": "stream",
     "text": [
      "[CV]  learning_rate=0.010000000000000002, n_estimators=8, score=0.083, total=   0.1s\n",
      "[CV] learning_rate=0.010000000000000002, n_estimators=16 .............\n",
      "[CV]  learning_rate=0.010000000000000002, n_estimators=16, score=0.139, total=   0.2s\n",
      "[CV] learning_rate=0.010000000000000002, n_estimators=16 .............\n",
      "[CV]  learning_rate=0.010000000000000002, n_estimators=16, score=0.172, total=   0.2s\n",
      "[CV] learning_rate=0.010000000000000002, n_estimators=16 .............\n",
      "[CV]  learning_rate=0.010000000000000002, n_estimators=16, score=0.191, total=   0.2s\n",
      "[CV] learning_rate=0.010000000000000002, n_estimators=16 .............\n",
      "[CV]  learning_rate=0.010000000000000002, n_estimators=16, score=0.105, total=   0.2s\n",
      "[CV] learning_rate=0.010000000000000002, n_estimators=16 .............\n",
      "[CV]  learning_rate=0.010000000000000002, n_estimators=16, score=0.154, total=   0.2s\n",
      "[CV] learning_rate=0.010000000000000002, n_estimators=32 .............\n",
      "[CV]  learning_rate=0.010000000000000002, n_estimators=32, score=0.241, total=   0.4s\n",
      "[CV] learning_rate=0.010000000000000002, n_estimators=32 .............\n",
      "[CV]  learning_rate=0.010000000000000002, n_estimators=32, score=0.298, total=   0.5s\n",
      "[CV] learning_rate=0.010000000000000002, n_estimators=32 .............\n",
      "[CV]  learning_rate=0.010000000000000002, n_estimators=32, score=0.332, total=   0.4s\n",
      "[CV] learning_rate=0.010000000000000002, n_estimators=32 .............\n",
      "[CV]  learning_rate=0.010000000000000002, n_estimators=32, score=0.184, total=   0.4s\n",
      "[CV] learning_rate=0.010000000000000002, n_estimators=32 .............\n",
      "[CV]  learning_rate=0.010000000000000002, n_estimators=32, score=0.263, total=   0.4s\n",
      "[CV] learning_rate=0.010000000000000002, n_estimators=64 .............\n",
      "[CV]  learning_rate=0.010000000000000002, n_estimators=64, score=0.371, total=   0.8s\n",
      "[CV] learning_rate=0.010000000000000002, n_estimators=64 .............\n",
      "[CV]  learning_rate=0.010000000000000002, n_estimators=64, score=0.457, total=   0.9s\n",
      "[CV] learning_rate=0.010000000000000002, n_estimators=64 .............\n",
      "[CV]  learning_rate=0.010000000000000002, n_estimators=64, score=0.509, total=   0.9s\n",
      "[CV] learning_rate=0.010000000000000002, n_estimators=64 .............\n",
      "[CV]  learning_rate=0.010000000000000002, n_estimators=64, score=0.281, total=   0.8s\n",
      "[CV] learning_rate=0.010000000000000002, n_estimators=64 .............\n",
      "[CV]  learning_rate=0.010000000000000002, n_estimators=64, score=0.395, total=   0.9s\n",
      "[CV] learning_rate=0.010000000000000002, n_estimators=128 ............\n",
      "[CV]  learning_rate=0.010000000000000002, n_estimators=128, score=0.479, total=   1.7s\n",
      "[CV] learning_rate=0.010000000000000002, n_estimators=128 ............\n",
      "[CV]  learning_rate=0.010000000000000002, n_estimators=128, score=0.587, total=   1.7s\n",
      "[CV] learning_rate=0.010000000000000002, n_estimators=128 ............\n",
      "[CV]  learning_rate=0.010000000000000002, n_estimators=128, score=0.649, total=   2.0s\n",
      "[CV] learning_rate=0.010000000000000002, n_estimators=128 ............\n",
      "[CV]  learning_rate=0.010000000000000002, n_estimators=128, score=0.356, total=   1.7s\n",
      "[CV] learning_rate=0.010000000000000002, n_estimators=128 ............\n",
      "[CV]  learning_rate=0.010000000000000002, n_estimators=128, score=0.491, total=   1.7s\n",
      "[CV] learning_rate=0.010000000000000002, n_estimators=256 ............\n",
      "[CV]  learning_rate=0.010000000000000002, n_estimators=256, score=0.522, total=   3.4s\n",
      "[CV] learning_rate=0.010000000000000002, n_estimators=256 ............\n",
      "[CV]  learning_rate=0.010000000000000002, n_estimators=256, score=0.634, total=   3.5s\n",
      "[CV] learning_rate=0.010000000000000002, n_estimators=256 ............\n",
      "[CV]  learning_rate=0.010000000000000002, n_estimators=256, score=0.694, total=   3.4s\n",
      "[CV] learning_rate=0.010000000000000002, n_estimators=256 ............\n",
      "[CV]  learning_rate=0.010000000000000002, n_estimators=256, score=0.377, total=   3.4s\n",
      "[CV] learning_rate=0.010000000000000002, n_estimators=256 ............\n",
      "[CV]  learning_rate=0.010000000000000002, n_estimators=256, score=0.519, total=   3.5s\n",
      "[CV] learning_rate=0.010000000000000002, n_estimators=512 ............\n",
      "[CV]  learning_rate=0.010000000000000002, n_estimators=512, score=0.528, total=   6.9s\n",
      "[CV] learning_rate=0.010000000000000002, n_estimators=512 ............\n",
      "[CV]  learning_rate=0.010000000000000002, n_estimators=512, score=0.632, total=   6.9s\n",
      "[CV] learning_rate=0.010000000000000002, n_estimators=512 ............\n",
      "[CV]  learning_rate=0.010000000000000002, n_estimators=512, score=0.697, total=   6.9s\n",
      "[CV] learning_rate=0.010000000000000002, n_estimators=512 ............\n",
      "[CV]  learning_rate=0.010000000000000002, n_estimators=512, score=0.371, total=   7.0s\n",
      "[CV] learning_rate=0.010000000000000002, n_estimators=512 ............\n",
      "[CV]  learning_rate=0.010000000000000002, n_estimators=512, score=0.524, total=   6.9s\n",
      "[CV] learning_rate=0.0010000000000000002, n_estimators=1 .............\n",
      "[CV]  learning_rate=0.0010000000000000002, n_estimators=1, score=0.001, total=   0.0s\n",
      "[CV] learning_rate=0.0010000000000000002, n_estimators=1 .............\n",
      "[CV]  learning_rate=0.0010000000000000002, n_estimators=1, score=0.000, total=   0.0s\n",
      "[CV] learning_rate=0.0010000000000000002, n_estimators=1 .............\n",
      "[CV]  learning_rate=0.0010000000000000002, n_estimators=1, score=-0.003, total=   0.0s\n",
      "[CV] learning_rate=0.0010000000000000002, n_estimators=1 .............\n",
      "[CV]  learning_rate=0.0010000000000000002, n_estimators=1, score=-0.002, total=   0.0s\n",
      "[CV] learning_rate=0.0010000000000000002, n_estimators=1 .............\n",
      "[CV]  learning_rate=0.0010000000000000002, n_estimators=1, score=0.000, total=   0.0s\n",
      "[CV] learning_rate=0.0010000000000000002, n_estimators=2 .............\n",
      "[CV]  learning_rate=0.0010000000000000002, n_estimators=2, score=0.002, total=   0.0s\n",
      "[CV] learning_rate=0.0010000000000000002, n_estimators=2 .............\n",
      "[CV]  learning_rate=0.0010000000000000002, n_estimators=2, score=0.001, total=   0.1s\n",
      "[CV] learning_rate=0.0010000000000000002, n_estimators=2 .............\n",
      "[CV]  learning_rate=0.0010000000000000002, n_estimators=2, score=-0.001, total=   0.1s\n",
      "[CV] learning_rate=0.0010000000000000002, n_estimators=2 .............\n",
      "[CV]  learning_rate=0.0010000000000000002, n_estimators=2, score=-0.001, total=   0.0s\n",
      "[CV] learning_rate=0.0010000000000000002, n_estimators=2 .............\n",
      "[CV]  learning_rate=0.0010000000000000002, n_estimators=2, score=0.001, total=   0.0s\n",
      "[CV] learning_rate=0.0010000000000000002, n_estimators=4 .............\n",
      "[CV]  learning_rate=0.0010000000000000002, n_estimators=4, score=0.004, total=   0.1s\n",
      "[CV] learning_rate=0.0010000000000000002, n_estimators=4 .............\n",
      "[CV]  learning_rate=0.0010000000000000002, n_estimators=4, score=0.004, total=   0.1s\n",
      "[CV] learning_rate=0.0010000000000000002, n_estimators=4 .............\n",
      "[CV]  learning_rate=0.0010000000000000002, n_estimators=4, score=0.002, total=   0.1s\n",
      "[CV] learning_rate=0.0010000000000000002, n_estimators=4 .............\n",
      "[CV]  learning_rate=0.0010000000000000002, n_estimators=4, score=0.000, total=   0.1s\n",
      "[CV] learning_rate=0.0010000000000000002, n_estimators=4 .............\n",
      "[CV]  learning_rate=0.0010000000000000002, n_estimators=4, score=0.004, total=   0.1s\n",
      "[CV] learning_rate=0.0010000000000000002, n_estimators=8 .............\n",
      "[CV]  learning_rate=0.0010000000000000002, n_estimators=8, score=0.008, total=   0.1s\n",
      "[CV] learning_rate=0.0010000000000000002, n_estimators=8 .............\n",
      "[CV]  learning_rate=0.0010000000000000002, n_estimators=8, score=0.009, total=   0.1s\n",
      "[CV] learning_rate=0.0010000000000000002, n_estimators=8 .............\n",
      "[CV]  learning_rate=0.0010000000000000002, n_estimators=8, score=0.007, total=   0.1s\n",
      "[CV] learning_rate=0.0010000000000000002, n_estimators=8 .............\n",
      "[CV]  learning_rate=0.0010000000000000002, n_estimators=8, score=0.003, total=   0.1s\n",
      "[CV] learning_rate=0.0010000000000000002, n_estimators=8 .............\n",
      "[CV]  learning_rate=0.0010000000000000002, n_estimators=8, score=0.008, total=   0.1s\n",
      "[CV] learning_rate=0.0010000000000000002, n_estimators=16 ............\n",
      "[CV]  learning_rate=0.0010000000000000002, n_estimators=16, score=0.016, total=   0.2s\n",
      "[CV] learning_rate=0.0010000000000000002, n_estimators=16 ............\n",
      "[CV]  learning_rate=0.0010000000000000002, n_estimators=16, score=0.019, total=   0.2s\n",
      "[CV] learning_rate=0.0010000000000000002, n_estimators=16 ............\n"
     ]
    },
    {
     "name": "stdout",
     "output_type": "stream",
     "text": [
      "[CV]  learning_rate=0.0010000000000000002, n_estimators=16, score=0.018, total=   0.2s\n",
      "[CV] learning_rate=0.0010000000000000002, n_estimators=16 ............\n",
      "[CV]  learning_rate=0.0010000000000000002, n_estimators=16, score=0.009, total=   0.2s\n",
      "[CV] learning_rate=0.0010000000000000002, n_estimators=16 ............\n",
      "[CV]  learning_rate=0.0010000000000000002, n_estimators=16, score=0.017, total=   0.2s\n",
      "[CV] learning_rate=0.0010000000000000002, n_estimators=32 ............\n",
      "[CV]  learning_rate=0.0010000000000000002, n_estimators=32, score=0.031, total=   0.5s\n",
      "[CV] learning_rate=0.0010000000000000002, n_estimators=32 ............\n",
      "[CV]  learning_rate=0.0010000000000000002, n_estimators=32, score=0.038, total=   0.4s\n",
      "[CV] learning_rate=0.0010000000000000002, n_estimators=32 ............\n",
      "[CV]  learning_rate=0.0010000000000000002, n_estimators=32, score=0.040, total=   0.5s\n",
      "[CV] learning_rate=0.0010000000000000002, n_estimators=32 ............\n",
      "[CV]  learning_rate=0.0010000000000000002, n_estimators=32, score=0.021, total=   0.4s\n",
      "[CV] learning_rate=0.0010000000000000002, n_estimators=32 ............\n",
      "[CV]  learning_rate=0.0010000000000000002, n_estimators=32, score=0.034, total=   0.4s\n",
      "[CV] learning_rate=0.0010000000000000002, n_estimators=64 ............\n",
      "[CV]  learning_rate=0.0010000000000000002, n_estimators=64, score=0.061, total=   0.9s\n",
      "[CV] learning_rate=0.0010000000000000002, n_estimators=64 ............\n",
      "[CV]  learning_rate=0.0010000000000000002, n_estimators=64, score=0.074, total=   0.9s\n",
      "[CV] learning_rate=0.0010000000000000002, n_estimators=64 ............\n",
      "[CV]  learning_rate=0.0010000000000000002, n_estimators=64, score=0.081, total=   0.9s\n",
      "[CV] learning_rate=0.0010000000000000002, n_estimators=64 ............\n",
      "[CV]  learning_rate=0.0010000000000000002, n_estimators=64, score=0.044, total=   0.9s\n",
      "[CV] learning_rate=0.0010000000000000002, n_estimators=64 ............\n",
      "[CV]  learning_rate=0.0010000000000000002, n_estimators=64, score=0.067, total=   0.9s\n",
      "[CV] learning_rate=0.0010000000000000002, n_estimators=128 ...........\n",
      "[CV]  learning_rate=0.0010000000000000002, n_estimators=128, score=0.114, total=   1.7s\n",
      "[CV] learning_rate=0.0010000000000000002, n_estimators=128 ...........\n",
      "[CV]  learning_rate=0.0010000000000000002, n_estimators=128, score=0.141, total=   1.7s\n",
      "[CV] learning_rate=0.0010000000000000002, n_estimators=128 ...........\n",
      "[CV]  learning_rate=0.0010000000000000002, n_estimators=128, score=0.156, total=   1.7s\n",
      "[CV] learning_rate=0.0010000000000000002, n_estimators=128 ...........\n",
      "[CV]  learning_rate=0.0010000000000000002, n_estimators=128, score=0.086, total=   1.7s\n",
      "[CV] learning_rate=0.0010000000000000002, n_estimators=128 ...........\n",
      "[CV]  learning_rate=0.0010000000000000002, n_estimators=128, score=0.126, total=   1.7s\n",
      "[CV] learning_rate=0.0010000000000000002, n_estimators=256 ...........\n",
      "[CV]  learning_rate=0.0010000000000000002, n_estimators=256, score=0.203, total=   3.6s\n",
      "[CV] learning_rate=0.0010000000000000002, n_estimators=256 ...........\n",
      "[CV]  learning_rate=0.0010000000000000002, n_estimators=256, score=0.251, total=   4.2s\n",
      "[CV] learning_rate=0.0010000000000000002, n_estimators=256 ...........\n",
      "[CV]  learning_rate=0.0010000000000000002, n_estimators=256, score=0.280, total=   3.7s\n",
      "[CV] learning_rate=0.0010000000000000002, n_estimators=256 ...........\n",
      "[CV]  learning_rate=0.0010000000000000002, n_estimators=256, score=0.155, total=   3.8s\n",
      "[CV] learning_rate=0.0010000000000000002, n_estimators=256 ...........\n",
      "[CV]  learning_rate=0.0010000000000000002, n_estimators=256, score=0.223, total=   3.6s\n",
      "[CV] learning_rate=0.0010000000000000002, n_estimators=512 ...........\n",
      "[CV]  learning_rate=0.0010000000000000002, n_estimators=512, score=0.328, total=   7.3s\n",
      "[CV] learning_rate=0.0010000000000000002, n_estimators=512 ...........\n",
      "[CV]  learning_rate=0.0010000000000000002, n_estimators=512, score=0.404, total=   7.3s\n",
      "[CV] learning_rate=0.0010000000000000002, n_estimators=512 ...........\n",
      "[CV]  learning_rate=0.0010000000000000002, n_estimators=512, score=0.450, total=   7.3s\n",
      "[CV] learning_rate=0.0010000000000000002, n_estimators=512 ...........\n",
      "[CV]  learning_rate=0.0010000000000000002, n_estimators=512, score=0.248, total=   6.9s\n",
      "[CV] learning_rate=0.0010000000000000002, n_estimators=512 ...........\n",
      "[CV]  learning_rate=0.0010000000000000002, n_estimators=512, score=0.352, total=   6.8s\n",
      "[CV] learning_rate=0.00010000000000000002, n_estimators=1 ............\n",
      "[CV]  learning_rate=0.00010000000000000002, n_estimators=1, score=0.000, total=   0.0s\n",
      "[CV] learning_rate=0.00010000000000000002, n_estimators=1 ............\n",
      "[CV]  learning_rate=0.00010000000000000002, n_estimators=1, score=-0.001, total=   0.0s\n",
      "[CV] learning_rate=0.00010000000000000002, n_estimators=1 ............\n",
      "[CV]  learning_rate=0.00010000000000000002, n_estimators=1, score=-0.004, total=   0.0s\n",
      "[CV] learning_rate=0.00010000000000000002, n_estimators=1 ............\n",
      "[CV]  learning_rate=0.00010000000000000002, n_estimators=1, score=-0.003, total=   0.0s\n",
      "[CV] learning_rate=0.00010000000000000002, n_estimators=1 ............\n",
      "[CV]  learning_rate=0.00010000000000000002, n_estimators=1, score=-0.001, total=   0.0s\n",
      "[CV] learning_rate=0.00010000000000000002, n_estimators=2 ............\n",
      "[CV]  learning_rate=0.00010000000000000002, n_estimators=2, score=0.000, total=   0.0s\n",
      "[CV] learning_rate=0.00010000000000000002, n_estimators=2 ............\n",
      "[CV]  learning_rate=0.00010000000000000002, n_estimators=2, score=-0.001, total=   0.1s\n",
      "[CV] learning_rate=0.00010000000000000002, n_estimators=2 ............\n",
      "[CV]  learning_rate=0.00010000000000000002, n_estimators=2, score=-0.004, total=   0.1s\n",
      "[CV] learning_rate=0.00010000000000000002, n_estimators=2 ............\n",
      "[CV]  learning_rate=0.00010000000000000002, n_estimators=2, score=-0.003, total=   0.0s\n",
      "[CV] learning_rate=0.00010000000000000002, n_estimators=2 ............\n",
      "[CV]  learning_rate=0.00010000000000000002, n_estimators=2, score=-0.001, total=   0.0s\n",
      "[CV] learning_rate=0.00010000000000000002, n_estimators=4 ............\n",
      "[CV]  learning_rate=0.00010000000000000002, n_estimators=4, score=0.000, total=   0.1s\n",
      "[CV] learning_rate=0.00010000000000000002, n_estimators=4 ............\n",
      "[CV]  learning_rate=0.00010000000000000002, n_estimators=4, score=-0.001, total=   0.1s\n",
      "[CV] learning_rate=0.00010000000000000002, n_estimators=4 ............\n",
      "[CV]  learning_rate=0.00010000000000000002, n_estimators=4, score=-0.003, total=   0.1s\n",
      "[CV] learning_rate=0.00010000000000000002, n_estimators=4 ............\n",
      "[CV]  learning_rate=0.00010000000000000002, n_estimators=4, score=-0.003, total=   0.1s\n",
      "[CV] learning_rate=0.00010000000000000002, n_estimators=4 ............\n",
      "[CV]  learning_rate=0.00010000000000000002, n_estimators=4, score=-0.000, total=   0.1s\n",
      "[CV] learning_rate=0.00010000000000000002, n_estimators=8 ............\n",
      "[CV]  learning_rate=0.00010000000000000002, n_estimators=8, score=0.001, total=   0.1s\n",
      "[CV] learning_rate=0.00010000000000000002, n_estimators=8 ............\n",
      "[CV]  learning_rate=0.00010000000000000002, n_estimators=8, score=-0.000, total=   0.1s\n",
      "[CV] learning_rate=0.00010000000000000002, n_estimators=8 ............\n",
      "[CV]  learning_rate=0.00010000000000000002, n_estimators=8, score=-0.003, total=   0.1s\n",
      "[CV] learning_rate=0.00010000000000000002, n_estimators=8 ............\n",
      "[CV]  learning_rate=0.00010000000000000002, n_estimators=8, score=-0.002, total=   0.1s\n",
      "[CV] learning_rate=0.00010000000000000002, n_estimators=8 ............\n",
      "[CV]  learning_rate=0.00010000000000000002, n_estimators=8, score=0.000, total=   0.1s\n",
      "[CV] learning_rate=0.00010000000000000002, n_estimators=16 ...........\n",
      "[CV]  learning_rate=0.00010000000000000002, n_estimators=16, score=0.002, total=   0.2s\n",
      "[CV] learning_rate=0.00010000000000000002, n_estimators=16 ...........\n",
      "[CV]  learning_rate=0.00010000000000000002, n_estimators=16, score=0.001, total=   0.2s\n",
      "[CV] learning_rate=0.00010000000000000002, n_estimators=16 ...........\n",
      "[CV]  learning_rate=0.00010000000000000002, n_estimators=16, score=-0.002, total=   0.2s\n",
      "[CV] learning_rate=0.00010000000000000002, n_estimators=16 ...........\n",
      "[CV]  learning_rate=0.00010000000000000002, n_estimators=16, score=-0.002, total=   0.2s\n",
      "[CV] learning_rate=0.00010000000000000002, n_estimators=16 ...........\n"
     ]
    },
    {
     "name": "stdout",
     "output_type": "stream",
     "text": [
      "[CV]  learning_rate=0.00010000000000000002, n_estimators=16, score=0.001, total=   0.2s\n",
      "[CV] learning_rate=0.00010000000000000002, n_estimators=32 ...........\n",
      "[CV]  learning_rate=0.00010000000000000002, n_estimators=32, score=0.003, total=   0.5s\n",
      "[CV] learning_rate=0.00010000000000000002, n_estimators=32 ...........\n",
      "[CV]  learning_rate=0.00010000000000000002, n_estimators=32, score=0.003, total=   0.4s\n",
      "[CV] learning_rate=0.00010000000000000002, n_estimators=32 ...........\n",
      "[CV]  learning_rate=0.00010000000000000002, n_estimators=32, score=0.001, total=   0.4s\n",
      "[CV] learning_rate=0.00010000000000000002, n_estimators=32 ...........\n",
      "[CV]  learning_rate=0.00010000000000000002, n_estimators=32, score=-0.000, total=   0.4s\n",
      "[CV] learning_rate=0.00010000000000000002, n_estimators=32 ...........\n",
      "[CV]  learning_rate=0.00010000000000000002, n_estimators=32, score=0.003, total=   0.4s\n",
      "[CV] learning_rate=0.00010000000000000002, n_estimators=64 ...........\n",
      "[CV]  learning_rate=0.00010000000000000002, n_estimators=64, score=0.006, total=   0.9s\n",
      "[CV] learning_rate=0.00010000000000000002, n_estimators=64 ...........\n",
      "[CV]  learning_rate=0.00010000000000000002, n_estimators=64, score=0.007, total=   0.9s\n",
      "[CV] learning_rate=0.00010000000000000002, n_estimators=64 ...........\n",
      "[CV]  learning_rate=0.00010000000000000002, n_estimators=64, score=0.005, total=   0.9s\n",
      "[CV] learning_rate=0.00010000000000000002, n_estimators=64 ...........\n",
      "[CV]  learning_rate=0.00010000000000000002, n_estimators=64, score=0.002, total=   0.9s\n",
      "[CV] learning_rate=0.00010000000000000002, n_estimators=64 ...........\n",
      "[CV]  learning_rate=0.00010000000000000002, n_estimators=64, score=0.006, total=   0.9s\n",
      "[CV] learning_rate=0.00010000000000000002, n_estimators=128 ..........\n",
      "[CV]  learning_rate=0.00010000000000000002, n_estimators=128, score=0.013, total=   1.7s\n",
      "[CV] learning_rate=0.00010000000000000002, n_estimators=128 ..........\n",
      "[CV]  learning_rate=0.00010000000000000002, n_estimators=128, score=0.015, total=   1.7s\n",
      "[CV] learning_rate=0.00010000000000000002, n_estimators=128 ..........\n",
      "[CV]  learning_rate=0.00010000000000000002, n_estimators=128, score=0.014, total=   1.8s\n",
      "[CV] learning_rate=0.00010000000000000002, n_estimators=128 ..........\n",
      "[CV]  learning_rate=0.00010000000000000002, n_estimators=128, score=0.007, total=   1.7s\n",
      "[CV] learning_rate=0.00010000000000000002, n_estimators=128 ..........\n",
      "[CV]  learning_rate=0.00010000000000000002, n_estimators=128, score=0.014, total=   1.7s\n",
      "[CV] learning_rate=0.00010000000000000002, n_estimators=256 ..........\n",
      "[CV]  learning_rate=0.00010000000000000002, n_estimators=256, score=0.025, total=   3.4s\n",
      "[CV] learning_rate=0.00010000000000000002, n_estimators=256 ..........\n",
      "[CV]  learning_rate=0.00010000000000000002, n_estimators=256, score=0.030, total=   3.4s\n",
      "[CV] learning_rate=0.00010000000000000002, n_estimators=256 ..........\n",
      "[CV]  learning_rate=0.00010000000000000002, n_estimators=256, score=0.031, total=   3.4s\n",
      "[CV] learning_rate=0.00010000000000000002, n_estimators=256 ..........\n",
      "[CV]  learning_rate=0.00010000000000000002, n_estimators=256, score=0.017, total=   3.4s\n",
      "[CV] learning_rate=0.00010000000000000002, n_estimators=256 ..........\n",
      "[CV]  learning_rate=0.00010000000000000002, n_estimators=256, score=0.027, total=   3.4s\n",
      "[CV] learning_rate=0.00010000000000000002, n_estimators=512 ..........\n",
      "[CV]  learning_rate=0.00010000000000000002, n_estimators=512, score=0.049, total=   7.0s\n",
      "[CV] learning_rate=0.00010000000000000002, n_estimators=512 ..........\n",
      "[CV]  learning_rate=0.00010000000000000002, n_estimators=512, score=0.060, total=   6.8s\n",
      "[CV] learning_rate=0.00010000000000000002, n_estimators=512 ..........\n",
      "[CV]  learning_rate=0.00010000000000000002, n_estimators=512, score=0.065, total=   6.8s\n",
      "[CV] learning_rate=0.00010000000000000002, n_estimators=512 ..........\n",
      "[CV]  learning_rate=0.00010000000000000002, n_estimators=512, score=0.035, total=   6.8s\n",
      "[CV] learning_rate=0.00010000000000000002, n_estimators=512 ..........\n",
      "[CV]  learning_rate=0.00010000000000000002, n_estimators=512, score=0.054, total=   8.6s\n"
     ]
    },
    {
     "name": "stderr",
     "output_type": "stream",
     "text": [
      "[Parallel(n_jobs=1)]: Done 250 out of 250 | elapsed:  5.9min finished\n"
     ]
    },
    {
     "data": {
      "text/plain": [
       "GridSearchCV(cv=None, error_score=nan,\n",
       "             estimator=GradientBoostingRegressor(alpha=0.9, ccp_alpha=0.0,\n",
       "                                                 criterion='friedman_mse',\n",
       "                                                 init=None, learning_rate=0.1,\n",
       "                                                 loss='ls', max_depth=3,\n",
       "                                                 max_features=None,\n",
       "                                                 max_leaf_nodes=None,\n",
       "                                                 min_impurity_decrease=0.0,\n",
       "                                                 min_impurity_split=None,\n",
       "                                                 min_samples_leaf=1,\n",
       "                                                 min_samples_split=2,\n",
       "                                                 min_weight_fraction_leaf=0.0,\n",
       "                                                 n_estimators=100,\n",
       "                                                 n_ite...\n",
       "                                                 random_state=1, subsample=1.0,\n",
       "                                                 tol=0.0001,\n",
       "                                                 validation_fraction=0.1,\n",
       "                                                 verbose=0, warm_start=True),\n",
       "             iid='deprecated', n_jobs=None,\n",
       "             param_grid={'learning_rate': array([1.e+00, 1.e-01, 1.e-02, 1.e-03, 1.e-04]),\n",
       "                         'n_estimators': array([  1,   2,   4,   8,  16,  32,  64, 128, 256, 512], dtype=int32)},\n",
       "             pre_dispatch='2*n_jobs', refit=True, return_train_score=False,\n",
       "             scoring=make_scorer(r2_score), verbose=3)"
      ]
     },
     "execution_count": 25,
     "metadata": {},
     "output_type": "execute_result"
    }
   ],
   "source": [
    "gs.fit(x1,y1)"
   ]
  },
  {
   "cell_type": "code",
   "execution_count": 26,
   "metadata": {
    "colab": {
     "base_uri": "https://localhost:8080/",
     "height": 34
    },
    "colab_type": "code",
    "id": "nwDGA8k76A7S",
    "outputId": "2921f6b1-f4e6-472e-ebbd-b06ebca0dece"
   },
   "outputs": [
    {
     "data": {
      "text/plain": [
       "{'learning_rate': 0.010000000000000002, 'n_estimators': 512}"
      ]
     },
     "execution_count": 26,
     "metadata": {},
     "output_type": "execute_result"
    }
   ],
   "source": [
    "gs.best_params_"
   ]
  },
  {
   "cell_type": "code",
   "execution_count": 30,
   "metadata": {
    "colab": {
     "base_uri": "https://localhost:8080/",
     "height": 517
    },
    "colab_type": "code",
    "id": "ywJIdNHHaoTi",
    "outputId": "6ae23db6-09bf-486a-ab82-8a958e24c5e0"
   },
   "outputs": [
    {
     "data": {
      "image/png": "[encoded data removed]",
      "text/plain": [
       "<Figure size 1152x576 with 1 Axes>"
      ]
     },
     "metadata": {
      "needs_background": "light"
     },
     "output_type": "display_data"
    }
   ],
   "source": [
    "def plot_grid_search(cv_results, grid_param_1, grid_param_2, name_param_1, name_param_2):\n",
    "    \n",
    "    # Получим результат среднего и стандартного отклонения для каждой итерации grid search\n",
    "    scores_mean = cv_results['mean_test_score']\n",
    "    scores_mean = np.array(scores_mean).reshape(len(grid_param_2), len(grid_param_1))\n",
    "\n",
    "    scores_sd = cv_results['std_test_score']\n",
    "    scores_sd = np.array(scores_sd).reshape(len(grid_param_2), len(grid_param_1))\n",
    "\n",
    "    # Отобразим на графике\n",
    "    _, ax = plt.subplots()\n",
    "\n",
    "    rounded_grid_param_2 = [np.round(x,4) for x in grid_param_2]\n",
    "    for idx, val in enumerate(rounded_grid_param_2):\n",
    "        ax.plot(grid_param_1, scores_mean[idx,:], '-o', label = name_param_2 + ': ' + str(val))\n",
    "    plt.rcParams['figure.figsize'] = (20, 14)\n",
    "    ax.set_title(\"Grid Search Scores\", fontweight='bold')\n",
    "    ax.set_xlabel(name_param_1)\n",
    "    ax.set_xscale(\"log\")\n",
    "    ax.set_ylabel('CV Mean Score')\n",
    "    ax.legend(loc=\"best\")\n",
    "\n",
    "# Calling Method \n",
    "plot_grid_search(gs.cv_results_, param_grid[\"n_estimators\"], param_grid[\"learning_rate\"], 'N Estimators', 'Learning Rate')"
   ]
  },
  {
   "cell_type": "markdown",
   "metadata": {
    "colab_type": "text",
    "id": "vefFk0g9FFh6"
   },
   "source": [
    "`learning_rate` регулирует вклад каждого дерева. Существует связь между learning_rate и n_estimators. Рассмотрим лучший результат, то есть когда  learning_rate = 0.01 и n_estimators = 512, при малых количествах деревьев происходит недообучение. Поведение ожидаемое"
   ]
  },
  {
   "cell_type": "code",
   "execution_count": 31,
   "metadata": {
    "colab": {},
    "colab_type": "code",
    "id": "g7SrMA-aaoTp"
   },
   "outputs": [],
   "source": [
    "# базовая шкала для max_depth\n",
    "param_grid = {\"max_depth\":np.arange(1, 9)}\n",
    "gs = GridSearchCV(GradientBoostingRegressor(learning_rate = 0.01,\n",
    "                                            n_estimators = 512, \n",
    "                                            random_state=1, \n",
    "                                            warm_start=True), \n",
    "                  param_grid, make_scorer(r2_score), verbose=3)"
   ]
  },
  {
   "cell_type": "code",
   "execution_count": 32,
   "metadata": {
    "colab": {
     "base_uri": "https://localhost:8080/",
     "height": 1000
    },
    "colab_type": "code",
    "id": "GnKBhS97aoT1",
    "outputId": "bd179f68-0296-4f59-c926-eaa7fccac2c9"
   },
   "outputs": [
    {
     "name": "stdout",
     "output_type": "stream",
     "text": [
      "Fitting 5 folds for each of 8 candidates, totalling 40 fits\n",
      "[CV] max_depth=1 .....................................................\n"
     ]
    },
    {
     "name": "stderr",
     "output_type": "stream",
     "text": [
      "[Parallel(n_jobs=1)]: Using backend SequentialBackend with 1 concurrent workers.\n"
     ]
    },
    {
     "name": "stdout",
     "output_type": "stream",
     "text": [
      "[CV] ......................... max_depth=1, score=0.486, total=   2.8s\n",
      "[CV] max_depth=1 .....................................................\n"
     ]
    },
    {
     "name": "stderr",
     "output_type": "stream",
     "text": [
      "[Parallel(n_jobs=1)]: Done   1 out of   1 | elapsed:    2.7s remaining:    0.0s\n"
     ]
    },
    {
     "name": "stdout",
     "output_type": "stream",
     "text": [
      "[CV] ......................... max_depth=1, score=0.591, total=   3.0s\n",
      "[CV] max_depth=1 .....................................................\n"
     ]
    },
    {
     "name": "stderr",
     "output_type": "stream",
     "text": [
      "[Parallel(n_jobs=1)]: Done   2 out of   2 | elapsed:    5.7s remaining:    0.0s\n"
     ]
    },
    {
     "name": "stdout",
     "output_type": "stream",
     "text": [
      "[CV] ......................... max_depth=1, score=0.649, total=   2.9s\n",
      "[CV] max_depth=1 .....................................................\n",
      "[CV] ......................... max_depth=1, score=0.340, total=   2.9s\n",
      "[CV] max_depth=1 .....................................................\n",
      "[CV] ......................... max_depth=1, score=0.493, total=   3.0s\n",
      "[CV] max_depth=2 .....................................................\n",
      "[CV] ......................... max_depth=2, score=0.529, total=   5.0s\n",
      "[CV] max_depth=2 .....................................................\n",
      "[CV] ......................... max_depth=2, score=0.644, total=   5.2s\n",
      "[CV] max_depth=2 .....................................................\n",
      "[CV] ......................... max_depth=2, score=0.702, total=   4.9s\n",
      "[CV] max_depth=2 .....................................................\n",
      "[CV] ......................... max_depth=2, score=0.376, total=   4.9s\n",
      "[CV] max_depth=2 .....................................................\n",
      "[CV] ......................... max_depth=2, score=0.529, total=   4.9s\n",
      "[CV] max_depth=3 .....................................................\n",
      "[CV] ......................... max_depth=3, score=0.528, total=   7.5s\n",
      "[CV] max_depth=3 .....................................................\n",
      "[CV] ......................... max_depth=3, score=0.632, total=   7.6s\n",
      "[CV] max_depth=3 .....................................................\n",
      "[CV] ......................... max_depth=3, score=0.697, total=   8.2s\n",
      "[CV] max_depth=3 .....................................................\n",
      "[CV] ......................... max_depth=3, score=0.371, total=   7.7s\n",
      "[CV] max_depth=3 .....................................................\n",
      "[CV] ......................... max_depth=3, score=0.524, total=   7.6s\n",
      "[CV] max_depth=4 .....................................................\n",
      "[CV] ......................... max_depth=4, score=0.501, total=   9.8s\n",
      "[CV] max_depth=4 .....................................................\n",
      "[CV] ......................... max_depth=4, score=0.615, total=   9.6s\n",
      "[CV] max_depth=4 .....................................................\n",
      "[CV] ......................... max_depth=4, score=0.654, total=   9.3s\n",
      "[CV] max_depth=4 .....................................................\n",
      "[CV] ......................... max_depth=4, score=0.367, total=  10.0s\n",
      "[CV] max_depth=4 .....................................................\n",
      "[CV] ......................... max_depth=4, score=0.506, total=  11.3s\n",
      "[CV] max_depth=5 .....................................................\n",
      "[CV] ......................... max_depth=5, score=0.535, total=  13.7s\n",
      "[CV] max_depth=5 .....................................................\n",
      "[CV] ......................... max_depth=5, score=0.563, total=  12.7s\n",
      "[CV] max_depth=5 .....................................................\n",
      "[CV] ......................... max_depth=5, score=0.661, total=  12.4s\n",
      "[CV] max_depth=5 .....................................................\n",
      "[CV] ......................... max_depth=5, score=0.327, total=  11.8s\n",
      "[CV] max_depth=5 .....................................................\n",
      "[CV] ......................... max_depth=5, score=0.464, total=  11.7s\n",
      "[CV] max_depth=6 .....................................................\n",
      "[CV] ......................... max_depth=6, score=0.481, total=  13.9s\n",
      "[CV] max_depth=6 .....................................................\n",
      "[CV] ......................... max_depth=6, score=0.557, total=  14.4s\n",
      "[CV] max_depth=6 .....................................................\n",
      "[CV] ......................... max_depth=6, score=0.635, total=  14.5s\n",
      "[CV] max_depth=6 .....................................................\n",
      "[CV] ......................... max_depth=6, score=0.311, total=  14.8s\n",
      "[CV] max_depth=6 .....................................................\n",
      "[CV] ......................... max_depth=6, score=0.483, total=  13.8s\n",
      "[CV] max_depth=7 .....................................................\n",
      "[CV] ......................... max_depth=7, score=0.489, total=  15.6s\n",
      "[CV] max_depth=7 .....................................................\n",
      "[CV] ......................... max_depth=7, score=0.555, total=  16.0s\n",
      "[CV] max_depth=7 .....................................................\n",
      "[CV] ......................... max_depth=7, score=0.417, total=  17.0s\n",
      "[CV] max_depth=7 .....................................................\n",
      "[CV] ......................... max_depth=7, score=0.296, total=  15.3s\n",
      "[CV] max_depth=7 .....................................................\n",
      "[CV] ......................... max_depth=7, score=0.435, total=  16.0s\n",
      "[CV] max_depth=8 .....................................................\n",
      "[CV] ......................... max_depth=8, score=0.492, total=  19.2s\n",
      "[CV] max_depth=8 .....................................................\n",
      "[CV] ......................... max_depth=8, score=0.556, total=  19.0s\n",
      "[CV] max_depth=8 .....................................................\n",
      "[CV] ......................... max_depth=8, score=0.384, total=  18.0s\n",
      "[CV] max_depth=8 .....................................................\n",
      "[CV] ......................... max_depth=8, score=0.294, total=  16.6s\n",
      "[CV] max_depth=8 .....................................................\n",
      "[CV] ......................... max_depth=8, score=0.372, total=  16.6s\n"
     ]
    },
    {
     "name": "stderr",
     "output_type": "stream",
     "text": [
      "[Parallel(n_jobs=1)]: Done  40 out of  40 | elapsed:  7.2min finished\n"
     ]
    },
    {
     "data": {
      "text/plain": [
       "GridSearchCV(cv=None, error_score=nan,\n",
       "             estimator=GradientBoostingRegressor(alpha=0.9, ccp_alpha=0.0,\n",
       "                                                 criterion='friedman_mse',\n",
       "                                                 init=None, learning_rate=0.01,\n",
       "                                                 loss='ls', max_depth=3,\n",
       "                                                 max_features=None,\n",
       "                                                 max_leaf_nodes=None,\n",
       "                                                 min_impurity_decrease=0.0,\n",
       "                                                 min_impurity_split=None,\n",
       "                                                 min_samples_leaf=1,\n",
       "                                                 min_samples_split=2,\n",
       "                                                 min_weight_fraction_leaf=0.0,\n",
       "                                                 n_estimators=512,\n",
       "                                                 n_iter_no_change=None,\n",
       "                                                 presort='deprecated',\n",
       "                                                 random_state=1, subsample=1.0,\n",
       "                                                 tol=0.0001,\n",
       "                                                 validation_fraction=0.1,\n",
       "                                                 verbose=0, warm_start=True),\n",
       "             iid='deprecated', n_jobs=None,\n",
       "             param_grid={'max_depth': array([1, 2, 3, 4, 5, 6, 7, 8])},\n",
       "             pre_dispatch='2*n_jobs', refit=True, return_train_score=False,\n",
       "             scoring=make_scorer(r2_score), verbose=3)"
      ]
     },
     "execution_count": 32,
     "metadata": {},
     "output_type": "execute_result"
    }
   ],
   "source": [
    "gs.fit(x1,y1)"
   ]
  },
  {
   "cell_type": "code",
   "execution_count": 33,
   "metadata": {
    "colab": {
     "base_uri": "https://localhost:8080/",
     "height": 34
    },
    "colab_type": "code",
    "id": "sSmLleQaIYjx",
    "outputId": "02a40f53-244f-45a0-b637-ca8a84e71a93"
   },
   "outputs": [
    {
     "data": {
      "text/plain": [
       "{'max_depth': 2}"
      ]
     },
     "execution_count": 33,
     "metadata": {},
     "output_type": "execute_result"
    }
   ],
   "source": [
    "gs.best_params_"
   ]
  },
  {
   "cell_type": "code",
   "execution_count": 36,
   "metadata": {
    "colab": {
     "base_uri": "https://localhost:8080/",
     "height": 514
    },
    "colab_type": "code",
    "id": "YRCcDoeCH9J7",
    "outputId": "728eb8d1-5da6-4dd1-f901-6235fcc8159f"
   },
   "outputs": [
    {
     "data": {
      "image/png": "[encoded data removed]",
      "text/plain": [
       "<Figure size 1152x576 with 1 Axes>"
      ]
     },
     "metadata": {
      "needs_background": "light"
     },
     "output_type": "display_data"
    }
   ],
   "source": [
    "ax = plt.subplot()\n",
    "plt.rcParams['figure.figsize'] = (12, 6)\n",
    "ax.plot((param_grid[\"max_depth\"]), gs.cv_results_['mean_test_score'])\n",
    "ax.set_title('Parameters score')\n",
    "ax.set_xlabel(\"max_depth\")\n",
    "ax.set_ylabel(\"R2\")\n",
    "plt.show()"
   ]
  },
  {
   "cell_type": "markdown",
   "metadata": {
    "colab_type": "text",
    "id": "j11eWM0fZpBm"
   },
   "source": [
    "`max_depth` это максимальная глубина индивидуальных регрессионных оценок. Максимальная глубина ограничивает количество узлов в дереве. Наилучшее значение зависит от природы входных переменных. При слишком большой глубине происходит недообучение. Результат ожидаемый. Значение по умолчанию - 3"
   ]
  },
  {
   "cell_type": "code",
   "execution_count": 37,
   "metadata": {
    "colab": {},
    "colab_type": "code",
    "id": "QJ0Qp74faoT7"
   },
   "outputs": [],
   "source": [
    "# базовая шкала для остальных гиперпараметров\n",
    "param_grid = {\"max_features\":2**np.arange(1, 9, 2), \"min_samples_leaf\":[1, 3, 9, 27], \n",
    "              \"min_samples_split\":[3, 9, 27, 81]}\n",
    "gs = GridSearchCV(GradientBoostingRegressor(learning_rate = 0.01,\n",
    "                                            n_estimators = 512,\n",
    "                                            max_depth = 2, \n",
    "                                            random_state=1, \n",
    "                                            warm_start=True), \n",
    "                  param_grid, make_scorer(r2_score), verbose=3)"
   ]
  },
  {
   "cell_type": "code",
   "execution_count": 38,
   "metadata": {
    "colab": {
     "base_uri": "https://localhost:8080/",
     "height": 1000
    },
    "colab_type": "code",
    "id": "rlb3G1UlaoT_",
    "outputId": "1d9f9cad-adc0-4dab-a15d-019329a89fe0"
   },
   "outputs": [
    {
     "name": "stdout",
     "output_type": "stream",
     "text": [
      "Fitting 5 folds for each of 64 candidates, totalling 320 fits\n",
      "[CV] max_features=2, min_samples_leaf=1, min_samples_split=3 .........\n"
     ]
    },
    {
     "name": "stderr",
     "output_type": "stream",
     "text": [
      "[Parallel(n_jobs=1)]: Using backend SequentialBackend with 1 concurrent workers.\n"
     ]
    },
    {
     "name": "stdout",
     "output_type": "stream",
     "text": [
      "[CV]  max_features=2, min_samples_leaf=1, min_samples_split=3, score=0.300, total=   0.3s\n",
      "[CV] max_features=2, min_samples_leaf=1, min_samples_split=3 .........\n"
     ]
    },
    {
     "name": "stderr",
     "output_type": "stream",
     "text": [
      "[Parallel(n_jobs=1)]: Done   1 out of   1 | elapsed:    0.2s remaining:    0.0s\n"
     ]
    },
    {
     "name": "stdout",
     "output_type": "stream",
     "text": [
      "[CV]  max_features=2, min_samples_leaf=1, min_samples_split=3, score=0.373, total=   0.3s\n",
      "[CV] max_features=2, min_samples_leaf=1, min_samples_split=3 .........\n"
     ]
    },
    {
     "name": "stderr",
     "output_type": "stream",
     "text": [
      "[Parallel(n_jobs=1)]: Done   2 out of   2 | elapsed:    0.6s remaining:    0.0s\n"
     ]
    },
    {
     "name": "stdout",
     "output_type": "stream",
     "text": [
      "[CV]  max_features=2, min_samples_leaf=1, min_samples_split=3, score=0.403, total=   0.3s\n",
      "[CV] max_features=2, min_samples_leaf=1, min_samples_split=3 .........\n",
      "[CV]  max_features=2, min_samples_leaf=1, min_samples_split=3, score=0.199, total=   0.3s\n",
      "[CV] max_features=2, min_samples_leaf=1, min_samples_split=3 .........\n",
      "[CV]  max_features=2, min_samples_leaf=1, min_samples_split=3, score=0.302, total=   0.4s\n",
      "[CV] max_features=2, min_samples_leaf=1, min_samples_split=9 .........\n",
      "[CV]  max_features=2, min_samples_leaf=1, min_samples_split=9, score=0.300, total=   0.3s\n",
      "[CV] max_features=2, min_samples_leaf=1, min_samples_split=9 .........\n",
      "[CV]  max_features=2, min_samples_leaf=1, min_samples_split=9, score=0.373, total=   0.3s\n",
      "[CV] max_features=2, min_samples_leaf=1, min_samples_split=9 .........\n",
      "[CV]  max_features=2, min_samples_leaf=1, min_samples_split=9, score=0.403, total=   0.3s\n",
      "[CV] max_features=2, min_samples_leaf=1, min_samples_split=9 .........\n",
      "[CV]  max_features=2, min_samples_leaf=1, min_samples_split=9, score=0.199, total=   0.3s\n",
      "[CV] max_features=2, min_samples_leaf=1, min_samples_split=9 .........\n",
      "[CV]  max_features=2, min_samples_leaf=1, min_samples_split=9, score=0.302, total=   0.3s\n",
      "[CV] max_features=2, min_samples_leaf=1, min_samples_split=27 ........\n",
      "[CV]  max_features=2, min_samples_leaf=1, min_samples_split=27, score=0.300, total=   0.3s\n",
      "[CV] max_features=2, min_samples_leaf=1, min_samples_split=27 ........\n",
      "[CV]  max_features=2, min_samples_leaf=1, min_samples_split=27, score=0.373, total=   0.4s\n",
      "[CV] max_features=2, min_samples_leaf=1, min_samples_split=27 ........\n",
      "[CV]  max_features=2, min_samples_leaf=1, min_samples_split=27, score=0.403, total=   0.3s\n",
      "[CV] max_features=2, min_samples_leaf=1, min_samples_split=27 ........\n",
      "[CV]  max_features=2, min_samples_leaf=1, min_samples_split=27, score=0.199, total=   0.3s\n",
      "[CV] max_features=2, min_samples_leaf=1, min_samples_split=27 ........\n",
      "[CV]  max_features=2, min_samples_leaf=1, min_samples_split=27, score=0.302, total=   0.3s\n",
      "[CV] max_features=2, min_samples_leaf=1, min_samples_split=81 ........\n",
      "[CV]  max_features=2, min_samples_leaf=1, min_samples_split=81, score=0.296, total=   0.3s\n",
      "[CV] max_features=2, min_samples_leaf=1, min_samples_split=81 ........\n",
      "[CV]  max_features=2, min_samples_leaf=1, min_samples_split=81, score=0.368, total=   0.4s\n",
      "[CV] max_features=2, min_samples_leaf=1, min_samples_split=81 ........\n",
      "[CV]  max_features=2, min_samples_leaf=1, min_samples_split=81, score=0.398, total=   0.4s\n",
      "[CV] max_features=2, min_samples_leaf=1, min_samples_split=81 ........\n",
      "[CV]  max_features=2, min_samples_leaf=1, min_samples_split=81, score=0.196, total=   0.3s\n",
      "[CV] max_features=2, min_samples_leaf=1, min_samples_split=81 ........\n",
      "[CV]  max_features=2, min_samples_leaf=1, min_samples_split=81, score=0.298, total=   0.3s\n",
      "[CV] max_features=2, min_samples_leaf=3, min_samples_split=3 .........\n",
      "[CV]  max_features=2, min_samples_leaf=3, min_samples_split=3, score=0.298, total=   0.4s\n",
      "[CV] max_features=2, min_samples_leaf=3, min_samples_split=3 .........\n",
      "[CV]  max_features=2, min_samples_leaf=3, min_samples_split=3, score=0.371, total=   0.3s\n",
      "[CV] max_features=2, min_samples_leaf=3, min_samples_split=3 .........\n",
      "[CV]  max_features=2, min_samples_leaf=3, min_samples_split=3, score=0.402, total=   0.4s\n",
      "[CV] max_features=2, min_samples_leaf=3, min_samples_split=3 .........\n",
      "[CV]  max_features=2, min_samples_leaf=3, min_samples_split=3, score=0.198, total=   0.3s\n",
      "[CV] max_features=2, min_samples_leaf=3, min_samples_split=3 .........\n",
      "[CV]  max_features=2, min_samples_leaf=3, min_samples_split=3, score=0.299, total=   0.3s\n",
      "[CV] max_features=2, min_samples_leaf=3, min_samples_split=9 .........\n",
      "[CV]  max_features=2, min_samples_leaf=3, min_samples_split=9, score=0.298, total=   0.3s\n",
      "[CV] max_features=2, min_samples_leaf=3, min_samples_split=9 .........\n",
      "[CV]  max_features=2, min_samples_leaf=3, min_samples_split=9, score=0.371, total=   0.3s\n",
      "[CV] max_features=2, min_samples_leaf=3, min_samples_split=9 .........\n",
      "[CV]  max_features=2, min_samples_leaf=3, min_samples_split=9, score=0.402, total=   0.3s\n",
      "[CV] max_features=2, min_samples_leaf=3, min_samples_split=9 .........\n",
      "[CV]  max_features=2, min_samples_leaf=3, min_samples_split=9, score=0.198, total=   0.3s\n",
      "[CV] max_features=2, min_samples_leaf=3, min_samples_split=9 .........\n",
      "[CV]  max_features=2, min_samples_leaf=3, min_samples_split=9, score=0.299, total=   0.3s\n",
      "[CV] max_features=2, min_samples_leaf=3, min_samples_split=27 ........\n",
      "[CV]  max_features=2, min_samples_leaf=3, min_samples_split=27, score=0.298, total=   0.3s\n",
      "[CV] max_features=2, min_samples_leaf=3, min_samples_split=27 ........\n",
      "[CV]  max_features=2, min_samples_leaf=3, min_samples_split=27, score=0.371, total=   0.4s\n",
      "[CV] max_features=2, min_samples_leaf=3, min_samples_split=27 ........\n",
      "[CV]  max_features=2, min_samples_leaf=3, min_samples_split=27, score=0.402, total=   0.3s\n",
      "[CV] max_features=2, min_samples_leaf=3, min_samples_split=27 ........\n",
      "[CV]  max_features=2, min_samples_leaf=3, min_samples_split=27, score=0.198, total=   0.3s\n",
      "[CV] max_features=2, min_samples_leaf=3, min_samples_split=27 ........\n",
      "[CV]  max_features=2, min_samples_leaf=3, min_samples_split=27, score=0.299, total=   0.4s\n",
      "[CV] max_features=2, min_samples_leaf=3, min_samples_split=81 ........\n",
      "[CV]  max_features=2, min_samples_leaf=3, min_samples_split=81, score=0.295, total=   0.3s\n",
      "[CV] max_features=2, min_samples_leaf=3, min_samples_split=81 ........\n",
      "[CV]  max_features=2, min_samples_leaf=3, min_samples_split=81, score=0.366, total=   0.4s\n",
      "[CV] max_features=2, min_samples_leaf=3, min_samples_split=81 ........\n",
      "[CV]  max_features=2, min_samples_leaf=3, min_samples_split=81, score=0.397, total=   0.3s\n",
      "[CV] max_features=2, min_samples_leaf=3, min_samples_split=81 ........\n",
      "[CV]  max_features=2, min_samples_leaf=3, min_samples_split=81, score=0.195, total=   0.3s\n",
      "[CV] max_features=2, min_samples_leaf=3, min_samples_split=81 ........\n",
      "[CV]  max_features=2, min_samples_leaf=3, min_samples_split=81, score=0.296, total=   0.3s\n",
      "[CV] max_features=2, min_samples_leaf=9, min_samples_split=3 .........\n",
      "[CV]  max_features=2, min_samples_leaf=9, min_samples_split=3, score=0.297, total=   0.3s\n",
      "[CV] max_features=2, min_samples_leaf=9, min_samples_split=3 .........\n",
      "[CV]  max_features=2, min_samples_leaf=9, min_samples_split=3, score=0.363, total=   0.3s\n",
      "[CV] max_features=2, min_samples_leaf=9, min_samples_split=3 .........\n",
      "[CV]  max_features=2, min_samples_leaf=9, min_samples_split=3, score=0.397, total=   0.3s\n",
      "[CV] max_features=2, min_samples_leaf=9, min_samples_split=3 .........\n",
      "[CV]  max_features=2, min_samples_leaf=9, min_samples_split=3, score=0.199, total=   0.3s\n",
      "[CV] max_features=2, min_samples_leaf=9, min_samples_split=3 .........\n",
      "[CV]  max_features=2, min_samples_leaf=9, min_samples_split=3, score=0.300, total=   0.3s\n",
      "[CV] max_features=2, min_samples_leaf=9, min_samples_split=9 .........\n",
      "[CV]  max_features=2, min_samples_leaf=9, min_samples_split=9, score=0.297, total=   0.4s\n",
      "[CV] max_features=2, min_samples_leaf=9, min_samples_split=9 .........\n",
      "[CV]  max_features=2, min_samples_leaf=9, min_samples_split=9, score=0.363, total=   0.3s\n",
      "[CV] max_features=2, min_samples_leaf=9, min_samples_split=9 .........\n",
      "[CV]  max_features=2, min_samples_leaf=9, min_samples_split=9, score=0.397, total=   0.3s\n",
      "[CV] max_features=2, min_samples_leaf=9, min_samples_split=9 .........\n",
      "[CV]  max_features=2, min_samples_leaf=9, min_samples_split=9, score=0.199, total=   0.3s\n",
      "[CV] max_features=2, min_samples_leaf=9, min_samples_split=9 .........\n",
      "[CV]  max_features=2, min_samples_leaf=9, min_samples_split=9, score=0.300, total=   0.4s\n",
      "[CV] max_features=2, min_samples_leaf=9, min_samples_split=27 ........\n",
      "[CV]  max_features=2, min_samples_leaf=9, min_samples_split=27, score=0.297, total=   0.3s\n",
      "[CV] max_features=2, min_samples_leaf=9, min_samples_split=27 ........\n",
      "[CV]  max_features=2, min_samples_leaf=9, min_samples_split=27, score=0.363, total=   0.3s\n",
      "[CV] max_features=2, min_samples_leaf=9, min_samples_split=27 ........\n",
      "[CV]  max_features=2, min_samples_leaf=9, min_samples_split=27, score=0.397, total=   0.4s\n",
      "[CV] max_features=2, min_samples_leaf=9, min_samples_split=27 ........\n"
     ]
    },
    {
     "name": "stdout",
     "output_type": "stream",
     "text": [
      "[CV]  max_features=2, min_samples_leaf=9, min_samples_split=27, score=0.199, total=   0.3s\n",
      "[CV] max_features=2, min_samples_leaf=9, min_samples_split=27 ........\n",
      "[CV]  max_features=2, min_samples_leaf=9, min_samples_split=27, score=0.300, total=   0.4s\n",
      "[CV] max_features=2, min_samples_leaf=9, min_samples_split=81 ........\n",
      "[CV]  max_features=2, min_samples_leaf=9, min_samples_split=81, score=0.294, total=   0.4s\n",
      "[CV] max_features=2, min_samples_leaf=9, min_samples_split=81 ........\n",
      "[CV]  max_features=2, min_samples_leaf=9, min_samples_split=81, score=0.358, total=   0.3s\n",
      "[CV] max_features=2, min_samples_leaf=9, min_samples_split=81 ........\n",
      "[CV]  max_features=2, min_samples_leaf=9, min_samples_split=81, score=0.393, total=   0.3s\n",
      "[CV] max_features=2, min_samples_leaf=9, min_samples_split=81 ........\n",
      "[CV]  max_features=2, min_samples_leaf=9, min_samples_split=81, score=0.196, total=   0.3s\n",
      "[CV] max_features=2, min_samples_leaf=9, min_samples_split=81 ........\n",
      "[CV]  max_features=2, min_samples_leaf=9, min_samples_split=81, score=0.298, total=   0.4s\n",
      "[CV] max_features=2, min_samples_leaf=27, min_samples_split=3 ........\n",
      "[CV]  max_features=2, min_samples_leaf=27, min_samples_split=3, score=0.276, total=   0.3s\n",
      "[CV] max_features=2, min_samples_leaf=27, min_samples_split=3 ........\n",
      "[CV]  max_features=2, min_samples_leaf=27, min_samples_split=3, score=0.333, total=   0.3s\n",
      "[CV] max_features=2, min_samples_leaf=27, min_samples_split=3 ........\n",
      "[CV]  max_features=2, min_samples_leaf=27, min_samples_split=3, score=0.367, total=   0.3s\n",
      "[CV] max_features=2, min_samples_leaf=27, min_samples_split=3 ........\n",
      "[CV]  max_features=2, min_samples_leaf=27, min_samples_split=3, score=0.185, total=   0.3s\n",
      "[CV] max_features=2, min_samples_leaf=27, min_samples_split=3 ........\n",
      "[CV]  max_features=2, min_samples_leaf=27, min_samples_split=3, score=0.277, total=   0.3s\n",
      "[CV] max_features=2, min_samples_leaf=27, min_samples_split=9 ........\n",
      "[CV]  max_features=2, min_samples_leaf=27, min_samples_split=9, score=0.276, total=   0.4s\n",
      "[CV] max_features=2, min_samples_leaf=27, min_samples_split=9 ........\n",
      "[CV]  max_features=2, min_samples_leaf=27, min_samples_split=9, score=0.333, total=   0.3s\n",
      "[CV] max_features=2, min_samples_leaf=27, min_samples_split=9 ........\n",
      "[CV]  max_features=2, min_samples_leaf=27, min_samples_split=9, score=0.367, total=   0.4s\n",
      "[CV] max_features=2, min_samples_leaf=27, min_samples_split=9 ........\n",
      "[CV]  max_features=2, min_samples_leaf=27, min_samples_split=9, score=0.185, total=   0.3s\n",
      "[CV] max_features=2, min_samples_leaf=27, min_samples_split=9 ........\n",
      "[CV]  max_features=2, min_samples_leaf=27, min_samples_split=9, score=0.277, total=   0.3s\n",
      "[CV] max_features=2, min_samples_leaf=27, min_samples_split=27 .......\n",
      "[CV]  max_features=2, min_samples_leaf=27, min_samples_split=27, score=0.276, total=   0.3s\n",
      "[CV] max_features=2, min_samples_leaf=27, min_samples_split=27 .......\n",
      "[CV]  max_features=2, min_samples_leaf=27, min_samples_split=27, score=0.333, total=   0.3s\n",
      "[CV] max_features=2, min_samples_leaf=27, min_samples_split=27 .......\n",
      "[CV]  max_features=2, min_samples_leaf=27, min_samples_split=27, score=0.367, total=   0.3s\n",
      "[CV] max_features=2, min_samples_leaf=27, min_samples_split=27 .......\n",
      "[CV]  max_features=2, min_samples_leaf=27, min_samples_split=27, score=0.185, total=   0.3s\n",
      "[CV] max_features=2, min_samples_leaf=27, min_samples_split=27 .......\n",
      "[CV]  max_features=2, min_samples_leaf=27, min_samples_split=27, score=0.277, total=   0.3s\n",
      "[CV] max_features=2, min_samples_leaf=27, min_samples_split=81 .......\n",
      "[CV]  max_features=2, min_samples_leaf=27, min_samples_split=81, score=0.272, total=   0.4s\n",
      "[CV] max_features=2, min_samples_leaf=27, min_samples_split=81 .......\n",
      "[CV]  max_features=2, min_samples_leaf=27, min_samples_split=81, score=0.328, total=   0.3s\n",
      "[CV] max_features=2, min_samples_leaf=27, min_samples_split=81 .......\n",
      "[CV]  max_features=2, min_samples_leaf=27, min_samples_split=81, score=0.367, total=   0.3s\n",
      "[CV] max_features=2, min_samples_leaf=27, min_samples_split=81 .......\n",
      "[CV]  max_features=2, min_samples_leaf=27, min_samples_split=81, score=0.182, total=   0.3s\n",
      "[CV] max_features=2, min_samples_leaf=27, min_samples_split=81 .......\n",
      "[CV]  max_features=2, min_samples_leaf=27, min_samples_split=81, score=0.274, total=   0.3s\n",
      "[CV] max_features=8, min_samples_leaf=1, min_samples_split=3 .........\n",
      "[CV]  max_features=8, min_samples_leaf=1, min_samples_split=3, score=0.440, total=   0.5s\n",
      "[CV] max_features=8, min_samples_leaf=1, min_samples_split=3 .........\n",
      "[CV]  max_features=8, min_samples_leaf=1, min_samples_split=3, score=0.542, total=   0.4s\n",
      "[CV] max_features=8, min_samples_leaf=1, min_samples_split=3 .........\n",
      "[CV]  max_features=8, min_samples_leaf=1, min_samples_split=3, score=0.596, total=   0.4s\n",
      "[CV] max_features=8, min_samples_leaf=1, min_samples_split=3 .........\n",
      "[CV]  max_features=8, min_samples_leaf=1, min_samples_split=3, score=0.292, total=   0.4s\n",
      "[CV] max_features=8, min_samples_leaf=1, min_samples_split=3 .........\n",
      "[CV]  max_features=8, min_samples_leaf=1, min_samples_split=3, score=0.445, total=   0.4s\n",
      "[CV] max_features=8, min_samples_leaf=1, min_samples_split=9 .........\n",
      "[CV]  max_features=8, min_samples_leaf=1, min_samples_split=9, score=0.439, total=   0.4s\n",
      "[CV] max_features=8, min_samples_leaf=1, min_samples_split=9 .........\n",
      "[CV]  max_features=8, min_samples_leaf=1, min_samples_split=9, score=0.542, total=   0.4s\n",
      "[CV] max_features=8, min_samples_leaf=1, min_samples_split=9 .........\n",
      "[CV]  max_features=8, min_samples_leaf=1, min_samples_split=9, score=0.596, total=   0.4s\n",
      "[CV] max_features=8, min_samples_leaf=1, min_samples_split=9 .........\n",
      "[CV]  max_features=8, min_samples_leaf=1, min_samples_split=9, score=0.292, total=   0.4s\n",
      "[CV] max_features=8, min_samples_leaf=1, min_samples_split=9 .........\n",
      "[CV]  max_features=8, min_samples_leaf=1, min_samples_split=9, score=0.445, total=   0.4s\n",
      "[CV] max_features=8, min_samples_leaf=1, min_samples_split=27 ........\n",
      "[CV]  max_features=8, min_samples_leaf=1, min_samples_split=27, score=0.440, total=   0.4s\n",
      "[CV] max_features=8, min_samples_leaf=1, min_samples_split=27 ........\n",
      "[CV]  max_features=8, min_samples_leaf=1, min_samples_split=27, score=0.542, total=   0.4s\n",
      "[CV] max_features=8, min_samples_leaf=1, min_samples_split=27 ........\n",
      "[CV]  max_features=8, min_samples_leaf=1, min_samples_split=27, score=0.596, total=   0.4s\n",
      "[CV] max_features=8, min_samples_leaf=1, min_samples_split=27 ........\n",
      "[CV]  max_features=8, min_samples_leaf=1, min_samples_split=27, score=0.293, total=   0.4s\n",
      "[CV] max_features=8, min_samples_leaf=1, min_samples_split=27 ........\n",
      "[CV]  max_features=8, min_samples_leaf=1, min_samples_split=27, score=0.445, total=   0.4s\n",
      "[CV] max_features=8, min_samples_leaf=1, min_samples_split=81 ........\n",
      "[CV]  max_features=8, min_samples_leaf=1, min_samples_split=81, score=0.438, total=   0.4s\n",
      "[CV] max_features=8, min_samples_leaf=1, min_samples_split=81 ........\n",
      "[CV]  max_features=8, min_samples_leaf=1, min_samples_split=81, score=0.541, total=   0.4s\n",
      "[CV] max_features=8, min_samples_leaf=1, min_samples_split=81 ........\n",
      "[CV]  max_features=8, min_samples_leaf=1, min_samples_split=81, score=0.595, total=   0.4s\n",
      "[CV] max_features=8, min_samples_leaf=1, min_samples_split=81 ........\n",
      "[CV]  max_features=8, min_samples_leaf=1, min_samples_split=81, score=0.293, total=   0.4s\n",
      "[CV] max_features=8, min_samples_leaf=1, min_samples_split=81 ........\n",
      "[CV]  max_features=8, min_samples_leaf=1, min_samples_split=81, score=0.444, total=   0.5s\n",
      "[CV] max_features=8, min_samples_leaf=3, min_samples_split=3 .........\n",
      "[CV]  max_features=8, min_samples_leaf=3, min_samples_split=3, score=0.439, total=   0.5s\n",
      "[CV] max_features=8, min_samples_leaf=3, min_samples_split=3 .........\n",
      "[CV]  max_features=8, min_samples_leaf=3, min_samples_split=3, score=0.543, total=   0.4s\n",
      "[CV] max_features=8, min_samples_leaf=3, min_samples_split=3 .........\n",
      "[CV]  max_features=8, min_samples_leaf=3, min_samples_split=3, score=0.595, total=   0.5s\n",
      "[CV] max_features=8, min_samples_leaf=3, min_samples_split=3 .........\n",
      "[CV]  max_features=8, min_samples_leaf=3, min_samples_split=3, score=0.293, total=   0.4s\n",
      "[CV] max_features=8, min_samples_leaf=3, min_samples_split=3 .........\n"
     ]
    },
    {
     "name": "stdout",
     "output_type": "stream",
     "text": [
      "[CV]  max_features=8, min_samples_leaf=3, min_samples_split=3, score=0.445, total=   0.5s\n",
      "[CV] max_features=8, min_samples_leaf=3, min_samples_split=9 .........\n",
      "[CV]  max_features=8, min_samples_leaf=3, min_samples_split=9, score=0.439, total=   0.5s\n",
      "[CV] max_features=8, min_samples_leaf=3, min_samples_split=9 .........\n",
      "[CV]  max_features=8, min_samples_leaf=3, min_samples_split=9, score=0.543, total=   0.4s\n",
      "[CV] max_features=8, min_samples_leaf=3, min_samples_split=9 .........\n",
      "[CV]  max_features=8, min_samples_leaf=3, min_samples_split=9, score=0.595, total=   0.4s\n",
      "[CV] max_features=8, min_samples_leaf=3, min_samples_split=9 .........\n",
      "[CV]  max_features=8, min_samples_leaf=3, min_samples_split=9, score=0.293, total=   0.5s\n",
      "[CV] max_features=8, min_samples_leaf=3, min_samples_split=9 .........\n",
      "[CV]  max_features=8, min_samples_leaf=3, min_samples_split=9, score=0.445, total=   0.5s\n",
      "[CV] max_features=8, min_samples_leaf=3, min_samples_split=27 ........\n",
      "[CV]  max_features=8, min_samples_leaf=3, min_samples_split=27, score=0.439, total=   0.4s\n",
      "[CV] max_features=8, min_samples_leaf=3, min_samples_split=27 ........\n",
      "[CV]  max_features=8, min_samples_leaf=3, min_samples_split=27, score=0.543, total=   0.4s\n",
      "[CV] max_features=8, min_samples_leaf=3, min_samples_split=27 ........\n",
      "[CV]  max_features=8, min_samples_leaf=3, min_samples_split=27, score=0.596, total=   0.4s\n",
      "[CV] max_features=8, min_samples_leaf=3, min_samples_split=27 ........\n",
      "[CV]  max_features=8, min_samples_leaf=3, min_samples_split=27, score=0.293, total=   0.4s\n",
      "[CV] max_features=8, min_samples_leaf=3, min_samples_split=27 ........\n",
      "[CV]  max_features=8, min_samples_leaf=3, min_samples_split=27, score=0.445, total=   0.4s\n",
      "[CV] max_features=8, min_samples_leaf=3, min_samples_split=81 ........\n",
      "[CV]  max_features=8, min_samples_leaf=3, min_samples_split=81, score=0.438, total=   0.4s\n",
      "[CV] max_features=8, min_samples_leaf=3, min_samples_split=81 ........\n",
      "[CV]  max_features=8, min_samples_leaf=3, min_samples_split=81, score=0.542, total=   0.4s\n",
      "[CV] max_features=8, min_samples_leaf=3, min_samples_split=81 ........\n",
      "[CV]  max_features=8, min_samples_leaf=3, min_samples_split=81, score=0.595, total=   0.4s\n",
      "[CV] max_features=8, min_samples_leaf=3, min_samples_split=81 ........\n",
      "[CV]  max_features=8, min_samples_leaf=3, min_samples_split=81, score=0.293, total=   0.4s\n",
      "[CV] max_features=8, min_samples_leaf=3, min_samples_split=81 ........\n",
      "[CV]  max_features=8, min_samples_leaf=3, min_samples_split=81, score=0.444, total=   0.4s\n",
      "[CV] max_features=8, min_samples_leaf=9, min_samples_split=3 .........\n",
      "[CV]  max_features=8, min_samples_leaf=9, min_samples_split=3, score=0.439, total=   0.4s\n",
      "[CV] max_features=8, min_samples_leaf=9, min_samples_split=3 .........\n",
      "[CV]  max_features=8, min_samples_leaf=9, min_samples_split=3, score=0.541, total=   0.4s\n",
      "[CV] max_features=8, min_samples_leaf=9, min_samples_split=3 .........\n",
      "[CV]  max_features=8, min_samples_leaf=9, min_samples_split=3, score=0.594, total=   0.4s\n",
      "[CV] max_features=8, min_samples_leaf=9, min_samples_split=3 .........\n",
      "[CV]  max_features=8, min_samples_leaf=9, min_samples_split=3, score=0.292, total=   0.4s\n",
      "[CV] max_features=8, min_samples_leaf=9, min_samples_split=3 .........\n",
      "[CV]  max_features=8, min_samples_leaf=9, min_samples_split=3, score=0.445, total=   0.4s\n",
      "[CV] max_features=8, min_samples_leaf=9, min_samples_split=9 .........\n",
      "[CV]  max_features=8, min_samples_leaf=9, min_samples_split=9, score=0.439, total=   0.6s\n",
      "[CV] max_features=8, min_samples_leaf=9, min_samples_split=9 .........\n",
      "[CV]  max_features=8, min_samples_leaf=9, min_samples_split=9, score=0.541, total=   0.5s\n",
      "[CV] max_features=8, min_samples_leaf=9, min_samples_split=9 .........\n",
      "[CV]  max_features=8, min_samples_leaf=9, min_samples_split=9, score=0.594, total=   0.4s\n",
      "[CV] max_features=8, min_samples_leaf=9, min_samples_split=9 .........\n",
      "[CV]  max_features=8, min_samples_leaf=9, min_samples_split=9, score=0.292, total=   0.4s\n",
      "[CV] max_features=8, min_samples_leaf=9, min_samples_split=9 .........\n",
      "[CV]  max_features=8, min_samples_leaf=9, min_samples_split=9, score=0.445, total=   0.4s\n",
      "[CV] max_features=8, min_samples_leaf=9, min_samples_split=27 ........\n",
      "[CV]  max_features=8, min_samples_leaf=9, min_samples_split=27, score=0.439, total=   0.4s\n",
      "[CV] max_features=8, min_samples_leaf=9, min_samples_split=27 ........\n",
      "[CV]  max_features=8, min_samples_leaf=9, min_samples_split=27, score=0.541, total=   0.4s\n",
      "[CV] max_features=8, min_samples_leaf=9, min_samples_split=27 ........\n",
      "[CV]  max_features=8, min_samples_leaf=9, min_samples_split=27, score=0.594, total=   0.4s\n",
      "[CV] max_features=8, min_samples_leaf=9, min_samples_split=27 ........\n",
      "[CV]  max_features=8, min_samples_leaf=9, min_samples_split=27, score=0.292, total=   0.4s\n",
      "[CV] max_features=8, min_samples_leaf=9, min_samples_split=27 ........\n",
      "[CV]  max_features=8, min_samples_leaf=9, min_samples_split=27, score=0.445, total=   0.5s\n",
      "[CV] max_features=8, min_samples_leaf=9, min_samples_split=81 ........\n",
      "[CV]  max_features=8, min_samples_leaf=9, min_samples_split=81, score=0.438, total=   0.5s\n",
      "[CV] max_features=8, min_samples_leaf=9, min_samples_split=81 ........\n",
      "[CV]  max_features=8, min_samples_leaf=9, min_samples_split=81, score=0.541, total=   0.4s\n",
      "[CV] max_features=8, min_samples_leaf=9, min_samples_split=81 ........\n",
      "[CV]  max_features=8, min_samples_leaf=9, min_samples_split=81, score=0.595, total=   0.4s\n",
      "[CV] max_features=8, min_samples_leaf=9, min_samples_split=81 ........\n",
      "[CV]  max_features=8, min_samples_leaf=9, min_samples_split=81, score=0.293, total=   0.4s\n",
      "[CV] max_features=8, min_samples_leaf=9, min_samples_split=81 ........\n",
      "[CV]  max_features=8, min_samples_leaf=9, min_samples_split=81, score=0.444, total=   0.4s\n",
      "[CV] max_features=8, min_samples_leaf=27, min_samples_split=3 ........\n",
      "[CV]  max_features=8, min_samples_leaf=27, min_samples_split=3, score=0.434, total=   0.4s\n",
      "[CV] max_features=8, min_samples_leaf=27, min_samples_split=3 ........\n",
      "[CV]  max_features=8, min_samples_leaf=27, min_samples_split=3, score=0.537, total=   0.5s\n",
      "[CV] max_features=8, min_samples_leaf=27, min_samples_split=3 ........\n",
      "[CV]  max_features=8, min_samples_leaf=27, min_samples_split=3, score=0.588, total=   0.4s\n",
      "[CV] max_features=8, min_samples_leaf=27, min_samples_split=3 ........\n",
      "[CV]  max_features=8, min_samples_leaf=27, min_samples_split=3, score=0.288, total=   0.4s\n",
      "[CV] max_features=8, min_samples_leaf=27, min_samples_split=3 ........\n",
      "[CV]  max_features=8, min_samples_leaf=27, min_samples_split=3, score=0.441, total=   0.4s\n",
      "[CV] max_features=8, min_samples_leaf=27, min_samples_split=9 ........\n",
      "[CV]  max_features=8, min_samples_leaf=27, min_samples_split=9, score=0.434, total=   0.4s\n",
      "[CV] max_features=8, min_samples_leaf=27, min_samples_split=9 ........\n",
      "[CV]  max_features=8, min_samples_leaf=27, min_samples_split=9, score=0.537, total=   0.4s\n",
      "[CV] max_features=8, min_samples_leaf=27, min_samples_split=9 ........\n",
      "[CV]  max_features=8, min_samples_leaf=27, min_samples_split=9, score=0.588, total=   0.4s\n",
      "[CV] max_features=8, min_samples_leaf=27, min_samples_split=9 ........\n",
      "[CV]  max_features=8, min_samples_leaf=27, min_samples_split=9, score=0.288, total=   0.5s\n",
      "[CV] max_features=8, min_samples_leaf=27, min_samples_split=9 ........\n",
      "[CV]  max_features=8, min_samples_leaf=27, min_samples_split=9, score=0.441, total=   0.4s\n",
      "[CV] max_features=8, min_samples_leaf=27, min_samples_split=27 .......\n",
      "[CV]  max_features=8, min_samples_leaf=27, min_samples_split=27, score=0.434, total=   0.4s\n",
      "[CV] max_features=8, min_samples_leaf=27, min_samples_split=27 .......\n",
      "[CV]  max_features=8, min_samples_leaf=27, min_samples_split=27, score=0.537, total=   0.4s\n",
      "[CV] max_features=8, min_samples_leaf=27, min_samples_split=27 .......\n",
      "[CV]  max_features=8, min_samples_leaf=27, min_samples_split=27, score=0.588, total=   0.4s\n",
      "[CV] max_features=8, min_samples_leaf=27, min_samples_split=27 .......\n",
      "[CV]  max_features=8, min_samples_leaf=27, min_samples_split=27, score=0.288, total=   0.4s\n",
      "[CV] max_features=8, min_samples_leaf=27, min_samples_split=27 .......\n",
      "[CV]  max_features=8, min_samples_leaf=27, min_samples_split=27, score=0.441, total=   0.4s\n",
      "[CV] max_features=8, min_samples_leaf=27, min_samples_split=81 .......\n"
     ]
    },
    {
     "name": "stdout",
     "output_type": "stream",
     "text": [
      "[CV]  max_features=8, min_samples_leaf=27, min_samples_split=81, score=0.434, total=   0.4s\n",
      "[CV] max_features=8, min_samples_leaf=27, min_samples_split=81 .......\n",
      "[CV]  max_features=8, min_samples_leaf=27, min_samples_split=81, score=0.535, total=   0.5s\n",
      "[CV] max_features=8, min_samples_leaf=27, min_samples_split=81 .......\n",
      "[CV]  max_features=8, min_samples_leaf=27, min_samples_split=81, score=0.590, total=   0.4s\n",
      "[CV] max_features=8, min_samples_leaf=27, min_samples_split=81 .......\n",
      "[CV]  max_features=8, min_samples_leaf=27, min_samples_split=81, score=0.289, total=   0.4s\n",
      "[CV] max_features=8, min_samples_leaf=27, min_samples_split=81 .......\n",
      "[CV]  max_features=8, min_samples_leaf=27, min_samples_split=81, score=0.441, total=   0.4s\n",
      "[CV] max_features=32, min_samples_leaf=1, min_samples_split=3 ........\n",
      "[CV]  max_features=32, min_samples_leaf=1, min_samples_split=3, score=0.516, total=   0.7s\n",
      "[CV] max_features=32, min_samples_leaf=1, min_samples_split=3 ........\n",
      "[CV]  max_features=32, min_samples_leaf=1, min_samples_split=3, score=0.632, total=   0.7s\n",
      "[CV] max_features=32, min_samples_leaf=1, min_samples_split=3 ........\n",
      "[CV]  max_features=32, min_samples_leaf=1, min_samples_split=3, score=0.689, total=   0.7s\n",
      "[CV] max_features=32, min_samples_leaf=1, min_samples_split=3 ........\n",
      "[CV]  max_features=32, min_samples_leaf=1, min_samples_split=3, score=0.355, total=   0.7s\n",
      "[CV] max_features=32, min_samples_leaf=1, min_samples_split=3 ........\n",
      "[CV]  max_features=32, min_samples_leaf=1, min_samples_split=3, score=0.529, total=   0.7s\n",
      "[CV] max_features=32, min_samples_leaf=1, min_samples_split=9 ........\n",
      "[CV]  max_features=32, min_samples_leaf=1, min_samples_split=9, score=0.516, total=   0.7s\n",
      "[CV] max_features=32, min_samples_leaf=1, min_samples_split=9 ........\n",
      "[CV]  max_features=32, min_samples_leaf=1, min_samples_split=9, score=0.632, total=   0.7s\n",
      "[CV] max_features=32, min_samples_leaf=1, min_samples_split=9 ........\n",
      "[CV]  max_features=32, min_samples_leaf=1, min_samples_split=9, score=0.689, total=   0.8s\n",
      "[CV] max_features=32, min_samples_leaf=1, min_samples_split=9 ........\n",
      "[CV]  max_features=32, min_samples_leaf=1, min_samples_split=9, score=0.355, total=   0.8s\n",
      "[CV] max_features=32, min_samples_leaf=1, min_samples_split=9 ........\n",
      "[CV]  max_features=32, min_samples_leaf=1, min_samples_split=9, score=0.529, total=   0.7s\n",
      "[CV] max_features=32, min_samples_leaf=1, min_samples_split=27 .......\n",
      "[CV]  max_features=32, min_samples_leaf=1, min_samples_split=27, score=0.516, total=   0.7s\n",
      "[CV] max_features=32, min_samples_leaf=1, min_samples_split=27 .......\n",
      "[CV]  max_features=32, min_samples_leaf=1, min_samples_split=27, score=0.632, total=   0.7s\n",
      "[CV] max_features=32, min_samples_leaf=1, min_samples_split=27 .......\n",
      "[CV]  max_features=32, min_samples_leaf=1, min_samples_split=27, score=0.689, total=   0.8s\n",
      "[CV] max_features=32, min_samples_leaf=1, min_samples_split=27 .......\n",
      "[CV]  max_features=32, min_samples_leaf=1, min_samples_split=27, score=0.355, total=   0.7s\n",
      "[CV] max_features=32, min_samples_leaf=1, min_samples_split=27 .......\n",
      "[CV]  max_features=32, min_samples_leaf=1, min_samples_split=27, score=0.528, total=   0.7s\n",
      "[CV] max_features=32, min_samples_leaf=1, min_samples_split=81 .......\n",
      "[CV]  max_features=32, min_samples_leaf=1, min_samples_split=81, score=0.516, total=   0.7s\n",
      "[CV] max_features=32, min_samples_leaf=1, min_samples_split=81 .......\n",
      "[CV]  max_features=32, min_samples_leaf=1, min_samples_split=81, score=0.632, total=   0.8s\n",
      "[CV] max_features=32, min_samples_leaf=1, min_samples_split=81 .......\n",
      "[CV]  max_features=32, min_samples_leaf=1, min_samples_split=81, score=0.689, total=   0.8s\n",
      "[CV] max_features=32, min_samples_leaf=1, min_samples_split=81 .......\n",
      "[CV]  max_features=32, min_samples_leaf=1, min_samples_split=81, score=0.355, total=   0.9s\n",
      "[CV] max_features=32, min_samples_leaf=1, min_samples_split=81 .......\n",
      "[CV]  max_features=32, min_samples_leaf=1, min_samples_split=81, score=0.528, total=   0.7s\n",
      "[CV] max_features=32, min_samples_leaf=3, min_samples_split=3 ........\n",
      "[CV]  max_features=32, min_samples_leaf=3, min_samples_split=3, score=0.517, total=   0.9s\n",
      "[CV] max_features=32, min_samples_leaf=3, min_samples_split=3 ........\n",
      "[CV]  max_features=32, min_samples_leaf=3, min_samples_split=3, score=0.633, total=   1.0s\n",
      "[CV] max_features=32, min_samples_leaf=3, min_samples_split=3 ........\n",
      "[CV]  max_features=32, min_samples_leaf=3, min_samples_split=3, score=0.689, total=   0.8s\n",
      "[CV] max_features=32, min_samples_leaf=3, min_samples_split=3 ........\n",
      "[CV]  max_features=32, min_samples_leaf=3, min_samples_split=3, score=0.356, total=   0.8s\n",
      "[CV] max_features=32, min_samples_leaf=3, min_samples_split=3 ........\n",
      "[CV]  max_features=32, min_samples_leaf=3, min_samples_split=3, score=0.528, total=   0.7s\n",
      "[CV] max_features=32, min_samples_leaf=3, min_samples_split=9 ........\n",
      "[CV]  max_features=32, min_samples_leaf=3, min_samples_split=9, score=0.517, total=   0.7s\n",
      "[CV] max_features=32, min_samples_leaf=3, min_samples_split=9 ........\n",
      "[CV]  max_features=32, min_samples_leaf=3, min_samples_split=9, score=0.633, total=   0.7s\n",
      "[CV] max_features=32, min_samples_leaf=3, min_samples_split=9 ........\n",
      "[CV]  max_features=32, min_samples_leaf=3, min_samples_split=9, score=0.689, total=   0.7s\n",
      "[CV] max_features=32, min_samples_leaf=3, min_samples_split=9 ........\n",
      "[CV]  max_features=32, min_samples_leaf=3, min_samples_split=9, score=0.356, total=   0.7s\n",
      "[CV] max_features=32, min_samples_leaf=3, min_samples_split=9 ........\n",
      "[CV]  max_features=32, min_samples_leaf=3, min_samples_split=9, score=0.528, total=   0.7s\n",
      "[CV] max_features=32, min_samples_leaf=3, min_samples_split=27 .......\n",
      "[CV]  max_features=32, min_samples_leaf=3, min_samples_split=27, score=0.517, total=   0.7s\n",
      "[CV] max_features=32, min_samples_leaf=3, min_samples_split=27 .......\n",
      "[CV]  max_features=32, min_samples_leaf=3, min_samples_split=27, score=0.633, total=   0.7s\n",
      "[CV] max_features=32, min_samples_leaf=3, min_samples_split=27 .......\n",
      "[CV]  max_features=32, min_samples_leaf=3, min_samples_split=27, score=0.689, total=   0.8s\n",
      "[CV] max_features=32, min_samples_leaf=3, min_samples_split=27 .......\n",
      "[CV]  max_features=32, min_samples_leaf=3, min_samples_split=27, score=0.356, total=   0.8s\n",
      "[CV] max_features=32, min_samples_leaf=3, min_samples_split=27 .......\n",
      "[CV]  max_features=32, min_samples_leaf=3, min_samples_split=27, score=0.528, total=   0.8s\n",
      "[CV] max_features=32, min_samples_leaf=3, min_samples_split=81 .......\n",
      "[CV]  max_features=32, min_samples_leaf=3, min_samples_split=81, score=0.517, total=   0.9s\n",
      "[CV] max_features=32, min_samples_leaf=3, min_samples_split=81 .......\n",
      "[CV]  max_features=32, min_samples_leaf=3, min_samples_split=81, score=0.632, total=   0.8s\n",
      "[CV] max_features=32, min_samples_leaf=3, min_samples_split=81 .......\n",
      "[CV]  max_features=32, min_samples_leaf=3, min_samples_split=81, score=0.689, total=   0.8s\n",
      "[CV] max_features=32, min_samples_leaf=3, min_samples_split=81 .......\n",
      "[CV]  max_features=32, min_samples_leaf=3, min_samples_split=81, score=0.355, total=   0.8s\n",
      "[CV] max_features=32, min_samples_leaf=3, min_samples_split=81 .......\n",
      "[CV]  max_features=32, min_samples_leaf=3, min_samples_split=81, score=0.528, total=   0.8s\n",
      "[CV] max_features=32, min_samples_leaf=9, min_samples_split=3 ........\n",
      "[CV]  max_features=32, min_samples_leaf=9, min_samples_split=3, score=0.518, total=   0.7s\n",
      "[CV] max_features=32, min_samples_leaf=9, min_samples_split=3 ........\n",
      "[CV]  max_features=32, min_samples_leaf=9, min_samples_split=3, score=0.633, total=   0.7s\n",
      "[CV] max_features=32, min_samples_leaf=9, min_samples_split=3 ........\n",
      "[CV]  max_features=32, min_samples_leaf=9, min_samples_split=3, score=0.688, total=   0.7s\n",
      "[CV] max_features=32, min_samples_leaf=9, min_samples_split=3 ........\n",
      "[CV]  max_features=32, min_samples_leaf=9, min_samples_split=3, score=0.356, total=   0.7s\n",
      "[CV] max_features=32, min_samples_leaf=9, min_samples_split=3 ........\n",
      "[CV]  max_features=32, min_samples_leaf=9, min_samples_split=3, score=0.528, total=   0.7s\n",
      "[CV] max_features=32, min_samples_leaf=9, min_samples_split=9 ........\n",
      "[CV]  max_features=32, min_samples_leaf=9, min_samples_split=9, score=0.518, total=   0.7s\n",
      "[CV] max_features=32, min_samples_leaf=9, min_samples_split=9 ........\n"
     ]
    },
    {
     "name": "stdout",
     "output_type": "stream",
     "text": [
      "[CV]  max_features=32, min_samples_leaf=9, min_samples_split=9, score=0.633, total=   0.7s\n",
      "[CV] max_features=32, min_samples_leaf=9, min_samples_split=9 ........\n",
      "[CV]  max_features=32, min_samples_leaf=9, min_samples_split=9, score=0.688, total=   0.7s\n",
      "[CV] max_features=32, min_samples_leaf=9, min_samples_split=9 ........\n",
      "[CV]  max_features=32, min_samples_leaf=9, min_samples_split=9, score=0.356, total=   0.7s\n",
      "[CV] max_features=32, min_samples_leaf=9, min_samples_split=9 ........\n",
      "[CV]  max_features=32, min_samples_leaf=9, min_samples_split=9, score=0.528, total=   0.7s\n",
      "[CV] max_features=32, min_samples_leaf=9, min_samples_split=27 .......\n",
      "[CV]  max_features=32, min_samples_leaf=9, min_samples_split=27, score=0.518, total=   0.7s\n",
      "[CV] max_features=32, min_samples_leaf=9, min_samples_split=27 .......\n",
      "[CV]  max_features=32, min_samples_leaf=9, min_samples_split=27, score=0.633, total=   0.7s\n",
      "[CV] max_features=32, min_samples_leaf=9, min_samples_split=27 .......\n",
      "[CV]  max_features=32, min_samples_leaf=9, min_samples_split=27, score=0.688, total=   0.7s\n",
      "[CV] max_features=32, min_samples_leaf=9, min_samples_split=27 .......\n",
      "[CV]  max_features=32, min_samples_leaf=9, min_samples_split=27, score=0.356, total=   0.7s\n",
      "[CV] max_features=32, min_samples_leaf=9, min_samples_split=27 .......\n",
      "[CV]  max_features=32, min_samples_leaf=9, min_samples_split=27, score=0.528, total=   0.7s\n",
      "[CV] max_features=32, min_samples_leaf=9, min_samples_split=81 .......\n",
      "[CV]  max_features=32, min_samples_leaf=9, min_samples_split=81, score=0.518, total=   0.7s\n",
      "[CV] max_features=32, min_samples_leaf=9, min_samples_split=81 .......\n",
      "[CV]  max_features=32, min_samples_leaf=9, min_samples_split=81, score=0.632, total=   0.7s\n",
      "[CV] max_features=32, min_samples_leaf=9, min_samples_split=81 .......\n",
      "[CV]  max_features=32, min_samples_leaf=9, min_samples_split=81, score=0.688, total=   0.7s\n",
      "[CV] max_features=32, min_samples_leaf=9, min_samples_split=81 .......\n",
      "[CV]  max_features=32, min_samples_leaf=9, min_samples_split=81, score=0.355, total=   0.7s\n",
      "[CV] max_features=32, min_samples_leaf=9, min_samples_split=81 .......\n",
      "[CV]  max_features=32, min_samples_leaf=9, min_samples_split=81, score=0.528, total=   0.7s\n",
      "[CV] max_features=32, min_samples_leaf=27, min_samples_split=3 .......\n",
      "[CV]  max_features=32, min_samples_leaf=27, min_samples_split=3, score=0.517, total=   0.7s\n",
      "[CV] max_features=32, min_samples_leaf=27, min_samples_split=3 .......\n",
      "[CV]  max_features=32, min_samples_leaf=27, min_samples_split=3, score=0.630, total=   0.7s\n",
      "[CV] max_features=32, min_samples_leaf=27, min_samples_split=3 .......\n",
      "[CV]  max_features=32, min_samples_leaf=27, min_samples_split=3, score=0.686, total=   0.7s\n",
      "[CV] max_features=32, min_samples_leaf=27, min_samples_split=3 .......\n",
      "[CV]  max_features=32, min_samples_leaf=27, min_samples_split=3, score=0.354, total=   0.7s\n",
      "[CV] max_features=32, min_samples_leaf=27, min_samples_split=3 .......\n",
      "[CV]  max_features=32, min_samples_leaf=27, min_samples_split=3, score=0.525, total=   0.7s\n",
      "[CV] max_features=32, min_samples_leaf=27, min_samples_split=9 .......\n",
      "[CV]  max_features=32, min_samples_leaf=27, min_samples_split=9, score=0.517, total=   0.7s\n",
      "[CV] max_features=32, min_samples_leaf=27, min_samples_split=9 .......\n",
      "[CV]  max_features=32, min_samples_leaf=27, min_samples_split=9, score=0.630, total=   0.7s\n",
      "[CV] max_features=32, min_samples_leaf=27, min_samples_split=9 .......\n",
      "[CV]  max_features=32, min_samples_leaf=27, min_samples_split=9, score=0.686, total=   0.7s\n",
      "[CV] max_features=32, min_samples_leaf=27, min_samples_split=9 .......\n",
      "[CV]  max_features=32, min_samples_leaf=27, min_samples_split=9, score=0.354, total=   0.7s\n",
      "[CV] max_features=32, min_samples_leaf=27, min_samples_split=9 .......\n",
      "[CV]  max_features=32, min_samples_leaf=27, min_samples_split=9, score=0.525, total=   0.7s\n",
      "[CV] max_features=32, min_samples_leaf=27, min_samples_split=27 ......\n",
      "[CV]  max_features=32, min_samples_leaf=27, min_samples_split=27, score=0.517, total=   0.7s\n",
      "[CV] max_features=32, min_samples_leaf=27, min_samples_split=27 ......\n",
      "[CV]  max_features=32, min_samples_leaf=27, min_samples_split=27, score=0.630, total=   0.7s\n",
      "[CV] max_features=32, min_samples_leaf=27, min_samples_split=27 ......\n",
      "[CV]  max_features=32, min_samples_leaf=27, min_samples_split=27, score=0.686, total=   0.7s\n",
      "[CV] max_features=32, min_samples_leaf=27, min_samples_split=27 ......\n",
      "[CV]  max_features=32, min_samples_leaf=27, min_samples_split=27, score=0.354, total=   0.7s\n",
      "[CV] max_features=32, min_samples_leaf=27, min_samples_split=27 ......\n",
      "[CV]  max_features=32, min_samples_leaf=27, min_samples_split=27, score=0.525, total=   0.7s\n",
      "[CV] max_features=32, min_samples_leaf=27, min_samples_split=81 ......\n",
      "[CV]  max_features=32, min_samples_leaf=27, min_samples_split=81, score=0.517, total=   0.7s\n",
      "[CV] max_features=32, min_samples_leaf=27, min_samples_split=81 ......\n",
      "[CV]  max_features=32, min_samples_leaf=27, min_samples_split=81, score=0.630, total=   0.7s\n",
      "[CV] max_features=32, min_samples_leaf=27, min_samples_split=81 ......\n",
      "[CV]  max_features=32, min_samples_leaf=27, min_samples_split=81, score=0.686, total=   0.7s\n",
      "[CV] max_features=32, min_samples_leaf=27, min_samples_split=81 ......\n",
      "[CV]  max_features=32, min_samples_leaf=27, min_samples_split=81, score=0.355, total=   0.7s\n",
      "[CV] max_features=32, min_samples_leaf=27, min_samples_split=81 ......\n",
      "[CV]  max_features=32, min_samples_leaf=27, min_samples_split=81, score=0.525, total=   0.7s\n",
      "[CV] max_features=128, min_samples_leaf=1, min_samples_split=3 .......\n",
      "[CV]  max_features=128, min_samples_leaf=1, min_samples_split=3, score=0.529, total=   2.0s\n",
      "[CV] max_features=128, min_samples_leaf=1, min_samples_split=3 .......\n",
      "[CV]  max_features=128, min_samples_leaf=1, min_samples_split=3, score=0.646, total=   2.2s\n",
      "[CV] max_features=128, min_samples_leaf=1, min_samples_split=3 .......\n",
      "[CV]  max_features=128, min_samples_leaf=1, min_samples_split=3, score=0.703, total=   2.6s\n",
      "[CV] max_features=128, min_samples_leaf=1, min_samples_split=3 .......\n",
      "[CV]  max_features=128, min_samples_leaf=1, min_samples_split=3, score=0.373, total=   2.2s\n",
      "[CV] max_features=128, min_samples_leaf=1, min_samples_split=3 .......\n",
      "[CV]  max_features=128, min_samples_leaf=1, min_samples_split=3, score=0.533, total=   2.0s\n",
      "[CV] max_features=128, min_samples_leaf=1, min_samples_split=9 .......\n",
      "[CV]  max_features=128, min_samples_leaf=1, min_samples_split=9, score=0.529, total=   1.9s\n",
      "[CV] max_features=128, min_samples_leaf=1, min_samples_split=9 .......\n",
      "[CV]  max_features=128, min_samples_leaf=1, min_samples_split=9, score=0.646, total=   1.9s\n",
      "[CV] max_features=128, min_samples_leaf=1, min_samples_split=9 .......\n",
      "[CV]  max_features=128, min_samples_leaf=1, min_samples_split=9, score=0.702, total=   1.9s\n",
      "[CV] max_features=128, min_samples_leaf=1, min_samples_split=9 .......\n",
      "[CV]  max_features=128, min_samples_leaf=1, min_samples_split=9, score=0.373, total=   1.9s\n",
      "[CV] max_features=128, min_samples_leaf=1, min_samples_split=9 .......\n",
      "[CV]  max_features=128, min_samples_leaf=1, min_samples_split=9, score=0.533, total=   1.9s\n",
      "[CV] max_features=128, min_samples_leaf=1, min_samples_split=27 ......\n",
      "[CV]  max_features=128, min_samples_leaf=1, min_samples_split=27, score=0.529, total=   1.9s\n",
      "[CV] max_features=128, min_samples_leaf=1, min_samples_split=27 ......\n",
      "[CV]  max_features=128, min_samples_leaf=1, min_samples_split=27, score=0.646, total=   1.9s\n",
      "[CV] max_features=128, min_samples_leaf=1, min_samples_split=27 ......\n",
      "[CV]  max_features=128, min_samples_leaf=1, min_samples_split=27, score=0.703, total=   1.9s\n",
      "[CV] max_features=128, min_samples_leaf=1, min_samples_split=27 ......\n",
      "[CV]  max_features=128, min_samples_leaf=1, min_samples_split=27, score=0.372, total=   1.9s\n",
      "[CV] max_features=128, min_samples_leaf=1, min_samples_split=27 ......\n",
      "[CV]  max_features=128, min_samples_leaf=1, min_samples_split=27, score=0.532, total=   1.9s\n",
      "[CV] max_features=128, min_samples_leaf=1, min_samples_split=81 ......\n",
      "[CV]  max_features=128, min_samples_leaf=1, min_samples_split=81, score=0.529, total=   2.0s\n",
      "[CV] max_features=128, min_samples_leaf=1, min_samples_split=81 ......\n",
      "[CV]  max_features=128, min_samples_leaf=1, min_samples_split=81, score=0.646, total=   1.9s\n",
      "[CV] max_features=128, min_samples_leaf=1, min_samples_split=81 ......\n"
     ]
    },
    {
     "name": "stdout",
     "output_type": "stream",
     "text": [
      "[CV]  max_features=128, min_samples_leaf=1, min_samples_split=81, score=0.703, total=   1.9s\n",
      "[CV] max_features=128, min_samples_leaf=1, min_samples_split=81 ......\n",
      "[CV]  max_features=128, min_samples_leaf=1, min_samples_split=81, score=0.374, total=   1.9s\n",
      "[CV] max_features=128, min_samples_leaf=1, min_samples_split=81 ......\n",
      "[CV]  max_features=128, min_samples_leaf=1, min_samples_split=81, score=0.532, total=   1.9s\n",
      "[CV] max_features=128, min_samples_leaf=3, min_samples_split=3 .......\n",
      "[CV]  max_features=128, min_samples_leaf=3, min_samples_split=3, score=0.529, total=   1.9s\n",
      "[CV] max_features=128, min_samples_leaf=3, min_samples_split=3 .......\n",
      "[CV]  max_features=128, min_samples_leaf=3, min_samples_split=3, score=0.647, total=   1.9s\n",
      "[CV] max_features=128, min_samples_leaf=3, min_samples_split=3 .......\n",
      "[CV]  max_features=128, min_samples_leaf=3, min_samples_split=3, score=0.703, total=   1.9s\n",
      "[CV] max_features=128, min_samples_leaf=3, min_samples_split=3 .......\n",
      "[CV]  max_features=128, min_samples_leaf=3, min_samples_split=3, score=0.374, total=   1.9s\n",
      "[CV] max_features=128, min_samples_leaf=3, min_samples_split=3 .......\n",
      "[CV]  max_features=128, min_samples_leaf=3, min_samples_split=3, score=0.532, total=   1.9s\n",
      "[CV] max_features=128, min_samples_leaf=3, min_samples_split=9 .......\n",
      "[CV]  max_features=128, min_samples_leaf=3, min_samples_split=9, score=0.529, total=   1.9s\n",
      "[CV] max_features=128, min_samples_leaf=3, min_samples_split=9 .......\n",
      "[CV]  max_features=128, min_samples_leaf=3, min_samples_split=9, score=0.647, total=   1.9s\n",
      "[CV] max_features=128, min_samples_leaf=3, min_samples_split=9 .......\n",
      "[CV]  max_features=128, min_samples_leaf=3, min_samples_split=9, score=0.703, total=   2.0s\n",
      "[CV] max_features=128, min_samples_leaf=3, min_samples_split=9 .......\n",
      "[CV]  max_features=128, min_samples_leaf=3, min_samples_split=9, score=0.374, total=   2.1s\n",
      "[CV] max_features=128, min_samples_leaf=3, min_samples_split=9 .......\n",
      "[CV]  max_features=128, min_samples_leaf=3, min_samples_split=9, score=0.532, total=   2.1s\n",
      "[CV] max_features=128, min_samples_leaf=3, min_samples_split=27 ......\n",
      "[CV]  max_features=128, min_samples_leaf=3, min_samples_split=27, score=0.529, total=   2.0s\n",
      "[CV] max_features=128, min_samples_leaf=3, min_samples_split=27 ......\n",
      "[CV]  max_features=128, min_samples_leaf=3, min_samples_split=27, score=0.647, total=   1.9s\n",
      "[CV] max_features=128, min_samples_leaf=3, min_samples_split=27 ......\n",
      "[CV]  max_features=128, min_samples_leaf=3, min_samples_split=27, score=0.703, total=   2.0s\n",
      "[CV] max_features=128, min_samples_leaf=3, min_samples_split=27 ......\n",
      "[CV]  max_features=128, min_samples_leaf=3, min_samples_split=27, score=0.373, total=   2.0s\n",
      "[CV] max_features=128, min_samples_leaf=3, min_samples_split=27 ......\n",
      "[CV]  max_features=128, min_samples_leaf=3, min_samples_split=27, score=0.532, total=   2.1s\n",
      "[CV] max_features=128, min_samples_leaf=3, min_samples_split=81 ......\n",
      "[CV]  max_features=128, min_samples_leaf=3, min_samples_split=81, score=0.529, total=   2.0s\n",
      "[CV] max_features=128, min_samples_leaf=3, min_samples_split=81 ......\n",
      "[CV]  max_features=128, min_samples_leaf=3, min_samples_split=81, score=0.647, total=   2.0s\n",
      "[CV] max_features=128, min_samples_leaf=3, min_samples_split=81 ......\n",
      "[CV]  max_features=128, min_samples_leaf=3, min_samples_split=81, score=0.704, total=   2.0s\n",
      "[CV] max_features=128, min_samples_leaf=3, min_samples_split=81 ......\n",
      "[CV]  max_features=128, min_samples_leaf=3, min_samples_split=81, score=0.373, total=   2.0s\n",
      "[CV] max_features=128, min_samples_leaf=3, min_samples_split=81 ......\n",
      "[CV]  max_features=128, min_samples_leaf=3, min_samples_split=81, score=0.533, total=   2.0s\n",
      "[CV] max_features=128, min_samples_leaf=9, min_samples_split=3 .......\n",
      "[CV]  max_features=128, min_samples_leaf=9, min_samples_split=3, score=0.531, total=   1.9s\n",
      "[CV] max_features=128, min_samples_leaf=9, min_samples_split=3 .......\n",
      "[CV]  max_features=128, min_samples_leaf=9, min_samples_split=3, score=0.647, total=   1.9s\n",
      "[CV] max_features=128, min_samples_leaf=9, min_samples_split=3 .......\n",
      "[CV]  max_features=128, min_samples_leaf=9, min_samples_split=3, score=0.703, total=   2.0s\n",
      "[CV] max_features=128, min_samples_leaf=9, min_samples_split=3 .......\n",
      "[CV]  max_features=128, min_samples_leaf=9, min_samples_split=3, score=0.374, total=   2.0s\n",
      "[CV] max_features=128, min_samples_leaf=9, min_samples_split=3 .......\n",
      "[CV]  max_features=128, min_samples_leaf=9, min_samples_split=3, score=0.533, total=   2.2s\n",
      "[CV] max_features=128, min_samples_leaf=9, min_samples_split=9 .......\n",
      "[CV]  max_features=128, min_samples_leaf=9, min_samples_split=9, score=0.531, total=   2.1s\n",
      "[CV] max_features=128, min_samples_leaf=9, min_samples_split=9 .......\n",
      "[CV]  max_features=128, min_samples_leaf=9, min_samples_split=9, score=0.647, total=   2.1s\n",
      "[CV] max_features=128, min_samples_leaf=9, min_samples_split=9 .......\n",
      "[CV]  max_features=128, min_samples_leaf=9, min_samples_split=9, score=0.703, total=   2.0s\n",
      "[CV] max_features=128, min_samples_leaf=9, min_samples_split=9 .......\n",
      "[CV]  max_features=128, min_samples_leaf=9, min_samples_split=9, score=0.374, total=   2.1s\n",
      "[CV] max_features=128, min_samples_leaf=9, min_samples_split=9 .......\n",
      "[CV]  max_features=128, min_samples_leaf=9, min_samples_split=9, score=0.533, total=   2.1s\n",
      "[CV] max_features=128, min_samples_leaf=9, min_samples_split=27 ......\n",
      "[CV]  max_features=128, min_samples_leaf=9, min_samples_split=27, score=0.531, total=   2.1s\n",
      "[CV] max_features=128, min_samples_leaf=9, min_samples_split=27 ......\n",
      "[CV]  max_features=128, min_samples_leaf=9, min_samples_split=27, score=0.647, total=   2.0s\n",
      "[CV] max_features=128, min_samples_leaf=9, min_samples_split=27 ......\n",
      "[CV]  max_features=128, min_samples_leaf=9, min_samples_split=27, score=0.702, total=   2.0s\n",
      "[CV] max_features=128, min_samples_leaf=9, min_samples_split=27 ......\n",
      "[CV]  max_features=128, min_samples_leaf=9, min_samples_split=27, score=0.374, total=   2.1s\n",
      "[CV] max_features=128, min_samples_leaf=9, min_samples_split=27 ......\n",
      "[CV]  max_features=128, min_samples_leaf=9, min_samples_split=27, score=0.533, total=   2.0s\n",
      "[CV] max_features=128, min_samples_leaf=9, min_samples_split=81 ......\n",
      "[CV]  max_features=128, min_samples_leaf=9, min_samples_split=81, score=0.532, total=   2.0s\n",
      "[CV] max_features=128, min_samples_leaf=9, min_samples_split=81 ......\n",
      "[CV]  max_features=128, min_samples_leaf=9, min_samples_split=81, score=0.647, total=   2.0s\n",
      "[CV] max_features=128, min_samples_leaf=9, min_samples_split=81 ......\n",
      "[CV]  max_features=128, min_samples_leaf=9, min_samples_split=81, score=0.703, total=   2.0s\n",
      "[CV] max_features=128, min_samples_leaf=9, min_samples_split=81 ......\n",
      "[CV]  max_features=128, min_samples_leaf=9, min_samples_split=81, score=0.374, total=   2.0s\n",
      "[CV] max_features=128, min_samples_leaf=9, min_samples_split=81 ......\n",
      "[CV]  max_features=128, min_samples_leaf=9, min_samples_split=81, score=0.533, total=   2.0s\n",
      "[CV] max_features=128, min_samples_leaf=27, min_samples_split=3 ......\n",
      "[CV]  max_features=128, min_samples_leaf=27, min_samples_split=3, score=0.531, total=   2.0s\n",
      "[CV] max_features=128, min_samples_leaf=27, min_samples_split=3 ......\n",
      "[CV]  max_features=128, min_samples_leaf=27, min_samples_split=3, score=0.645, total=   2.0s\n",
      "[CV] max_features=128, min_samples_leaf=27, min_samples_split=3 ......\n",
      "[CV]  max_features=128, min_samples_leaf=27, min_samples_split=3, score=0.703, total=   2.1s\n",
      "[CV] max_features=128, min_samples_leaf=27, min_samples_split=3 ......\n",
      "[CV]  max_features=128, min_samples_leaf=27, min_samples_split=3, score=0.372, total=   2.0s\n",
      "[CV] max_features=128, min_samples_leaf=27, min_samples_split=3 ......\n",
      "[CV]  max_features=128, min_samples_leaf=27, min_samples_split=3, score=0.530, total=   2.0s\n",
      "[CV] max_features=128, min_samples_leaf=27, min_samples_split=9 ......\n",
      "[CV]  max_features=128, min_samples_leaf=27, min_samples_split=9, score=0.531, total=   2.0s\n",
      "[CV] max_features=128, min_samples_leaf=27, min_samples_split=9 ......\n",
      "[CV]  max_features=128, min_samples_leaf=27, min_samples_split=9, score=0.645, total=   2.0s\n",
      "[CV] max_features=128, min_samples_leaf=27, min_samples_split=9 ......\n",
      "[CV]  max_features=128, min_samples_leaf=27, min_samples_split=9, score=0.703, total=   2.1s\n",
      "[CV] max_features=128, min_samples_leaf=27, min_samples_split=9 ......\n"
     ]
    },
    {
     "name": "stdout",
     "output_type": "stream",
     "text": [
      "[CV]  max_features=128, min_samples_leaf=27, min_samples_split=9, score=0.372, total=   2.1s\n",
      "[CV] max_features=128, min_samples_leaf=27, min_samples_split=9 ......\n",
      "[CV]  max_features=128, min_samples_leaf=27, min_samples_split=9, score=0.530, total=   2.1s\n",
      "[CV] max_features=128, min_samples_leaf=27, min_samples_split=27 .....\n",
      "[CV]  max_features=128, min_samples_leaf=27, min_samples_split=27, score=0.531, total=   2.6s\n",
      "[CV] max_features=128, min_samples_leaf=27, min_samples_split=27 .....\n",
      "[CV]  max_features=128, min_samples_leaf=27, min_samples_split=27, score=0.645, total=   2.1s\n",
      "[CV] max_features=128, min_samples_leaf=27, min_samples_split=27 .....\n",
      "[CV]  max_features=128, min_samples_leaf=27, min_samples_split=27, score=0.703, total=   2.1s\n",
      "[CV] max_features=128, min_samples_leaf=27, min_samples_split=27 .....\n",
      "[CV]  max_features=128, min_samples_leaf=27, min_samples_split=27, score=0.372, total=   2.1s\n",
      "[CV] max_features=128, min_samples_leaf=27, min_samples_split=27 .....\n",
      "[CV]  max_features=128, min_samples_leaf=27, min_samples_split=27, score=0.530, total=   2.1s\n",
      "[CV] max_features=128, min_samples_leaf=27, min_samples_split=81 .....\n",
      "[CV]  max_features=128, min_samples_leaf=27, min_samples_split=81, score=0.531, total=   2.1s\n",
      "[CV] max_features=128, min_samples_leaf=27, min_samples_split=81 .....\n",
      "[CV]  max_features=128, min_samples_leaf=27, min_samples_split=81, score=0.646, total=   2.0s\n",
      "[CV] max_features=128, min_samples_leaf=27, min_samples_split=81 .....\n",
      "[CV]  max_features=128, min_samples_leaf=27, min_samples_split=81, score=0.703, total=   2.0s\n",
      "[CV] max_features=128, min_samples_leaf=27, min_samples_split=81 .....\n",
      "[CV]  max_features=128, min_samples_leaf=27, min_samples_split=81, score=0.373, total=   2.0s\n",
      "[CV] max_features=128, min_samples_leaf=27, min_samples_split=81 .....\n",
      "[CV]  max_features=128, min_samples_leaf=27, min_samples_split=81, score=0.530, total=   2.0s\n"
     ]
    },
    {
     "name": "stderr",
     "output_type": "stream",
     "text": [
      "[Parallel(n_jobs=1)]: Done 320 out of 320 | elapsed:  4.6min finished\n"
     ]
    },
    {
     "data": {
      "text/plain": [
       "GridSearchCV(cv=None, error_score=nan,\n",
       "             estimator=GradientBoostingRegressor(alpha=0.9, ccp_alpha=0.0,\n",
       "                                                 criterion='friedman_mse',\n",
       "                                                 init=None, learning_rate=0.01,\n",
       "                                                 loss='ls', max_depth=2,\n",
       "                                                 max_features=None,\n",
       "                                                 max_leaf_nodes=None,\n",
       "                                                 min_impurity_decrease=0.0,\n",
       "                                                 min_impurity_split=None,\n",
       "                                                 min_samples_leaf=1,\n",
       "                                                 min_samples_split=2,\n",
       "                                                 min_weight_fraction_leaf=0.0,\n",
       "                                                 n_estimators=512,\n",
       "                                                 n_it...\n",
       "                                                 presort='deprecated',\n",
       "                                                 random_state=1, subsample=1.0,\n",
       "                                                 tol=0.0001,\n",
       "                                                 validation_fraction=0.1,\n",
       "                                                 verbose=0, warm_start=True),\n",
       "             iid='deprecated', n_jobs=None,\n",
       "             param_grid={'max_features': array([  2,   8,  32, 128], dtype=int32),\n",
       "                         'min_samples_leaf': [1, 3, 9, 27],\n",
       "                         'min_samples_split': [3, 9, 27, 81]},\n",
       "             pre_dispatch='2*n_jobs', refit=True, return_train_score=False,\n",
       "             scoring=make_scorer(r2_score), verbose=3)"
      ]
     },
     "execution_count": 38,
     "metadata": {},
     "output_type": "execute_result"
    }
   ],
   "source": [
    "gs.fit(x1,y1)"
   ]
  },
  {
   "cell_type": "code",
   "execution_count": 39,
   "metadata": {
    "colab": {
     "base_uri": "https://localhost:8080/",
     "height": 34
    },
    "colab_type": "code",
    "id": "nMSGw7pEJ7cP",
    "outputId": "12fb4089-3cbd-4414-af41-4005908b8ce9"
   },
   "outputs": [
    {
     "data": {
      "text/plain": [
       "{'max_features': 128, 'min_samples_leaf': 9, 'min_samples_split': 81}"
      ]
     },
     "execution_count": 39,
     "metadata": {},
     "output_type": "execute_result"
    }
   ],
   "source": [
    "gs.best_params_"
   ]
  },
  {
   "cell_type": "code",
   "execution_count": 40,
   "metadata": {
    "colab": {
     "base_uri": "https://localhost:8080/",
     "height": 170
    },
    "colab_type": "code",
    "id": "9qiiWxL-JoWq",
    "outputId": "7c12092a-5cf8-437f-8b75-d30e1a2f1feb"
   },
   "outputs": [
    {
     "data": {
      "text/plain": [
       "GradientBoostingRegressor(alpha=0.9, ccp_alpha=0.0, criterion='friedman_mse',\n",
       "                          init=None, learning_rate=0.01, loss='ls', max_depth=2,\n",
       "                          max_features=128, max_leaf_nodes=None,\n",
       "                          min_impurity_decrease=0.0, min_impurity_split=None,\n",
       "                          min_samples_leaf=9, min_samples_split=81,\n",
       "                          min_weight_fraction_leaf=0.0, n_estimators=512,\n",
       "                          n_iter_no_change=None, presort='deprecated',\n",
       "                          random_state=1, subsample=1.0, tol=0.0001,\n",
       "                          validation_fraction=0.1, verbose=0, warm_start=True)"
      ]
     },
     "execution_count": 40,
     "metadata": {},
     "output_type": "execute_result"
    }
   ],
   "source": [
    "GBR_hp = GradientBoostingRegressor(learning_rate = 0.01,\n",
    "                                   n_estimators = 512,\n",
    "                                   max_depth = 2,\n",
    "                                   max_features = 128,\n",
    "                                   min_samples_leaf = 9,\n",
    "                                   min_samples_split = 81,\n",
    "                                   random_state=1,\n",
    "                                   warm_start = True\n",
    ")\n",
    "GBR_hp.fit(x1, y1)"
   ]
  },
  {
   "cell_type": "code",
   "execution_count": 41,
   "metadata": {
    "colab": {
     "base_uri": "https://localhost:8080/",
     "height": 34
    },
    "colab_type": "code",
    "id": "t65LTPDgKJxA",
    "outputId": "5827425f-23d8-4a9e-a973-626d377ef6ad"
   },
   "outputs": [
    {
     "data": {
      "text/plain": [
       "0.5504018138108344"
      ]
     },
     "execution_count": 41,
     "metadata": {},
     "output_type": "execute_result"
    }
   ],
   "source": [
    "GBR_hp.score(x1,y1)"
   ]
  },
  {
   "cell_type": "markdown",
   "metadata": {
    "colab_type": "text",
    "id": "fBxO2A3zaoUD"
   },
   "source": [
    "__Задание 3.__\n",
    "\n",
    " __(1 балл)__ Выведите качество случайного леса и градиентного бустинга на x2, y2, а также качество модели, представляющей собой усреднение предсказаний двух обученных моделей. Какой из трех вариантов работает лучше?"
   ]
  },
  {
   "cell_type": "code",
   "execution_count": 42,
   "metadata": {
    "colab": {
     "base_uri": "https://localhost:8080/",
     "height": 34
    },
    "colab_type": "code",
    "id": "4ipi0dVkaoUE",
    "outputId": "5ac3d7a9-f166-48a0-cf49-99e2185e56fe"
   },
   "outputs": [
    {
     "data": {
      "text/plain": [
       "0.551049792790673"
      ]
     },
     "execution_count": 42,
     "metadata": {},
     "output_type": "execute_result"
    }
   ],
   "source": [
    "RF_hp.score(x2,y2)"
   ]
  },
  {
   "cell_type": "code",
   "execution_count": 43,
   "metadata": {
    "colab": {
     "base_uri": "https://localhost:8080/",
     "height": 34
    },
    "colab_type": "code",
    "id": "WUT1kXNJaoUK",
    "outputId": "02304e10-8c73-4b7d-db23-e95d4be63a99"
   },
   "outputs": [
    {
     "data": {
      "text/plain": [
       "0.5615161936281889"
      ]
     },
     "execution_count": 43,
     "metadata": {},
     "output_type": "execute_result"
    }
   ],
   "source": [
    "GBR_hp.score(x2,y2)"
   ]
  },
  {
   "cell_type": "code",
   "execution_count": 44,
   "metadata": {
    "colab": {},
    "colab_type": "code",
    "id": "HRAlmOG97_3P"
   },
   "outputs": [],
   "source": [
    "models = [RF_hp, GBR_hp]"
   ]
  },
  {
   "cell_type": "code",
   "execution_count": 45,
   "metadata": {
    "colab": {},
    "colab_type": "code",
    "id": "i9JViI8k9Iqv"
   },
   "outputs": [],
   "source": [
    "def averaging(models, x2, y2):\n",
    "    y_pred1 = models[0].predict(x2)\n",
    "    y_pred2 = models[1].predict(x2)\n",
    "    y = np.stack((y_pred1, y_pred2))\n",
    "    y_avg = np.mean(y, axis = 0)\n",
    "\n",
    "    return y_avg"
   ]
  },
  {
   "cell_type": "code",
   "execution_count": 46,
   "metadata": {},
   "outputs": [
    {
     "data": {
      "text/plain": [
       "array([111.33769657, 111.78263039,  95.39298932, 111.78266823,\n",
       "        93.45391694,  94.40700563,  94.28809751,  94.28809751,\n",
       "       102.95384713,  94.34715012, 111.97978924,  95.52937013,\n",
       "       103.40659876,  78.41483048,  93.79909791,  93.58019313,\n",
       "       111.82039132, 111.6390662 , 104.80924818,  94.63949567,\n",
       "       111.55722457,  93.94135038, 103.31107992,  94.07534357,\n",
       "       104.76793017, 116.01258523, 104.13525758, 103.65904777,\n",
       "        94.78847069,  94.57588113,  94.46069628,  94.34787074,\n",
       "       103.96129694, 111.48250262, 111.36671047, 103.72001913,\n",
       "       113.41594261, 113.90333838, 102.96187185,  93.47107966,\n",
       "       111.07856067, 103.18596234,  95.11333834, 102.89950257,\n",
       "        95.10715469, 104.64250313,  93.78382098,  94.76862711,\n",
       "        93.92089528, 110.75548146,  94.14852549,  94.93758267,\n",
       "        94.39058772, 111.46002049, 111.66282791, 103.3827291 ,\n",
       "        78.67674294, 102.9530083 , 111.38454853, 109.85802159,\n",
       "        94.84655072,  95.56983786,  94.42944411,  95.49073997,\n",
       "       111.02960637, 111.43671049,  93.95483084, 102.83991864,\n",
       "        94.59857199,  93.97512425,  93.97439692,  95.62924783,\n",
       "        94.67533701, 111.01947185,  94.3656642 ,  95.21245027,\n",
       "        93.99297817,  94.26382632,  95.16357192, 111.5550822 ,\n",
       "        94.37037476, 103.04374891, 111.67237974,  94.20411565,\n",
       "       103.03612766,  95.69718802,  94.79666778,  95.80095385,\n",
       "        95.4446891 ,  96.38463063,  94.12479547,  94.33992295,\n",
       "       111.99321924, 111.0288901 , 111.01947185,  94.00531979,\n",
       "       111.71666101, 104.47519554,  94.4595038 , 111.04348045,\n",
       "        94.94113447, 103.98846233,  78.49317644, 103.16056255,\n",
       "        94.73236975, 116.57125625,  94.62627093,  94.55643921,\n",
       "        94.5336352 ,  94.6405265 ,  93.36898238,  94.43060443,\n",
       "       103.0525851 , 111.24598539, 103.26307895,  97.77812724,\n",
       "        78.66023291, 110.93382641,  94.81167571,  94.56415701,\n",
       "        93.51339811,  94.54517138, 104.20337912, 103.31068486,\n",
       "        80.29592942, 102.97615291, 111.88778458, 110.89844092,\n",
       "        94.23684574,  94.71205798,  93.83057716,  97.29723881,\n",
       "        79.67454099, 112.72287645, 103.43679772, 114.54114976,\n",
       "       111.43692191, 104.14952292,  95.62532149,  94.61237189,\n",
       "       111.30182174,  94.16861084,  95.37287281,  94.02240289,\n",
       "        78.27970737,  79.36341624,  94.3576642 , 111.60885768,\n",
       "        93.59161073, 111.37593306, 103.38451049, 111.62026522,\n",
       "        94.72504942,  94.90084743, 115.99877786,  93.28370768,\n",
       "       111.5028934 ,  95.76982706, 111.66178104, 115.82807308,\n",
       "        94.62798351,  95.84553195, 111.42696396, 104.95311937,\n",
       "       103.33212597,  94.66232639, 111.40885164, 103.17217021,\n",
       "       103.30970862, 111.68237116, 111.38690913,  94.45697695,\n",
       "       103.65337191, 103.67468609,  94.53016288,  95.58966354,\n",
       "       111.15585463,  95.52694009, 111.76183528,  95.06354809,\n",
       "        95.05537788,  94.5665892 , 111.35405411, 111.61482222,\n",
       "       111.67486047,  94.662912  , 111.49230177,  94.50528169,\n",
       "        93.91920451, 103.10710775,  98.91021511, 102.85986976,\n",
       "        93.39767944,  94.49582736,  94.06609476,  93.6779353 ,\n",
       "       111.35730589,  93.61369788,  95.56851881,  94.65049818,\n",
       "       110.78086712,  93.45527256, 110.97159573,  95.58417705,\n",
       "       103.11972864,  93.20914951, 109.88409806,  94.76470729,\n",
       "        94.21535773,  95.44517535,  94.16709534, 111.87210945,\n",
       "        94.56670569, 112.21283646,  93.30709937, 103.6615342 ,\n",
       "       111.66418286,  98.42114467, 103.05357688,  93.62049536,\n",
       "        93.5012009 ,  96.44362683, 104.18976336,  79.29286098,\n",
       "       111.52900166, 111.47477382,  96.42892056,  95.31428949,\n",
       "       111.24197674,  94.5642087 ,  94.1666209 , 111.14469789,\n",
       "        94.55684805, 111.01947185,  95.26812531,  94.84398246,\n",
       "        95.16728718,  94.47925454,  95.63133913,  95.10287109,\n",
       "        93.91948182, 102.976917  , 111.49933052, 110.82587143,\n",
       "       103.40659876, 111.73974643,  95.31811476, 111.73856976,\n",
       "        95.63232781,  93.98084497, 111.21892586,  94.16737999,\n",
       "        94.62286031, 102.91104392,  94.13388566,  94.35154894,\n",
       "       111.59255353, 111.00543348,  94.33062535, 102.96128315,\n",
       "       103.06316796,  94.87806104, 103.30252348,  95.35668405,\n",
       "        93.92888007,  94.29816251, 102.86235592,  94.27117436,\n",
       "        95.91325497, 111.8557012 ,  94.8617132 ,  94.20823572,\n",
       "        94.30006125, 114.5637536 , 103.53378843, 111.90709025,\n",
       "       103.27852432, 104.73422218, 112.43985175, 109.88409806,\n",
       "        99.85832544,  79.4074033 ,  93.37310106,  94.394949  ,\n",
       "       111.90643885,  94.73710408, 103.04998666,  79.36341624,\n",
       "        95.77022034, 114.60769517,  95.82285529, 103.83556473,\n",
       "       103.08379182, 111.80288075,  94.79645533, 111.25398749,\n",
       "       111.80496181, 102.65469851,  93.74617338,  79.36093087,\n",
       "        95.54332614,  94.69582924, 111.64296105, 102.96730386,\n",
       "        94.72928042, 111.79886622,  78.69580239, 111.81822983,\n",
       "       117.03689749, 103.89695284,  94.5186362 ,  94.67222121,\n",
       "        95.37157055,  94.62798351, 112.4569108 ,  96.91863768,\n",
       "       109.88409806, 104.407228  ,  93.56779314,  94.4148848 ,\n",
       "        94.11466777, 103.04998666, 103.2740424 ,  93.98000944,\n",
       "       111.32143923,  94.03129989, 103.8109355 , 111.86642794,\n",
       "        93.96801892,  93.27442604, 111.65910948, 116.97539932,\n",
       "        95.34175471, 111.65583751,  95.73146622, 104.51039954,\n",
       "       103.76574944,  93.71850881,  93.84444574, 111.50123815,\n",
       "       111.69650612,  94.41133857,  79.35458975,  95.79588429,\n",
       "        78.24247905, 103.49558419, 111.09965947, 111.67406682,\n",
       "       110.87512174, 115.93668274,  81.86963047, 110.73862802,\n",
       "        94.37609752, 111.69472259, 111.71912634,  79.39898592,\n",
       "        94.70425671, 111.71441976,  94.8281579 , 103.44501054,\n",
       "       113.41706464, 112.98103638, 111.4650451 , 111.28010417,\n",
       "       105.29621445,  94.49091016, 105.46967912, 111.74357313,\n",
       "       115.73981832,  95.59779983, 111.75704584, 114.51139866,\n",
       "       111.39434953, 104.03520551, 110.7707781 ,  94.10032633,\n",
       "       112.67812512,  94.97746768, 111.1365494 , 112.12448186,\n",
       "       103.28405093,  94.81444245,  95.40502863, 113.5619414 ,\n",
       "        94.52760281, 102.94692324,  95.31431559, 111.54686694,\n",
       "       110.84187529, 103.54466043,  94.635689  , 103.58519479,\n",
       "        95.60922007,  95.05617321, 110.46537123, 102.75516558,\n",
       "       111.76032263,  94.38811165,  96.48858178,  95.28725059,\n",
       "       111.64490188,  78.594703  , 111.638207  ,  94.16207244,\n",
       "        94.37989739,  94.20565025,  95.16610449, 103.28548076,\n",
       "       111.36795944, 103.9858979 , 103.52624178, 111.70801877,\n",
       "        94.25941566, 103.06477424, 104.34243016,  94.17505201,\n",
       "       104.90046071, 110.88978753, 111.63586113,  93.28077206,\n",
       "        94.57092272, 111.83360733,  78.22759437, 111.63516943,\n",
       "       112.12454657, 112.19250147, 111.7593624 ,  94.06542323,\n",
       "       110.96297628,  95.58966354, 103.10393325,  93.31636086,\n",
       "        79.40869207,  94.15081434,  95.52694009, 104.04405961,\n",
       "        95.03363385, 114.50324759,  95.01784409, 111.53663677,\n",
       "        94.92750733,  95.4139319 , 110.78987926, 111.69000395,\n",
       "        94.57749021,  93.45895301, 111.85880845,  95.15669511,\n",
       "        95.46811889,  79.42507914,  95.31428949,  94.64905428,\n",
       "       111.53487007,  94.63129622,  94.51338763, 103.49099522,\n",
       "       103.3150094 , 113.0352441 ,  94.23389522, 103.74279352,\n",
       "       102.87850424, 111.46695787,  94.29794283, 110.90427027,\n",
       "       111.02244197,  94.1786279 ,  93.63173388,  95.68280957,\n",
       "        94.16753318, 111.61410992,  94.59489744, 104.18911593,\n",
       "        94.39050409, 111.03905478,  94.18959604,  95.35419882,\n",
       "        95.12706908, 103.64439467, 111.86228891,  94.00307544,\n",
       "       111.64500795,  94.08712497, 103.04549358,  95.11951753,\n",
       "        93.98624702, 103.37526326, 110.54847833, 110.18724847,\n",
       "        95.04625507,  93.45205375, 117.10526307,  93.66475584,\n",
       "        94.24769785, 111.53856377,  94.922785  ,  95.58417705,\n",
       "        94.51107708,  95.5522102 , 111.01336871,  94.40405101,\n",
       "        94.12392847, 111.672036  , 111.70633192,  94.09641757,\n",
       "       103.04998666,  95.49063813, 111.58669653,  95.232714  ,\n",
       "       104.19192424, 103.35200743, 103.11180463,  93.99157408,\n",
       "        94.3010651 , 110.68542518, 104.45906789,  94.54665523,\n",
       "       111.69555485,  94.49214997,  94.9736165 ,  95.54866242,\n",
       "       103.51936717, 117.14188629,  97.22098686,  95.2896676 ,\n",
       "       100.83086172,  94.32517155,  95.82942816, 110.74494589,\n",
       "        94.53977359,  94.42955478,  94.11169297, 112.61685329,\n",
       "       103.31271096,  94.71163873,  95.5064769 , 111.47517122,\n",
       "        94.07373522, 111.48779385, 103.28758789, 111.73070705,\n",
       "        95.38636895, 116.01009817,  94.64685093,  94.19893281,\n",
       "        94.72892162,  95.42956016, 104.38153584,  95.53732191,\n",
       "        94.10764011,  96.07766786,  96.31550196, 103.59497391,\n",
       "        94.08505044, 105.38429904, 111.2666939 , 111.11552404,\n",
       "        94.13749462,  96.72161369,  94.76673751,  94.67135055,\n",
       "        94.83368402,  94.72892162, 104.2859622 ,  93.45391694,\n",
       "       111.6756087 , 111.72038415,  94.85408699, 111.48938228,\n",
       "        94.99098686,  94.11922591,  78.29561855, 116.014068  ,\n",
       "        94.50362045,  95.07538482, 103.91720039,  94.62537254,\n",
       "        95.40949258,  94.27027829,  94.08043929,  95.49076606,\n",
       "       111.52701937, 111.93072352, 109.83130025, 111.67402452,\n",
       "        94.24727797,  93.5096362 , 103.16455515,  93.88258716,\n",
       "        94.29798974, 111.50504605, 111.58027346,  95.24205746,\n",
       "        95.75743037, 111.6456058 ,  94.44548729,  79.60070638,\n",
       "       110.86614454, 111.24853768,  94.27082519, 103.38642922,\n",
       "        80.14141003,  95.00197616, 111.71410081, 115.78081538,\n",
       "       113.29252082,  94.8617132 ,  95.71078167,  93.35350148,\n",
       "       102.89717715, 112.20643887, 111.60624653,  95.74622022,\n",
       "        94.29797892, 116.56178001, 111.6645635 , 102.8052776 ,\n",
       "       111.65910948,  78.64270313,  95.27790326,  94.63207345,\n",
       "       112.04261326, 102.95002645,  95.80733823,  94.14133665,\n",
       "       102.74743891, 104.04223949,  94.55718839,  95.15748579,\n",
       "        94.01853826, 104.29501998,  94.56196149,  95.62774782,\n",
       "        95.53669444,  94.30222137,  95.12498278, 111.70850132,\n",
       "        95.53119625, 111.40521463,  94.46099266,  94.55660921,\n",
       "        94.49137266,  95.1428427 , 104.19943655,  93.63392673,\n",
       "       111.8834419 ,  95.4657938 , 103.04898862,  94.5383993 ,\n",
       "        94.1018492 , 103.03883478, 112.7563157 ,  96.25357615,\n",
       "       111.99834582,  95.0335162 ,  93.7468249 , 111.47294424,\n",
       "       103.29877884, 104.06349403, 103.22992515, 111.38369762,\n",
       "       111.57740045, 103.65828813,  95.19173387,  79.36341624,\n",
       "       110.99634324, 103.05193182,  95.25578181,  94.69271425,\n",
       "        94.44405424,  94.25941566,  95.10262932,  94.84080742,\n",
       "       111.50663083,  95.10464864,  95.34111795,  95.41061694,\n",
       "       103.4482464 , 104.71758024, 111.41895855, 111.08494834,\n",
       "       115.78790555, 111.51885634, 111.41068416, 103.48536143,\n",
       "       103.66832842, 102.94244187, 103.05142012,  94.03341853,\n",
       "       111.61986128,  93.35521656,  78.20606827,  93.8142613 ,\n",
       "        78.81385614,  94.43410283,  94.58060465, 103.23826052,\n",
       "       112.67727996,  94.46136736, 111.27339282,  93.45619047,\n",
       "        95.51650012,  94.84096896,  93.82687654, 112.92224745,\n",
       "       111.57853768,  94.20565025, 102.95889895,  95.80859709,\n",
       "       111.16223609,  95.3241168 , 117.07964247,  94.32375756,\n",
       "        94.51101991, 111.44313053,  94.38055359, 111.47342656,\n",
       "        95.45800012, 104.18037745, 111.65719413,  95.12358526,\n",
       "        94.80784021,  94.40532884, 110.57381889, 109.89904386,\n",
       "       111.40621396,  95.43162873,  94.68699198,  95.32286695,\n",
       "        95.67110039, 107.66832863, 111.67464691,  95.2541688 ,\n",
       "       111.96514533,  93.27225727, 111.84724308,  94.04369523,\n",
       "       111.47564743, 112.11501031,  93.67606824, 111.63522059,\n",
       "       111.10882496,  95.51571749, 111.61964862, 103.40789939,\n",
       "       111.50171421,  95.13187163, 103.37857744, 102.94977175,\n",
       "        78.33383769, 112.49421016, 111.25625697, 111.44900308,\n",
       "       111.64642078, 111.69472259,  95.47563742,  94.50372584,\n",
       "       110.77184616,  96.02349046,  94.08322093,  94.23001227,\n",
       "        95.50839065, 104.78025758, 111.40542836,  93.87632444,\n",
       "       116.61788962,  95.8060472 ,  94.38561022, 111.59897913,\n",
       "        94.88651905,  95.55775937,  94.01810157,  99.6832549 ,\n",
       "        93.29455877,  93.95430313,  95.36077901,  78.13755677,\n",
       "        93.3823776 , 103.10808825, 111.45281063,  94.69334324,\n",
       "        93.37183689,  94.65802322, 112.40325534,  94.09448037,\n",
       "       111.37009826,  94.57550413, 111.44659746, 103.39380782,\n",
       "        94.65534774, 111.65579864,  93.78809297,  95.13347366,\n",
       "        94.55643921,  78.21532183, 109.9867009 , 103.19359992,\n",
       "       109.95214479, 103.03610355, 103.22749355,  95.21841662,\n",
       "        94.27214896, 111.79954054,  95.32528801, 111.46495823,\n",
       "       110.4138772 ,  94.46231449,  80.14735722,  78.43237005,\n",
       "        94.62534049, 110.40731906, 111.8557012 ,  93.45391694,\n",
       "        94.36443259,  94.16976607,  93.84000341,  95.60938603,\n",
       "       115.88697563,  96.38699864, 103.15215705, 110.84575606,\n",
       "        95.45288773,  95.08011043,  94.52006289,  94.44996257,\n",
       "       104.046042  ,  93.45391694, 102.94977175,  94.09846159,\n",
       "        94.02240289,  94.89708279, 112.15933883, 102.96513496,\n",
       "       102.98737079,  93.94964019, 111.82562444,  94.73703618,\n",
       "       112.06757202,  94.10306246,  97.13981756,  94.12551024,\n",
       "        93.9961191 , 112.6038444 ,  78.38654578,  94.14028085,\n",
       "        94.7332482 ,  94.64701796, 111.67406069, 112.03141674,\n",
       "        94.21847562, 110.40083727, 104.20337912, 103.09628318,\n",
       "        95.73124113, 111.24598539, 102.80580057, 103.21442513,\n",
       "        93.71754045,  94.33022249,  78.93743048, 116.01414451,\n",
       "        94.48569199,  95.11945569, 111.91965935, 111.90881964,\n",
       "        94.49472086, 103.23756356,  95.41766909, 111.72790877,\n",
       "        78.24011803,  94.87440019,  93.92559329,  94.29620882,\n",
       "        78.84208667,  95.52868659, 111.99364712,  95.73483397,\n",
       "        95.65674568, 111.59133237,  94.06075458,  95.55206314,\n",
       "       111.28242684, 103.97960823,  96.3986276 , 103.23005042,\n",
       "        94.79650939,  94.42008078, 111.08373622, 110.57343934,\n",
       "       116.8525483 ,  95.68733585, 111.72790877,  95.23646631,\n",
       "       111.17872801, 102.95127266, 102.95127266,  94.32346876,\n",
       "       110.92674957,  94.61623242,  94.29282894,  94.66879112,\n",
       "        78.30416051, 111.31974414, 111.7791498 ,  93.90027053,\n",
       "       111.86282928,  94.62136485,  93.66649654, 104.05226068,\n",
       "        94.35090027, 103.25937931,  94.93267492, 102.91768566,\n",
       "       102.94692324,  79.74144029, 103.36201695, 102.9895472 ,\n",
       "        93.65695433, 111.07973291,  93.8571805 ,  94.72056325,\n",
       "       109.89976568,  95.42255974, 117.14211393,  94.43104029,\n",
       "        95.64000173, 103.52996406,  95.2511872 , 111.12559108,\n",
       "        94.14638381, 104.50824038,  95.92357576, 103.25952592,\n",
       "        93.85234054,  94.79347286, 111.10514006,  78.34007318,\n",
       "        93.58447248,  94.16676823,  94.72734896, 109.29342003,\n",
       "        94.45586861, 111.51481157,  93.81713728, 110.91647254,\n",
       "       111.85943488,  94.40890937,  95.47703078, 111.9329536 ,\n",
       "       103.22168551,  97.36395955,  94.58604239,  78.55477175,\n",
       "       111.50712165, 110.62457909, 104.5251979 ,  94.36217992,\n",
       "       111.6879686 ,  79.70245122,  93.15932765, 103.15532706,\n",
       "        94.78305551,  93.90513747,  95.54686877, 103.14988247,\n",
       "       103.29298588, 112.81983578, 104.38261543,  94.54353607,\n",
       "        79.15221501, 112.00831024,  95.31567412,  94.55695492,\n",
       "        94.27554448,  94.94250075,  95.45250597, 112.10443149,\n",
       "        95.01159834,  93.81797462, 113.99020323,  94.89378608,\n",
       "       111.35580473, 111.53856377,  94.70236246,  94.44040883,\n",
       "        95.67008356, 111.37688549,  78.39775703, 111.38517722,\n",
       "        93.73487623,  95.48054131,  93.86631226,  94.50981683,\n",
       "        95.75438056,  95.49004301,  94.02091598,  94.51998773,\n",
       "        94.7632754 , 112.30211067,  94.83768201,  94.01807971])"
      ]
     },
     "execution_count": 46,
     "metadata": {},
     "output_type": "execute_result"
    }
   ],
   "source": [
    "averaging(models, x2,y2)"
   ]
  },
  {
   "cell_type": "code",
   "execution_count": 48,
   "metadata": {
    "colab": {},
    "colab_type": "code",
    "id": "7p-ejYMwBTkI"
   },
   "outputs": [],
   "source": [
    "from sklearn.metrics import mean_squared_error"
   ]
  },
  {
   "cell_type": "code",
   "execution_count": 49,
   "metadata": {
    "colab": {
     "base_uri": "https://localhost:8080/",
     "height": 68
    },
    "colab_type": "code",
    "id": "uVm4muCnCHMP",
    "outputId": "717839ae-1740-425a-c0ed-09589bccaa17"
   },
   "outputs": [
    {
     "name": "stdout",
     "output_type": "stream",
     "text": [
      "Random forest \n",
      "MSE score: 72.23071484197598 \n",
      "R^2 score: 0.551049792790673\n"
     ]
    }
   ],
   "source": [
    "print(f\"Random forest \\nMSE score: {mean_squared_error(y2, models[0].predict(x2))} \\nR^2 score: {r2_score(y2, models[0].predict(x2))}\")"
   ]
  },
  {
   "cell_type": "code",
   "execution_count": 50,
   "metadata": {
    "colab": {
     "base_uri": "https://localhost:8080/",
     "height": 68
    },
    "colab_type": "code",
    "id": "wjEG8taqCH87",
    "outputId": "a2a3ff42-7446-4aa9-96ae-43636cdbd12f"
   },
   "outputs": [
    {
     "name": "stdout",
     "output_type": "stream",
     "text": [
      "Gradient Boosting \n",
      "MSE score: 70.54679621987376 \n",
      "R^2 score: 0.5615161936281889\n"
     ]
    }
   ],
   "source": [
    "print(f\"Gradient Boosting \\nMSE score: {mean_squared_error(y2, models[1].predict(x2))} \\nR^2 score: {r2_score(y2, models[1].predict(x2))}\")"
   ]
  },
  {
   "cell_type": "code",
   "execution_count": 51,
   "metadata": {
    "colab": {
     "base_uri": "https://localhost:8080/",
     "height": 68
    },
    "colab_type": "code",
    "id": "c1acu5qY_uhz",
    "outputId": "bee41ae5-330b-4482-e88e-50656bcde4a8"
   },
   "outputs": [
    {
     "name": "stdout",
     "output_type": "stream",
     "text": [
      "Averaging \n",
      "MSE score: 71.11616718240525 \n",
      "R^2 score: 0.5579772668410635\n"
     ]
    }
   ],
   "source": [
    "print(f\"Averaging \\nMSE score: {mean_squared_error(y2, averaging(models, x2,y2))} \\nR^2 score: {r2_score(y2, averaging(models, x2,y2))}\")"
   ]
  },
  {
   "cell_type": "markdown",
   "metadata": {
    "colab_type": "text",
    "id": "z7jLD6TIbtJN"
   },
   "source": [
    "Модель основанная на градиентном бустинге дает лучший результат"
   ]
  },
  {
   "cell_type": "markdown",
   "metadata": {
    "colab_type": "text",
    "id": "sBp07WqDaoUP"
   },
   "source": [
    "__Задание 4.__\n",
    "\n",
    " __(1 балл)__  Реализуйте блендинг. Обучите линейную регрессию на признаках - выходах двух моделей по выборке x2, y2. "
   ]
  },
  {
   "cell_type": "code",
   "execution_count": 52,
   "metadata": {
    "colab": {},
    "colab_type": "code",
    "id": "NUbKLJbxaoUP"
   },
   "outputs": [],
   "source": [
    "from sklearn.linear_model import LinearRegression"
   ]
  },
  {
   "cell_type": "code",
   "execution_count": 53,
   "metadata": {
    "colab": {
     "base_uri": "https://localhost:8080/",
     "height": 34
    },
    "colab_type": "code",
    "id": "zy1uVSz9aoUT",
    "outputId": "c698df37-cf07-4d28-eb42-4b21b3a2d1bf"
   },
   "outputs": [
    {
     "name": "stdout",
     "output_type": "stream",
     "text": [
      "Blending with score 0.5649417595888018\n"
     ]
    }
   ],
   "source": [
    "dataset_blend_train = np.vstack((models[0].predict(x2), models[1].predict(x2))).T\n",
    "\n",
    "LR = LinearRegression()\n",
    "LR.fit(dataset_blend_train, y2)\n",
    "score = LR.score(dataset_blend_train, y2)\n",
    "\n",
    "print(f\"Blending with score {score}\")"
   ]
  },
  {
   "cell_type": "markdown",
   "metadata": {
    "colab_type": "text",
    "id": "QlyP9We7aoUd"
   },
   "source": [
    "__Задание 5.__\n",
    "\n",
    " __(0.5 балла)__ Выведите качество случайного леса и градиентного бустинга на x3, y3, качество модели, представляющей собой усреднение предсказаний двух обученных моделей, а также качество блендинга. Какая из четырех моделей работает лучше? Работает ли блендинг лучше усреднения? Выведите веса блендинга, какой из базовых алгоритмов вносит большой вклад в итоговую модель?"
   ]
  },
  {
   "cell_type": "code",
   "execution_count": 54,
   "metadata": {
    "colab": {
     "base_uri": "https://localhost:8080/",
     "height": 34
    },
    "colab_type": "code",
    "id": "18dgYVYpaoUe",
    "outputId": "718e1b03-1bcd-4632-b2ef-c453bf9da5ad"
   },
   "outputs": [
    {
     "name": "stdout",
     "output_type": "stream",
     "text": [
      "Random forest R^2 score: 0.6055414344095642\n"
     ]
    }
   ],
   "source": [
    "print(f\"Random forest R^2 score: {RF_hp.score(x3,y3)}\")"
   ]
  },
  {
   "cell_type": "code",
   "execution_count": 55,
   "metadata": {
    "colab": {
     "base_uri": "https://localhost:8080/",
     "height": 34
    },
    "colab_type": "code",
    "id": "9uJzunkUaoUi",
    "outputId": "63d6c1d9-9d6b-4896-908d-73426cb1d108"
   },
   "outputs": [
    {
     "name": "stdout",
     "output_type": "stream",
     "text": [
      "Gradient Boosting R^2 score: 0.6145069458969973\n"
     ]
    }
   ],
   "source": [
    "print(f\"Gradient Boosting R^2 score: {GBR_hp.score(x3,y3)}\")"
   ]
  },
  {
   "cell_type": "code",
   "execution_count": 56,
   "metadata": {
    "colab": {
     "base_uri": "https://localhost:8080/",
     "height": 34
    },
    "colab_type": "code",
    "id": "fX-Gu9qGBd0v",
    "outputId": "09579a33-8871-4a54-af89-88028d194033"
   },
   "outputs": [
    {
     "name": "stdout",
     "output_type": "stream",
     "text": [
      "Averaging R^2 score: 0.6116955259993455\n"
     ]
    }
   ],
   "source": [
    "print(f\"Averaging R^2 score: {r2_score(y3, averaging(models, x3, y3))}\")"
   ]
  },
  {
   "cell_type": "code",
   "execution_count": 57,
   "metadata": {
    "colab": {
     "base_uri": "https://localhost:8080/",
     "height": 34
    },
    "colab_type": "code",
    "id": "z_gxsgiNCjFo",
    "outputId": "c1936520-93d2-4438-c05a-05dc690b57e2"
   },
   "outputs": [
    {
     "name": "stdout",
     "output_type": "stream",
     "text": [
      "Blending with score 0.6187554649081977\n"
     ]
    }
   ],
   "source": [
    "y3_pred1 = models[0].predict(x3)\n",
    "y3_pred2 = models[1].predict(x3)\n",
    "dataset_blend_train = np.vstack((y3_pred1, y3_pred2)).T\n",
    "\n",
    "LR = LinearRegression()\n",
    "LR.fit(dataset_blend_train, y3)\n",
    "score = LR.score(dataset_blend_train, y3)\n",
    "\n",
    "print(f\"Blending with score {score}\")"
   ]
  },
  {
   "cell_type": "markdown",
   "metadata": {
    "colab_type": "text",
    "id": "pG8joStedHAA"
   },
   "source": [
    "Модель основанная на блендинге работает лучше всех, в этом и есть вся суть блендинга - объединение нескольких моделей и обучение на их признаках новой модели.\n",
    "Вообще, для повышения качества надо усреднить несколько блендингов с разными разбиениями обучения, но в нашем случае мы не затрагиваем такие более сложные механизмы. Алгоритм GradientBoostingRegressor вносит самый больший вклад в итоговый результат блендинга так как выражает лучший результат среди прочих."
   ]
  }
 ],
 "metadata": {
  "_change_revision": 113,
  "_is_fork": false,
  "accelerator": "GPU",
  "colab": {
   "collapsed_sections": [],
   "name": "homework4_compositions.ipynb",
   "provenance": []
  },
  "kernelspec": {
   "display_name": "Python 3",
   "language": "python",
   "name": "python3"
  },
  "language_info": {
   "codemirror_mode": {
    "name": "ipython",
    "version": 3
   },
   "file_extension": ".py",
   "mimetype": "text/x-python",
   "name": "python",
   "nbconvert_exporter": "python",
   "pygments_lexer": "ipython3",
   "version": "3.8.2"
  }
 },
 "nbformat": 4,
 "nbformat_minor": 1
}
