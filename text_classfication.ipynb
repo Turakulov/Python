{
  "nbformat": 4,
  "nbformat_minor": 0,
  "metadata": {
    "colab": {
      "name": "text classfication.ipynb",
      "provenance": [],
      "collapsed_sections": [],
      "toc_visible": true,
      "authorship_tag": "ABX9TyNcLppZRGKU8VhzKgJnMT/1",
      "include_colab_link": true
    },
    "kernelspec": {
      "name": "python3",
      "display_name": "Python 3"
    }
  },
  "cells": [
    {
      "cell_type": "markdown",
      "metadata": {
        "id": "view-in-github",
        "colab_type": "text"
      },
      "source": [
        "<a href=\"https://colab.research.google.com/github/Turakulov/Python/blob/master/text_classfication.ipynb\" target=\"_parent\"><img src=\"https://colab.research.google.com/assets/colab-badge.svg\" alt=\"Open In Colab\"/></a>"
      ]
    },
    {
      "cell_type": "code",
      "metadata": {
        "id": "V0pMZ7_1FrbE",
        "colab_type": "code",
        "colab": {}
      },
      "source": [
        "import pip\n",
        "\n",
        "import pandas as pd\n",
        "import numpy as np\n",
        "from sklearn.datasets import fetch_20newsgroups\n",
        "from sklearn.feature_extraction.text import CountVectorizer\n",
        "from sklearn.feature_extraction.text import TfidfTransformer\n",
        "from sklearn import metrics"
      ],
      "execution_count": 0,
      "outputs": []
    },
    {
      "cell_type": "code",
      "metadata": {
        "id": "SFkQWcrZFwRx",
        "colab_type": "code",
        "colab": {}
      },
      "source": [
        "twenty_train = fetch_20newsgroups(subset='train', shuffle=True, random_state=42)"
      ],
      "execution_count": 0,
      "outputs": []
    },
    {
      "cell_type": "code",
      "metadata": {
        "id": "Ok6Y6XElF0WN",
        "colab_type": "code",
        "colab": {
          "base_uri": "https://localhost:8080/",
          "height": 357
        },
        "outputId": "0f6bdbe7-9426-447e-ff94-f00ebc43da6c"
      },
      "source": [
        "twenty_train.target_names"
      ],
      "execution_count": 3,
      "outputs": [
        {
          "output_type": "execute_result",
          "data": {
            "text/plain": [
              "['alt.atheism',\n",
              " 'comp.graphics',\n",
              " 'comp.os.ms-windows.misc',\n",
              " 'comp.sys.ibm.pc.hardware',\n",
              " 'comp.sys.mac.hardware',\n",
              " 'comp.windows.x',\n",
              " 'misc.forsale',\n",
              " 'rec.autos',\n",
              " 'rec.motorcycles',\n",
              " 'rec.sport.baseball',\n",
              " 'rec.sport.hockey',\n",
              " 'sci.crypt',\n",
              " 'sci.electronics',\n",
              " 'sci.med',\n",
              " 'sci.space',\n",
              " 'soc.religion.christian',\n",
              " 'talk.politics.guns',\n",
              " 'talk.politics.mideast',\n",
              " 'talk.politics.misc',\n",
              " 'talk.religion.misc']"
            ]
          },
          "metadata": {
            "tags": []
          },
          "execution_count": 3
        }
      ]
    },
    {
      "cell_type": "code",
      "metadata": {
        "id": "eb-3rDmTvr08",
        "colab_type": "code",
        "colab": {
          "base_uri": "https://localhost:8080/",
          "height": 391
        },
        "outputId": "73140b84-2593-4ac3-8da3-13398d9e1681"
      },
      "source": [
        "twenty_train.data[0].split('\\n')"
      ],
      "execution_count": 4,
      "outputs": [
        {
          "output_type": "execute_result",
          "data": {
            "text/plain": [
              "[\"From: lerxst@wam.umd.edu (where's my thing)\",\n",
              " 'Subject: WHAT car is this!?',\n",
              " 'Nntp-Posting-Host: rac3.wam.umd.edu',\n",
              " 'Organization: University of Maryland, College Park',\n",
              " 'Lines: 15',\n",
              " '',\n",
              " ' I was wondering if anyone out there could enlighten me on this car I saw',\n",
              " 'the other day. It was a 2-door sports car, looked to be from the late 60s/',\n",
              " 'early 70s. It was called a Bricklin. The doors were really small. In addition,',\n",
              " 'the front bumper was separate from the rest of the body. This is ',\n",
              " 'all I know. If anyone can tellme a model name, engine specs, years',\n",
              " 'of production, where this car is made, history, or whatever info you',\n",
              " 'have on this funky looking car, please e-mail.',\n",
              " '',\n",
              " 'Thanks,',\n",
              " '- IL',\n",
              " '   ---- brought to you by your neighborhood Lerxst ----',\n",
              " '',\n",
              " '',\n",
              " '',\n",
              " '',\n",
              " '']"
            ]
          },
          "metadata": {
            "tags": []
          },
          "execution_count": 4
        }
      ]
    },
    {
      "cell_type": "code",
      "metadata": {
        "id": "5Iq0mPMCNRCk",
        "colab_type": "code",
        "colab": {}
      },
      "source": [
        "for i in range(len(twenty_train.data)):\n",
        "  twenty_train.data[i] = twenty_train.data[i].replace(\"\\n\\n\",\"\\n\")\n",
        "  twenty_train.data[i] = twenty_train.data[i].replace('\\n\\n','')"
      ],
      "execution_count": 0,
      "outputs": []
    },
    {
      "cell_type": "code",
      "metadata": {
        "id": "jmtJ3boHeUUg",
        "colab_type": "code",
        "colab": {
          "base_uri": "https://localhost:8080/",
          "height": 323
        },
        "outputId": "083ebf1d-6ff7-4051-878d-1ae21c0c8500"
      },
      "source": [
        "twenty_train.data[1].split('\\n')"
      ],
      "execution_count": 6,
      "outputs": [
        {
          "output_type": "execute_result",
          "data": {
            "text/plain": [
              "['From: guykuo@carson.u.washington.edu (Guy Kuo)',\n",
              " 'Subject: SI Clock Poll - Final Call',\n",
              " 'Summary: Final call for SI clock reports',\n",
              " 'Keywords: SI,acceleration,clock,upgrade',\n",
              " 'Article-I.D.: shelley.1qvfo9INNc3s',\n",
              " 'Organization: University of Washington',\n",
              " 'Lines: 11',\n",
              " 'NNTP-Posting-Host: carson.u.washington.edu',\n",
              " 'A fair number of brave souls who upgraded their SI clock oscillator have',\n",
              " 'shared their experiences for this poll. Please send a brief message detailing',\n",
              " 'your experiences with the procedure. Top speed attained, CPU rated speed,',\n",
              " 'add on cards and adapters, heat sinks, hour of usage per day, floppy disk',\n",
              " 'functionality with 800 and 1.4 m floppies are especially requested.',\n",
              " 'I will be summarizing in the next two days, so please add to the network',\n",
              " \"knowledge base if you have done the clock upgrade and haven't answered this\",\n",
              " 'poll. Thanks.',\n",
              " 'Guy Kuo <guykuo@u.washington.edu>',\n",
              " '']"
            ]
          },
          "metadata": {
            "tags": []
          },
          "execution_count": 6
        }
      ]
    },
    {
      "cell_type": "code",
      "metadata": {
        "id": "VntXCaS9F3JL",
        "colab_type": "code",
        "colab": {}
      },
      "source": [
        "from sklearn.pipeline import Pipeline"
      ],
      "execution_count": 0,
      "outputs": []
    },
    {
      "cell_type": "code",
      "metadata": {
        "id": "ie9i3T-sGIQI",
        "colab_type": "code",
        "colab": {
          "base_uri": "https://localhost:8080/",
          "height": 34
        },
        "outputId": "17d4fd49-3e3e-46a1-d0da-4b69101bbc32"
      },
      "source": [
        "from sklearn.linear_model import SGDClassifier\n",
        "text_clf = Pipeline([('vect', CountVectorizer()),\n",
        "                     ('tfidf', TfidfTransformer()),\n",
        "                     ('clf', SGDClassifier(loss='modified_huber', penalty='l2', random_state=42)),\n",
        "                    ])\n",
        "# ,alpha=1e-3\n",
        "twenty_test = fetch_20newsgroups(subset='test', shuffle=True, random_state=42)\n",
        "text_clf = text_clf.fit(twenty_train.data, twenty_train.target)\n",
        "docs_test = twenty_test.data\n",
        "predicted = text_clf.predict(docs_test)\n",
        "np.mean(predicted == twenty_test.target) "
      ],
      "execution_count": 8,
      "outputs": [
        {
          "output_type": "execute_result",
          "data": {
            "text/plain": [
              "0.8507700477960701"
            ]
          },
          "metadata": {
            "tags": []
          },
          "execution_count": 8
        }
      ]
    },
    {
      "cell_type": "code",
      "metadata": {
        "id": "gZXFBUIxGZXe",
        "colab_type": "code",
        "colab": {
          "base_uri": "https://localhost:8080/",
          "height": 476
        },
        "outputId": "8ef77a3f-5ca1-4b84-9c3f-d254dc58dd7b"
      },
      "source": [
        "print(metrics.classification_report(twenty_test.target, predicted, target_names=twenty_test.target_names))"
      ],
      "execution_count": 9,
      "outputs": [
        {
          "output_type": "stream",
          "text": [
            "                          precision    recall  f1-score   support\n",
            "\n",
            "             alt.atheism       0.82      0.80      0.81       319\n",
            "           comp.graphics       0.76      0.79      0.78       389\n",
            " comp.os.ms-windows.misc       0.77      0.72      0.74       394\n",
            "comp.sys.ibm.pc.hardware       0.72      0.75      0.73       392\n",
            "   comp.sys.mac.hardware       0.83      0.85      0.84       385\n",
            "          comp.windows.x       0.87      0.76      0.81       395\n",
            "            misc.forsale       0.83      0.90      0.86       390\n",
            "               rec.autos       0.92      0.90      0.91       396\n",
            "         rec.motorcycles       0.95      0.95      0.95       398\n",
            "      rec.sport.baseball       0.91      0.95      0.93       397\n",
            "        rec.sport.hockey       0.96      0.98      0.97       399\n",
            "               sci.crypt       0.94      0.93      0.94       396\n",
            "         sci.electronics       0.79      0.80      0.79       393\n",
            "                 sci.med       0.91      0.86      0.88       396\n",
            "               sci.space       0.90      0.93      0.92       394\n",
            "  soc.religion.christian       0.84      0.93      0.88       398\n",
            "      talk.politics.guns       0.75      0.92      0.82       364\n",
            "   talk.politics.mideast       0.97      0.89      0.93       376\n",
            "      talk.politics.misc       0.79      0.62      0.70       310\n",
            "      talk.religion.misc       0.74      0.62      0.68       251\n",
            "\n",
            "                accuracy                           0.85      7532\n",
            "               macro avg       0.85      0.84      0.84      7532\n",
            "            weighted avg       0.85      0.85      0.85      7532\n",
            "\n"
          ],
          "name": "stdout"
        }
      ]
    },
    {
      "cell_type": "code",
      "metadata": {
        "id": "gYnPIyyxGf0x",
        "colab_type": "code",
        "colab": {}
      },
      "source": [
        "docs_new = ['Jesus teaches that god is love', '','OpenGL on the GPU is fast', 'In order to cure almost every disease']"
      ],
      "execution_count": 0,
      "outputs": []
    },
    {
      "cell_type": "code",
      "metadata": {
        "id": "4qq8bk_5H5GN",
        "colab_type": "code",
        "colab": {}
      },
      "source": [
        "predicted = text_clf.predict(docs_new)"
      ],
      "execution_count": 0,
      "outputs": []
    },
    {
      "cell_type": "code",
      "metadata": {
        "id": "aENIk5qmIIQs",
        "colab_type": "code",
        "colab": {
          "base_uri": "https://localhost:8080/",
          "height": 85
        },
        "outputId": "ee72df7c-001c-4be2-c06e-dbb170b0af3a"
      },
      "source": [
        "for doc, category in zip(docs_new, predicted):\n",
        "  print('%r => %s' % (doc, twenty_train.target_names[category]))"
      ],
      "execution_count": 12,
      "outputs": [
        {
          "output_type": "stream",
          "text": [
            "'Jesus teaches that god is love' => talk.religion.misc\n",
            "'' => misc.forsale\n",
            "'OpenGL on the GPU is fast' => rec.autos\n",
            "'In order to cure almost every disease' => sci.med\n"
          ],
          "name": "stdout"
        }
      ]
    },
    {
      "cell_type": "code",
      "metadata": {
        "id": "GC3hyeSmILll",
        "colab_type": "code",
        "colab": {
          "base_uri": "https://localhost:8080/",
          "height": 105
        },
        "outputId": "2a58f655-d6bc-4fc7-c7ca-adc8c2865382"
      },
      "source": [
        "test_txt = open(\"test.txt\", \"r\")\n",
        "test_txt = test_txt.read().split('\\n\\n')\n",
        "test_txt"
      ],
      "execution_count": 13,
      "outputs": [
        {
          "output_type": "execute_result",
          "data": {
            "text/plain": [
              "[\"Ryzen is a brand[3] of x86-64 microprocessors designed and marketed by Advanced Micro Devices, Inc. (AMD) for desktop, mobile and embedded platforms based on the Zen microarchitecture and its successors. It consists of central processing units marketed for mainstream, enthusiast and workstation segments and accelerated processing units (APUs) marketed for mainstream and entry-level segments and embedded applications. Ryzen is especially significant for AMD, since it is a completely new design, and since it marks the corporation's return to the high end desktop CPU market. AMD's competitor Intel had controlled this section of the market for almost ten years, since Intel released the Conroe/Core microarchitecture, which displaced AMD's Athlon 64 as the cutting edge of performance in the market.[clarification needed]\",\n",
              " \"AMD officially announced the first 14nm Ryzen products during its New Horizon summit on December 13, 2016 and introduced them the following February with the first processors being 8-core, 16 thread CPUs released in March 2 2017 to public market availability.[4] The second generation of Ryzen CPUs featuring the Zen+ microarchitecture, an incremental improvement built on a 12nm process technology, was released in April 2018 and featured a 3% IPC and 6%[5] uplift in clockspeed respectively with up to 10% aggregate performance increase over the original Ryzen that first released in 2017.[6] The third generation, based on Zen 2 and featuring more significant design improvements and a further shrink to TSMC's 7nm process, launched on July 7, 2019 and featured a self-reported 15% IPC increase, though real-world benchmarks mark 13% in most cases according to MSI[7] and userbenchmark.[8] In late 2019, the Zen3 core has been revealed to be an entirely new architecture being built on TSMC's 7nm+ node, with EUV finished and is currently undergoing engineering sampling as of Q4 2019 with production yields exceeding expectations.\",\n",
              " 'While the majority of Ryzen-branded products are for use with the Socket AM4 platform, in August 2017 AMD added a line of high core count desktop processors aimed at the workstation market with the Ryzen Threadripper branding. Threadripper uses the larger TR4 and sTRX4 sockets, which support more memory channels and PCI Express lanes.[9][10]',\n",
              " 'In December 2019, AMD started putting out first generation Ryzen products built using the second generation Zen+ architecture.[11] The most notable example is Ryzen 5 1600, with newest batches, having \"AF\" identifier instead of its usual \"AE\", being essentially a rebadged Ryzen 5 2600 with the same specifications as the original Ryzen 5 1600.']"
            ]
          },
          "metadata": {
            "tags": []
          },
          "execution_count": 13
        }
      ]
    },
    {
      "cell_type": "code",
      "metadata": {
        "id": "eLiBLM1aLH6Z",
        "colab_type": "code",
        "colab": {}
      },
      "source": [
        "predicted = text_clf.predict(test_txt)"
      ],
      "execution_count": 0,
      "outputs": []
    },
    {
      "cell_type": "code",
      "metadata": {
        "id": "qvQoQYlULXIZ",
        "colab_type": "code",
        "colab": {
          "base_uri": "https://localhost:8080/",
          "height": 105
        },
        "outputId": "8f01bb21-8c70-4a95-b6bc-17225e262ad0"
      },
      "source": [
        "for doc, category in zip(test_txt, predicted):\n",
        "  print('%r => %s' % (doc, twenty_train.target_names[category]))"
      ],
      "execution_count": 15,
      "outputs": [
        {
          "output_type": "stream",
          "text": [
            "\"Ryzen is a brand[3] of x86-64 microprocessors designed and marketed by Advanced Micro Devices, Inc. (AMD) for desktop, mobile and embedded platforms based on the Zen microarchitecture and its successors. It consists of central processing units marketed for mainstream, enthusiast and workstation segments and accelerated processing units (APUs) marketed for mainstream and entry-level segments and embedded applications. Ryzen is especially significant for AMD, since it is a completely new design, and since it marks the corporation's return to the high end desktop CPU market. AMD's competitor Intel had controlled this section of the market for almost ten years, since Intel released the Conroe/Core microarchitecture, which displaced AMD's Athlon 64 as the cutting edge of performance in the market.[clarification needed]\" => comp.sys.ibm.pc.hardware\n",
            "\"AMD officially announced the first 14nm Ryzen products during its New Horizon summit on December 13, 2016 and introduced them the following February with the first processors being 8-core, 16 thread CPUs released in March 2 2017 to public market availability.[4] The second generation of Ryzen CPUs featuring the Zen+ microarchitecture, an incremental improvement built on a 12nm process technology, was released in April 2018 and featured a 3% IPC and 6%[5] uplift in clockspeed respectively with up to 10% aggregate performance increase over the original Ryzen that first released in 2017.[6] The third generation, based on Zen 2 and featuring more significant design improvements and a further shrink to TSMC's 7nm process, launched on July 7, 2019 and featured a self-reported 15% IPC increase, though real-world benchmarks mark 13% in most cases according to MSI[7] and userbenchmark.[8] In late 2019, the Zen3 core has been revealed to be an entirely new architecture being built on TSMC's 7nm+ node, with EUV finished and is currently undergoing engineering sampling as of Q4 2019 with production yields exceeding expectations.\" => sci.space\n",
            "'While the majority of Ryzen-branded products are for use with the Socket AM4 platform, in August 2017 AMD added a line of high core count desktop processors aimed at the workstation market with the Ryzen Threadripper branding. Threadripper uses the larger TR4 and sTRX4 sockets, which support more memory channels and PCI Express lanes.[9][10]' => comp.sys.ibm.pc.hardware\n",
            "'In December 2019, AMD started putting out first generation Ryzen products built using the second generation Zen+ architecture.[11] The most notable example is Ryzen 5 1600, with newest batches, having \"AF\" identifier instead of its usual \"AE\", being essentially a rebadged Ryzen 5 2600 with the same specifications as the original Ryzen 5 1600.' => comp.windows.x\n"
          ],
          "name": "stdout"
        }
      ]
    },
    {
      "cell_type": "code",
      "metadata": {
        "id": "Aw3DpA5ELo4v",
        "colab_type": "code",
        "colab": {}
      },
      "source": [
        ""
      ],
      "execution_count": 0,
      "outputs": []
    }
  ]
}