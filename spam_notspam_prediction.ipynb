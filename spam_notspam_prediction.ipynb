{
  "nbformat": 4,
  "nbformat_minor": 0,
  "metadata": {
    "kernelspec": {
      "name": "python3",
      "display_name": "Python 3"
    },
    "language_info": {
      "codemirror_mode": {
        "name": "ipython",
        "version": 3
      },
      "file_extension": ".py",
      "mimetype": "text/x-python",
      "name": "python",
      "nbconvert_exporter": "python",
      "pygments_lexer": "ipython3",
      "version": "3.6.3"
    },
    "colab": {
      "name": "Copy of sms_task.ipynb",
      "provenance": [],
      "collapsed_sections": []
    },
    "accelerator": "GPU"
  },
  "cells": [
    {
      "cell_type": "markdown",
      "metadata": {
        "id": "XTVW1adEiOcP",
        "colab_type": "text"
      },
      "source": [
        "# Классификация sms сообщений"
      ]
    },
    {
      "cell_type": "code",
      "metadata": {
        "id": "wjvDRKFPiOcR",
        "colab_type": "code",
        "colab": {}
      },
      "source": [
        "%matplotlib inline\n",
        "# служебная команда для отображения графиков"
      ],
      "execution_count": 0,
      "outputs": []
    },
    {
      "cell_type": "code",
      "metadata": {
        "id": "M-Qx_0s6jMNa",
        "colab_type": "code",
        "outputId": "246f663a-f01c-4e84-b590-737e88c01de3",
        "colab": {
          "base_uri": "https://localhost:8080/",
          "height": 122
        }
      },
      "source": [
        "from google.colab import drive\n",
        "drive.mount('/content/drive')"
      ],
      "execution_count": 3,
      "outputs": [
        {
          "output_type": "stream",
          "text": [
            "Go to this URL in a browser: https://accounts.google.com/o/oauth2/auth?client_id=947318989803-6bn6qk8qdgf4n4g3pfee6491hc0brc4i.apps.googleusercontent.com&redirect_uri=urn%3aietf%3awg%3aoauth%3a2.0%3aoob&response_type=code&scope=email%20https%3a%2f%2fwww.googleapis.com%2fauth%2fdocs.test%20https%3a%2f%2fwww.googleapis.com%2fauth%2fdrive%20https%3a%2f%2fwww.googleapis.com%2fauth%2fdrive.photos.readonly%20https%3a%2f%2fwww.googleapis.com%2fauth%2fpeopleapi.readonly\n",
            "\n",
            "Enter your authorization code:\n",
            "··········\n",
            "Mounted at /content/drive\n"
          ],
          "name": "stdout"
        }
      ]
    },
    {
      "cell_type": "markdown",
      "metadata": {
        "id": "BEHgSgiRiOcY",
        "colab_type": "text"
      },
      "source": [
        "В этом задании мы будем использовать данные SMS Spam collection из репозитория UCI.\n",
        "Файл с данными расположен [по ссылке](https://archive.ics.uci.edu/ml/machine-learning-databases/00228/), скачайте и разархивируйте его."
      ]
    },
    {
      "cell_type": "markdown",
      "metadata": {
        "id": "Q4B8onfgiOca",
        "colab_type": "text"
      },
      "source": [
        "### Загрузка, визуализация и предварительный анализ данных"
      ]
    },
    {
      "cell_type": "markdown",
      "metadata": {
        "id": "2kZJD2QtiOcb",
        "colab_type": "text"
      },
      "source": [
        "Загрузим данные, используя модуль pandas:"
      ]
    },
    {
      "cell_type": "code",
      "metadata": {
        "id": "oVVZWOKaiOcc",
        "colab_type": "code",
        "colab": {}
      },
      "source": [
        "import pandas as pd\n",
        "\n",
        "pd.set_option('display.max_rows', 100)\n",
        "# Display up to 100 columns of a dataframe"
      ],
      "execution_count": 0,
      "outputs": []
    },
    {
      "cell_type": "code",
      "metadata": {
        "id": "SiHC_xjxiOcj",
        "colab_type": "code",
        "colab": {}
      },
      "source": [
        "data = pd.read_csv(\"/content/drive/My Drive/Colab Notebooks/SMSSpamCollection\", \\\n",
        "                  sep=\"\\t\", \\\n",
        "                  header=None,\\\n",
        "                  names=[\"label\", \"sms\"])"
      ],
      "execution_count": 0,
      "outputs": []
    },
    {
      "cell_type": "markdown",
      "metadata": {
        "id": "jFF4DVbYiOcp",
        "colab_type": "text"
      },
      "source": [
        "Посмотрим первые десять строк:"
      ]
    },
    {
      "cell_type": "code",
      "metadata": {
        "id": "QS6VCdesiOcq",
        "colab_type": "code",
        "outputId": "e80331aa-2a28-4545-db34-90ebed9626e8",
        "colab": {
          "base_uri": "https://localhost:8080/",
          "height": 359
        }
      },
      "source": [
        "data.head(10)"
      ],
      "execution_count": 6,
      "outputs": [
        {
          "output_type": "execute_result",
          "data": {
            "text/html": [
              "<div>\n",
              "<style scoped>\n",
              "    .dataframe tbody tr th:only-of-type {\n",
              "        vertical-align: middle;\n",
              "    }\n",
              "\n",
              "    .dataframe tbody tr th {\n",
              "        vertical-align: top;\n",
              "    }\n",
              "\n",
              "    .dataframe thead th {\n",
              "        text-align: right;\n",
              "    }\n",
              "</style>\n",
              "<table border=\"1\" class=\"dataframe\">\n",
              "  <thead>\n",
              "    <tr style=\"text-align: right;\">\n",
              "      <th></th>\n",
              "      <th>label</th>\n",
              "      <th>sms</th>\n",
              "    </tr>\n",
              "  </thead>\n",
              "  <tbody>\n",
              "    <tr>\n",
              "      <th>0</th>\n",
              "      <td>ham</td>\n",
              "      <td>Go until jurong point, crazy.. Available only ...</td>\n",
              "    </tr>\n",
              "    <tr>\n",
              "      <th>1</th>\n",
              "      <td>ham</td>\n",
              "      <td>Ok lar... Joking wif u oni...</td>\n",
              "    </tr>\n",
              "    <tr>\n",
              "      <th>2</th>\n",
              "      <td>spam</td>\n",
              "      <td>Free entry in 2 a wkly comp to win FA Cup fina...</td>\n",
              "    </tr>\n",
              "    <tr>\n",
              "      <th>3</th>\n",
              "      <td>ham</td>\n",
              "      <td>U dun say so early hor... U c already then say...</td>\n",
              "    </tr>\n",
              "    <tr>\n",
              "      <th>4</th>\n",
              "      <td>ham</td>\n",
              "      <td>Nah I don't think he goes to usf, he lives aro...</td>\n",
              "    </tr>\n",
              "    <tr>\n",
              "      <th>5</th>\n",
              "      <td>spam</td>\n",
              "      <td>FreeMsg Hey there darling it's been 3 week's n...</td>\n",
              "    </tr>\n",
              "    <tr>\n",
              "      <th>6</th>\n",
              "      <td>ham</td>\n",
              "      <td>Even my brother is not like to speak with me. ...</td>\n",
              "    </tr>\n",
              "    <tr>\n",
              "      <th>7</th>\n",
              "      <td>ham</td>\n",
              "      <td>As per your request 'Melle Melle (Oru Minnamin...</td>\n",
              "    </tr>\n",
              "    <tr>\n",
              "      <th>8</th>\n",
              "      <td>spam</td>\n",
              "      <td>WINNER!! As a valued network customer you have...</td>\n",
              "    </tr>\n",
              "    <tr>\n",
              "      <th>9</th>\n",
              "      <td>spam</td>\n",
              "      <td>Had your mobile 11 months or more? U R entitle...</td>\n",
              "    </tr>\n",
              "  </tbody>\n",
              "</table>\n",
              "</div>"
            ],
            "text/plain": [
              "  label                                                sms\n",
              "0   ham  Go until jurong point, crazy.. Available only ...\n",
              "1   ham                      Ok lar... Joking wif u oni...\n",
              "2  spam  Free entry in 2 a wkly comp to win FA Cup fina...\n",
              "3   ham  U dun say so early hor... U c already then say...\n",
              "4   ham  Nah I don't think he goes to usf, he lives aro...\n",
              "5  spam  FreeMsg Hey there darling it's been 3 week's n...\n",
              "6   ham  Even my brother is not like to speak with me. ...\n",
              "7   ham  As per your request 'Melle Melle (Oru Minnamin...\n",
              "8  spam  WINNER!! As a valued network customer you have...\n",
              "9  spam  Had your mobile 11 months or more? U R entitle..."
            ]
          },
          "metadata": {
            "tags": []
          },
          "execution_count": 6
        }
      ]
    },
    {
      "cell_type": "markdown",
      "metadata": {
        "id": "lAChZWPViOcy",
        "colab_type": "text"
      },
      "source": [
        "В первом столбце хранятся метки (спам или не спам), во втором - текст сообщения."
      ]
    },
    {
      "cell_type": "markdown",
      "metadata": {
        "id": "QafXkirFiOcz",
        "colab_type": "text"
      },
      "source": [
        "Посмотрим, сколько всего объектов:"
      ]
    },
    {
      "cell_type": "code",
      "metadata": {
        "id": "1F0kwybQiOc0",
        "colab_type": "code",
        "outputId": "6ea262e1-0322-40b2-d8d1-9e7ac062c1b7",
        "colab": {
          "base_uri": "https://localhost:8080/",
          "height": 34
        }
      },
      "source": [
        "len(data)"
      ],
      "execution_count": 7,
      "outputs": [
        {
          "output_type": "execute_result",
          "data": {
            "text/plain": [
              "5572"
            ]
          },
          "metadata": {
            "tags": []
          },
          "execution_count": 7
        }
      ]
    },
    {
      "cell_type": "markdown",
      "metadata": {
        "id": "HOeXNvnmiOc5",
        "colab_type": "text"
      },
      "source": [
        "Посмотрим, сколько объектов каждого класса:"
      ]
    },
    {
      "cell_type": "code",
      "metadata": {
        "id": "5Nfr3ub8iOc7",
        "colab_type": "code",
        "outputId": "b3a1f4d2-811c-4a32-b12a-76934e12f4f8",
        "colab": {
          "base_uri": "https://localhost:8080/",
          "height": 316
        }
      },
      "source": [
        "counts = data[\"label\"].value_counts()\n",
        "counts.plot(kind='bar', title=\"Число сообщений спам / не спам\")"
      ],
      "execution_count": 8,
      "outputs": [
        {
          "output_type": "execute_result",
          "data": {
            "text/plain": [
              "<matplotlib.axes._subplots.AxesSubplot at 0x7f4f987ca550>"
            ]
          },
          "metadata": {
            "tags": []
          },
          "execution_count": 8
        },
        {
          "output_type": "display_data",
          "data": {
            "image/png": "[encoded data removed]",
            "text/plain": [
              "<Figure size 432x288 with 1 Axes>"
            ]
          },
          "metadata": {
            "tags": []
          }
        }
      ]
    },
    {
      "cell_type": "code",
      "metadata": {
        "id": "wrAr_wVbiOdC",
        "colab_type": "code",
        "outputId": "c04cb6d3-35cb-4f1f-e010-6f9873a47b22",
        "colab": {
          "base_uri": "https://localhost:8080/",
          "height": 68
        }
      },
      "source": [
        "counts"
      ],
      "execution_count": 9,
      "outputs": [
        {
          "output_type": "execute_result",
          "data": {
            "text/plain": [
              "ham     4825\n",
              "spam     747\n",
              "Name: label, dtype: int64"
            ]
          },
          "metadata": {
            "tags": []
          },
          "execution_count": 9
        }
      ]
    },
    {
      "cell_type": "markdown",
      "metadata": {
        "id": "BGGNwXBjiOdJ",
        "colab_type": "text"
      },
      "source": [
        "В выборке гораздо больше не-спама, чем спама."
      ]
    },
    {
      "cell_type": "markdown",
      "metadata": {
        "id": "XmwdTAfRiOdJ",
        "colab_type": "text"
      },
      "source": [
        "### Предобработка данных\n",
        "\n",
        "В данных пока что нет выделенных признаков. Для текстов можно использовать простое преобразование -- \"мешок слов\". Создадим словарь из всех слов, которые встречаются в sms. Для каждого объекта-текста мы получим столько признаков, сколько слов в словаре, и каждый признак содержит 1 (слово входит в текст) или 0 (слово не входит). Для этого в sklearn есть специальный инструмент:"
      ]
    },
    {
      "cell_type": "code",
      "metadata": {
        "id": "cirdaJCIiOdK",
        "colab_type": "code",
        "colab": {}
      },
      "source": [
        "from sklearn.feature_extraction.text import CountVectorizer"
      ],
      "execution_count": 0,
      "outputs": []
    },
    {
      "cell_type": "code",
      "metadata": {
        "id": "EjcG7eRLiOdP",
        "colab_type": "code",
        "colab": {}
      },
      "source": [
        "vectorizer = CountVectorizer(max_features=10000)\n",
        "X = vectorizer.fit_transform(data[\"sms\"])"
      ],
      "execution_count": 0,
      "outputs": []
    },
    {
      "cell_type": "code",
      "metadata": {
        "id": "18sXzjfziOdX",
        "colab_type": "code",
        "colab": {}
      },
      "source": [
        "# слова в том порядке, в котором они идут в матрице X по столбцам\n",
        "words = pd.Series(vectorizer.vocabulary_).sort_values().index"
      ],
      "execution_count": 0,
      "outputs": []
    },
    {
      "cell_type": "markdown",
      "metadata": {
        "id": "LMGN9WVuiOdd",
        "colab_type": "text"
      },
      "source": [
        "Сколько получилось объектов и признаков?"
      ]
    },
    {
      "cell_type": "code",
      "metadata": {
        "id": "9cc-KE_RiOdd",
        "colab_type": "code",
        "outputId": "7ff1dad1-2897-4841-9b40-d2732e4618f9",
        "colab": {
          "base_uri": "https://localhost:8080/",
          "height": 34
        }
      },
      "source": [
        "X.shape"
      ],
      "execution_count": 13,
      "outputs": [
        {
          "output_type": "execute_result",
          "data": {
            "text/plain": [
              "(5572, 8713)"
            ]
          },
          "metadata": {
            "tags": []
          },
          "execution_count": 13
        }
      ]
    },
    {
      "cell_type": "markdown",
      "metadata": {
        "id": "gBqcApN2iOdi",
        "colab_type": "text"
      },
      "source": [
        "А что в самой матрице?"
      ]
    },
    {
      "cell_type": "code",
      "metadata": {
        "id": "blp8y7IOiOdi",
        "colab_type": "code",
        "outputId": "dc0bd716-58ed-4118-f996-46810ba520f8",
        "colab": {
          "base_uri": "https://localhost:8080/",
          "height": 136
        }
      },
      "source": [
        "X[:10].todense()"
      ],
      "execution_count": 14,
      "outputs": [
        {
          "output_type": "execute_result",
          "data": {
            "text/plain": [
              "matrix([[0, 0, 0, ..., 0, 0, 0],\n",
              "        [0, 0, 0, ..., 0, 0, 0],\n",
              "        [0, 0, 0, ..., 0, 0, 0],\n",
              "        ...,\n",
              "        [0, 0, 0, ..., 0, 0, 0],\n",
              "        [0, 0, 0, ..., 0, 0, 0],\n",
              "        [0, 0, 0, ..., 0, 0, 0]])"
            ]
          },
          "metadata": {
            "tags": []
          },
          "execution_count": 14
        }
      ]
    },
    {
      "cell_type": "markdown",
      "metadata": {
        "id": "HgTYzhVOiOdm",
        "colab_type": "text"
      },
      "source": [
        "Мы почти не видим единиц в этой матрице, потому что их очень мало."
      ]
    },
    {
      "cell_type": "markdown",
      "metadata": {
        "id": "JkdWjYreiOdn",
        "colab_type": "text"
      },
      "source": [
        "У нас есть еще одна небольшая проблема: классы обозначены не числами, а буквами. Перекодируйте \"spam\" в 1, а \"ham\" в 0 с помощью средств pandas и запишите в переменную y:"
      ]
    },
    {
      "cell_type": "code",
      "metadata": {
        "id": "Vs9NaAs5iOdo",
        "colab_type": "code",
        "outputId": "db9d2205-c2b8-4580-9830-3daaed02a683",
        "colab": {
          "base_uri": "https://localhost:8080/",
          "height": 221
        }
      },
      "source": [
        "y = data['label'].replace({'spam': 1, 'ham': 0})\n",
        "y"
      ],
      "execution_count": 15,
      "outputs": [
        {
          "output_type": "execute_result",
          "data": {
            "text/plain": [
              "0       0\n",
              "1       0\n",
              "2       1\n",
              "3       0\n",
              "4       0\n",
              "       ..\n",
              "5567    1\n",
              "5568    0\n",
              "5569    0\n",
              "5570    0\n",
              "5571    0\n",
              "Name: label, Length: 5572, dtype: int64"
            ]
          },
          "metadata": {
            "tags": []
          },
          "execution_count": 15
        }
      ]
    },
    {
      "cell_type": "markdown",
      "metadata": {
        "id": "EMiDS0jliOds",
        "colab_type": "text"
      },
      "source": [
        "Теперь у нас есть X и y!"
      ]
    },
    {
      "cell_type": "markdown",
      "metadata": {
        "id": "82tuL3kpiOdt",
        "colab_type": "text"
      },
      "source": [
        "Разделите данные на обучение и контроль в пропорции 3:1:\n",
        "То есть 75% на 25%"
      ]
    },
    {
      "cell_type": "code",
      "metadata": {
        "id": "TK0pq6WviOdu",
        "colab_type": "code",
        "colab": {}
      },
      "source": [
        "from sklearn.model_selection import train_test_split"
      ],
      "execution_count": 0,
      "outputs": []
    },
    {
      "cell_type": "code",
      "metadata": {
        "id": "YuXqapuIiOdy",
        "colab_type": "code",
        "colab": {}
      },
      "source": [
        "X_train, X_test, y_train, y_test = train_test_split(X, y, test_size=0.25, random_state=42) "
      ],
      "execution_count": 0,
      "outputs": []
    },
    {
      "cell_type": "markdown",
      "metadata": {
        "id": "kF_oc4fgiOd3",
        "colab_type": "text"
      },
      "source": [
        "### Обучение линейной модели"
      ]
    },
    {
      "cell_type": "markdown",
      "metadata": {
        "id": "ZJMW_gdciOd4",
        "colab_type": "text"
      },
      "source": [
        "Обучите логистическую регрессию:"
      ]
    },
    {
      "cell_type": "code",
      "metadata": {
        "id": "9fNBoS8ZiOd5",
        "colab_type": "code",
        "colab": {}
      },
      "source": [
        "from sklearn.linear_model import LogisticRegression"
      ],
      "execution_count": 0,
      "outputs": []
    },
    {
      "cell_type": "code",
      "metadata": {
        "id": "q7N4zWG-iOd-",
        "colab_type": "code",
        "colab": {}
      },
      "source": [
        "LR = LogisticRegression(random_state=42,solver='liblinear')\n",
        "LR.fit(X_train, y_train)\n",
        "y_pred = LR.predict(X_test)"
      ],
      "execution_count": 0,
      "outputs": []
    },
    {
      "cell_type": "markdown",
      "metadata": {
        "id": "pOH0oCOBiOeC",
        "colab_type": "text"
      },
      "source": [
        "Создайте датафрейм pandas с двумя столбцами: первый столбец - слова из словаря (определены выше), второй - веса этих слов (атрибут coef\\_ модели, например,  model.coef\\_). Отсортируйте датафрейм по возрастанию весов, выведите 100 слов с наибольшими весами и 100 слов с наименьшими (наибольшими по модулю отрицательными) весами. \n",
        "\n",
        "Внимание: веса модели имеют форму (1, num\\_features), а нам нужно (num\\_features,), поэтому потребуется использовать конструкцию вида model.coef\\_[0]."
      ]
    },
    {
      "cell_type": "code",
      "metadata": {
        "id": "_oFejIx-iOeD",
        "colab_type": "code",
        "outputId": "ee0f8e5c-3dd8-4a4c-ab1a-ef635c935693",
        "colab": {
          "base_uri": "https://localhost:8080/",
          "height": 34
        }
      },
      "source": [
        "ws = LR.coef_[0]\n",
        "print(type(ws))"
      ],
      "execution_count": 20,
      "outputs": [
        {
          "output_type": "stream",
          "text": [
            "<class 'numpy.ndarray'>\n"
          ],
          "name": "stdout"
        }
      ]
    },
    {
      "cell_type": "code",
      "metadata": {
        "id": "x2IQ7bguvP2K",
        "colab_type": "code",
        "outputId": "ea4fa865-21cf-4edd-d60d-d34a815bc8f1",
        "colab": {
          "base_uri": "https://localhost:8080/",
          "height": 204
        }
      },
      "source": [
        "df1 = pd.DataFrame({\"words\": words, \"weights\": ws})\n",
        "df1.head()"
      ],
      "execution_count": 21,
      "outputs": [
        {
          "output_type": "execute_result",
          "data": {
            "text/html": [
              "<div>\n",
              "<style scoped>\n",
              "    .dataframe tbody tr th:only-of-type {\n",
              "        vertical-align: middle;\n",
              "    }\n",
              "\n",
              "    .dataframe tbody tr th {\n",
              "        vertical-align: top;\n",
              "    }\n",
              "\n",
              "    .dataframe thead th {\n",
              "        text-align: right;\n",
              "    }\n",
              "</style>\n",
              "<table border=\"1\" class=\"dataframe\">\n",
              "  <thead>\n",
              "    <tr style=\"text-align: right;\">\n",
              "      <th></th>\n",
              "      <th>words</th>\n",
              "      <th>weights</th>\n",
              "    </tr>\n",
              "  </thead>\n",
              "  <tbody>\n",
              "    <tr>\n",
              "      <th>0</th>\n",
              "      <td>00</td>\n",
              "      <td>0.384515</td>\n",
              "    </tr>\n",
              "    <tr>\n",
              "      <th>1</th>\n",
              "      <td>000</td>\n",
              "      <td>0.420801</td>\n",
              "    </tr>\n",
              "    <tr>\n",
              "      <th>2</th>\n",
              "      <td>000pes</td>\n",
              "      <td>-0.010206</td>\n",
              "    </tr>\n",
              "    <tr>\n",
              "      <th>3</th>\n",
              "      <td>008704050406</td>\n",
              "      <td>0.006450</td>\n",
              "    </tr>\n",
              "    <tr>\n",
              "      <th>4</th>\n",
              "      <td>0089</td>\n",
              "      <td>0.017851</td>\n",
              "    </tr>\n",
              "  </tbody>\n",
              "</table>\n",
              "</div>"
            ],
            "text/plain": [
              "          words   weights\n",
              "0            00  0.384515\n",
              "1           000  0.420801\n",
              "2        000pes -0.010206\n",
              "3  008704050406  0.006450\n",
              "4          0089  0.017851"
            ]
          },
          "metadata": {
            "tags": []
          },
          "execution_count": 21
        }
      ]
    },
    {
      "cell_type": "code",
      "metadata": {
        "id": "EAEH2nPjxqcF",
        "colab_type": "code",
        "colab": {}
      },
      "source": [
        "df1 = df1.sort_values(by=['weights'])"
      ],
      "execution_count": 0,
      "outputs": []
    },
    {
      "cell_type": "code",
      "metadata": {
        "id": "ODvRgfeNx-BC",
        "colab_type": "code",
        "outputId": "f1754d50-7c53-4ffe-aa0d-f130f5004d06",
        "colab": {
          "base_uri": "https://localhost:8080/",
          "height": 1000
        }
      },
      "source": [
        "df1.head(100)"
      ],
      "execution_count": 23,
      "outputs": [
        {
          "output_type": "execute_result",
          "data": {
            "text/html": [
              "<div>\n",
              "<style scoped>\n",
              "    .dataframe tbody tr th:only-of-type {\n",
              "        vertical-align: middle;\n",
              "    }\n",
              "\n",
              "    .dataframe tbody tr th {\n",
              "        vertical-align: top;\n",
              "    }\n",
              "\n",
              "    .dataframe thead th {\n",
              "        text-align: right;\n",
              "    }\n",
              "</style>\n",
              "<table border=\"1\" class=\"dataframe\">\n",
              "  <thead>\n",
              "    <tr style=\"text-align: right;\">\n",
              "      <th></th>\n",
              "      <th>words</th>\n",
              "      <th>weights</th>\n",
              "    </tr>\n",
              "  </thead>\n",
              "  <tbody>\n",
              "    <tr>\n",
              "      <th>3684</th>\n",
              "      <td>gt</td>\n",
              "      <td>-1.059909</td>\n",
              "    </tr>\n",
              "    <tr>\n",
              "      <th>4793</th>\n",
              "      <td>lt</td>\n",
              "      <td>-1.018166</td>\n",
              "    </tr>\n",
              "    <tr>\n",
              "      <th>5254</th>\n",
              "      <td>my</td>\n",
              "      <td>-1.016533</td>\n",
              "    </tr>\n",
              "    <tr>\n",
              "      <th>4968</th>\n",
              "      <td>me</td>\n",
              "      <td>-1.000621</td>\n",
              "    </tr>\n",
              "    <tr>\n",
              "      <th>4696</th>\n",
              "      <td>ll</td>\n",
              "      <td>-0.756478</td>\n",
              "    </tr>\n",
              "    <tr>\n",
              "      <th>7126</th>\n",
              "      <td>sorry</td>\n",
              "      <td>-0.734548</td>\n",
              "    </tr>\n",
              "    <tr>\n",
              "      <th>6516</th>\n",
              "      <td>right</td>\n",
              "      <td>-0.692565</td>\n",
              "    </tr>\n",
              "    <tr>\n",
              "      <th>3805</th>\n",
              "      <td>he</td>\n",
              "      <td>-0.691806</td>\n",
              "    </tr>\n",
              "    <tr>\n",
              "      <th>3436</th>\n",
              "      <td>fullonsms</td>\n",
              "      <td>-0.685031</td>\n",
              "    </tr>\n",
              "    <tr>\n",
              "      <th>4550</th>\n",
              "      <td>later</td>\n",
              "      <td>-0.645261</td>\n",
              "    </tr>\n",
              "    <tr>\n",
              "      <th>8412</th>\n",
              "      <td>what</td>\n",
              "      <td>-0.637761</td>\n",
              "    </tr>\n",
              "    <tr>\n",
              "      <th>3978</th>\n",
              "      <td>how</td>\n",
              "      <td>-0.587721</td>\n",
              "    </tr>\n",
              "    <tr>\n",
              "      <th>7688</th>\n",
              "      <td>then</td>\n",
              "      <td>-0.581646</td>\n",
              "    </tr>\n",
              "    <tr>\n",
              "      <th>3768</th>\n",
              "      <td>happy</td>\n",
              "      <td>-0.580526</td>\n",
              "    </tr>\n",
              "    <tr>\n",
              "      <th>8341</th>\n",
              "      <td>way</td>\n",
              "      <td>-0.579959</td>\n",
              "    </tr>\n",
              "    <tr>\n",
              "      <th>5538</th>\n",
              "      <td>ok</td>\n",
              "      <td>-0.573153</td>\n",
              "    </tr>\n",
              "    <tr>\n",
              "      <th>5533</th>\n",
              "      <td>oh</td>\n",
              "      <td>-0.566406</td>\n",
              "    </tr>\n",
              "    <tr>\n",
              "      <th>6964</th>\n",
              "      <td>sir</td>\n",
              "      <td>-0.562857</td>\n",
              "    </tr>\n",
              "    <tr>\n",
              "      <th>1853</th>\n",
              "      <td>can</td>\n",
              "      <td>-0.560652</td>\n",
              "    </tr>\n",
              "    <tr>\n",
              "      <th>6843</th>\n",
              "      <td>she</td>\n",
              "      <td>-0.554724</td>\n",
              "    </tr>\n",
              "    <tr>\n",
              "      <th>5563</th>\n",
              "      <td>once</td>\n",
              "      <td>-0.553224</td>\n",
              "    </tr>\n",
              "    <tr>\n",
              "      <th>7670</th>\n",
              "      <td>that</td>\n",
              "      <td>-0.545951</td>\n",
              "    </tr>\n",
              "    <tr>\n",
              "      <th>2428</th>\n",
              "      <td>da</td>\n",
              "      <td>-0.531384</td>\n",
              "    </tr>\n",
              "    <tr>\n",
              "      <th>8419</th>\n",
              "      <td>when</td>\n",
              "      <td>-0.525842</td>\n",
              "    </tr>\n",
              "    <tr>\n",
              "      <th>1064</th>\n",
              "      <td>always</td>\n",
              "      <td>-0.522110</td>\n",
              "    </tr>\n",
              "    <tr>\n",
              "      <th>1066</th>\n",
              "      <td>am</td>\n",
              "      <td>-0.516209</td>\n",
              "    </tr>\n",
              "    <tr>\n",
              "      <th>3615</th>\n",
              "      <td>got</td>\n",
              "      <td>-0.514229</td>\n",
              "    </tr>\n",
              "    <tr>\n",
              "      <th>7302</th>\n",
              "      <td>still</td>\n",
              "      <td>-0.512179</td>\n",
              "    </tr>\n",
              "    <tr>\n",
              "      <th>1838</th>\n",
              "      <td>callertune</td>\n",
              "      <td>-0.512080</td>\n",
              "    </tr>\n",
              "    <tr>\n",
              "      <th>1084</th>\n",
              "      <td>amp</td>\n",
              "      <td>-0.510460</td>\n",
              "    </tr>\n",
              "    <tr>\n",
              "      <th>3925</th>\n",
              "      <td>home</td>\n",
              "      <td>-0.508661</td>\n",
              "    </tr>\n",
              "    <tr>\n",
              "      <th>3881</th>\n",
              "      <td>him</td>\n",
              "      <td>-0.508552</td>\n",
              "    </tr>\n",
              "    <tr>\n",
              "      <th>1273</th>\n",
              "      <td>at</td>\n",
              "      <td>-0.506303</td>\n",
              "    </tr>\n",
              "    <tr>\n",
              "      <th>4253</th>\n",
              "      <td>its</td>\n",
              "      <td>-0.497229</td>\n",
              "    </tr>\n",
              "    <tr>\n",
              "      <th>8172</th>\n",
              "      <td>ve</td>\n",
              "      <td>-0.492756</td>\n",
              "    </tr>\n",
              "    <tr>\n",
              "      <th>3584</th>\n",
              "      <td>going</td>\n",
              "      <td>-0.489300</td>\n",
              "    </tr>\n",
              "    <tr>\n",
              "      <th>2163</th>\n",
              "      <td>come</td>\n",
              "      <td>-0.488858</td>\n",
              "    </tr>\n",
              "    <tr>\n",
              "      <th>8423</th>\n",
              "      <td>where</td>\n",
              "      <td>-0.478941</td>\n",
              "    </tr>\n",
              "    <tr>\n",
              "      <th>1247</th>\n",
              "      <td>ask</td>\n",
              "      <td>-0.475767</td>\n",
              "    </tr>\n",
              "    <tr>\n",
              "      <th>3888</th>\n",
              "      <td>his</td>\n",
              "      <td>-0.454698</td>\n",
              "    </tr>\n",
              "    <tr>\n",
              "      <th>4245</th>\n",
              "      <td>it</td>\n",
              "      <td>-0.452860</td>\n",
              "    </tr>\n",
              "    <tr>\n",
              "      <th>3397</th>\n",
              "      <td>friends</td>\n",
              "      <td>-0.447959</td>\n",
              "    </tr>\n",
              "    <tr>\n",
              "      <th>1865</th>\n",
              "      <td>cant</td>\n",
              "      <td>-0.447267</td>\n",
              "    </tr>\n",
              "    <tr>\n",
              "      <th>4724</th>\n",
              "      <td>lol</td>\n",
              "      <td>-0.446169</td>\n",
              "    </tr>\n",
              "    <tr>\n",
              "      <th>3943</th>\n",
              "      <td>hope</td>\n",
              "      <td>-0.440714</td>\n",
              "    </tr>\n",
              "    <tr>\n",
              "      <th>1794</th>\n",
              "      <td>but</td>\n",
              "      <td>-0.437604</td>\n",
              "    </tr>\n",
              "    <tr>\n",
              "      <th>8187</th>\n",
              "      <td>very</td>\n",
              "      <td>-0.436606</td>\n",
              "    </tr>\n",
              "    <tr>\n",
              "      <th>5081</th>\n",
              "      <td>miss</td>\n",
              "      <td>-0.436050</td>\n",
              "    </tr>\n",
              "    <tr>\n",
              "      <th>6626</th>\n",
              "      <td>said</td>\n",
              "      <td>-0.430537</td>\n",
              "    </tr>\n",
              "    <tr>\n",
              "      <th>8651</th>\n",
              "      <td>yes</td>\n",
              "      <td>-0.429438</td>\n",
              "    </tr>\n",
              "    <tr>\n",
              "      <th>929</th>\n",
              "      <td>added</td>\n",
              "      <td>-0.428122</td>\n",
              "    </tr>\n",
              "    <tr>\n",
              "      <th>7074</th>\n",
              "      <td>so</td>\n",
              "      <td>-0.427138</td>\n",
              "    </tr>\n",
              "    <tr>\n",
              "      <th>3595</th>\n",
              "      <td>gonna</td>\n",
              "      <td>-0.425518</td>\n",
              "    </tr>\n",
              "    <tr>\n",
              "      <th>8086</th>\n",
              "      <td>up</td>\n",
              "      <td>-0.416498</td>\n",
              "    </tr>\n",
              "    <tr>\n",
              "      <th>7099</th>\n",
              "      <td>something</td>\n",
              "      <td>-0.407793</td>\n",
              "    </tr>\n",
              "    <tr>\n",
              "      <th>1054</th>\n",
              "      <td>already</td>\n",
              "      <td>-0.396938</td>\n",
              "    </tr>\n",
              "    <tr>\n",
              "      <th>2724</th>\n",
              "      <td>don</td>\n",
              "      <td>-0.396671</td>\n",
              "    </tr>\n",
              "    <tr>\n",
              "      <th>6322</th>\n",
              "      <td>really</td>\n",
              "      <td>-0.395485</td>\n",
              "    </tr>\n",
              "    <tr>\n",
              "      <th>8324</th>\n",
              "      <td>wat</td>\n",
              "      <td>-0.383889</td>\n",
              "    </tr>\n",
              "    <tr>\n",
              "      <th>870</th>\n",
              "      <td>about</td>\n",
              "      <td>-0.379274</td>\n",
              "    </tr>\n",
              "    <tr>\n",
              "      <th>4747</th>\n",
              "      <td>lor</td>\n",
              "      <td>-0.371562</td>\n",
              "    </tr>\n",
              "    <tr>\n",
              "      <th>4327</th>\n",
              "      <td>job</td>\n",
              "      <td>-0.369832</td>\n",
              "    </tr>\n",
              "    <tr>\n",
              "      <th>5932</th>\n",
              "      <td>plz</td>\n",
              "      <td>-0.367892</td>\n",
              "    </tr>\n",
              "    <tr>\n",
              "      <th>7673</th>\n",
              "      <td>thats</td>\n",
              "      <td>-0.365907</td>\n",
              "    </tr>\n",
              "    <tr>\n",
              "      <th>5041</th>\n",
              "      <td>might</td>\n",
              "      <td>-0.364568</td>\n",
              "    </tr>\n",
              "    <tr>\n",
              "      <th>4870</th>\n",
              "      <td>mail</td>\n",
              "      <td>-0.362893</td>\n",
              "    </tr>\n",
              "    <tr>\n",
              "      <th>2909</th>\n",
              "      <td>email</td>\n",
              "      <td>-0.361695</td>\n",
              "    </tr>\n",
              "    <tr>\n",
              "      <th>3577</th>\n",
              "      <td>god</td>\n",
              "      <td>-0.357944</td>\n",
              "    </tr>\n",
              "    <tr>\n",
              "      <th>7463</th>\n",
              "      <td>sure</td>\n",
              "      <td>-0.352603</td>\n",
              "    </tr>\n",
              "    <tr>\n",
              "      <th>5565</th>\n",
              "      <td>one</td>\n",
              "      <td>-0.352369</td>\n",
              "    </tr>\n",
              "    <tr>\n",
              "      <th>4675</th>\n",
              "      <td>list</td>\n",
              "      <td>-0.352308</td>\n",
              "    </tr>\n",
              "    <tr>\n",
              "      <th>3131</th>\n",
              "      <td>family</td>\n",
              "      <td>-0.350180</td>\n",
              "    </tr>\n",
              "    <tr>\n",
              "      <th>2606</th>\n",
              "      <td>did</td>\n",
              "      <td>-0.349492</td>\n",
              "    </tr>\n",
              "    <tr>\n",
              "      <th>8317</th>\n",
              "      <td>was</td>\n",
              "      <td>-0.346546</td>\n",
              "    </tr>\n",
              "    <tr>\n",
              "      <th>8541</th>\n",
              "      <td>work</td>\n",
              "      <td>-0.345576</td>\n",
              "    </tr>\n",
              "    <tr>\n",
              "      <th>4749</th>\n",
              "      <td>lose</td>\n",
              "      <td>-0.341493</td>\n",
              "    </tr>\n",
              "    <tr>\n",
              "      <th>4067</th>\n",
              "      <td>if</td>\n",
              "      <td>-0.337416</td>\n",
              "    </tr>\n",
              "    <tr>\n",
              "      <th>5799</th>\n",
              "      <td>people</td>\n",
              "      <td>-0.330948</td>\n",
              "    </tr>\n",
              "    <tr>\n",
              "      <th>8639</th>\n",
              "      <td>yeah</td>\n",
              "      <td>-0.324325</td>\n",
              "    </tr>\n",
              "    <tr>\n",
              "      <th>5925</th>\n",
              "      <td>pls</td>\n",
              "      <td>-0.323440</td>\n",
              "    </tr>\n",
              "    <tr>\n",
              "      <th>5167</th>\n",
              "      <td>morning</td>\n",
              "      <td>-0.323232</td>\n",
              "    </tr>\n",
              "    <tr>\n",
              "      <th>8640</th>\n",
              "      <td>year</td>\n",
              "      <td>-0.322201</td>\n",
              "    </tr>\n",
              "    <tr>\n",
              "      <th>8277</th>\n",
              "      <td>wait</td>\n",
              "      <td>-0.317721</td>\n",
              "    </tr>\n",
              "    <tr>\n",
              "      <th>8391</th>\n",
              "      <td>wen</td>\n",
              "      <td>-0.315221</td>\n",
              "    </tr>\n",
              "    <tr>\n",
              "      <th>2714</th>\n",
              "      <td>doing</td>\n",
              "      <td>-0.314436</td>\n",
              "    </tr>\n",
              "    <tr>\n",
              "      <th>5513</th>\n",
              "      <td>off</td>\n",
              "      <td>-0.312168</td>\n",
              "    </tr>\n",
              "    <tr>\n",
              "      <th>8548</th>\n",
              "      <td>world</td>\n",
              "      <td>-0.311623</td>\n",
              "    </tr>\n",
              "    <tr>\n",
              "      <th>924</th>\n",
              "      <td>actually</td>\n",
              "      <td>-0.311049</td>\n",
              "    </tr>\n",
              "    <tr>\n",
              "      <th>982</th>\n",
              "      <td>again</td>\n",
              "      <td>-0.310340</td>\n",
              "    </tr>\n",
              "    <tr>\n",
              "      <th>4959</th>\n",
              "      <td>may</td>\n",
              "      <td>-0.306560</td>\n",
              "    </tr>\n",
              "    <tr>\n",
              "      <th>5371</th>\n",
              "      <td>nice</td>\n",
              "      <td>-0.302332</td>\n",
              "    </tr>\n",
              "    <tr>\n",
              "      <th>5864</th>\n",
              "      <td>pick</td>\n",
              "      <td>-0.300698</td>\n",
              "    </tr>\n",
              "    <tr>\n",
              "      <th>7001</th>\n",
              "      <td>sleep</td>\n",
              "      <td>-0.299205</td>\n",
              "    </tr>\n",
              "    <tr>\n",
              "      <th>1055</th>\n",
              "      <td>alright</td>\n",
              "      <td>-0.297412</td>\n",
              "    </tr>\n",
              "    <tr>\n",
              "      <th>6120</th>\n",
              "      <td>problem</td>\n",
              "      <td>-0.295567</td>\n",
              "    </tr>\n",
              "    <tr>\n",
              "      <th>3866</th>\n",
              "      <td>hey</td>\n",
              "      <td>-0.295402</td>\n",
              "    </tr>\n",
              "    <tr>\n",
              "      <th>2608</th>\n",
              "      <td>didn</td>\n",
              "      <td>-0.291723</td>\n",
              "    </tr>\n",
              "    <tr>\n",
              "      <th>7835</th>\n",
              "      <td>tomorrow</td>\n",
              "      <td>-0.291409</td>\n",
              "    </tr>\n",
              "    <tr>\n",
              "      <th>3655</th>\n",
              "      <td>great</td>\n",
              "      <td>-0.291273</td>\n",
              "    </tr>\n",
              "    <tr>\n",
              "      <th>2169</th>\n",
              "      <td>coming</td>\n",
              "      <td>-0.288977</td>\n",
              "    </tr>\n",
              "  </tbody>\n",
              "</table>\n",
              "</div>"
            ],
            "text/plain": [
              "           words   weights\n",
              "3684          gt -1.059909\n",
              "4793          lt -1.018166\n",
              "5254          my -1.016533\n",
              "4968          me -1.000621\n",
              "4696          ll -0.756478\n",
              "7126       sorry -0.734548\n",
              "6516       right -0.692565\n",
              "3805          he -0.691806\n",
              "3436   fullonsms -0.685031\n",
              "4550       later -0.645261\n",
              "8412        what -0.637761\n",
              "3978         how -0.587721\n",
              "7688        then -0.581646\n",
              "3768       happy -0.580526\n",
              "8341         way -0.579959\n",
              "5538          ok -0.573153\n",
              "5533          oh -0.566406\n",
              "6964         sir -0.562857\n",
              "1853         can -0.560652\n",
              "6843         she -0.554724\n",
              "5563        once -0.553224\n",
              "7670        that -0.545951\n",
              "2428          da -0.531384\n",
              "8419        when -0.525842\n",
              "1064      always -0.522110\n",
              "1066          am -0.516209\n",
              "3615         got -0.514229\n",
              "7302       still -0.512179\n",
              "1838  callertune -0.512080\n",
              "1084         amp -0.510460\n",
              "3925        home -0.508661\n",
              "3881         him -0.508552\n",
              "1273          at -0.506303\n",
              "4253         its -0.497229\n",
              "8172          ve -0.492756\n",
              "3584       going -0.489300\n",
              "2163        come -0.488858\n",
              "8423       where -0.478941\n",
              "1247         ask -0.475767\n",
              "3888         his -0.454698\n",
              "4245          it -0.452860\n",
              "3397     friends -0.447959\n",
              "1865        cant -0.447267\n",
              "4724         lol -0.446169\n",
              "3943        hope -0.440714\n",
              "1794         but -0.437604\n",
              "8187        very -0.436606\n",
              "5081        miss -0.436050\n",
              "6626        said -0.430537\n",
              "8651         yes -0.429438\n",
              "929        added -0.428122\n",
              "7074          so -0.427138\n",
              "3595       gonna -0.425518\n",
              "8086          up -0.416498\n",
              "7099   something -0.407793\n",
              "1054     already -0.396938\n",
              "2724         don -0.396671\n",
              "6322      really -0.395485\n",
              "8324         wat -0.383889\n",
              "870        about -0.379274\n",
              "4747         lor -0.371562\n",
              "4327         job -0.369832\n",
              "5932         plz -0.367892\n",
              "7673       thats -0.365907\n",
              "5041       might -0.364568\n",
              "4870        mail -0.362893\n",
              "2909       email -0.361695\n",
              "3577         god -0.357944\n",
              "7463        sure -0.352603\n",
              "5565         one -0.352369\n",
              "4675        list -0.352308\n",
              "3131      family -0.350180\n",
              "2606         did -0.349492\n",
              "8317         was -0.346546\n",
              "8541        work -0.345576\n",
              "4749        lose -0.341493\n",
              "4067          if -0.337416\n",
              "5799      people -0.330948\n",
              "8639        yeah -0.324325\n",
              "5925         pls -0.323440\n",
              "5167     morning -0.323232\n",
              "8640        year -0.322201\n",
              "8277        wait -0.317721\n",
              "8391         wen -0.315221\n",
              "2714       doing -0.314436\n",
              "5513         off -0.312168\n",
              "8548       world -0.311623\n",
              "924     actually -0.311049\n",
              "982        again -0.310340\n",
              "4959         may -0.306560\n",
              "5371        nice -0.302332\n",
              "5864        pick -0.300698\n",
              "7001       sleep -0.299205\n",
              "1055     alright -0.297412\n",
              "6120     problem -0.295567\n",
              "3866         hey -0.295402\n",
              "2608        didn -0.291723\n",
              "7835    tomorrow -0.291409\n",
              "3655       great -0.291273\n",
              "2169      coming -0.288977"
            ]
          },
          "metadata": {
            "tags": []
          },
          "execution_count": 23
        }
      ]
    },
    {
      "cell_type": "code",
      "metadata": {
        "id": "D7gu8S3NyjRj",
        "colab_type": "code",
        "outputId": "b7b0ad4e-dffb-4071-cc5e-1dba3b0d954a",
        "colab": {
          "base_uri": "https://localhost:8080/",
          "height": 1000
        }
      },
      "source": [
        "df1.tail(100)"
      ],
      "execution_count": 24,
      "outputs": [
        {
          "output_type": "execute_result",
          "data": {
            "text/html": [
              "<div>\n",
              "<style scoped>\n",
              "    .dataframe tbody tr th:only-of-type {\n",
              "        vertical-align: middle;\n",
              "    }\n",
              "\n",
              "    .dataframe tbody tr th {\n",
              "        vertical-align: top;\n",
              "    }\n",
              "\n",
              "    .dataframe thead th {\n",
              "        text-align: right;\n",
              "    }\n",
              "</style>\n",
              "<table border=\"1\" class=\"dataframe\">\n",
              "  <thead>\n",
              "    <tr style=\"text-align: right;\">\n",
              "      <th></th>\n",
              "      <th>words</th>\n",
              "      <th>weights</th>\n",
              "    </tr>\n",
              "  </thead>\n",
              "  <tbody>\n",
              "    <tr>\n",
              "      <th>2215</th>\n",
              "      <td>condition</td>\n",
              "      <td>0.536944</td>\n",
              "    </tr>\n",
              "    <tr>\n",
              "      <th>2458</th>\n",
              "      <td>dartboard</td>\n",
              "      <td>0.536944</td>\n",
              "    </tr>\n",
              "    <tr>\n",
              "      <th>7920</th>\n",
              "      <td>trebles</td>\n",
              "      <td>0.536944</td>\n",
              "    </tr>\n",
              "    <tr>\n",
              "      <th>2765</th>\n",
              "      <td>draw</td>\n",
              "      <td>0.550019</td>\n",
              "    </tr>\n",
              "    <tr>\n",
              "      <th>2371</th>\n",
              "      <td>cs</td>\n",
              "      <td>0.550325</td>\n",
              "    </tr>\n",
              "    <tr>\n",
              "      <th>1114</th>\n",
              "      <td>announcement</td>\n",
              "      <td>0.550339</td>\n",
              "    </tr>\n",
              "    <tr>\n",
              "      <th>7540</th>\n",
              "      <td>takes</td>\n",
              "      <td>0.555805</td>\n",
              "    </tr>\n",
              "    <tr>\n",
              "      <th>6631</th>\n",
              "      <td>sale</td>\n",
              "      <td>0.555880</td>\n",
              "    </tr>\n",
              "    <tr>\n",
              "      <th>5663</th>\n",
              "      <td>over</td>\n",
              "      <td>0.557309</td>\n",
              "    </tr>\n",
              "    <tr>\n",
              "      <th>8128</th>\n",
              "      <td>user</td>\n",
              "      <td>0.558039</td>\n",
              "    </tr>\n",
              "    <tr>\n",
              "      <th>8473</th>\n",
              "      <td>wining</td>\n",
              "      <td>0.566560</td>\n",
              "    </tr>\n",
              "    <tr>\n",
              "      <th>835</th>\n",
              "      <td>946</td>\n",
              "      <td>0.566560</td>\n",
              "    </tr>\n",
              "    <tr>\n",
              "      <th>3964</th>\n",
              "      <td>hot</td>\n",
              "      <td>0.568818</td>\n",
              "    </tr>\n",
              "    <tr>\n",
              "      <th>4794</th>\n",
              "      <td>ltd</td>\n",
              "      <td>0.574957</td>\n",
              "    </tr>\n",
              "    <tr>\n",
              "      <th>4802</th>\n",
              "      <td>lucy</td>\n",
              "      <td>0.582030</td>\n",
              "    </tr>\n",
              "    <tr>\n",
              "      <th>5470</th>\n",
              "      <td>numbers</td>\n",
              "      <td>0.584729</td>\n",
              "    </tr>\n",
              "    <tr>\n",
              "      <th>8611</th>\n",
              "      <td>xx</td>\n",
              "      <td>0.590371</td>\n",
              "    </tr>\n",
              "    <tr>\n",
              "      <th>3024</th>\n",
              "      <td>everyone</td>\n",
              "      <td>0.590764</td>\n",
              "    </tr>\n",
              "    <tr>\n",
              "      <th>727</th>\n",
              "      <td>7pm</td>\n",
              "      <td>0.593781</td>\n",
              "    </tr>\n",
              "    <tr>\n",
              "      <th>133</th>\n",
              "      <td>08714712388</td>\n",
              "      <td>0.596499</td>\n",
              "    </tr>\n",
              "    <tr>\n",
              "      <th>743</th>\n",
              "      <td>80488</td>\n",
              "      <td>0.599592</td>\n",
              "    </tr>\n",
              "    <tr>\n",
              "      <th>6807</th>\n",
              "      <td>sex</td>\n",
              "      <td>0.602400</td>\n",
              "    </tr>\n",
              "    <tr>\n",
              "      <th>6771</th>\n",
              "      <td>send</td>\n",
              "      <td>0.603185</td>\n",
              "    </tr>\n",
              "    <tr>\n",
              "      <th>8247</th>\n",
              "      <td>voucher</td>\n",
              "      <td>0.605956</td>\n",
              "    </tr>\n",
              "    <tr>\n",
              "      <th>5199</th>\n",
              "      <td>msg</td>\n",
              "      <td>0.606754</td>\n",
              "    </tr>\n",
              "    <tr>\n",
              "      <th>5063</th>\n",
              "      <td>minmobsmorelkpobox177hp51fl</td>\n",
              "      <td>0.609611</td>\n",
              "    </tr>\n",
              "    <tr>\n",
              "      <th>7444</th>\n",
              "      <td>sunshine</td>\n",
              "      <td>0.614080</td>\n",
              "    </tr>\n",
              "    <tr>\n",
              "      <th>8614</th>\n",
              "      <td>xxx</td>\n",
              "      <td>0.615525</td>\n",
              "    </tr>\n",
              "    <tr>\n",
              "      <th>4149</th>\n",
              "      <td>info</td>\n",
              "      <td>0.616734</td>\n",
              "    </tr>\n",
              "    <tr>\n",
              "      <th>2046</th>\n",
              "      <td>choose</td>\n",
              "      <td>0.622444</td>\n",
              "    </tr>\n",
              "    <tr>\n",
              "      <th>5117</th>\n",
              "      <td>mob</td>\n",
              "      <td>0.627417</td>\n",
              "    </tr>\n",
              "    <tr>\n",
              "      <th>307</th>\n",
              "      <td>10am</td>\n",
              "      <td>0.628184</td>\n",
              "    </tr>\n",
              "    <tr>\n",
              "      <th>617</th>\n",
              "      <td>500</td>\n",
              "      <td>0.629365</td>\n",
              "    </tr>\n",
              "    <tr>\n",
              "      <th>951</th>\n",
              "      <td>adult</td>\n",
              "      <td>0.633269</td>\n",
              "    </tr>\n",
              "    <tr>\n",
              "      <th>7327</th>\n",
              "      <td>stories</td>\n",
              "      <td>0.640913</td>\n",
              "    </tr>\n",
              "    <tr>\n",
              "      <th>3219</th>\n",
              "      <td>filthy</td>\n",
              "      <td>0.640913</td>\n",
              "    </tr>\n",
              "    <tr>\n",
              "      <th>8308</th>\n",
              "      <td>wap</td>\n",
              "      <td>0.648251</td>\n",
              "    </tr>\n",
              "    <tr>\n",
              "      <th>732</th>\n",
              "      <td>800</td>\n",
              "      <td>0.649979</td>\n",
              "    </tr>\n",
              "    <tr>\n",
              "      <th>4551</th>\n",
              "      <td>latest</td>\n",
              "      <td>0.660168</td>\n",
              "    </tr>\n",
              "    <tr>\n",
              "      <th>3842</th>\n",
              "      <td>help</td>\n",
              "      <td>0.660975</td>\n",
              "    </tr>\n",
              "    <tr>\n",
              "      <th>6113</th>\n",
              "      <td>prize</td>\n",
              "      <td>0.667227</td>\n",
              "    </tr>\n",
              "    <tr>\n",
              "      <th>7702</th>\n",
              "      <td>they</td>\n",
              "      <td>0.668548</td>\n",
              "    </tr>\n",
              "    <tr>\n",
              "      <th>883</th>\n",
              "      <td>ac</td>\n",
              "      <td>0.671590</td>\n",
              "    </tr>\n",
              "    <tr>\n",
              "      <th>4811</th>\n",
              "      <td>luv</td>\n",
              "      <td>0.671658</td>\n",
              "    </tr>\n",
              "    <tr>\n",
              "      <th>5917</th>\n",
              "      <td>please</td>\n",
              "      <td>0.686056</td>\n",
              "    </tr>\n",
              "    <tr>\n",
              "      <th>5604</th>\n",
              "      <td>or</td>\n",
              "      <td>0.691936</td>\n",
              "    </tr>\n",
              "    <tr>\n",
              "      <th>6313</th>\n",
              "      <td>real</td>\n",
              "      <td>0.693571</td>\n",
              "    </tr>\n",
              "    <tr>\n",
              "      <th>1902</th>\n",
              "      <td>cash</td>\n",
              "      <td>0.696725</td>\n",
              "    </tr>\n",
              "    <tr>\n",
              "      <th>8109</th>\n",
              "      <td>urgent</td>\n",
              "      <td>0.702423</td>\n",
              "    </tr>\n",
              "    <tr>\n",
              "      <th>8674</th>\n",
              "      <td>your</td>\n",
              "      <td>0.710833</td>\n",
              "    </tr>\n",
              "    <tr>\n",
              "      <th>3323</th>\n",
              "      <td>for</td>\n",
              "      <td>0.713918</td>\n",
              "    </tr>\n",
              "    <tr>\n",
              "      <th>6891</th>\n",
              "      <td>shortly</td>\n",
              "      <td>0.726535</td>\n",
              "    </tr>\n",
              "    <tr>\n",
              "      <th>3549</th>\n",
              "      <td>girls</td>\n",
              "      <td>0.728173</td>\n",
              "    </tr>\n",
              "    <tr>\n",
              "      <th>7052</th>\n",
              "      <td>sms</td>\n",
              "      <td>0.732893</td>\n",
              "    </tr>\n",
              "    <tr>\n",
              "      <th>3994</th>\n",
              "      <td>http</td>\n",
              "      <td>0.732922</td>\n",
              "    </tr>\n",
              "    <tr>\n",
              "      <th>6284</th>\n",
              "      <td>rate</td>\n",
              "      <td>0.738287</td>\n",
              "    </tr>\n",
              "    <tr>\n",
              "      <th>1333</th>\n",
              "      <td>awarded</td>\n",
              "      <td>0.759557</td>\n",
              "    </tr>\n",
              "    <tr>\n",
              "      <th>3414</th>\n",
              "      <td>from</td>\n",
              "      <td>0.768885</td>\n",
              "    </tr>\n",
              "    <tr>\n",
              "      <th>6795</th>\n",
              "      <td>services</td>\n",
              "      <td>0.771431</td>\n",
              "    </tr>\n",
              "    <tr>\n",
              "      <th>2122</th>\n",
              "      <td>co</td>\n",
              "      <td>0.771789</td>\n",
              "    </tr>\n",
              "    <tr>\n",
              "      <th>1230</th>\n",
              "      <td>arsenal</td>\n",
              "      <td>0.775160</td>\n",
              "    </tr>\n",
              "    <tr>\n",
              "      <th>8463</th>\n",
              "      <td>win</td>\n",
              "      <td>0.787553</td>\n",
              "    </tr>\n",
              "    <tr>\n",
              "      <th>1843</th>\n",
              "      <td>calls</td>\n",
              "      <td>0.788353</td>\n",
              "    </tr>\n",
              "    <tr>\n",
              "      <th>8238</th>\n",
              "      <td>voicemail</td>\n",
              "      <td>0.810340</td>\n",
              "    </tr>\n",
              "    <tr>\n",
              "      <th>2943</th>\n",
              "      <td>enjoy</td>\n",
              "      <td>0.825011</td>\n",
              "    </tr>\n",
              "    <tr>\n",
              "      <th>309</th>\n",
              "      <td>10p</td>\n",
              "      <td>0.836307</td>\n",
              "    </tr>\n",
              "    <tr>\n",
              "      <th>2411</th>\n",
              "      <td>customer</td>\n",
              "      <td>0.866995</td>\n",
              "    </tr>\n",
              "    <tr>\n",
              "      <th>2249</th>\n",
              "      <td>content</td>\n",
              "      <td>0.873091</td>\n",
              "    </tr>\n",
              "    <tr>\n",
              "      <th>3380</th>\n",
              "      <td>freemsg</td>\n",
              "      <td>0.883286</td>\n",
              "    </tr>\n",
              "    <tr>\n",
              "      <th>2291</th>\n",
              "      <td>cost</td>\n",
              "      <td>0.895624</td>\n",
              "    </tr>\n",
              "    <tr>\n",
              "      <th>5367</th>\n",
              "      <td>next</td>\n",
              "      <td>0.900131</td>\n",
              "    </tr>\n",
              "    <tr>\n",
              "      <th>8435</th>\n",
              "      <td>who</td>\n",
              "      <td>0.906740</td>\n",
              "    </tr>\n",
              "    <tr>\n",
              "      <th>776</th>\n",
              "      <td>84484</td>\n",
              "      <td>0.923765</td>\n",
              "    </tr>\n",
              "    <tr>\n",
              "      <th>6526</th>\n",
              "      <td>ringtoneking</td>\n",
              "      <td>0.924143</td>\n",
              "    </tr>\n",
              "    <tr>\n",
              "      <th>5052</th>\n",
              "      <td>min</td>\n",
              "      <td>0.924146</td>\n",
              "    </tr>\n",
              "    <tr>\n",
              "      <th>2157</th>\n",
              "      <td>com</td>\n",
              "      <td>0.934404</td>\n",
              "    </tr>\n",
              "    <tr>\n",
              "      <th>5453</th>\n",
              "      <td>now</td>\n",
              "      <td>0.937218</td>\n",
              "    </tr>\n",
              "    <tr>\n",
              "      <th>346</th>\n",
              "      <td>146tf150p</td>\n",
              "      <td>0.966814</td>\n",
              "    </tr>\n",
              "    <tr>\n",
              "      <th>5612</th>\n",
              "      <td>order</td>\n",
              "      <td>0.974520</td>\n",
              "    </tr>\n",
              "    <tr>\n",
              "      <th>7838</th>\n",
              "      <td>tones</td>\n",
              "      <td>0.992328</td>\n",
              "    </tr>\n",
              "    <tr>\n",
              "      <th>802</th>\n",
              "      <td>88066</td>\n",
              "      <td>0.995710</td>\n",
              "    </tr>\n",
              "    <tr>\n",
              "      <th>3373</th>\n",
              "      <td>free</td>\n",
              "      <td>1.025258</td>\n",
              "    </tr>\n",
              "    <tr>\n",
              "      <th>369</th>\n",
              "      <td>18</td>\n",
              "      <td>1.038264</td>\n",
              "    </tr>\n",
              "    <tr>\n",
              "      <th>5022</th>\n",
              "      <td>message</td>\n",
              "      <td>1.048137</td>\n",
              "    </tr>\n",
              "    <tr>\n",
              "      <th>1979</th>\n",
              "      <td>chat</td>\n",
              "      <td>1.068603</td>\n",
              "    </tr>\n",
              "    <tr>\n",
              "      <th>616</th>\n",
              "      <td>50</td>\n",
              "      <td>1.083659</td>\n",
              "    </tr>\n",
              "    <tr>\n",
              "      <th>8596</th>\n",
              "      <td>www</td>\n",
              "      <td>1.103192</td>\n",
              "    </tr>\n",
              "    <tr>\n",
              "      <th>6794</th>\n",
              "      <td>service</td>\n",
              "      <td>1.143946</td>\n",
              "    </tr>\n",
              "    <tr>\n",
              "      <th>5119</th>\n",
              "      <td>mobile</td>\n",
              "      <td>1.154040</td>\n",
              "    </tr>\n",
              "    <tr>\n",
              "      <th>352</th>\n",
              "      <td>150p</td>\n",
              "      <td>1.246601</td>\n",
              "    </tr>\n",
              "    <tr>\n",
              "      <th>5358</th>\n",
              "      <td>new</td>\n",
              "      <td>1.262703</td>\n",
              "    </tr>\n",
              "    <tr>\n",
              "      <th>2067</th>\n",
              "      <td>claim</td>\n",
              "      <td>1.268923</td>\n",
              "    </tr>\n",
              "    <tr>\n",
              "      <th>7315</th>\n",
              "      <td>stop</td>\n",
              "      <td>1.315163</td>\n",
              "    </tr>\n",
              "    <tr>\n",
              "      <th>8523</th>\n",
              "      <td>won</td>\n",
              "      <td>1.441183</td>\n",
              "    </tr>\n",
              "    <tr>\n",
              "      <th>8016</th>\n",
              "      <td>uk</td>\n",
              "      <td>1.554913</td>\n",
              "    </tr>\n",
              "    <tr>\n",
              "      <th>6442</th>\n",
              "      <td>reply</td>\n",
              "      <td>1.615683</td>\n",
              "    </tr>\n",
              "    <tr>\n",
              "      <th>1828</th>\n",
              "      <td>call</td>\n",
              "      <td>1.643579</td>\n",
              "    </tr>\n",
              "    <tr>\n",
              "      <th>7644</th>\n",
              "      <td>text</td>\n",
              "      <td>1.687034</td>\n",
              "    </tr>\n",
              "    <tr>\n",
              "      <th>6525</th>\n",
              "      <td>ringtone</td>\n",
              "      <td>1.696095</td>\n",
              "    </tr>\n",
              "    <tr>\n",
              "      <th>7986</th>\n",
              "      <td>txt</td>\n",
              "      <td>1.918999</td>\n",
              "    </tr>\n",
              "  </tbody>\n",
              "</table>\n",
              "</div>"
            ],
            "text/plain": [
              "                            words   weights\n",
              "2215                    condition  0.536944\n",
              "2458                    dartboard  0.536944\n",
              "7920                      trebles  0.536944\n",
              "2765                         draw  0.550019\n",
              "2371                           cs  0.550325\n",
              "1114                 announcement  0.550339\n",
              "7540                        takes  0.555805\n",
              "6631                         sale  0.555880\n",
              "5663                         over  0.557309\n",
              "8128                         user  0.558039\n",
              "8473                       wining  0.566560\n",
              "835                           946  0.566560\n",
              "3964                          hot  0.568818\n",
              "4794                          ltd  0.574957\n",
              "4802                         lucy  0.582030\n",
              "5470                      numbers  0.584729\n",
              "8611                           xx  0.590371\n",
              "3024                     everyone  0.590764\n",
              "727                           7pm  0.593781\n",
              "133                   08714712388  0.596499\n",
              "743                         80488  0.599592\n",
              "6807                          sex  0.602400\n",
              "6771                         send  0.603185\n",
              "8247                      voucher  0.605956\n",
              "5199                          msg  0.606754\n",
              "5063  minmobsmorelkpobox177hp51fl  0.609611\n",
              "7444                     sunshine  0.614080\n",
              "8614                          xxx  0.615525\n",
              "4149                         info  0.616734\n",
              "2046                       choose  0.622444\n",
              "5117                          mob  0.627417\n",
              "307                          10am  0.628184\n",
              "617                           500  0.629365\n",
              "951                         adult  0.633269\n",
              "7327                      stories  0.640913\n",
              "3219                       filthy  0.640913\n",
              "8308                          wap  0.648251\n",
              "732                           800  0.649979\n",
              "4551                       latest  0.660168\n",
              "3842                         help  0.660975\n",
              "6113                        prize  0.667227\n",
              "7702                         they  0.668548\n",
              "883                            ac  0.671590\n",
              "4811                          luv  0.671658\n",
              "5917                       please  0.686056\n",
              "5604                           or  0.691936\n",
              "6313                         real  0.693571\n",
              "1902                         cash  0.696725\n",
              "8109                       urgent  0.702423\n",
              "8674                         your  0.710833\n",
              "3323                          for  0.713918\n",
              "6891                      shortly  0.726535\n",
              "3549                        girls  0.728173\n",
              "7052                          sms  0.732893\n",
              "3994                         http  0.732922\n",
              "6284                         rate  0.738287\n",
              "1333                      awarded  0.759557\n",
              "3414                         from  0.768885\n",
              "6795                     services  0.771431\n",
              "2122                           co  0.771789\n",
              "1230                      arsenal  0.775160\n",
              "8463                          win  0.787553\n",
              "1843                        calls  0.788353\n",
              "8238                    voicemail  0.810340\n",
              "2943                        enjoy  0.825011\n",
              "309                           10p  0.836307\n",
              "2411                     customer  0.866995\n",
              "2249                      content  0.873091\n",
              "3380                      freemsg  0.883286\n",
              "2291                         cost  0.895624\n",
              "5367                         next  0.900131\n",
              "8435                          who  0.906740\n",
              "776                         84484  0.923765\n",
              "6526                 ringtoneking  0.924143\n",
              "5052                          min  0.924146\n",
              "2157                          com  0.934404\n",
              "5453                          now  0.937218\n",
              "346                     146tf150p  0.966814\n",
              "5612                        order  0.974520\n",
              "7838                        tones  0.992328\n",
              "802                         88066  0.995710\n",
              "3373                         free  1.025258\n",
              "369                            18  1.038264\n",
              "5022                      message  1.048137\n",
              "1979                         chat  1.068603\n",
              "616                            50  1.083659\n",
              "8596                          www  1.103192\n",
              "6794                      service  1.143946\n",
              "5119                       mobile  1.154040\n",
              "352                          150p  1.246601\n",
              "5358                          new  1.262703\n",
              "2067                        claim  1.268923\n",
              "7315                         stop  1.315163\n",
              "8523                          won  1.441183\n",
              "8016                           uk  1.554913\n",
              "6442                        reply  1.615683\n",
              "1828                         call  1.643579\n",
              "7644                         text  1.687034\n",
              "6525                     ringtone  1.696095\n",
              "7986                          txt  1.918999"
            ]
          },
          "metadata": {
            "tags": []
          },
          "execution_count": 24
        }
      ]
    },
    {
      "cell_type": "markdown",
      "metadata": {
        "id": "p_l3qb9SiOeI",
        "colab_type": "text"
      },
      "source": [
        "Можно ли сказать, что топ слова действительно характеризуют каждый из двух классов? Почему?\n",
        "\n",
        "Если мы знаем, что у нас точно есть два класса (спам, не спам), то благодаря просмотру первых и последних 100 слов упорядоченных по возрастанию веса мы можем сказать, что слова с большим (`tail`) весом относятся к спаму, а с меньшим(`head`) весом к не спаму. Это получается из-за характеристики `coef_` , так как при встрече слов `txt, ringtone, call, reply, won , ссылки на порносайты` это предложение будет соотнесено к спаму, а при встрече таких часто использующих в разговоре слов как `my, me, sorry, he, what` - к не спаму."
      ]
    },
    {
      "cell_type": "markdown",
      "metadata": {
        "collapsed": true,
        "id": "mHMkxGfwiOeJ",
        "colab_type": "text"
      },
      "source": [
        "### Оценивание качества"
      ]
    },
    {
      "cell_type": "markdown",
      "metadata": {
        "id": "3hj117lQiOeK",
        "colab_type": "text"
      },
      "source": [
        "Вычислите точность (accuracy) на обучающей и тестовой выборке:"
      ]
    },
    {
      "cell_type": "code",
      "metadata": {
        "id": "FBx94OJHiOeL",
        "colab_type": "code",
        "colab": {}
      },
      "source": [
        "from sklearn.metrics import accuracy_score"
      ],
      "execution_count": 0,
      "outputs": []
    },
    {
      "cell_type": "code",
      "metadata": {
        "id": "4CWcI7dWiOeP",
        "colab_type": "code",
        "outputId": "12799536-4d1c-46ab-c8d7-6a56b0e8632f",
        "colab": {
          "base_uri": "https://localhost:8080/",
          "height": 34
        }
      },
      "source": [
        "print(f'Accuracy score is {round(accuracy_score(y_test,y_pred),4)}')"
      ],
      "execution_count": 26,
      "outputs": [
        {
          "output_type": "stream",
          "text": [
            "Accuracy score is 0.9849\n"
          ],
          "name": "stdout"
        }
      ]
    },
    {
      "cell_type": "markdown",
      "metadata": {
        "id": "cBMdY1OqiOeX",
        "colab_type": "text"
      },
      "source": [
        "Поскольку в данных класс 1 редкий, лучше использовать точность и полноту. Посчитайте их для тестовой выборки:"
      ]
    },
    {
      "cell_type": "code",
      "metadata": {
        "id": "UVhJpiI1iOeY",
        "colab_type": "code",
        "colab": {}
      },
      "source": [
        "from sklearn.metrics import classification_report"
      ],
      "execution_count": 0,
      "outputs": []
    },
    {
      "cell_type": "code",
      "metadata": {
        "id": "01wBI5t32aDh",
        "colab_type": "code",
        "colab": {
          "base_uri": "https://localhost:8080/",
          "height": 170
        },
        "outputId": "3f0032b7-e0dc-4576-e8b0-24e7ea0938e8"
      },
      "source": [
        "print(classification_report(y_test,y_pred))"
      ],
      "execution_count": 28,
      "outputs": [
        {
          "output_type": "stream",
          "text": [
            "              precision    recall  f1-score   support\n",
            "\n",
            "           0       0.98      1.00      0.99      1207\n",
            "           1       1.00      0.89      0.94       186\n",
            "\n",
            "    accuracy                           0.98      1393\n",
            "   macro avg       0.99      0.94      0.97      1393\n",
            "weighted avg       0.99      0.98      0.98      1393\n",
            "\n"
          ],
          "name": "stdout"
        }
      ]
    },
    {
      "cell_type": "markdown",
      "metadata": {
        "collapsed": true,
        "id": "xge9ayu4iOef",
        "colab_type": "text"
      },
      "source": [
        "Какое утверждение верно? Поясните свой ответ.\n",
        "\n",
        "1) Алгоритм находит почти все спамовые смс-сообщения, но иногда неверно включает в них неспамовые.\n",
        "\n",
        "2) Все, что алгоритм отнес к спамовым смс-сообщениям, действительно является спамом. Однако алгоритм находит не все спамовые сообщения.\n",
        "\n",
        "Зная теоретическую составляющую:\n",
        "\n",
        "`precision` - показывает точность предсказания системы (если система сказала, что это спам, насколько ей можно доврять); \n",
        "\n",
        "`recall` - показывает полноту ответов системы (сколько спам сообщений она найдет из всех предъявленных спам сообщений). \n",
        "\n",
        "Утверждение 2 верное, так как `precision` = 1.00 , что значит доля объектов, названных классификатором спамом и при этом действительно являющимися спамом, а `recall` = 0.89 показывает, какую долю спам сообщений из всех сообщений спам класса нашел алгоритм"
      ]
    },
    {
      "cell_type": "markdown",
      "metadata": {
        "id": "EpdcJEvEiOef",
        "colab_type": "text"
      },
      "source": [
        "Постройте ROC-кривую для вашей обученной модели. Используйте предсказания на тестовой выборке. \n",
        "1. Вместо функции predict нужно использовать функцию predict_proba. Она вернет матрицу размера (число объектов, 2), для каждого объекта - вероятность класса 0 и вероятность класса 1.\n",
        "1. Вам нужно извлечь вектор вероятностей класса 1 и использовать его для построения ROC-кривой."
      ]
    },
    {
      "cell_type": "code",
      "metadata": {
        "id": "bV2HydfPiOeg",
        "colab_type": "code",
        "colab": {}
      },
      "source": [
        "from sklearn.metrics import roc_curve, auc\n",
        "from matplotlib import pyplot as plt"
      ],
      "execution_count": 0,
      "outputs": []
    },
    {
      "cell_type": "code",
      "metadata": {
        "id": "VOM6JjIqiOeo",
        "colab_type": "code",
        "outputId": "5c7f8ef5-f16a-4449-d962-08e992302b34",
        "colab": {
          "base_uri": "https://localhost:8080/",
          "height": 388
        }
      },
      "source": [
        "plt.figure(figsize=(8,6))\n",
        "\n",
        "probas = LR.fit(X_train, y_train).predict_proba(X_test)\n",
        "fpr, tpr, thresholds = roc_curve(y_test, probas[:, 1])\n",
        "roc_auc  = auc(fpr, tpr)\n",
        "plt.plot(fpr, tpr, label='%s ROC (area = %0.2f)' % ('LogisticRegression',roc_auc))\n",
        "plt.plot([0, 1], [0, 1], 'k--')\n",
        "\n",
        "plt.xlabel('False Positive Rate')\n",
        "plt.ylabel('True Positive Rate')\n",
        "plt.legend(loc=0, fontsize='small')\n",
        "plt.show()\n"
      ],
      "execution_count": 30,
      "outputs": [
        {
          "output_type": "display_data",
          "data": {
            "image/png": "[encoded data removed]",
            "text/plain": [
              "<Figure size 576x432 with 1 Axes>"
            ]
          },
          "metadata": {
            "tags": []
          }
        }
      ]
    },
    {
      "cell_type": "markdown",
      "metadata": {
        "collapsed": true,
        "id": "DChB1MO6iOes",
        "colab_type": "text"
      },
      "source": [
        "### Подбор гиперпараметра - коэффициента регуляризации\n",
        "\n",
        "В наших данных очень много признаков - столько, сколько слов с словаре. В линейных моделях есть специальный инструмент, позволяющий автоматически выбирать релевантные признаки - регуляризация, а точнее, Lasso (L1) регуляризация. При использовании регуляризации к функционалу качества, который оптимизируется при обучении линейной модели, прибавляется регуляризатор - сумма модулей весов, умноженная на коэффициент регуляризации. Коэффициент регуляризации задает силу регуляризатора: если коэффициент очень маленький, регуляризатор почти не меняет модель, если коэффициент очень большой, регуляризатор мешает модели настраиваться на данные. При достаточно большом коэффициенте Lasso-регуляризации большинство весов в модели становятся нулевыми, и соответствующие признаки не используются. Коэффициент регуляризации обычно подбирают, используя кросс-валидацию.\n",
        "\n",
        "Сначала посмотрим, сколько нулевых весов в модели без регуляризации (та, которую вы уже обучили). Напомним, что веса модели хранятся в атрибуте coef\\_ модели. Посчитайте с помощью numpy, каков процент весов, равных 0:"
      ]
    },
    {
      "cell_type": "code",
      "metadata": {
        "id": "VrahRtCKiOet",
        "colab_type": "code",
        "colab": {}
      },
      "source": [
        "import numpy as np"
      ],
      "execution_count": 0,
      "outputs": []
    },
    {
      "cell_type": "code",
      "metadata": {
        "id": "t1Ubny6NiOex",
        "colab_type": "code",
        "outputId": "64f04dbf-3261-4b68-8347-0204b596aa4e",
        "colab": {
          "base_uri": "https://localhost:8080/",
          "height": 34
        }
      },
      "source": [
        "zrs = np.count_nonzero(LR.coef_[0] == 0)\n",
        "sh = LR.coef_[0].shape\n",
        "print(f'Zero values percentage in coef_ tuple is {round(float(zrs)/float(sh[0])*100, 2)} %')"
      ],
      "execution_count": 32,
      "outputs": [
        {
          "output_type": "stream",
          "text": [
            "Zero values percentage in coef_ tuple is 14.04 %\n"
          ],
          "name": "stdout"
        }
      ]
    },
    {
      "cell_type": "markdown",
      "metadata": {
        "id": "uFi0MxJMiOe2",
        "colab_type": "text"
      },
      "source": [
        "Теперь обучите логистическую регрессию с коэффициентом Lasso-регуляризации по умолчанию. Для этого укажите penalty='l1' при создании объекта класса LogisticRegression:"
      ]
    },
    {
      "cell_type": "code",
      "metadata": {
        "id": "jAkfejDviOe3",
        "colab_type": "code",
        "colab": {}
      },
      "source": [
        "LR_lasso = LogisticRegression(penalty='l1',random_state=42, solver='liblinear')\n",
        "LR_lasso.fit(X_train, y_train)\n",
        "y_pred_lasso = LR_lasso.predict(X_test)"
      ],
      "execution_count": 0,
      "outputs": []
    },
    {
      "cell_type": "markdown",
      "metadata": {
        "id": "T5a_pMdciOe6",
        "colab_type": "text"
      },
      "source": [
        "Какой процент нулевых весов в новой модели?"
      ]
    },
    {
      "cell_type": "code",
      "metadata": {
        "id": "Qg3jXMaRiOe7",
        "colab_type": "code",
        "outputId": "506aa07c-aea4-4ae5-dc59-a5f7de4a1b31",
        "colab": {
          "base_uri": "https://localhost:8080/",
          "height": 34
        }
      },
      "source": [
        "zrs_lasso = np.count_nonzero(LR_lasso.coef_[0] == 0)\n",
        "sh_lasso = LR_lasso.coef_[0].shape\n",
        "print(f'Zero values percentage in coef_ tuple is {round(float(zrs_lasso)/float(sh_lasso[0])*100, 2)} %')"
      ],
      "execution_count": 34,
      "outputs": [
        {
          "output_type": "stream",
          "text": [
            "Zero values percentage in coef_ tuple is 97.85 %\n"
          ],
          "name": "stdout"
        }
      ]
    },
    {
      "cell_type": "markdown",
      "metadata": {
        "id": "p2mwWX9hiOe_",
        "colab_type": "text"
      },
      "source": [
        "Теперь подберем коэффициент регуляризации в помощью кросс-валидации. Для этого воспользуемся GridSearchCV:"
      ]
    },
    {
      "cell_type": "code",
      "metadata": {
        "id": "LcCZooe3BgMO",
        "colab_type": "code",
        "colab": {}
      },
      "source": [
        "from sklearn.model_selection import GridSearchCV"
      ],
      "execution_count": 0,
      "outputs": []
    },
    {
      "cell_type": "markdown",
      "metadata": {
        "id": "QSs3LVkSiOfD",
        "colab_type": "text"
      },
      "source": [
        "GridSearchCV имеет такой же интерфейс, как и классификатор, с фит-предикт. Но, в отличие от обычного классификатора, во время вызова fit обучается не одна модель, а несколько. Более подробно:\n",
        "1. Для каждого варианта коэффициента регуляризации:\n",
        "    1. Разделить выборку на несколько блоков\n",
        "    2. Повторять несколько раз: выбрать один блок как тестовую выборку, все остальные - как обучающие. Обучить модель, вычислить качество на тестовом блоке.\n",
        "    3. Усреднить качество по всем повторам с предыдущего шага.\n",
        "2. Выбрать коэффициент регуляризации с лучшим средним качеством\n",
        "3. Переобучить модель на всех обучающих данных с выбранным коэффициентом регуляризации.\n",
        "\n",
        "В итоге, после вызова fit, в атрибуте .best\\_estimator\\_ будет храниться итоговая модель (с ней можно будет делать все то же самое, что с обычной логистической регрессией), а в атрибуте .grid\\_scores\\_ - история всех запусков.\n",
        "\n",
        "Запишите в переменную model\\_for\\_cv модель логистической регрессии с выбранной регуляризацией \"l1\", а в переменную param\\_grid - вектор коэффициентов регуляризации $1, 10, 100, \\dots, 10^9$ (воспользуйтесь numpy)."
      ]
    },
    {
      "cell_type": "code",
      "metadata": {
        "id": "WOb84bMsiOfE",
        "colab_type": "code",
        "outputId": "17f079bf-1e4e-4d7d-d758-5efce2797c74",
        "colab": {
          "base_uri": "https://localhost:8080/",
          "height": 1000
        }
      },
      "source": [
        "model_for_gs = LogisticRegression(random_state=42, penalty = 'l1', solver ='liblinear')\n",
        "param_grid = [int(x) for x in np.geomspace(1, 10**9, num=10, endpoint=True)]\n",
        "gs = GridSearchCV(model_for_gs,\n",
        "                  {\"C\":param_grid},\n",
        "                  verbose=3)\n",
        "\n",
        "gs.fit(X_train,y_train)\n",
        "\n",
        "print(\"Best parameters are \", gs.best_params_)\n",
        "print(\"Accuracy score is \", gs.best_score_)"
      ],
      "execution_count": 36,
      "outputs": [
        {
          "output_type": "stream",
          "text": [
            "Fitting 5 folds for each of 10 candidates, totalling 50 fits\n",
            "[CV] C=1 .............................................................\n",
            "[CV] ................................. C=1, score=0.987, total=   0.0s\n",
            "[CV] C=1 .............................................................\n",
            "[CV] ................................. C=1, score=0.980, total=   0.0s\n",
            "[CV] C=1 .............................................................\n",
            "[CV] ................................. C=1, score=0.965, total=   0.0s\n",
            "[CV] C=1 .............................................................\n",
            "[CV] ................................. C=1, score=0.984, total=   0.0s\n",
            "[CV] C=1 .............................................................\n",
            "[CV] ................................. C=1, score=0.976, total=   0.0s\n",
            "[CV] C=10 ............................................................\n",
            "[CV] ................................ C=10, score=0.988, total=   0.0s\n",
            "[CV] C=10 ............................................................\n",
            "[CV] ................................ C=10, score=0.978, total=   0.0s\n",
            "[CV] C=10 ............................................................\n",
            "[CV] ................................ C=10, score=0.965, total=   0.0s\n",
            "[CV] C=10 ............................................................\n"
          ],
          "name": "stdout"
        },
        {
          "output_type": "stream",
          "text": [
            "[Parallel(n_jobs=1)]: Using backend SequentialBackend with 1 concurrent workers.\n",
            "[Parallel(n_jobs=1)]: Done   1 out of   1 | elapsed:    0.0s remaining:    0.0s\n",
            "[Parallel(n_jobs=1)]: Done   2 out of   2 | elapsed:    0.1s remaining:    0.0s\n"
          ],
          "name": "stderr"
        },
        {
          "output_type": "stream",
          "text": [
            "[CV] ................................ C=10, score=0.984, total=   0.0s\n",
            "[CV] C=10 ............................................................\n",
            "[CV] ................................ C=10, score=0.983, total=   0.0s\n",
            "[CV] C=100 ...........................................................\n",
            "[CV] ............................... C=100, score=0.990, total=   0.0s\n",
            "[CV] C=100 ...........................................................\n",
            "[CV] ............................... C=100, score=0.980, total=   0.0s\n",
            "[CV] C=100 ...........................................................\n",
            "[CV] ............................... C=100, score=0.963, total=   0.0s\n",
            "[CV] C=100 ...........................................................\n",
            "[CV] ............................... C=100, score=0.987, total=   0.0s\n",
            "[CV] C=100 ...........................................................\n",
            "[CV] ............................... C=100, score=0.983, total=   0.0s\n",
            "[CV] C=1000 ..........................................................\n",
            "[CV] .............................. C=1000, score=0.994, total=   0.0s\n",
            "[CV] C=1000 ..........................................................\n",
            "[CV] .............................. C=1000, score=0.975, total=   0.0s\n",
            "[CV] C=1000 ..........................................................\n",
            "[CV] .............................. C=1000, score=0.968, total=   0.0s\n",
            "[CV] C=1000 ..........................................................\n",
            "[CV] .............................. C=1000, score=0.981, total=   0.0s\n",
            "[CV] C=1000 ..........................................................\n",
            "[CV] .............................. C=1000, score=0.986, total=   0.0s\n",
            "[CV] C=10000 .........................................................\n",
            "[CV] ............................. C=10000, score=0.987, total=   0.0s\n",
            "[CV] C=10000 .........................................................\n",
            "[CV] ............................. C=10000, score=0.975, total=   0.0s\n",
            "[CV] C=10000 .........................................................\n",
            "[CV] ............................. C=10000, score=0.969, total=   0.0s\n",
            "[CV] C=10000 .........................................................\n",
            "[CV] ............................. C=10000, score=0.977, total=   0.0s\n",
            "[CV] C=10000 .........................................................\n",
            "[CV] ............................. C=10000, score=0.975, total=   0.0s\n",
            "[CV] C=100000 ........................................................\n",
            "[CV] ............................ C=100000, score=0.977, total=   0.0s\n",
            "[CV] C=100000 ........................................................\n",
            "[CV] ............................ C=100000, score=0.974, total=   0.0s\n",
            "[CV] C=100000 ........................................................\n",
            "[CV] ............................ C=100000, score=0.970, total=   0.0s\n",
            "[CV] C=100000 ........................................................\n",
            "[CV] ............................ C=100000, score=0.968, total=   0.0s\n",
            "[CV] C=100000 ........................................................\n",
            "[CV] ............................ C=100000, score=0.963, total=   0.0s\n",
            "[CV] C=1000000 .......................................................\n",
            "[CV] ........................... C=1000000, score=0.970, total=   0.0s\n",
            "[CV] C=1000000 .......................................................\n",
            "[CV] ........................... C=1000000, score=0.961, total=   0.0s\n",
            "[CV] C=1000000 .......................................................\n",
            "[CV] ........................... C=1000000, score=0.968, total=   0.0s\n",
            "[CV] C=1000000 .......................................................\n",
            "[CV] ........................... C=1000000, score=0.961, total=   0.0s\n",
            "[CV] C=1000000 .......................................................\n",
            "[CV] ........................... C=1000000, score=0.952, total=   0.0s\n",
            "[CV] C=10000000 ......................................................\n",
            "[CV] .......................... C=10000000, score=0.967, total=   0.0s\n",
            "[CV] C=10000000 ......................................................\n",
            "[CV] .......................... C=10000000, score=0.959, total=   0.0s\n",
            "[CV] C=10000000 ......................................................\n",
            "[CV] .......................... C=10000000, score=0.963, total=   0.0s\n",
            "[CV] C=10000000 ......................................................\n",
            "[CV] .......................... C=10000000, score=0.958, total=   0.0s\n",
            "[CV] C=10000000 ......................................................\n",
            "[CV] .......................... C=10000000, score=0.951, total=   0.0s\n",
            "[CV] C=100000000 .....................................................\n",
            "[CV] ......................... C=100000000, score=0.965, total=   0.0s\n",
            "[CV] C=100000000 .....................................................\n",
            "[CV] ......................... C=100000000, score=0.959, total=   0.0s\n",
            "[CV] C=100000000 .....................................................\n",
            "[CV] ......................... C=100000000, score=0.964, total=   0.0s\n",
            "[CV] C=100000000 .....................................................\n",
            "[CV] ......................... C=100000000, score=0.956, total=   0.0s\n",
            "[CV] C=100000000 .....................................................\n",
            "[CV] ......................... C=100000000, score=0.949, total=   0.0s\n",
            "[CV] C=1000000000 ....................................................\n",
            "[CV] ........................ C=1000000000, score=0.964, total=   0.0s\n",
            "[CV] C=1000000000 ....................................................\n",
            "[CV] ........................ C=1000000000, score=0.959, total=   0.0s\n",
            "[CV] C=1000000000 ....................................................\n",
            "[CV] ........................ C=1000000000, score=0.964, total=   0.0s\n",
            "[CV] C=1000000000 ....................................................\n",
            "[CV] ........................ C=1000000000, score=0.956, total=   0.0s\n",
            "[CV] C=1000000000 ....................................................\n",
            "[CV] ........................ C=1000000000, score=0.949, total=   0.0s\n",
            "Best parameters are  {'C': 1000}\n",
            "Accuracy score is  0.9806185714695012\n"
          ],
          "name": "stdout"
        },
        {
          "output_type": "stream",
          "text": [
            "[Parallel(n_jobs=1)]: Done  50 out of  50 | elapsed:    1.4s finished\n"
          ],
          "name": "stderr"
        }
      ]
    },
    {
      "cell_type": "markdown",
      "metadata": {
        "id": "GU9wBF_FiOfO",
        "colab_type": "text"
      },
      "source": [
        "Построим график: коэффициент регуляризации - качество:"
      ]
    },
    {
      "cell_type": "code",
      "metadata": {
        "id": "iqfA8CB0KBSM",
        "colab_type": "code",
        "outputId": "d794ac73-442e-4b69-bba5-ff59473a9faf",
        "colab": {
          "base_uri": "https://localhost:8080/",
          "height": 88
        }
      },
      "source": [
        "print(gs.cv_results_.keys())\n",
        "print(gs.cv_results_['mean_test_score'])"
      ],
      "execution_count": 37,
      "outputs": [
        {
          "output_type": "stream",
          "text": [
            "dict_keys(['mean_fit_time', 'std_fit_time', 'mean_score_time', 'std_score_time', 'param_C', 'params', 'split0_test_score', 'split1_test_score', 'split2_test_score', 'split3_test_score', 'split4_test_score', 'mean_test_score', 'std_test_score', 'rank_test_score'])\n",
            "[0.97846317 0.9799003  0.980618   0.98061857 0.97654901 0.97032605\n",
            " 0.9621895  0.95955763 0.95860012 0.95836089]\n"
          ],
          "name": "stdout"
        }
      ]
    },
    {
      "cell_type": "markdown",
      "metadata": {
        "id": "ff_zQKpHpdpT",
        "colab_type": "text"
      },
      "source": [
        "У меня установлена последняя версия scikit-learn и в нем нет метода `grid_search`. Придется переписывать код ручками, концепция останется такой же"
      ]
    },
    {
      "cell_type": "code",
      "metadata": {
        "id": "ReRZSXCPiOfO",
        "colab_type": "code",
        "outputId": "5b2673d8-3129-48f0-b517-c521e631ac2e",
        "colab": {
          "base_uri": "https://localhost:8080/",
          "height": 279
        }
      },
      "source": [
        "import matplotlib.ticker as ticker\n",
        "\n",
        "x = np.log10(np.geomspace(1, 10**9, num=10, endpoint=True))\n",
        "y = gs.cv_results_['mean_test_score']\n",
        "\n",
        "fig, ax = plt.subplots()\n",
        "\n",
        "ax.plot(x, y, color = 'r', linewidth = 2)\n",
        "ax.xaxis.set_major_locator(ticker.MultipleLocator(1))\n",
        "plt.xlim([0.,10])\n",
        "plt.xlabel(\"log10 of C\")\n",
        "plt.ylabel(\"accuracy\")\n",
        "\n",
        "plt.show()"
      ],
      "execution_count": 38,
      "outputs": [
        {
          "output_type": "display_data",
          "data": {
            "image/png": "[encoded data removed]",
            "text/plain": [
              "<Figure size 432x288 with 1 Axes>"
            ]
          },
          "metadata": {
            "tags": []
          }
        }
      ]
    },
    {
      "cell_type": "markdown",
      "metadata": {
        "id": "Z9ou5_d0iOfS",
        "colab_type": "text"
      },
      "source": [
        "Какое C оптимально? Что происходит при очень больших и маленьких С? Обратите внимание, что в логистической регрессии на самом деле коэффициент регуляризации равен $\\frac 1 C$, то есть чем больше C, тем меньше коэффициент.\n",
        "\n",
        "`GridSearchCV` выдало результат, что лучшим значением параметра $C$ является 1000. При больших и маленьких значениях $C$ (при ослаблении и увеличении регуляризации) модель недообучается. Оптимальным является С=1000 (десятичный логарифм числа 1000) = 3"
      ]
    },
    {
      "cell_type": "markdown",
      "metadata": {
        "id": "gCyOkRDziOfT",
        "colab_type": "text"
      },
      "source": [
        "Какова доля нулевых весов в модели с лучшим C? "
      ]
    },
    {
      "cell_type": "code",
      "metadata": {
        "id": "T76CPtwKiOfU",
        "colab_type": "code",
        "outputId": "dda8cc14-aae5-4e77-9d77-5a4d71657edc",
        "colab": {
          "base_uri": "https://localhost:8080/",
          "height": 34
        }
      },
      "source": [
        "LR_hp = LogisticRegression(penalty='l1',random_state=42, solver='liblinear', C=1000)\n",
        "LR_hp.fit(X_train, y_train)\n",
        "y_pred_hp = LR_hp.predict(X_test)\n",
        "\n",
        "zrs_hp = np.count_nonzero(LR_hp.coef_[0] == 0)\n",
        "sh_hp = LR_hp.coef_[0].shape\n",
        "print(f'Zero values percentage in coef_ tuple is {round(float(zrs_hp)/float(sh_hp[0])*100, 2)} %')"
      ],
      "execution_count": 39,
      "outputs": [
        {
          "output_type": "stream",
          "text": [
            "Zero values percentage in coef_ tuple is 93.52 %\n"
          ],
          "name": "stdout"
        }
      ]
    },
    {
      "cell_type": "markdown",
      "metadata": {
        "id": "QipTlxiriOfb",
        "colab_type": "text"
      },
      "source": [
        "Какое качество показывает модель с лучшим C на наших отложенных, тестовых данных?"
      ]
    },
    {
      "cell_type": "code",
      "metadata": {
        "id": "fyEolrGUiOfc",
        "colab_type": "code",
        "outputId": "91d2bd55-d37b-4299-a91b-edee1c307fb3",
        "colab": {
          "base_uri": "https://localhost:8080/",
          "height": 170
        }
      },
      "source": [
        "print(classification_report(y_test,y_pred_hp))"
      ],
      "execution_count": 40,
      "outputs": [
        {
          "output_type": "stream",
          "text": [
            "              precision    recall  f1-score   support\n",
            "\n",
            "           0       0.98      1.00      0.99      1207\n",
            "           1       0.99      0.88      0.93       186\n",
            "\n",
            "    accuracy                           0.98      1393\n",
            "   macro avg       0.99      0.94      0.96      1393\n",
            "weighted avg       0.98      0.98      0.98      1393\n",
            "\n"
          ],
          "name": "stdout"
        }
      ]
    },
    {
      "cell_type": "markdown",
      "metadata": {
        "id": "NcvVMn58iOfg",
        "colab_type": "text"
      },
      "source": [
        "Сравните неразреженную (без регуляризации) и разреженную (с оптимальным C) модели по качеству на тестовой выборке и доле нулевых весов.\n",
        "\n",
        "Можно увидеть, что `accuracy` у всех моделей одинаковая. И вообще модели отличаются друг от друга на сотые доли, но все равно у неразреженной модели показатели `precision` и `recall` выше. Больше всего нулевых весов в модели с коэффициентом Lasso-регуляризации, на втором месте разреженная модель(с оптимальным C). "
      ]
    },
    {
      "cell_type": "code",
      "metadata": {
        "id": "Po_bzDpmiOfg",
        "colab_type": "code",
        "outputId": "e618905e-ecb7-4190-f899-d88503aaa1cb",
        "colab": {
          "base_uri": "https://localhost:8080/",
          "height": 629
        }
      },
      "source": [
        "print('\\tНеразреженная модель\\n',classification_report(y_test,y_pred))\n",
        "print(f'Zero values percentage in coef_ tuple is {round(float(zrs)/float(sh[0])*100, 2)} %\\n')\n",
        "print('\\tМодель с коэффициентом Lasso-регуляризации\\n',classification_report(y_test,y_pred_lasso))\n",
        "print(f'Zero values percentage in coef_ tuple is {round(float(zrs_lasso)/float(sh_lasso[0])*100, 2)} %\\n')\n",
        "print('\\tРазреженная модель(с оптимальным C)\\n',classification_report(y_test,y_pred_hp))\n",
        "print(f'Zero values percentage in coef_ tuple is {round(float(zrs_hp)/float(sh_hp[0])*100, 2)} %\\n')"
      ],
      "execution_count": 41,
      "outputs": [
        {
          "output_type": "stream",
          "text": [
            "\tНеразреженная модель\n",
            "               precision    recall  f1-score   support\n",
            "\n",
            "           0       0.98      1.00      0.99      1207\n",
            "           1       1.00      0.89      0.94       186\n",
            "\n",
            "    accuracy                           0.98      1393\n",
            "   macro avg       0.99      0.94      0.97      1393\n",
            "weighted avg       0.99      0.98      0.98      1393\n",
            "\n",
            "Zero values percentage in coef_ tuple is 14.04 %\n",
            "\n",
            "\tМодель с коэффициентом Lasso-регуляризации\n",
            "               precision    recall  f1-score   support\n",
            "\n",
            "           0       0.98      1.00      0.99      1207\n",
            "           1       0.98      0.88      0.93       186\n",
            "\n",
            "    accuracy                           0.98      1393\n",
            "   macro avg       0.98      0.94      0.96      1393\n",
            "weighted avg       0.98      0.98      0.98      1393\n",
            "\n",
            "Zero values percentage in coef_ tuple is 97.85 %\n",
            "\n",
            "\tРазреженная модель(с оптимальным C)\n",
            "               precision    recall  f1-score   support\n",
            "\n",
            "           0       0.98      1.00      0.99      1207\n",
            "           1       0.99      0.88      0.93       186\n",
            "\n",
            "    accuracy                           0.98      1393\n",
            "   macro avg       0.99      0.94      0.96      1393\n",
            "weighted avg       0.98      0.98      0.98      1393\n",
            "\n",
            "Zero values percentage in coef_ tuple is 93.52 %\n",
            "\n"
          ],
          "name": "stdout"
        }
      ]
    },
    {
      "cell_type": "code",
      "metadata": {
        "id": "-EzzvcJPQ4oo",
        "colab_type": "code",
        "colab": {}
      },
      "source": [
        ""
      ],
      "execution_count": 0,
      "outputs": []
    }
  ]
}